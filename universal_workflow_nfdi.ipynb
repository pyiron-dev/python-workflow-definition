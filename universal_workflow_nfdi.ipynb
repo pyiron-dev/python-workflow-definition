{
 "metadata": {
  "kernelspec": {
   "display_name": "Python 3 (ipykernel)",
   "language": "python",
   "name": "python3"
  },
  "language_info": {
   "name": "python",
   "version": "3.12.8",
   "mimetype": "text/x-python",
   "codemirror_mode": {
    "name": "ipython",
    "version": 3
   },
   "pygments_lexer": "ipython3",
   "nbconvert_exporter": "python",
   "file_extension": ".py"
  }
 },
 "nbformat_minor": 4,
 "nbformat": 4,
 "cells": [
  {
   "cell_type": "markdown",
   "source": "# Load Simple Workflow",
   "metadata": {}
  },
  {
   "cell_type": "markdown",
   "source": "## Plot",
   "metadata": {}
  },
  {
   "cell_type": "code",
   "source": "from python_workflow_definition.plot import plot",
   "metadata": {
    "trusted": true
   },
   "outputs": [],
   "execution_count": 1
  },
  {
   "cell_type": "code",
   "source": "plot(file_name='workflow_nfdi.json')",
   "metadata": {
    "trusted": true
   },
   "outputs": [
    {
     "output_type": "display_data",
     "data": {
      "text/plain": "<IPython.core.display.SVG object>",
      "image/svg+xml": "<svg xmlns=\"http://www.w3.org/2000/svg\" xmlns:xlink=\"http://www.w3.org/1999/xlink\" width=\"886pt\" height=\"580pt\" viewBox=\"0.00 0.00 886.31 579.50\">\n<g id=\"graph0\" class=\"graph\" transform=\"scale(1 1) rotate(0) translate(4 575.5)\">\n<polygon fill=\"white\" stroke=\"none\" points=\"-4,4 -4,-575.5 882.31,-575.5 882.31,4 -4,4\"/>\n<!-- 0 -->\n<g id=\"node1\" class=\"node\">\n<title>0</title>\n<ellipse fill=\"none\" stroke=\"black\" cx=\"498.31\" cy=\"-464.25\" rx=\"179.58\" ry=\"18\"/>\n<text text-anchor=\"middle\" x=\"498.31\" y=\"-459.57\" font-family=\"Times,serif\" font-size=\"14.00\">nfdi_ing_workflow.generate_mesh</text>\n</g>\n<!-- 1 -->\n<g id=\"node2\" class=\"node\">\n<title>1</title>\n<ellipse fill=\"none\" stroke=\"black\" cx=\"409.31\" cy=\"-375\" rx=\"185.89\" ry=\"18\"/>\n<text text-anchor=\"middle\" x=\"409.31\" y=\"-370.32\" font-family=\"Times,serif\" font-size=\"14.00\">nfdi_ing_workflow.convert_to_xdmf</text>\n</g>\n<!-- 0&#45;&gt;1 -->\n<g id=\"edge1\" class=\"edge\">\n<title>0-&gt;1</title>\n<path fill=\"none\" stroke=\"black\" d=\"M480.73,-446.01C467.69,-433.23 449.7,-415.59 435.04,-401.22\"/>\n<polygon fill=\"black\" stroke=\"black\" points=\"437.53,-398.76 427.94,-394.26 432.63,-403.76 437.53,-398.76\"/>\n<text text-anchor=\"middle\" x=\"522.54\" y=\"-414.95\" font-family=\"Times,serif\" font-size=\"14.00\">gmsh_output_file</text>\n</g>\n<!-- 2 -->\n<g id=\"node3\" class=\"node\">\n<title>2</title>\n<ellipse fill=\"none\" stroke=\"black\" cx=\"241.31\" cy=\"-285.75\" rx=\"141.17\" ry=\"18\"/>\n<text text-anchor=\"middle\" x=\"241.31\" y=\"-281.07\" font-family=\"Times,serif\" font-size=\"14.00\">nfdi_ing_workflow.poisson</text>\n</g>\n<!-- 1&#45;&gt;2 -->\n<g id=\"edge2\" class=\"edge\">\n<title>1-&gt;2</title>\n<path fill=\"none\" stroke=\"black\" d=\"M294.31,-360.45C270.7,-355.31 250.63,-348.35 242.81,-339 237.43,-332.56 235.74,-323.96 235.78,-315.6\"/>\n<polygon fill=\"black\" stroke=\"black\" points=\"239.26,-315.96 236.64,-305.69 232.29,-315.35 239.26,-315.96\"/>\n<text text-anchor=\"middle\" x=\"506.06\" y=\"-325.7\" font-family=\"Times,serif\" font-size=\"14.00\">meshio_output_xdmf=result[xdmf_file], meshio_output_h5=result[h5_file]</text>\n</g>\n<!-- 3 -->\n<g id=\"node4\" class=\"node\">\n<title>3</title>\n<ellipse fill=\"none\" stroke=\"black\" cx=\"328.31\" cy=\"-196.5\" rx=\"172.74\" ry=\"18\"/>\n<text text-anchor=\"middle\" x=\"328.31\" y=\"-191.82\" font-family=\"Times,serif\" font-size=\"14.00\">nfdi_ing_workflow.plot_over_line</text>\n</g>\n<!-- 2&#45;&gt;3 -->\n<g id=\"edge3\" class=\"edge\">\n<title>2-&gt;3</title>\n<path fill=\"none\" stroke=\"black\" d=\"M106.8,-279.97C61.25,-275.3 18.22,-266.43 3.81,-249.75 -1.2,-243.95 -1.31,-238.2 3.81,-232.5 15.29,-219.72 88.72,-211.19 162.82,-205.76\"/>\n<polygon fill=\"black\" stroke=\"black\" points=\"163,-209.25 172.72,-205.05 162.5,-202.27 163,-209.25\"/>\n<text text-anchor=\"middle\" x=\"294.06\" y=\"-236.45\" font-family=\"Times,serif\" font-size=\"14.00\">poisson_output_pvd_file=result[pvd_file], poisson_output_vtu_file=result[vtu_file]</text>\n</g>\n<!-- 4 -->\n<g id=\"node5\" class=\"node\">\n<title>4</title>\n<ellipse fill=\"none\" stroke=\"black\" cx=\"598.31\" cy=\"-107.25\" rx=\"195.36\" ry=\"18\"/>\n<text text-anchor=\"middle\" x=\"598.31\" y=\"-102.58\" font-family=\"Times,serif\" font-size=\"14.00\">nfdi_ing_workflow.substitute_macros</text>\n</g>\n<!-- 2&#45;&gt;4 -->\n<g id=\"edge4\" class=\"edge\">\n<title>2-&gt;4</title>\n<path fill=\"none\" stroke=\"black\" d=\"M373.5,-279.2C463.58,-274.08 569.18,-264.93 584.31,-249.75 613.52,-220.45 610.49,-168.87 604.91,-136.74\"/>\n<polygon fill=\"black\" stroke=\"black\" points=\"608.35,-136.09 603,-126.95 601.48,-137.43 608.35,-136.09\"/>\n<text text-anchor=\"middle\" x=\"691.05\" y=\"-191.82\" font-family=\"Times,serif\" font-size=\"14.00\">ndofs=result[numdofs]</text>\n</g>\n<!-- 3&#45;&gt;4 -->\n<g id=\"edge5\" class=\"edge\">\n<title>3-&gt;4</title>\n<path fill=\"none\" stroke=\"black\" d=\"M361.76,-178.37C384.67,-167.17 416.01,-152.89 444.81,-143.25 463.84,-136.88 484.58,-131.29 504.48,-126.55\"/>\n<polygon fill=\"black\" stroke=\"black\" points=\"505.01,-130.02 513.96,-124.35 503.43,-123.2 505.01,-130.02\"/>\n<text text-anchor=\"middle\" x=\"514.56\" y=\"-147.2\" font-family=\"Times,serif\" font-size=\"14.00\">pvbatch_output_file</text>\n</g>\n<!-- 5 -->\n<g id=\"node6\" class=\"node\">\n<title>5</title>\n<ellipse fill=\"none\" stroke=\"black\" cx=\"344.31\" cy=\"-18\" rx=\"175.9\" ry=\"18\"/>\n<text text-anchor=\"middle\" x=\"344.31\" y=\"-13.32\" font-family=\"Times,serif\" font-size=\"14.00\">nfdi_ing_workflow.compile_paper</text>\n</g>\n<!-- 3&#45;&gt;5 -->\n<g id=\"edge6\" class=\"edge\">\n<title>3-&gt;5</title>\n<path fill=\"none\" stroke=\"black\" d=\"M329.88,-178.26C332.64,-147.81 338.4,-84.26 341.75,-47.3\"/>\n<polygon fill=\"black\" stroke=\"black\" points=\"345.19,-48.1 342.61,-37.82 338.22,-47.47 345.19,-48.1\"/>\n<text text-anchor=\"middle\" x=\"366.03\" y=\"-102.58\" font-family=\"Times,serif\" font-size=\"14.00\">plot_file</text>\n</g>\n<!-- 4&#45;&gt;5 -->\n<g id=\"edge7\" class=\"edge\">\n<title>4-&gt;5</title>\n<path fill=\"none\" stroke=\"black\" d=\"M549.34,-89.43C507.79,-75.15 448.04,-54.63 403.76,-39.42\"/>\n<polygon fill=\"black\" stroke=\"black\" points=\"405.16,-36.2 394.57,-36.26 402.89,-42.82 405.16,-36.2\"/>\n<text text-anchor=\"middle\" x=\"534.56\" y=\"-57.95\" font-family=\"Times,serif\" font-size=\"14.00\">macros_tex</text>\n</g>\n<!-- 6 -->\n<g id=\"node7\" class=\"node\">\n<title>6</title>\n<ellipse fill=\"none\" stroke=\"black\" cx=\"687.31\" cy=\"-553.5\" rx=\"27.01\" ry=\"18\"/>\n<text text-anchor=\"middle\" x=\"687.31\" y=\"-548.83\" font-family=\"Times,serif\" font-size=\"14.00\">2.0</text>\n</g>\n<!-- 6&#45;&gt;0 -->\n<g id=\"edge8\" class=\"edge\">\n<title>6-&gt;0</title>\n<path fill=\"none\" stroke=\"black\" d=\"M665.63,-542.49C636.56,-529.07 584.17,-504.88 545.73,-487.14\"/>\n<polygon fill=\"black\" stroke=\"black\" points=\"547.21,-483.97 536.66,-482.95 544.27,-490.32 547.21,-483.97\"/>\n<text text-anchor=\"middle\" x=\"653.24\" y=\"-504.2\" font-family=\"Times,serif\" font-size=\"14.00\">domain_size</text>\n</g>\n<!-- 6&#45;&gt;4 -->\n<g id=\"edge9\" class=\"edge\">\n<title>6-&gt;4</title>\n<path fill=\"none\" stroke=\"black\" d=\"M711.17,-544.52C741.88,-532.56 791.31,-506.85 791.31,-465.25 791.31,-465.25 791.31,-465.25 791.31,-195.5 791.31,-159.1 762.46,-137.81 727.07,-125.38\"/>\n<polygon fill=\"black\" stroke=\"black\" points=\"728.45,-122.15 717.86,-122.41 726.31,-128.81 728.45,-122.15\"/>\n<text text-anchor=\"middle\" x=\"834.81\" y=\"-325.7\" font-family=\"Times,serif\" font-size=\"14.00\">domain_size</text>\n</g>\n</g>\n</svg>"
     },
     "metadata": {}
    }
   ],
   "execution_count": 2
  },
  {
   "cell_type": "markdown",
   "source": "## Aiida ",
   "metadata": {}
  },
  {
   "cell_type": "code",
   "source": "from python_workflow_definition.aiida import load_workflow_json\n\nfrom aiida import load_profile\nload_profile()",
   "metadata": {
    "trusted": true
   },
   "outputs": [
    {
     "execution_count": 3,
     "output_type": "execute_result",
     "data": {
      "text/plain": "Profile<uuid='91b600f4af5f477facd703b8cfc12911' name='pwd'>"
     },
     "metadata": {}
    }
   ],
   "execution_count": 3
  },
  {
   "cell_type": "code",
   "source": "workgraph = load_workflow_json(file_name='workflow_nfdi.json')",
   "metadata": {
    "trusted": true
   },
   "outputs": [],
   "execution_count": 4
  },
  {
   "cell_type": "code",
   "source": "# TODO: Create inputs rather than tasks out of data nodes\nworkgraph",
   "metadata": {
    "trusted": true
   },
   "outputs": [
    {
     "execution_count": 5,
     "output_type": "execute_result",
     "data": {
      "text/plain": "NodeGraphWidget(settings={'minimap': True}, style={'width': '90%', 'height': '600px'}, value={'name': 'WorkGra…",
      "application/vnd.jupyter.widget-view+json": {
       "version_major": 2,
       "version_minor": 1,
       "model_id": "a6defbd4764340c1ae310a9bd85d4661"
      }
     },
     "metadata": {}
    }
   ],
   "execution_count": 5
  },
  {
   "cell_type": "code",
   "source": "\nworkgraph.run()",
   "metadata": {
    "trusted": true
   },
   "outputs": [
    {
     "name": "stderr",
     "output_type": "stream",
     "text": "04/13/2025 06:53:55 AM <98> aiida.orm.nodes.process.workflow.workchain.WorkChainNode: [REPORT] [2|WorkGraphEngine|continue_workgraph]: tasks ready to run: generate_mesh1\n04/13/2025 06:53:57 AM <98> aiida.orm.nodes.process.workflow.workchain.WorkChainNode: [REPORT] [2|WorkGraphEngine|update_task_state]: Task: generate_mesh1, type: PyFunction, finished.\n04/13/2025 06:53:57 AM <98> aiida.orm.nodes.process.workflow.workchain.WorkChainNode: [REPORT] [2|WorkGraphEngine|continue_workgraph]: tasks ready to run: convert_to_xdmf2\n04/13/2025 06:53:59 AM <98> aiida.orm.nodes.process.workflow.workchain.WorkChainNode: [REPORT] [2|WorkGraphEngine|update_task_state]: Task: convert_to_xdmf2, type: PyFunction, finished.\n04/13/2025 06:53:59 AM <98> aiida.orm.nodes.process.workflow.workchain.WorkChainNode: [REPORT] [2|WorkGraphEngine|continue_workgraph]: tasks ready to run: poisson3\n04/13/2025 06:54:10 AM <98> aiida.orm.nodes.process.workflow.workchain.WorkChainNode: [REPORT] [2|WorkGraphEngine|update_task_state]: Task: poisson3, type: PyFunction, finished.\n04/13/2025 06:54:10 AM <98> aiida.orm.nodes.process.workflow.workchain.WorkChainNode: [REPORT] [2|WorkGraphEngine|continue_workgraph]: tasks ready to run: plot_over_line4\n04/13/2025 06:54:12 AM <98> aiida.orm.nodes.process.workflow.workchain.WorkChainNode: [REPORT] [2|WorkGraphEngine|update_task_state]: Task: plot_over_line4, type: PyFunction, finished.\n04/13/2025 06:54:12 AM <98> aiida.orm.nodes.process.workflow.workchain.WorkChainNode: [REPORT] [2|WorkGraphEngine|continue_workgraph]: tasks ready to run: substitute_macros5\n04/13/2025 06:54:13 AM <98> aiida.orm.nodes.process.workflow.workchain.WorkChainNode: [REPORT] [2|WorkGraphEngine|update_task_state]: Task: substitute_macros5, type: PyFunction, finished.\n04/13/2025 06:54:13 AM <98> aiida.orm.nodes.process.workflow.workchain.WorkChainNode: [REPORT] [2|WorkGraphEngine|continue_workgraph]: tasks ready to run: compile_paper6\n04/13/2025 06:54:41 AM <98> aiida.orm.nodes.process.workflow.workchain.WorkChainNode: [REPORT] [2|WorkGraphEngine|update_task_state]: Task: compile_paper6, type: PyFunction, finished.\n04/13/2025 06:54:41 AM <98> aiida.orm.nodes.process.workflow.workchain.WorkChainNode: [REPORT] [2|WorkGraphEngine|continue_workgraph]: tasks ready to run: \n04/13/2025 06:54:42 AM <98> aiida.orm.nodes.process.workflow.workchain.WorkChainNode: [REPORT] [2|WorkGraphEngine|finalize]: Finalize workgraph.\n"
    }
   ],
   "execution_count": 6
  },
  {
   "cell_type": "markdown",
   "source": "## executorlib",
   "metadata": {}
  },
  {
   "cell_type": "code",
   "source": "from executorlib import SingleNodeExecutor",
   "metadata": {
    "trusted": true
   },
   "outputs": [],
   "execution_count": 7
  },
  {
   "cell_type": "code",
   "source": "from python_workflow_definition.executorlib import load_workflow_json",
   "metadata": {
    "trusted": true
   },
   "outputs": [],
   "execution_count": 8
  },
  {
   "cell_type": "code",
   "source": "with SingleNodeExecutor(max_workers=1) as exe:\n    result = load_workflow_json(file_name=\"workflow_nfdi.json\", exe=exe).result()",
   "metadata": {
    "trusted": true
   },
   "outputs": [],
   "execution_count": 9
  },
  {
   "cell_type": "code",
   "source": "result",
   "metadata": {
    "trusted": true
   },
   "outputs": [
    {
     "execution_count": 10,
     "output_type": "execute_result",
     "data": {
      "text/plain": "'/home/jovyan/postprocessing/paper.pdf'"
     },
     "metadata": {}
    }
   ],
   "execution_count": 10
  },
  {
   "cell_type": "markdown",
   "source": "## Jobflow",
   "metadata": {}
  },
  {
   "cell_type": "code",
   "source": "from jobflow.managers.local import run_locally",
   "metadata": {
    "trusted": true
   },
   "outputs": [
    {
     "name": "stderr",
     "output_type": "stream",
     "text": "/srv/conda/envs/notebook/lib/python3.12/site-packages/paramiko/pkey.py:82: CryptographyDeprecationWarning: TripleDES has been moved to cryptography.hazmat.decrepit.ciphers.algorithms.TripleDES and will be removed from cryptography.hazmat.primitives.ciphers.algorithms in 48.0.0.\n  \"cipher\": algorithms.TripleDES,\n/srv/conda/envs/notebook/lib/python3.12/site-packages/paramiko/transport.py:253: CryptographyDeprecationWarning: TripleDES has been moved to cryptography.hazmat.decrepit.ciphers.algorithms.TripleDES and will be removed from cryptography.hazmat.primitives.ciphers.algorithms in 48.0.0.\n  \"class\": algorithms.TripleDES,\n"
    }
   ],
   "execution_count": 11
  },
  {
   "cell_type": "code",
   "source": "from python_workflow_definition.jobflow import load_workflow_json",
   "metadata": {
    "trusted": true
   },
   "outputs": [],
   "execution_count": 12
  },
  {
   "cell_type": "code",
   "source": "flow = load_workflow_json(file_name=\"workflow_nfdi.json\")",
   "metadata": {
    "trusted": true
   },
   "outputs": [],
   "execution_count": 13
  },
  {
   "cell_type": "code",
   "source": "result = run_locally(flow)\nresult",
   "metadata": {
    "trusted": true
   },
   "outputs": [
    {
     "name": "stdout",
     "output_type": "stream",
     "text": "2025-04-13 06:54:56,038 INFO Started executing jobs locally\n2025-04-13 06:54:56,119 INFO Starting job - generate_mesh (36ef5c7e-130d-40a3-b2b0-daa2d35844ee)\n2025-04-13 06:54:57,222 INFO Finished job - generate_mesh (36ef5c7e-130d-40a3-b2b0-daa2d35844ee)\n2025-04-13 06:54:57,223 INFO Starting job - convert_to_xdmf (55a9847b-89ec-41dd-8ec3-569a20d9c567)\n2025-04-13 06:54:58,553 INFO Finished job - convert_to_xdmf (55a9847b-89ec-41dd-8ec3-569a20d9c567)\n2025-04-13 06:54:58,555 INFO Starting job - poisson (acbf7a8c-bd1d-4daf-9416-65e6dcf2d561)\n2025-04-13 06:55:01,125 INFO Finished job - poisson (acbf7a8c-bd1d-4daf-9416-65e6dcf2d561)\n2025-04-13 06:55:01,127 INFO Starting job - plot_over_line (acaf83ab-9473-46d6-a24a-81eecb96b8f5)\n2025-04-13 06:55:02,734 INFO Finished job - plot_over_line (acaf83ab-9473-46d6-a24a-81eecb96b8f5)\n2025-04-13 06:55:02,735 INFO Starting job - substitute_macros (2273024b-f920-4923-a85b-a6bc0474b2a4)\n2025-04-13 06:55:03,542 INFO Finished job - substitute_macros (2273024b-f920-4923-a85b-a6bc0474b2a4)\n2025-04-13 06:55:03,543 INFO Starting job - compile_paper (811afd63-ffb3-4033-832d-17d123b28804)\n2025-04-13 06:55:05,631 INFO Finished job - compile_paper (811afd63-ffb3-4033-832d-17d123b28804)\n2025-04-13 06:55:05,632 INFO Finished executing jobs locally\n"
    },
    {
     "execution_count": 14,
     "output_type": "execute_result",
     "data": {
      "text/plain": "{'36ef5c7e-130d-40a3-b2b0-daa2d35844ee': {1: Response(output='/home/jovyan/preprocessing/square.msh', detour=None, addition=None, replace=None, stored_data=None, stop_children=False, stop_jobflow=False, job_dir=PosixPath('/home/jovyan'))},\n '55a9847b-89ec-41dd-8ec3-569a20d9c567': {1: Response(output={'xdmf_file': '/home/jovyan/preprocessing/square.xdmf', 'h5_file': '/home/jovyan/preprocessing/square.h5'}, detour=None, addition=None, replace=None, stored_data=None, stop_children=False, stop_jobflow=False, job_dir=PosixPath('/home/jovyan'))},\n 'acbf7a8c-bd1d-4daf-9416-65e6dcf2d561': {1: Response(output={'numdofs': 357, 'pvd_file': '/home/jovyan/processing/poisson.pvd', 'vtu_file': '/home/jovyan/processing/poisson000000.vtu'}, detour=None, addition=None, replace=None, stored_data=None, stop_children=False, stop_jobflow=False, job_dir=PosixPath('/home/jovyan'))},\n 'acaf83ab-9473-46d6-a24a-81eecb96b8f5': {1: Response(output='/home/jovyan/postprocessing/plotoverline.csv', detour=None, addition=None, replace=None, stored_data=None, stop_children=False, stop_jobflow=False, job_dir=PosixPath('/home/jovyan'))},\n '2273024b-f920-4923-a85b-a6bc0474b2a4': {1: Response(output='/home/jovyan/postprocessing/macros.tex', detour=None, addition=None, replace=None, stored_data=None, stop_children=False, stop_jobflow=False, job_dir=PosixPath('/home/jovyan'))},\n '811afd63-ffb3-4033-832d-17d123b28804': {1: Response(output='/home/jovyan/postprocessing/paper.pdf', detour=None, addition=None, replace=None, stored_data=None, stop_children=False, stop_jobflow=False, job_dir=PosixPath('/home/jovyan'))}}"
     },
     "metadata": {}
    }
   ],
   "execution_count": 14
  },
  {
   "cell_type": "markdown",
   "source": "## pyiron",
   "metadata": {}
  },
  {
   "cell_type": "code",
   "source": "from pyiron_base import Project",
   "metadata": {
    "trusted": true
   },
   "outputs": [],
   "execution_count": 15
  },
  {
   "cell_type": "code",
   "source": "from python_workflow_definition.pyiron_base import load_workflow_json",
   "metadata": {
    "trusted": true
   },
   "outputs": [],
   "execution_count": 16
  },
  {
   "cell_type": "code",
   "source": "pr = Project(\"test\")\npr.remove_jobs(recursive=True, silently=True)",
   "metadata": {
    "trusted": true
   },
   "outputs": [
    {
     "output_type": "display_data",
     "data": {
      "text/plain": "0it [00:00, ?it/s]",
      "application/vnd.jupyter.widget-view+json": {
       "version_major": 2,
       "version_minor": 0,
       "model_id": "e4591fff56c14d12b9c26bd094df0a9f"
      }
     },
     "metadata": {}
    }
   ],
   "execution_count": 17
  },
  {
   "cell_type": "code",
   "source": [
    "delayed_object_lst = load_workflow_json(project=pr, file_name=\"workflow_nfdi.json\")\n",
    "delayed_object_lst[-1].draw()"
   ],
   "metadata": {
    "trusted": true
   },
   "outputs": [
    {
     "output_type": "display_data",
     "data": {
      "text/plain": "<IPython.core.display.SVG object>",
      "image/svg+xml": "<svg xmlns=\"http://www.w3.org/2000/svg\" xmlns:xlink=\"http://www.w3.org/1999/xlink\" width=\"2923pt\" height=\"476pt\" viewBox=\"0.00 0.00 2923.01 476.00\">\n<g id=\"graph0\" class=\"graph\" transform=\"scale(1 1) rotate(0) translate(4 472)\">\n<polygon fill=\"white\" stroke=\"none\" points=\"-4,4 -4,-472 2919.01,-472 2919.01,4 -4,4\"/>\n<!-- create_function_job_cf1eed3cc730c6c669565ef11e5dbc20 -->\n<g id=\"node1\" class=\"node\">\n<title>create_function_job_cf1eed3cc730c6c669565ef11e5dbc20</title>\n<ellipse fill=\"none\" stroke=\"black\" cx=\"1538.71\" cy=\"-18\" rx=\"484.72\" ry=\"18\"/>\n<text text-anchor=\"middle\" x=\"1538.71\" y=\"-13.32\" font-family=\"Times,serif\" font-size=\"14.00\">create_function_job=&lt;pyiron_base.project.delayed.DelayedObject object at 0x78e7817f71a0&gt;</text>\n</g>\n<!-- macros_tex_52914242b002b0abe9779d33eac7cca9 -->\n<g id=\"node2\" class=\"node\">\n<title>macros_tex_52914242b002b0abe9779d33eac7cca9</title>\n<ellipse fill=\"none\" stroke=\"black\" cx=\"2002.71\" cy=\"-90\" rx=\"442.11\" ry=\"18\"/>\n<text text-anchor=\"middle\" x=\"2002.71\" y=\"-85.33\" font-family=\"Times,serif\" font-size=\"14.00\">macros_tex=&lt;pyiron_base.project.delayed.DelayedObject object at 0x78e7817f6f30&gt;</text>\n</g>\n<!-- macros_tex_52914242b002b0abe9779d33eac7cca9&#45;&gt;create_function_job_cf1eed3cc730c6c669565ef11e5dbc20 -->\n<g id=\"edge1\" class=\"edge\">\n<title>macros_tex_52914242b002b0abe9779d33eac7cca9-&gt;create_function_job_cf1eed3cc730c6c669565ef11e5dbc20</title>\n<path fill=\"none\" stroke=\"black\" d=\"M1890.98,-72.14C1822,-61.74 1733.42,-48.37 1662.34,-37.65\"/>\n<polygon fill=\"black\" stroke=\"black\" points=\"1662.99,-34.21 1652.58,-36.18 1661.95,-41.13 1662.99,-34.21\"/>\n</g>\n<!-- pvbatch_output_file_797a42b8017e3a8961caf5d086751483 -->\n<g id=\"node3\" class=\"node\">\n<title>pvbatch_output_file_797a42b8017e3a8961caf5d086751483</title>\n<ellipse fill=\"none\" stroke=\"black\" cx=\"1639.71\" cy=\"-162\" rx=\"484.72\" ry=\"18\"/>\n<text text-anchor=\"middle\" x=\"1639.71\" y=\"-157.32\" font-family=\"Times,serif\" font-size=\"14.00\">pvbatch_output_file=&lt;pyiron_base.project.delayed.DelayedObject object at 0x78e7817f6c00&gt;</text>\n</g>\n<!-- pvbatch_output_file_797a42b8017e3a8961caf5d086751483&#45;&gt;macros_tex_52914242b002b0abe9779d33eac7cca9 -->\n<g id=\"edge2\" class=\"edge\">\n<title>pvbatch_output_file_797a42b8017e3a8961caf5d086751483-&gt;macros_tex_52914242b002b0abe9779d33eac7cca9</title>\n<path fill=\"none\" stroke=\"black\" d=\"M1728.51,-143.88C1781.34,-133.69 1848.48,-120.74 1903.1,-110.21\"/>\n<polygon fill=\"black\" stroke=\"black\" points=\"1903.56,-113.69 1912.72,-108.35 1902.24,-106.81 1903.56,-113.69\"/>\n</g>\n<!-- poisson_output_pvd_file_5f7130e6a383408a65f772c194c7918f -->\n<g id=\"node4\" class=\"node\">\n<title>poisson_output_pvd_file_5f7130e6a383408a65f772c194c7918f</title>\n<ellipse fill=\"none\" stroke=\"black\" cx=\"1533.71\" cy=\"-234\" rx=\"506.29\" ry=\"18\"/>\n<text text-anchor=\"middle\" x=\"1533.71\" y=\"-229.32\" font-family=\"Times,serif\" font-size=\"14.00\">poisson_output_pvd_file=&lt;pyiron_base.project.delayed.DelayedObject object at 0x78e7817f68a0&gt;</text>\n</g>\n<!-- poisson_output_pvd_file_5f7130e6a383408a65f772c194c7918f&#45;&gt;pvbatch_output_file_797a42b8017e3a8961caf5d086751483 -->\n<g id=\"edge3\" class=\"edge\">\n<title>poisson_output_pvd_file_5f7130e6a383408a65f772c194c7918f-&gt;pvbatch_output_file_797a42b8017e3a8961caf5d086751483</title>\n<path fill=\"none\" stroke=\"black\" d=\"M1559.92,-215.7C1573.17,-206.95 1589.45,-196.19 1603.84,-186.69\"/>\n<polygon fill=\"black\" stroke=\"black\" points=\"1605.77,-189.61 1612.18,-181.18 1601.91,-183.77 1605.77,-189.61\"/>\n</g>\n<!-- plot_file_797a42b8017e3a8961caf5d086751483 -->\n<g id=\"node5\" class=\"node\">\n<title>plot_file_797a42b8017e3a8961caf5d086751483</title>\n<ellipse fill=\"none\" stroke=\"black\" cx=\"710.71\" cy=\"-162\" rx=\"426.32\" ry=\"18\"/>\n<text text-anchor=\"middle\" x=\"710.71\" y=\"-157.32\" font-family=\"Times,serif\" font-size=\"14.00\">plot_file=&lt;pyiron_base.project.delayed.DelayedObject object at 0x78e7817f6c00&gt;</text>\n</g>\n<!-- poisson_output_pvd_file_5f7130e6a383408a65f772c194c7918f&#45;&gt;plot_file_797a42b8017e3a8961caf5d086751483 -->\n<g id=\"edge4\" class=\"edge\">\n<title>poisson_output_pvd_file_5f7130e6a383408a65f772c194c7918f-&gt;plot_file_797a42b8017e3a8961caf5d086751483</title>\n<path fill=\"none\" stroke=\"black\" d=\"M1343.87,-216.85C1212.75,-205.7 1038.85,-190.91 906.47,-179.65\"/>\n<polygon fill=\"black\" stroke=\"black\" points=\"906.77,-176.16 896.51,-178.8 906.18,-183.14 906.77,-176.16\"/>\n</g>\n<!-- plot_file_797a42b8017e3a8961caf5d086751483&#45;&gt;create_function_job_cf1eed3cc730c6c669565ef11e5dbc20 -->\n<g id=\"edge18\" class=\"edge\">\n<title>plot_file_797a42b8017e3a8961caf5d086751483-&gt;create_function_job_cf1eed3cc730c6c669565ef11e5dbc20</title>\n<path fill=\"none\" stroke=\"black\" d=\"M809.77,-144.01C965.34,-117.33 1265.91,-65.78 1428.26,-37.94\"/>\n<polygon fill=\"black\" stroke=\"black\" points=\"1428.47,-41.46 1437.73,-36.32 1427.29,-34.56 1428.47,-41.46\"/>\n</g>\n<!-- meshio_output_xdmf_32ce1da5f69bc3e9c4f749c2a0bc35e0 -->\n<g id=\"node6\" class=\"node\">\n<title>meshio_output_xdmf_32ce1da5f69bc3e9c4f749c2a0bc35e0</title>\n<ellipse fill=\"none\" stroke=\"black\" cx=\"1419.71\" cy=\"-306\" rx=\"491.56\" ry=\"18\"/>\n<text text-anchor=\"middle\" x=\"1419.71\" y=\"-301.32\" font-family=\"Times,serif\" font-size=\"14.00\">meshio_output_xdmf=&lt;pyiron_base.project.delayed.DelayedObject object at 0x78e7817f6540&gt;</text>\n</g>\n<!-- meshio_output_xdmf_32ce1da5f69bc3e9c4f749c2a0bc35e0&#45;&gt;poisson_output_pvd_file_5f7130e6a383408a65f772c194c7918f -->\n<g id=\"edge5\" class=\"edge\">\n<title>meshio_output_xdmf_32ce1da5f69bc3e9c4f749c2a0bc35e0-&gt;poisson_output_pvd_file_5f7130e6a383408a65f772c194c7918f</title>\n<path fill=\"none\" stroke=\"black\" d=\"M1447.89,-287.7C1462.42,-278.78 1480.33,-267.78 1496.03,-258.14\"/>\n<polygon fill=\"black\" stroke=\"black\" points=\"1497.48,-261.35 1504.17,-253.14 1493.82,-255.39 1497.48,-261.35\"/>\n</g>\n<!-- poisson_output_vtu_file_33e2fcb7b676bca18eb85bcb7eeac25d -->\n<g id=\"node7\" class=\"node\">\n<title>poisson_output_vtu_file_33e2fcb7b676bca18eb85bcb7eeac25d</title>\n<ellipse fill=\"none\" stroke=\"black\" cx=\"504.71\" cy=\"-234\" rx=\"504.71\" ry=\"18\"/>\n<text text-anchor=\"middle\" x=\"504.71\" y=\"-229.32\" font-family=\"Times,serif\" font-size=\"14.00\">poisson_output_vtu_file=&lt;pyiron_base.project.delayed.DelayedObject object at 0x78e7817f6870&gt;</text>\n</g>\n<!-- meshio_output_xdmf_32ce1da5f69bc3e9c4f749c2a0bc35e0&#45;&gt;poisson_output_vtu_file_33e2fcb7b676bca18eb85bcb7eeac25d -->\n<g id=\"edge6\" class=\"edge\">\n<title>meshio_output_xdmf_32ce1da5f69bc3e9c4f749c2a0bc35e0-&gt;poisson_output_vtu_file_33e2fcb7b676bca18eb85bcb7eeac25d</title>\n<path fill=\"none\" stroke=\"black\" d=\"M1213.52,-289.23C1067.36,-278.04 871.6,-263.07 722.84,-251.69\"/>\n<polygon fill=\"black\" stroke=\"black\" points=\"723.51,-248.23 713.27,-250.96 722.97,-255.21 723.51,-248.23\"/>\n</g>\n<!-- ndofs_442b654c8db60c8d2ccb23212f9fb5fa -->\n<g id=\"node8\" class=\"node\">\n<title>ndofs_442b654c8db60c8d2ccb23212f9fb5fa</title>\n<ellipse fill=\"none\" stroke=\"black\" cx=\"2472.71\" cy=\"-234\" rx=\"414.22\" ry=\"18\"/>\n<text text-anchor=\"middle\" x=\"2472.71\" y=\"-229.32\" font-family=\"Times,serif\" font-size=\"14.00\">ndofs=&lt;pyiron_base.project.delayed.DelayedObject object at 0x78e7817f6c90&gt;</text>\n</g>\n<!-- meshio_output_xdmf_32ce1da5f69bc3e9c4f749c2a0bc35e0&#45;&gt;ndofs_442b654c8db60c8d2ccb23212f9fb5fa -->\n<g id=\"edge7\" class=\"edge\">\n<title>meshio_output_xdmf_32ce1da5f69bc3e9c4f749c2a0bc35e0-&gt;ndofs_442b654c8db60c8d2ccb23212f9fb5fa</title>\n<path fill=\"none\" stroke=\"black\" d=\"M1650.15,-289.68C1825.31,-278.04 2065.26,-262.09 2240.79,-250.42\"/>\n<polygon fill=\"black\" stroke=\"black\" points=\"2241,-253.91 2250.75,-249.76 2240.54,-246.93 2241,-253.91\"/>\n</g>\n<!-- poisson_output_vtu_file_33e2fcb7b676bca18eb85bcb7eeac25d&#45;&gt;pvbatch_output_file_797a42b8017e3a8961caf5d086751483 -->\n<g id=\"edge15\" class=\"edge\">\n<title>poisson_output_vtu_file_33e2fcb7b676bca18eb85bcb7eeac25d-&gt;pvbatch_output_file_797a42b8017e3a8961caf5d086751483</title>\n<path fill=\"none\" stroke=\"black\" d=\"M750.29,-217.85C937.87,-206.29 1195.56,-190.39 1385.29,-178.69\"/>\n<polygon fill=\"black\" stroke=\"black\" points=\"1385.27,-182.2 1395.04,-178.09 1384.84,-175.21 1385.27,-182.2\"/>\n</g>\n<!-- poisson_output_vtu_file_33e2fcb7b676bca18eb85bcb7eeac25d&#45;&gt;plot_file_797a42b8017e3a8961caf5d086751483 -->\n<g id=\"edge16\" class=\"edge\">\n<title>poisson_output_vtu_file_33e2fcb7b676bca18eb85bcb7eeac25d-&gt;plot_file_797a42b8017e3a8961caf5d086751483</title>\n<path fill=\"none\" stroke=\"black\" d=\"M555.9,-215.61C584.13,-206.01 619.38,-194.04 649.11,-183.93\"/>\n<polygon fill=\"black\" stroke=\"black\" points=\"650.02,-187.32 658.36,-180.79 647.76,-180.69 650.02,-187.32\"/>\n</g>\n<!-- ndofs_442b654c8db60c8d2ccb23212f9fb5fa&#45;&gt;macros_tex_52914242b002b0abe9779d33eac7cca9 -->\n<g id=\"edge17\" class=\"edge\">\n<title>ndofs_442b654c8db60c8d2ccb23212f9fb5fa-&gt;macros_tex_52914242b002b0abe9779d33eac7cca9</title>\n<path fill=\"none\" stroke=\"black\" d=\"M2415.55,-215.73C2328.69,-189.49 2163.76,-139.66 2070.81,-111.57\"/>\n<polygon fill=\"black\" stroke=\"black\" points=\"2071.88,-108.24 2061.29,-108.7 2069.85,-114.94 2071.88,-108.24\"/>\n</g>\n<!-- gmsh_output_file_f52741e901b6100324f1bad01e4c8d06 -->\n<g id=\"node9\" class=\"node\">\n<title>gmsh_output_file_f52741e901b6100324f1bad01e4c8d06</title>\n<ellipse fill=\"none\" stroke=\"black\" cx=\"2407.71\" cy=\"-378\" rx=\"473.15\" ry=\"18\"/>\n<text text-anchor=\"middle\" x=\"2407.71\" y=\"-373.32\" font-family=\"Times,serif\" font-size=\"14.00\">gmsh_output_file=&lt;pyiron_base.project.delayed.DelayedObject object at 0x78e7817f6330&gt;</text>\n</g>\n<!-- gmsh_output_file_f52741e901b6100324f1bad01e4c8d06&#45;&gt;meshio_output_xdmf_32ce1da5f69bc3e9c4f749c2a0bc35e0 -->\n<g id=\"edge8\" class=\"edge\">\n<title>gmsh_output_file_f52741e901b6100324f1bad01e4c8d06-&gt;meshio_output_xdmf_32ce1da5f69bc3e9c4f749c2a0bc35e0</title>\n<path fill=\"none\" stroke=\"black\" d=\"M2189.98,-361.57C2030.01,-350.24 1813.07,-334.87 1650.18,-323.33\"/>\n<polygon fill=\"black\" stroke=\"black\" points=\"1650.77,-319.86 1640.55,-322.65 1650.28,-326.84 1650.77,-319.86\"/>\n</g>\n<!-- meshio_output_h5_83085718ced1b414c601b765bc684a64 -->\n<g id=\"node10\" class=\"node\">\n<title>meshio_output_h5_83085718ced1b414c601b765bc684a64</title>\n<ellipse fill=\"none\" stroke=\"black\" cx=\"2407.71\" cy=\"-306\" rx=\"478.94\" ry=\"18\"/>\n<text text-anchor=\"middle\" x=\"2407.71\" y=\"-301.32\" font-family=\"Times,serif\" font-size=\"14.00\">meshio_output_h5=&lt;pyiron_base.project.delayed.DelayedObject object at 0x78e7817f6480&gt;</text>\n</g>\n<!-- gmsh_output_file_f52741e901b6100324f1bad01e4c8d06&#45;&gt;meshio_output_h5_83085718ced1b414c601b765bc684a64 -->\n<g id=\"edge9\" class=\"edge\">\n<title>gmsh_output_file_f52741e901b6100324f1bad01e4c8d06-&gt;meshio_output_h5_83085718ced1b414c601b765bc684a64</title>\n<path fill=\"none\" stroke=\"black\" d=\"M2407.71,-359.7C2407.71,-352.41 2407.71,-343.73 2407.71,-335.54\"/>\n<polygon fill=\"black\" stroke=\"black\" points=\"2411.21,-335.62 2407.71,-325.62 2404.21,-335.62 2411.21,-335.62\"/>\n</g>\n<!-- meshio_output_h5_83085718ced1b414c601b765bc684a64&#45;&gt;poisson_output_pvd_file_5f7130e6a383408a65f772c194c7918f -->\n<g id=\"edge12\" class=\"edge\">\n<title>meshio_output_h5_83085718ced1b414c601b765bc684a64-&gt;poisson_output_pvd_file_5f7130e6a383408a65f772c194c7918f</title>\n<path fill=\"none\" stroke=\"black\" d=\"M2209.94,-289.16C2071.31,-278.06 1886.26,-263.24 1744.78,-251.9\"/>\n<polygon fill=\"black\" stroke=\"black\" points=\"1745.14,-248.42 1734.9,-251.11 1744.59,-255.4 1745.14,-248.42\"/>\n</g>\n<!-- meshio_output_h5_83085718ced1b414c601b765bc684a64&#45;&gt;poisson_output_vtu_file_33e2fcb7b676bca18eb85bcb7eeac25d -->\n<g id=\"edge13\" class=\"edge\">\n<title>meshio_output_h5_83085718ced1b414c601b765bc684a64-&gt;poisson_output_vtu_file_33e2fcb7b676bca18eb85bcb7eeac25d</title>\n<path fill=\"none\" stroke=\"black\" d=\"M2074.06,-292.73C1733.32,-280.19 1206.34,-260.81 858.49,-248.01\"/>\n<polygon fill=\"black\" stroke=\"black\" points=\"858.86,-244.52 848.73,-247.65 858.6,-251.52 858.86,-244.52\"/>\n</g>\n<!-- meshio_output_h5_83085718ced1b414c601b765bc684a64&#45;&gt;ndofs_442b654c8db60c8d2ccb23212f9fb5fa -->\n<g id=\"edge14\" class=\"edge\">\n<title>meshio_output_h5_83085718ced1b414c601b765bc684a64-&gt;ndofs_442b654c8db60c8d2ccb23212f9fb5fa</title>\n<path fill=\"none\" stroke=\"black\" d=\"M2423.78,-287.7C2431.42,-279.47 2440.69,-269.48 2449.11,-260.42\"/>\n<polygon fill=\"black\" stroke=\"black\" points=\"2451.56,-262.92 2455.8,-253.21 2446.43,-258.16 2451.56,-262.92\"/>\n</g>\n<!-- domain_size_f12a7f1986b9dd058dfc666dbe230b20 -->\n<g id=\"node11\" class=\"node\">\n<title>domain_size_f12a7f1986b9dd058dfc666dbe230b20</title>\n<ellipse fill=\"none\" stroke=\"black\" cx=\"2660.71\" cy=\"-450\" rx=\"96.45\" ry=\"18\"/>\n<text text-anchor=\"middle\" x=\"2660.71\" y=\"-445.32\" font-family=\"Times,serif\" font-size=\"14.00\">domain_size=2.0</text>\n</g>\n<!-- domain_size_f12a7f1986b9dd058dfc666dbe230b20&#45;&gt;macros_tex_52914242b002b0abe9779d33eac7cca9 -->\n<g id=\"edge10\" class=\"edge\">\n<title>domain_size_f12a7f1986b9dd058dfc666dbe230b20-&gt;macros_tex_52914242b002b0abe9779d33eac7cca9</title>\n<path fill=\"none\" stroke=\"black\" d=\"M2739.88,-439.36C2797.2,-430.82 2868.24,-416.5 2889.71,-396 2919.43,-367.63 2914.71,-348.09 2914.71,-307 2914.71,-307 2914.71,-307 2914.71,-233 2914.71,-166.08 2526.34,-126.03 2256.47,-106.28\"/>\n<polygon fill=\"black\" stroke=\"black\" points=\"2257.05,-102.81 2246.83,-105.58 2256.55,-109.79 2257.05,-102.81\"/>\n</g>\n<!-- domain_size_f12a7f1986b9dd058dfc666dbe230b20&#45;&gt;gmsh_output_file_f52741e901b6100324f1bad01e4c8d06 -->\n<g id=\"edge11\" class=\"edge\">\n<title>domain_size_f12a7f1986b9dd058dfc666dbe230b20-&gt;gmsh_output_file_f52741e901b6100324f1bad01e4c8d06</title>\n<path fill=\"none\" stroke=\"black\" d=\"M2608.29,-434.5C2571.57,-424.33 2521.98,-410.62 2481.3,-399.36\"/>\n<polygon fill=\"black\" stroke=\"black\" points=\"2482.38,-396.03 2471.81,-396.73 2480.52,-402.77 2482.38,-396.03\"/>\n</g>\n</g>\n</svg>"
     },
     "metadata": {}
    }
   ],
   "execution_count": 18
  },
  {
   "cell_type": "code",
   "source": "delayed_object_lst[-1].pull()",
   "metadata": {
    "trusted": true
   },
   "outputs": [
    {
     "name": "stdout",
     "output_type": "stream",
     "text": "The job generate_mesh_0b48cf5155cd6802c17d20bb58104132 was saved and received the ID: 1\nThe job convert_to_xdmf_29ad6ec6927268429dc9aef8166fde43 was saved and received the ID: 2\nThe job poisson_a0224b23ceb2119d105a5d98ef37f93e was saved and received the ID: 3\nThe job plot_over_line_82b37a42e0747f11d9a7f6318f63ac6b was saved and received the ID: 4\nThe job substitute_macros_874fc185ecec04b4cb9537c58b7efb7b was saved and received the ID: 5\nThe job compile_paper_3cee534ffe692833d37faf1fd2170cb6 was saved and received the ID: 6\n"
    },
    {
     "execution_count": 19,
     "output_type": "execute_result",
     "data": {
      "text/plain": "'/home/jovyan/postprocessing/paper.pdf'"
     },
     "metadata": {}
    }
   ],
   "execution_count": 19
  },
  {
   "cell_type": "code",
   "source": "pr.job_table()",
   "metadata": {
    "trusted": true
   },
   "outputs": [
    {
     "execution_count": 20,
     "output_type": "execute_result",
     "data": {
      "text/plain": "   id    status chemicalformula  \\\n0   1  finished            None   \n1   2  finished            None   \n2   3  finished            None   \n3   4  finished            None   \n4   5  finished            None   \n5   6  finished            None   \n\n                                                  job  \\\n0      generate_mesh_0b48cf5155cd6802c17d20bb58104132   \n1    convert_to_xdmf_29ad6ec6927268429dc9aef8166fde43   \n2            poisson_a0224b23ceb2119d105a5d98ef37f93e   \n3     plot_over_line_82b37a42e0747f11d9a7f6318f63ac6b   \n4  substitute_macros_874fc185ecec04b4cb9537c58b7efb7b   \n5      compile_paper_3cee534ffe692833d37faf1fd2170cb6   \n\n                                                subjob projectpath  \\\n0      /generate_mesh_0b48cf5155cd6802c17d20bb58104132        None   \n1    /convert_to_xdmf_29ad6ec6927268429dc9aef8166fde43        None   \n2            /poisson_a0224b23ceb2119d105a5d98ef37f93e        None   \n3     /plot_over_line_82b37a42e0747f11d9a7f6318f63ac6b        None   \n4  /substitute_macros_874fc185ecec04b4cb9537c58b7efb7b        None   \n5      /compile_paper_3cee534ffe692833d37faf1fd2170cb6        None   \n\n              project                  timestart timestop totalcputime  \\\n0  /home/jovyan/test/ 2025-04-13 06:55:06.270304     None         None   \n1  /home/jovyan/test/ 2025-04-13 06:55:07.725818     None         None   \n2  /home/jovyan/test/ 2025-04-13 06:55:09.188673     None         None   \n3  /home/jovyan/test/ 2025-04-13 06:55:12.008854     None         None   \n4  /home/jovyan/test/ 2025-04-13 06:55:13.518433     None         None   \n5  /home/jovyan/test/ 2025-04-13 06:55:14.438081     None         None   \n\n                                                    computer  \\\n0  pyiron@jupyter-pyiron-dev-pyth-flow-definition-cmhhpfb1#1   \n1  pyiron@jupyter-pyiron-dev-pyth-flow-definition-cmhhpfb1#1   \n2  pyiron@jupyter-pyiron-dev-pyth-flow-definition-cmhhpfb1#1   \n3  pyiron@jupyter-pyiron-dev-pyth-flow-definition-cmhhpfb1#1   \n4  pyiron@jupyter-pyiron-dev-pyth-flow-definition-cmhhpfb1#1   \n5  pyiron@jupyter-pyiron-dev-pyth-flow-definition-cmhhpfb1#1   \n\n                     hamilton hamversion parentid masterid  \n0  PythonFunctionContainerJob        0.4     None     None  \n1  PythonFunctionContainerJob        0.4     None     None  \n2  PythonFunctionContainerJob        0.4     None     None  \n3  PythonFunctionContainerJob        0.4     None     None  \n4  PythonFunctionContainerJob        0.4     None     None  \n5  PythonFunctionContainerJob        0.4     None     None  ",
      "text/html": "<div>\n<style scoped>\n    .dataframe tbody tr th:only-of-type {\n        vertical-align: middle;\n    }\n\n    .dataframe tbody tr th {\n        vertical-align: top;\n    }\n\n    .dataframe thead th {\n        text-align: right;\n    }\n</style>\n<table border=\"1\" class=\"dataframe\">\n  <thead>\n    <tr style=\"text-align: right;\">\n      <th></th>\n      <th>id</th>\n      <th>status</th>\n      <th>chemicalformula</th>\n      <th>job</th>\n      <th>subjob</th>\n      <th>projectpath</th>\n      <th>project</th>\n      <th>timestart</th>\n      <th>timestop</th>\n      <th>totalcputime</th>\n      <th>computer</th>\n      <th>hamilton</th>\n      <th>hamversion</th>\n      <th>parentid</th>\n      <th>masterid</th>\n    </tr>\n  </thead>\n  <tbody>\n    <tr>\n      <th>0</th>\n      <td>1</td>\n      <td>finished</td>\n      <td>None</td>\n      <td>generate_mesh_0b48cf5155cd6802c17d20bb58104132</td>\n      <td>/generate_mesh_0b48cf5155cd6802c17d20bb58104132</td>\n      <td>None</td>\n      <td>/home/jovyan/test/</td>\n      <td>2025-04-13 06:55:06.270304</td>\n      <td>None</td>\n      <td>None</td>\n      <td>pyiron@jupyter-pyiron-dev-pyth-flow-definition-cmhhpfb1#1</td>\n      <td>PythonFunctionContainerJob</td>\n      <td>0.4</td>\n      <td>None</td>\n      <td>None</td>\n    </tr>\n    <tr>\n      <th>1</th>\n      <td>2</td>\n      <td>finished</td>\n      <td>None</td>\n      <td>convert_to_xdmf_29ad6ec6927268429dc9aef8166fde43</td>\n      <td>/convert_to_xdmf_29ad6ec6927268429dc9aef8166fde43</td>\n      <td>None</td>\n      <td>/home/jovyan/test/</td>\n      <td>2025-04-13 06:55:07.725818</td>\n      <td>None</td>\n      <td>None</td>\n      <td>pyiron@jupyter-pyiron-dev-pyth-flow-definition-cmhhpfb1#1</td>\n      <td>PythonFunctionContainerJob</td>\n      <td>0.4</td>\n      <td>None</td>\n      <td>None</td>\n    </tr>\n    <tr>\n      <th>2</th>\n      <td>3</td>\n      <td>finished</td>\n      <td>None</td>\n      <td>poisson_a0224b23ceb2119d105a5d98ef37f93e</td>\n      <td>/poisson_a0224b23ceb2119d105a5d98ef37f93e</td>\n      <td>None</td>\n      <td>/home/jovyan/test/</td>\n      <td>2025-04-13 06:55:09.188673</td>\n      <td>None</td>\n      <td>None</td>\n      <td>pyiron@jupyter-pyiron-dev-pyth-flow-definition-cmhhpfb1#1</td>\n      <td>PythonFunctionContainerJob</td>\n      <td>0.4</td>\n      <td>None</td>\n      <td>None</td>\n    </tr>\n    <tr>\n      <th>3</th>\n      <td>4</td>\n      <td>finished</td>\n      <td>None</td>\n      <td>plot_over_line_82b37a42e0747f11d9a7f6318f63ac6b</td>\n      <td>/plot_over_line_82b37a42e0747f11d9a7f6318f63ac6b</td>\n      <td>None</td>\n      <td>/home/jovyan/test/</td>\n      <td>2025-04-13 06:55:12.008854</td>\n      <td>None</td>\n      <td>None</td>\n      <td>pyiron@jupyter-pyiron-dev-pyth-flow-definition-cmhhpfb1#1</td>\n      <td>PythonFunctionContainerJob</td>\n      <td>0.4</td>\n      <td>None</td>\n      <td>None</td>\n    </tr>\n    <tr>\n      <th>4</th>\n      <td>5</td>\n      <td>finished</td>\n      <td>None</td>\n      <td>substitute_macros_874fc185ecec04b4cb9537c58b7efb7b</td>\n      <td>/substitute_macros_874fc185ecec04b4cb9537c58b7efb7b</td>\n      <td>None</td>\n      <td>/home/jovyan/test/</td>\n      <td>2025-04-13 06:55:13.518433</td>\n      <td>None</td>\n      <td>None</td>\n      <td>pyiron@jupyter-pyiron-dev-pyth-flow-definition-cmhhpfb1#1</td>\n      <td>PythonFunctionContainerJob</td>\n      <td>0.4</td>\n      <td>None</td>\n      <td>None</td>\n    </tr>\n    <tr>\n      <th>5</th>\n      <td>6</td>\n      <td>finished</td>\n      <td>None</td>\n      <td>compile_paper_3cee534ffe692833d37faf1fd2170cb6</td>\n      <td>/compile_paper_3cee534ffe692833d37faf1fd2170cb6</td>\n      <td>None</td>\n      <td>/home/jovyan/test/</td>\n      <td>2025-04-13 06:55:14.438081</td>\n      <td>None</td>\n      <td>None</td>\n      <td>pyiron@jupyter-pyiron-dev-pyth-flow-definition-cmhhpfb1#1</td>\n      <td>PythonFunctionContainerJob</td>\n      <td>0.4</td>\n      <td>None</td>\n      <td>None</td>\n    </tr>\n  </tbody>\n</table>\n</div>"
     },
     "metadata": {}
    }
   ],
   "execution_count": 20
  },
  {
   "cell_type": "markdown",
   "source": "## Python",
   "metadata": {}
  },
  {
   "cell_type": "code",
   "source": "from python_workflow_definition.purepython import load_workflow_json",
   "metadata": {
    "trusted": true
   },
   "outputs": [],
   "execution_count": 21
  },
  {
   "cell_type": "code",
   "source": "load_workflow_json(file_name=\"workflow_nfdi.json\")",
   "metadata": {
    "trusted": true
   },
   "outputs": [
    {
     "execution_count": 22,
     "output_type": "execute_result",
     "data": {
      "text/plain": "'/home/jovyan/postprocessing/paper.pdf'"
     },
     "metadata": {}
    }
   ],
   "execution_count": 22
  }
 ]
}
