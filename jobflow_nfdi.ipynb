{
 "cells": [
  {
   "cell_type": "markdown",
   "id": "106ded66-d202-46ac-82b0-2755ca309bdd",
   "metadata": {},
   "source": [
    "https://github.com/BAMresearch/NFDI4IngScientificWorkflowRequirements"
   ]
  },
  {
   "cell_type": "code",
   "execution_count": 1,
   "id": "6d86e804-245a-4d96-a1a3-1bc3216c3646",
   "metadata": {},
   "outputs": [
    {
     "name": "stdout",
     "output_type": "stream",
     "text": [
      "\n",
      "# conda environments:\n",
      "#\n",
      "base                 * /home/janssen/mambaforge\n",
      "postprocessing         /home/janssen/mambaforge/envs/postprocessing\n",
      "preprocessing          /home/janssen/mambaforge/envs/preprocessing\n",
      "processing             /home/janssen/mambaforge/envs/processing\n",
      "\n"
     ]
    }
   ],
   "source": [
    "!conda env list"
   ]
  },
  {
   "cell_type": "markdown",
   "id": "11e09b78-cb72-465f-9c8b-5b77f0aa729c",
   "metadata": {},
   "source": [
    "# Preprocessing "
   ]
  },
  {
   "cell_type": "code",
   "execution_count": 2,
   "id": "a76e6c0a-98f2-4436-af10-8097da183341",
   "metadata": {},
   "outputs": [],
   "source": [
    "from nfdi_ing_workflow import (\n",
    "    generate_mesh as _generate_mesh, \n",
    "    convert_to_xdmf as _convert_to_xdmf,\n",
    "    poisson as _poisson,\n",
    "    plot_over_line as _plot_over_line,\n",
    "    substitute_macros as _substitute_macros,\n",
    "    compile_paper as _compile_paper,\n",
    ")"
   ]
  },
  {
   "cell_type": "code",
   "execution_count": 3,
   "id": "89c02460-b543-442c-a27e-f1757dc2262e",
   "metadata": {},
   "outputs": [],
   "source": [
    "from jobflow import job, Flow"
   ]
  },
  {
   "cell_type": "code",
   "execution_count": 4,
   "id": "549ecf27-88ef-4e77-8bd4-b616cfdda2e4",
   "metadata": {},
   "outputs": [],
   "source": [
    "generate_mesh = job(_generate_mesh)\n",
    "convert_to_xdmf = job(_convert_to_xdmf, data=[\"xdmf_file\", \"h5_file\"])\n",
    "poisson = job(_poisson, data=[\"numdofs\", \"pvd_file\", \"vtu_file\"])\n",
    "plot_over_line = job(_plot_over_line)\n",
    "substitute_macros = job(_substitute_macros)\n",
    "compile_paper = job(_compile_paper)"
   ]
  },
  {
   "cell_type": "code",
   "execution_count": 5,
   "id": "8d911f98-3b80-457f-a0f4-3cb37ebf1691",
   "metadata": {},
   "outputs": [],
   "source": [
    "domain_size = 2.0"
   ]
  },
  {
   "cell_type": "markdown",
   "id": "cf1e22d2-9ce5-488f-8048-308d7d5d4966",
   "metadata": {},
   "source": [
    "## generate mesh"
   ]
  },
  {
   "cell_type": "code",
   "execution_count": 6,
   "id": "71d411b6-cbec-489e-99e3-ba71680bcb5b",
   "metadata": {
    "tags": []
   },
   "outputs": [],
   "source": [
    "gmsh_output_file = generate_mesh(\n",
    "    domain_size=domain_size,\n",
    ")"
   ]
  },
  {
   "cell_type": "markdown",
   "id": "019938e7-8b41-47a9-b226-00e05dabc193",
   "metadata": {},
   "source": [
    "## convert to xdmf"
   ]
  },
  {
   "cell_type": "code",
   "execution_count": 7,
   "id": "1d0d9804-f250-48b3-a5d0-a546d520f79b",
   "metadata": {
    "tags": []
   },
   "outputs": [],
   "source": [
    "meshio_output_dict = convert_to_xdmf(\n",
    "    gmsh_output_file=gmsh_output_file.output,\n",
    ")"
   ]
  },
  {
   "cell_type": "markdown",
   "id": "ceb0b643-caaa-426c-9781-28703440e647",
   "metadata": {},
   "source": [
    "# Processing"
   ]
  },
  {
   "cell_type": "markdown",
   "id": "11815a8b-319c-4ff3-8eae-330bf6e58eee",
   "metadata": {},
   "source": [
    "## poisson"
   ]
  },
  {
   "cell_type": "code",
   "execution_count": 8,
   "id": "7b69bcff-e2b1-4d4a-b62c-6a1c86eeb590",
   "metadata": {
    "tags": []
   },
   "outputs": [],
   "source": [
    "poisson_dict = poisson(\n",
    "    meshio_output_xdmf=meshio_output_dict.output.xdmf_file, \n",
    "    meshio_output_h5=meshio_output_dict.output.h5_file,\n",
    ")"
   ]
  },
  {
   "cell_type": "markdown",
   "id": "bc8a8634-029e-4337-96a2-a1f284cb4c38",
   "metadata": {},
   "source": [
    "# Postprocessing"
   ]
  },
  {
   "cell_type": "markdown",
   "id": "157c5386-91a3-4e21-ac65-8f947f2d62fa",
   "metadata": {},
   "source": [
    "## plot over line"
   ]
  },
  {
   "cell_type": "code",
   "execution_count": 9,
   "id": "3c4a29b0-eb1e-490a-8be0-e03cfff15e0a",
   "metadata": {
    "tags": []
   },
   "outputs": [],
   "source": [
    "pvbatch_output_file = plot_over_line(\n",
    "    poisson_output_pvd_file=poisson_dict.output.pvd_file, \n",
    "    poisson_output_vtu_file=poisson_dict.output.vtu_file,\n",
    ")"
   ]
  },
  {
   "cell_type": "markdown",
   "id": "54f1d4bd-b944-470f-9cf8-30e64a24eb6d",
   "metadata": {},
   "source": [
    "## substitute macros"
   ]
  },
  {
   "cell_type": "code",
   "execution_count": 10,
   "id": "a0a4c233-322d-4723-9627-62ca2487bfa9",
   "metadata": {
    "tags": []
   },
   "outputs": [],
   "source": [
    "macros_tex_file = substitute_macros( \n",
    "    pvbatch_output_file=pvbatch_output_file.output, \n",
    "    ndofs=poisson_dict.output.numdofs, \n",
    "    domain_size=domain_size,\n",
    ")"
   ]
  },
  {
   "cell_type": "markdown",
   "id": "2031b693-acf3-48bd-bb00-e33f669381e9",
   "metadata": {},
   "source": [
    "## compile paper"
   ]
  },
  {
   "cell_type": "code",
   "execution_count": 11,
   "id": "c281408f-e63d-4380-a7e6-c595d49fbb8f",
   "metadata": {},
   "outputs": [],
   "source": [
    "paper_output = compile_paper(\n",
    "    macros_tex=macros_tex_file.output, \n",
    "    plot_file=pvbatch_output_file.output,\n",
    ")"
   ]
  },
  {
   "cell_type": "code",
   "execution_count": 12,
   "id": "a384d70a-8ef5-4fdd-880c-56ac7eaf87b9",
   "metadata": {},
   "outputs": [],
   "source": [
    "flow = Flow([gmsh_output_file, meshio_output_dict, poisson_dict, pvbatch_output_file, macros_tex_file, paper_output])"
   ]
  },
  {
   "cell_type": "markdown",
   "id": "5c1b0200-bba3-484d-ac49-f582898e974f",
   "metadata": {},
   "source": [
    "# Convert "
   ]
  },
  {
   "cell_type": "code",
   "execution_count": 13,
   "id": "196faf18-c46b-4f42-a652-698d2c580221",
   "metadata": {},
   "outputs": [],
   "source": [
    "from python_workflow_definition.jobflow import write_workflow_json"
   ]
  },
  {
   "cell_type": "code",
   "execution_count": 14,
   "id": "fb23ad9c-76fd-4c0b-b546-e305d6c49796",
   "metadata": {},
   "outputs": [],
   "source": [
    "workflow_json_filename = \"jobflow_nfdi.json\""
   ]
  },
  {
   "cell_type": "code",
   "execution_count": 15,
   "id": "4139547a-9717-4708-b1a5-8202a0382d77",
   "metadata": {},
   "outputs": [],
   "source": [
    "write_workflow_json(flow=flow, file_name=workflow_json_filename)"
   ]
  },
  {
   "cell_type": "markdown",
   "id": "11a829e2-face-469f-b343-2c95763b1f13",
   "metadata": {},
   "source": [
    "# Load Workflow with aiida"
   ]
  },
  {
   "cell_type": "code",
   "execution_count": null,
   "id": "4f3acabe-55df-479a-af4d-a23a80c4660d",
   "metadata": {},
   "outputs": [],
   "source": [
    "from aiida import load_profile\n",
    "\n",
    "load_profile()"
   ]
  },
  {
   "cell_type": "code",
   "execution_count": null,
   "id": "b6ba9444-a2c8-451b-b74c-19b0f69ba369",
   "metadata": {},
   "outputs": [],
   "source": [
    "from python_workflow_definition.aiida import load_workflow_json"
   ]
  },
  {
   "cell_type": "code",
   "execution_count": null,
   "id": "c3528d55-6bf7-47ed-a110-65c47446ba92",
   "metadata": {},
   "outputs": [],
   "source": [
    "wg = load_workflow_json(file_name=workflow_json_filename)\n",
    "wg"
   ]
  },
  {
   "cell_type": "code",
   "execution_count": null,
   "id": "5ef48778-4209-425f-8c6b-85a4cd2f92ec",
   "metadata": {},
   "outputs": [],
   "source": [
    "wg.run()"
   ]
  },
  {
   "cell_type": "markdown",
   "id": "397b16a2-e1ec-4eec-8562-1c84f585c347",
   "metadata": {},
   "source": [
    "# Load Workflow with pyiron_base"
   ]
  },
  {
   "cell_type": "code",
   "execution_count": 16,
   "id": "fdde6b82-b51d-434a-a9a8-5a8c31bbb429",
   "metadata": {},
   "outputs": [],
   "source": [
    "from pyiron_base import Project"
   ]
  },
  {
   "cell_type": "code",
   "execution_count": 17,
   "id": "be4d5d93-e9f6-4072-a6be-0ee5dc93590f",
   "metadata": {},
   "outputs": [],
   "source": [
    "from python_workflow_definition.pyiron_base import load_workflow_json"
   ]
  },
  {
   "cell_type": "code",
   "execution_count": 18,
   "id": "4db75587-5f4c-416d-a1f6-c949077fa2ca",
   "metadata": {},
   "outputs": [
    {
     "data": {
      "application/vnd.jupyter.widget-view+json": {
       "model_id": "b5c4c082a18b4d5391aac8dd470570d5",
       "version_major": 2,
       "version_minor": 0
      },
      "text/plain": [
       "0it [00:00, ?it/s]"
      ]
     },
     "metadata": {},
     "output_type": "display_data"
    }
   ],
   "source": [
    "pr = Project(\"test\")\n",
    "pr.remove_jobs(recursive=True, silently=True)"
   ]
  },
  {
   "cell_type": "code",
   "execution_count": 19,
   "id": "4452a648-d4c3-4f5f-8678-ffb54bef17dc",
   "metadata": {},
   "outputs": [
    {
     "data": {
      "image/svg+xml": [
       "<svg xmlns=\"http://www.w3.org/2000/svg\" xmlns:xlink=\"http://www.w3.org/1999/xlink\" width=\"2216pt\" height=\"476pt\" viewBox=\"0.00 0.00 2216.21 476.00\">\n",
       "<g id=\"graph0\" class=\"graph\" transform=\"scale(1 1) rotate(0) translate(4 472)\">\n",
       "<polygon fill=\"white\" stroke=\"none\" points=\"-4,4 -4,-472 2212.21,-472 2212.21,4 -4,4\"/>\n",
       "<!-- create_function_job_19ee2cba4a6ec0c97eab519834ce2c6b -->\n",
       "<g id=\"node1\" class=\"node\">\n",
       "<title>create_function_job_19ee2cba4a6ec0c97eab519834ce2c6b</title>\n",
       "<ellipse fill=\"none\" stroke=\"black\" cx=\"1161.93\" cy=\"-18\" rx=\"364.07\" ry=\"18\"/>\n",
       "<text text-anchor=\"middle\" x=\"1161.93\" y=\"-12.95\" font-family=\"Times,serif\" font-size=\"14.00\">create_function_job=&lt;pyiron_base.project.delayed.DelayedObject object at 0x7de8d9d4ab70&gt;</text>\n",
       "</g>\n",
       "<!-- macros_tex_f8e7c70add5a6917362eaba96348676f -->\n",
       "<g id=\"node2\" class=\"node\">\n",
       "<title>macros_tex_f8e7c70add5a6917362eaba96348676f</title>\n",
       "<ellipse fill=\"none\" stroke=\"black\" cx=\"1513.93\" cy=\"-90\" rx=\"333.36\" ry=\"18\"/>\n",
       "<text text-anchor=\"middle\" x=\"1513.93\" y=\"-84.95\" font-family=\"Times,serif\" font-size=\"14.00\">macros_tex=&lt;pyiron_base.project.delayed.DelayedObject object at 0x7de8d9d4a8d0&gt;</text>\n",
       "</g>\n",
       "<!-- macros_tex_f8e7c70add5a6917362eaba96348676f&#45;&gt;create_function_job_19ee2cba4a6ec0c97eab519834ce2c6b -->\n",
       "<g id=\"edge1\" class=\"edge\">\n",
       "<title>macros_tex_f8e7c70add5a6917362eaba96348676f-&gt;create_function_job_19ee2cba4a6ec0c97eab519834ce2c6b</title>\n",
       "<path fill=\"none\" stroke=\"black\" d=\"M1429.17,-72.14C1377.7,-61.91 1311.85,-48.81 1258.39,-38.18\"/>\n",
       "<polygon fill=\"black\" stroke=\"black\" points=\"1259.15,-34.77 1248.66,-36.25 1257.79,-41.63 1259.15,-34.77\"/>\n",
       "</g>\n",
       "<!-- pvbatch_output_file_a227e82a0cabcaa4ff69b537232c3daf -->\n",
       "<g id=\"node3\" class=\"node\">\n",
       "<title>pvbatch_output_file_a227e82a0cabcaa4ff69b537232c3daf</title>\n",
       "<ellipse fill=\"none\" stroke=\"black\" cx=\"1237.93\" cy=\"-162\" rx=\"364.58\" ry=\"18\"/>\n",
       "<text text-anchor=\"middle\" x=\"1237.93\" y=\"-156.95\" font-family=\"Times,serif\" font-size=\"14.00\">pvbatch_output_file=&lt;pyiron_base.project.delayed.DelayedObject object at 0x7de8d9d4a570&gt;</text>\n",
       "</g>\n",
       "<!-- pvbatch_output_file_a227e82a0cabcaa4ff69b537232c3daf&#45;&gt;macros_tex_f8e7c70add5a6917362eaba96348676f -->\n",
       "<g id=\"edge2\" class=\"edge\">\n",
       "<title>pvbatch_output_file_a227e82a0cabcaa4ff69b537232c3daf-&gt;macros_tex_f8e7c70add5a6917362eaba96348676f</title>\n",
       "<path fill=\"none\" stroke=\"black\" d=\"M1305.45,-143.88C1344.77,-133.9 1394.53,-121.28 1435.58,-110.87\"/>\n",
       "<polygon fill=\"black\" stroke=\"black\" points=\"1436.33,-114.29 1445.17,-108.44 1434.61,-107.51 1436.33,-114.29\"/>\n",
       "</g>\n",
       "<!-- poisson_output_pvd_file_3d7237a32c9c37d58bcde272202eb973 -->\n",
       "<g id=\"node4\" class=\"node\">\n",
       "<title>poisson_output_pvd_file_3d7237a32c9c37d58bcde272202eb973</title>\n",
       "<ellipse fill=\"none\" stroke=\"black\" cx=\"1158.93\" cy=\"-234\" rx=\"381.47\" ry=\"18\"/>\n",
       "<text text-anchor=\"middle\" x=\"1158.93\" y=\"-228.95\" font-family=\"Times,serif\" font-size=\"14.00\">poisson_output_pvd_file=&lt;pyiron_base.project.delayed.DelayedObject object at 0x7de8d9d4a1e0&gt;</text>\n",
       "</g>\n",
       "<!-- poisson_output_pvd_file_3d7237a32c9c37d58bcde272202eb973&#45;&gt;pvbatch_output_file_a227e82a0cabcaa4ff69b537232c3daf -->\n",
       "<g id=\"edge3\" class=\"edge\">\n",
       "<title>poisson_output_pvd_file_3d7237a32c9c37d58bcde272202eb973-&gt;pvbatch_output_file_a227e82a0cabcaa4ff69b537232c3daf</title>\n",
       "<path fill=\"none\" stroke=\"black\" d=\"M1178.46,-215.7C1187.96,-207.28 1199.54,-197.02 1209.95,-187.79\"/>\n",
       "<polygon fill=\"black\" stroke=\"black\" points=\"1212.06,-190.6 1217.22,-181.35 1207.42,-185.36 1212.06,-190.6\"/>\n",
       "</g>\n",
       "<!-- plot_file_a227e82a0cabcaa4ff69b537232c3daf -->\n",
       "<g id=\"node5\" class=\"node\">\n",
       "<title>plot_file_a227e82a0cabcaa4ff69b537232c3daf</title>\n",
       "<ellipse fill=\"none\" stroke=\"black\" cx=\"533.93\" cy=\"-162\" rx=\"321.59\" ry=\"18\"/>\n",
       "<text text-anchor=\"middle\" x=\"533.93\" y=\"-156.95\" font-family=\"Times,serif\" font-size=\"14.00\">plot_file=&lt;pyiron_base.project.delayed.DelayedObject object at 0x7de8d9d4a570&gt;</text>\n",
       "</g>\n",
       "<!-- poisson_output_pvd_file_3d7237a32c9c37d58bcde272202eb973&#45;&gt;plot_file_a227e82a0cabcaa4ff69b537232c3daf -->\n",
       "<g id=\"edge4\" class=\"edge\">\n",
       "<title>poisson_output_pvd_file_3d7237a32c9c37d58bcde272202eb973-&gt;plot_file_a227e82a0cabcaa4ff69b537232c3daf</title>\n",
       "<path fill=\"none\" stroke=\"black\" d=\"M1015.15,-216.9C916.31,-205.83 785.31,-191.15 684.94,-179.91\"/>\n",
       "<polygon fill=\"black\" stroke=\"black\" points=\"685.62,-176.47 675.29,-178.83 684.84,-183.42 685.62,-176.47\"/>\n",
       "</g>\n",
       "<!-- plot_file_a227e82a0cabcaa4ff69b537232c3daf&#45;&gt;create_function_job_19ee2cba4a6ec0c97eab519834ce2c6b -->\n",
       "<g id=\"edge18\" class=\"edge\">\n",
       "<title>plot_file_a227e82a0cabcaa4ff69b537232c3daf-&gt;create_function_job_19ee2cba4a6ec0c97eab519834ce2c6b</title>\n",
       "<path fill=\"none\" stroke=\"black\" d=\"M609.06,-144.01C726.31,-117.5 952.15,-66.44 1075.81,-38.47\"/>\n",
       "<polygon fill=\"black\" stroke=\"black\" points=\"1076.26,-41.96 1085.24,-36.34 1074.72,-35.13 1076.26,-41.96\"/>\n",
       "</g>\n",
       "<!-- meshio_output_xdmf_5f6efd392b1691367349ce93caf0169d -->\n",
       "<g id=\"node6\" class=\"node\">\n",
       "<title>meshio_output_xdmf_5f6efd392b1691367349ce93caf0169d</title>\n",
       "<ellipse fill=\"none\" stroke=\"black\" cx=\"1072.93\" cy=\"-306\" rx=\"370.21\" ry=\"18\"/>\n",
       "<text text-anchor=\"middle\" x=\"1072.93\" y=\"-300.95\" font-family=\"Times,serif\" font-size=\"14.00\">meshio_output_xdmf=&lt;pyiron_base.project.delayed.DelayedObject object at 0x7de8d9d49dc0&gt;</text>\n",
       "</g>\n",
       "<!-- meshio_output_xdmf_5f6efd392b1691367349ce93caf0169d&#45;&gt;poisson_output_pvd_file_3d7237a32c9c37d58bcde272202eb973 -->\n",
       "<g id=\"edge5\" class=\"edge\">\n",
       "<title>meshio_output_xdmf_5f6efd392b1691367349ce93caf0169d-&gt;poisson_output_pvd_file_3d7237a32c9c37d58bcde272202eb973</title>\n",
       "<path fill=\"none\" stroke=\"black\" d=\"M1094.19,-287.7C1104.63,-279.2 1117.39,-268.81 1128.81,-259.51\"/>\n",
       "<polygon fill=\"black\" stroke=\"black\" points=\"1130.9,-262.33 1136.45,-253.3 1126.48,-256.9 1130.9,-262.33\"/>\n",
       "</g>\n",
       "<!-- poisson_output_vtu_file_6970a46dfc05b1a19e5634d8c18059e3 -->\n",
       "<g id=\"node7\" class=\"node\">\n",
       "<title>poisson_output_vtu_file_6970a46dfc05b1a19e5634d8c18059e3</title>\n",
       "<ellipse fill=\"none\" stroke=\"black\" cx=\"379.93\" cy=\"-234\" rx=\"379.93\" ry=\"18\"/>\n",
       "<text text-anchor=\"middle\" x=\"379.93\" y=\"-228.95\" font-family=\"Times,serif\" font-size=\"14.00\">poisson_output_vtu_file=&lt;pyiron_base.project.delayed.DelayedObject object at 0x7de8d9d4a090&gt;</text>\n",
       "</g>\n",
       "<!-- meshio_output_xdmf_5f6efd392b1691367349ce93caf0169d&#45;&gt;poisson_output_vtu_file_6970a46dfc05b1a19e5634d8c18059e3 -->\n",
       "<g id=\"edge6\" class=\"edge\">\n",
       "<title>meshio_output_xdmf_5f6efd392b1691367349ce93caf0169d-&gt;poisson_output_vtu_file_6970a46dfc05b1a19e5634d8c18059e3</title>\n",
       "<path fill=\"none\" stroke=\"black\" d=\"M916.98,-289.25C807.29,-278.17 660.63,-263.35 548.29,-252.01\"/>\n",
       "<polygon fill=\"black\" stroke=\"black\" points=\"548.65,-248.52 538.35,-251 547.94,-255.49 548.65,-248.52\"/>\n",
       "</g>\n",
       "<!-- ndofs_af456a32dc17ccd053cef8f83b61802e -->\n",
       "<g id=\"node8\" class=\"node\">\n",
       "<title>ndofs_af456a32dc17ccd053cef8f83b61802e</title>\n",
       "<ellipse fill=\"none\" stroke=\"black\" cx=\"1868.93\" cy=\"-234\" rx=\"310.84\" ry=\"18\"/>\n",
       "<text text-anchor=\"middle\" x=\"1868.93\" y=\"-228.95\" font-family=\"Times,serif\" font-size=\"14.00\">ndofs=&lt;pyiron_base.project.delayed.DelayedObject object at 0x7de8d9d4a600&gt;</text>\n",
       "</g>\n",
       "<!-- meshio_output_xdmf_5f6efd392b1691367349ce93caf0169d&#45;&gt;ndofs_af456a32dc17ccd053cef8f83b61802e -->\n",
       "<g id=\"edge7\" class=\"edge\">\n",
       "<title>meshio_output_xdmf_5f6efd392b1691367349ce93caf0169d-&gt;ndofs_af456a32dc17ccd053cef8f83b61802e</title>\n",
       "<path fill=\"none\" stroke=\"black\" d=\"M1247.13,-289.68C1378.72,-278.11 1558.69,-262.28 1691.16,-250.63\"/>\n",
       "<polygon fill=\"black\" stroke=\"black\" points=\"1691.45,-254.12 1701.11,-249.76 1690.84,-247.15 1691.45,-254.12\"/>\n",
       "</g>\n",
       "<!-- poisson_output_vtu_file_6970a46dfc05b1a19e5634d8c18059e3&#45;&gt;pvbatch_output_file_a227e82a0cabcaa4ff69b537232c3daf -->\n",
       "<g id=\"edge15\" class=\"edge\">\n",
       "<title>poisson_output_vtu_file_6970a46dfc05b1a19e5634d8c18059e3-&gt;pvbatch_output_file_a227e82a0cabcaa4ff69b537232c3daf</title>\n",
       "<path fill=\"none\" stroke=\"black\" d=\"M565.58,-217.85C706.65,-206.34 900.18,-190.56 1043.39,-178.87\"/>\n",
       "<polygon fill=\"black\" stroke=\"black\" points=\"1043.29,-182.39 1052.97,-178.09 1042.72,-175.42 1043.29,-182.39\"/>\n",
       "</g>\n",
       "<!-- poisson_output_vtu_file_6970a46dfc05b1a19e5634d8c18059e3&#45;&gt;plot_file_a227e82a0cabcaa4ff69b537232c3daf -->\n",
       "<g id=\"edge16\" class=\"edge\">\n",
       "<title>poisson_output_vtu_file_6970a46dfc05b1a19e5634d8c18059e3-&gt;plot_file_a227e82a0cabcaa4ff69b537232c3daf</title>\n",
       "<path fill=\"none\" stroke=\"black\" d=\"M418,-215.7C438.36,-206.44 463.65,-194.95 485.41,-185.06\"/>\n",
       "<polygon fill=\"black\" stroke=\"black\" points=\"486.74,-188.3 494.39,-180.97 483.84,-181.93 486.74,-188.3\"/>\n",
       "</g>\n",
       "<!-- ndofs_af456a32dc17ccd053cef8f83b61802e&#45;&gt;macros_tex_f8e7c70add5a6917362eaba96348676f -->\n",
       "<g id=\"edge17\" class=\"edge\">\n",
       "<title>ndofs_af456a32dc17ccd053cef8f83b61802e-&gt;macros_tex_f8e7c70add5a6917362eaba96348676f</title>\n",
       "<path fill=\"none\" stroke=\"black\" d=\"M1825.76,-215.73C1760.81,-189.75 1638.1,-140.67 1567.53,-112.44\"/>\n",
       "<polygon fill=\"black\" stroke=\"black\" points=\"1569.07,-109.29 1558.49,-108.82 1566.47,-115.79 1569.07,-109.29\"/>\n",
       "</g>\n",
       "<!-- gmsh_output_file_b41125ac47f34334493d860607ee71a3 -->\n",
       "<g id=\"node9\" class=\"node\">\n",
       "<title>gmsh_output_file_b41125ac47f34334493d860607ee71a3</title>\n",
       "<ellipse fill=\"none\" stroke=\"black\" cx=\"1820.93\" cy=\"-378\" rx=\"354.34\" ry=\"18\"/>\n",
       "<text text-anchor=\"middle\" x=\"1820.93\" y=\"-372.95\" font-family=\"Times,serif\" font-size=\"14.00\">gmsh_output_file=&lt;pyiron_base.project.delayed.DelayedObject object at 0x7de8d9d49af0&gt;</text>\n",
       "</g>\n",
       "<!-- gmsh_output_file_b41125ac47f34334493d860607ee71a3&#45;&gt;meshio_output_xdmf_5f6efd392b1691367349ce93caf0169d -->\n",
       "<g id=\"edge8\" class=\"edge\">\n",
       "<title>gmsh_output_file_b41125ac47f34334493d860607ee71a3-&gt;meshio_output_xdmf_5f6efd392b1691367349ce93caf0169d</title>\n",
       "<path fill=\"none\" stroke=\"black\" d=\"M1656.78,-361.64C1536.57,-350.39 1373.6,-335.14 1250.38,-323.61\"/>\n",
       "<polygon fill=\"black\" stroke=\"black\" points=\"1250.75,-320.13 1240.47,-322.68 1250.1,-327.1 1250.75,-320.13\"/>\n",
       "</g>\n",
       "<!-- meshio_output_h5_d7fa661d88a4ddaa49c65aba59c05081 -->\n",
       "<g id=\"node10\" class=\"node\">\n",
       "<title>meshio_output_h5_d7fa661d88a4ddaa49c65aba59c05081</title>\n",
       "<ellipse fill=\"none\" stroke=\"black\" cx=\"1820.93\" cy=\"-306\" rx=\"359.46\" ry=\"18\"/>\n",
       "<text text-anchor=\"middle\" x=\"1820.93\" y=\"-300.95\" font-family=\"Times,serif\" font-size=\"14.00\">meshio_output_h5=&lt;pyiron_base.project.delayed.DelayedObject object at 0x7de8d9d49a30&gt;</text>\n",
       "</g>\n",
       "<!-- gmsh_output_file_b41125ac47f34334493d860607ee71a3&#45;&gt;meshio_output_h5_d7fa661d88a4ddaa49c65aba59c05081 -->\n",
       "<g id=\"edge9\" class=\"edge\">\n",
       "<title>gmsh_output_file_b41125ac47f34334493d860607ee71a3-&gt;meshio_output_h5_d7fa661d88a4ddaa49c65aba59c05081</title>\n",
       "<path fill=\"none\" stroke=\"black\" d=\"M1820.93,-359.7C1820.93,-352.41 1820.93,-343.73 1820.93,-335.54\"/>\n",
       "<polygon fill=\"black\" stroke=\"black\" points=\"1824.43,-335.62 1820.93,-325.62 1817.43,-335.62 1824.43,-335.62\"/>\n",
       "</g>\n",
       "<!-- meshio_output_h5_d7fa661d88a4ddaa49c65aba59c05081&#45;&gt;poisson_output_pvd_file_3d7237a32c9c37d58bcde272202eb973 -->\n",
       "<g id=\"edge12\" class=\"edge\">\n",
       "<title>meshio_output_h5_d7fa661d88a4ddaa49c65aba59c05081-&gt;poisson_output_pvd_file_3d7237a32c9c37d58bcde272202eb973</title>\n",
       "<path fill=\"none\" stroke=\"black\" d=\"M1671.54,-289.2C1567.31,-278.18 1428.28,-263.48 1321.3,-252.17\"/>\n",
       "<polygon fill=\"black\" stroke=\"black\" points=\"1321.89,-248.71 1311.58,-251.14 1321.15,-255.67 1321.89,-248.71\"/>\n",
       "</g>\n",
       "<!-- meshio_output_h5_d7fa661d88a4ddaa49c65aba59c05081&#45;&gt;poisson_output_vtu_file_6970a46dfc05b1a19e5634d8c18059e3 -->\n",
       "<g id=\"edge13\" class=\"edge\">\n",
       "<title>meshio_output_h5_d7fa661d88a4ddaa49c65aba59c05081-&gt;poisson_output_vtu_file_6970a46dfc05b1a19e5634d8c18059e3</title>\n",
       "<path fill=\"none\" stroke=\"black\" d=\"M1569.52,-292.79C1312.19,-280.29 913.65,-260.93 649.81,-248.11\"/>\n",
       "<polygon fill=\"black\" stroke=\"black\" points=\"650.2,-244.62 640.04,-247.64 649.86,-251.62 650.2,-244.62\"/>\n",
       "</g>\n",
       "<!-- meshio_output_h5_d7fa661d88a4ddaa49c65aba59c05081&#45;&gt;ndofs_af456a32dc17ccd053cef8f83b61802e -->\n",
       "<g id=\"edge14\" class=\"edge\">\n",
       "<title>meshio_output_h5_d7fa661d88a4ddaa49c65aba59c05081-&gt;ndofs_af456a32dc17ccd053cef8f83b61802e</title>\n",
       "<path fill=\"none\" stroke=\"black\" d=\"M1832.8,-287.7C1838.2,-279.81 1844.72,-270.3 1850.73,-261.55\"/>\n",
       "<polygon fill=\"black\" stroke=\"black\" points=\"1853.58,-263.58 1856.35,-253.35 1847.81,-259.62 1853.58,-263.58\"/>\n",
       "</g>\n",
       "<!-- domain_size_f12a7f1986b9dd058dfc666dbe230b20 -->\n",
       "<g id=\"node11\" class=\"node\">\n",
       "<title>domain_size_f12a7f1986b9dd058dfc666dbe230b20</title>\n",
       "<ellipse fill=\"none\" stroke=\"black\" cx=\"2013.93\" cy=\"-450\" rx=\"75.41\" ry=\"18\"/>\n",
       "<text text-anchor=\"middle\" x=\"2013.93\" y=\"-444.95\" font-family=\"Times,serif\" font-size=\"14.00\">domain_size=2.0</text>\n",
       "</g>\n",
       "<!-- domain_size_f12a7f1986b9dd058dfc666dbe230b20&#45;&gt;macros_tex_f8e7c70add5a6917362eaba96348676f -->\n",
       "<g id=\"edge10\" class=\"edge\">\n",
       "<title>domain_size_f12a7f1986b9dd058dfc666dbe230b20-&gt;macros_tex_f8e7c70add5a6917362eaba96348676f</title>\n",
       "<path fill=\"none\" stroke=\"black\" d=\"M2083.84,-442.9C2118.28,-436.38 2157.89,-423.07 2183.93,-396 2212.33,-366.47 2207.93,-347.97 2207.93,-307 2207.93,-307 2207.93,-307 2207.93,-233 2207.93,-148.03 2005.75,-113.42 1819.63,-99.56\"/>\n",
       "<polygon fill=\"black\" stroke=\"black\" points=\"1819.99,-96.07 1809.76,-98.84 1819.48,-103.05 1819.99,-96.07\"/>\n",
       "</g>\n",
       "<!-- domain_size_f12a7f1986b9dd058dfc666dbe230b20&#45;&gt;gmsh_output_file_b41125ac47f34334493d860607ee71a3 -->\n",
       "<g id=\"edge11\" class=\"edge\">\n",
       "<title>domain_size_f12a7f1986b9dd058dfc666dbe230b20-&gt;gmsh_output_file_b41125ac47f34334493d860607ee71a3</title>\n",
       "<path fill=\"none\" stroke=\"black\" d=\"M1973.94,-434.5C1946.58,-424.57 1909.87,-411.26 1879.26,-400.16\"/>\n",
       "<polygon fill=\"black\" stroke=\"black\" points=\"1880.73,-396.97 1870.14,-396.85 1878.35,-403.55 1880.73,-396.97\"/>\n",
       "</g>\n",
       "</g>\n",
       "</svg>"
      ],
      "text/plain": [
       "<IPython.core.display.SVG object>"
      ]
     },
     "metadata": {},
     "output_type": "display_data"
    }
   ],
   "source": [
    "delayed_object = load_workflow_json(project=pr, file_name=workflow_json_filename)\n",
    "delayed_object.draw()"
   ]
  },
  {
   "cell_type": "code",
   "execution_count": 20,
   "id": "1c2760b6-96b4-4f44-ac49-a229d4a0cf67",
   "metadata": {},
   "outputs": [
    {
     "name": "stdout",
     "output_type": "stream",
     "text": [
      "The job generate_mesh_0b48cf5155cd6802c17d20bb58104132 was saved and received the ID: 2005\n",
      "The job convert_to_xdmf_9ded0361e4866afe4962398287e4f6ae was saved and received the ID: 2006\n",
      "The job poisson_2d98621ac2c8e43a266693cf65647173 was saved and received the ID: 2007\n",
      "The job plot_over_line_004790462b53a54f512cc7e1a2a10519 was saved and received the ID: 2008\n",
      "The job substitute_macros_52130ff9ec1931ec82532a7119df653f was saved and received the ID: 2009\n",
      "The job compile_paper_b65627cdc212fc76a216689a26379fae was saved and received the ID: 2010\n"
     ]
    },
    {
     "data": {
      "text/plain": [
       "'/home/janssen/notebooks/2025/2025-04-02-nfdi-pwd/postprocessing/paper.pdf'"
      ]
     },
     "execution_count": 20,
     "metadata": {},
     "output_type": "execute_result"
    }
   ],
   "source": [
    "delayed_object.pull()"
   ]
  },
  {
   "cell_type": "code",
   "execution_count": 21,
   "id": "b3bba27e-ece9-4c02-834c-53e69844b140",
   "metadata": {},
   "outputs": [
    {
     "data": {
      "text/html": [
       "<div>\n",
       "<style scoped>\n",
       "    .dataframe tbody tr th:only-of-type {\n",
       "        vertical-align: middle;\n",
       "    }\n",
       "\n",
       "    .dataframe tbody tr th {\n",
       "        vertical-align: top;\n",
       "    }\n",
       "\n",
       "    .dataframe thead th {\n",
       "        text-align: right;\n",
       "    }\n",
       "</style>\n",
       "<table border=\"1\" class=\"dataframe\">\n",
       "  <thead>\n",
       "    <tr style=\"text-align: right;\">\n",
       "      <th></th>\n",
       "      <th>id</th>\n",
       "      <th>status</th>\n",
       "      <th>chemicalformula</th>\n",
       "      <th>job</th>\n",
       "      <th>subjob</th>\n",
       "      <th>projectpath</th>\n",
       "      <th>project</th>\n",
       "      <th>timestart</th>\n",
       "      <th>timestop</th>\n",
       "      <th>totalcputime</th>\n",
       "      <th>computer</th>\n",
       "      <th>hamilton</th>\n",
       "      <th>hamversion</th>\n",
       "      <th>parentid</th>\n",
       "      <th>masterid</th>\n",
       "    </tr>\n",
       "  </thead>\n",
       "  <tbody>\n",
       "    <tr>\n",
       "      <th>0</th>\n",
       "      <td>2005</td>\n",
       "      <td>finished</td>\n",
       "      <td>None</td>\n",
       "      <td>generate_mesh_0b48cf5155cd6802c17d20bb58104132</td>\n",
       "      <td>/generate_mesh_0b48cf5155cd6802c17d20bb58104132</td>\n",
       "      <td>None</td>\n",
       "      <td>/home/janssen/notebooks/2025/2025-04-02-nfdi-pwd/test/</td>\n",
       "      <td>2025-04-02 15:02:38.490191</td>\n",
       "      <td>None</td>\n",
       "      <td>None</td>\n",
       "      <td>pyiron@cmpc06#1</td>\n",
       "      <td>PythonFunctionContainerJob</td>\n",
       "      <td>0.4</td>\n",
       "      <td>None</td>\n",
       "      <td>None</td>\n",
       "    </tr>\n",
       "    <tr>\n",
       "      <th>1</th>\n",
       "      <td>2006</td>\n",
       "      <td>finished</td>\n",
       "      <td>None</td>\n",
       "      <td>convert_to_xdmf_9ded0361e4866afe4962398287e4f6ae</td>\n",
       "      <td>/convert_to_xdmf_9ded0361e4866afe4962398287e4f6ae</td>\n",
       "      <td>None</td>\n",
       "      <td>/home/janssen/notebooks/2025/2025-04-02-nfdi-pwd/test/</td>\n",
       "      <td>2025-04-02 15:02:45.247485</td>\n",
       "      <td>None</td>\n",
       "      <td>None</td>\n",
       "      <td>pyiron@cmpc06#1</td>\n",
       "      <td>PythonFunctionContainerJob</td>\n",
       "      <td>0.4</td>\n",
       "      <td>None</td>\n",
       "      <td>None</td>\n",
       "    </tr>\n",
       "    <tr>\n",
       "      <th>2</th>\n",
       "      <td>2007</td>\n",
       "      <td>finished</td>\n",
       "      <td>None</td>\n",
       "      <td>poisson_2d98621ac2c8e43a266693cf65647173</td>\n",
       "      <td>/poisson_2d98621ac2c8e43a266693cf65647173</td>\n",
       "      <td>None</td>\n",
       "      <td>/home/janssen/notebooks/2025/2025-04-02-nfdi-pwd/test/</td>\n",
       "      <td>2025-04-02 15:02:52.878817</td>\n",
       "      <td>None</td>\n",
       "      <td>None</td>\n",
       "      <td>pyiron@cmpc06#1</td>\n",
       "      <td>PythonFunctionContainerJob</td>\n",
       "      <td>0.4</td>\n",
       "      <td>None</td>\n",
       "      <td>None</td>\n",
       "    </tr>\n",
       "    <tr>\n",
       "      <th>3</th>\n",
       "      <td>2008</td>\n",
       "      <td>finished</td>\n",
       "      <td>None</td>\n",
       "      <td>plot_over_line_004790462b53a54f512cc7e1a2a10519</td>\n",
       "      <td>/plot_over_line_004790462b53a54f512cc7e1a2a10519</td>\n",
       "      <td>None</td>\n",
       "      <td>/home/janssen/notebooks/2025/2025-04-02-nfdi-pwd/test/</td>\n",
       "      <td>2025-04-02 15:03:02.977300</td>\n",
       "      <td>None</td>\n",
       "      <td>None</td>\n",
       "      <td>pyiron@cmpc06#1</td>\n",
       "      <td>PythonFunctionContainerJob</td>\n",
       "      <td>0.4</td>\n",
       "      <td>None</td>\n",
       "      <td>None</td>\n",
       "    </tr>\n",
       "    <tr>\n",
       "      <th>4</th>\n",
       "      <td>2009</td>\n",
       "      <td>finished</td>\n",
       "      <td>None</td>\n",
       "      <td>substitute_macros_52130ff9ec1931ec82532a7119df653f</td>\n",
       "      <td>/substitute_macros_52130ff9ec1931ec82532a7119df653f</td>\n",
       "      <td>None</td>\n",
       "      <td>/home/janssen/notebooks/2025/2025-04-02-nfdi-pwd/test/</td>\n",
       "      <td>2025-04-02 15:03:10.674995</td>\n",
       "      <td>None</td>\n",
       "      <td>None</td>\n",
       "      <td>pyiron@cmpc06#1</td>\n",
       "      <td>PythonFunctionContainerJob</td>\n",
       "      <td>0.4</td>\n",
       "      <td>None</td>\n",
       "      <td>None</td>\n",
       "    </tr>\n",
       "    <tr>\n",
       "      <th>5</th>\n",
       "      <td>2010</td>\n",
       "      <td>finished</td>\n",
       "      <td>None</td>\n",
       "      <td>compile_paper_b65627cdc212fc76a216689a26379fae</td>\n",
       "      <td>/compile_paper_b65627cdc212fc76a216689a26379fae</td>\n",
       "      <td>None</td>\n",
       "      <td>/home/janssen/notebooks/2025/2025-04-02-nfdi-pwd/test/</td>\n",
       "      <td>2025-04-02 15:03:16.820860</td>\n",
       "      <td>None</td>\n",
       "      <td>None</td>\n",
       "      <td>pyiron@cmpc06#1</td>\n",
       "      <td>PythonFunctionContainerJob</td>\n",
       "      <td>0.4</td>\n",
       "      <td>None</td>\n",
       "      <td>None</td>\n",
       "    </tr>\n",
       "  </tbody>\n",
       "</table>\n",
       "</div>"
      ],
      "text/plain": [
       "     id    status chemicalformula  \\\n",
       "0  2005  finished            None   \n",
       "1  2006  finished            None   \n",
       "2  2007  finished            None   \n",
       "3  2008  finished            None   \n",
       "4  2009  finished            None   \n",
       "5  2010  finished            None   \n",
       "\n",
       "                                                  job  \\\n",
       "0      generate_mesh_0b48cf5155cd6802c17d20bb58104132   \n",
       "1    convert_to_xdmf_9ded0361e4866afe4962398287e4f6ae   \n",
       "2            poisson_2d98621ac2c8e43a266693cf65647173   \n",
       "3     plot_over_line_004790462b53a54f512cc7e1a2a10519   \n",
       "4  substitute_macros_52130ff9ec1931ec82532a7119df653f   \n",
       "5      compile_paper_b65627cdc212fc76a216689a26379fae   \n",
       "\n",
       "                                                subjob projectpath  \\\n",
       "0      /generate_mesh_0b48cf5155cd6802c17d20bb58104132        None   \n",
       "1    /convert_to_xdmf_9ded0361e4866afe4962398287e4f6ae        None   \n",
       "2            /poisson_2d98621ac2c8e43a266693cf65647173        None   \n",
       "3     /plot_over_line_004790462b53a54f512cc7e1a2a10519        None   \n",
       "4  /substitute_macros_52130ff9ec1931ec82532a7119df653f        None   \n",
       "5      /compile_paper_b65627cdc212fc76a216689a26379fae        None   \n",
       "\n",
       "                                                  project  \\\n",
       "0  /home/janssen/notebooks/2025/2025-04-02-nfdi-pwd/test/   \n",
       "1  /home/janssen/notebooks/2025/2025-04-02-nfdi-pwd/test/   \n",
       "2  /home/janssen/notebooks/2025/2025-04-02-nfdi-pwd/test/   \n",
       "3  /home/janssen/notebooks/2025/2025-04-02-nfdi-pwd/test/   \n",
       "4  /home/janssen/notebooks/2025/2025-04-02-nfdi-pwd/test/   \n",
       "5  /home/janssen/notebooks/2025/2025-04-02-nfdi-pwd/test/   \n",
       "\n",
       "                   timestart timestop totalcputime         computer  \\\n",
       "0 2025-04-02 15:02:38.490191     None         None  pyiron@cmpc06#1   \n",
       "1 2025-04-02 15:02:45.247485     None         None  pyiron@cmpc06#1   \n",
       "2 2025-04-02 15:02:52.878817     None         None  pyiron@cmpc06#1   \n",
       "3 2025-04-02 15:03:02.977300     None         None  pyiron@cmpc06#1   \n",
       "4 2025-04-02 15:03:10.674995     None         None  pyiron@cmpc06#1   \n",
       "5 2025-04-02 15:03:16.820860     None         None  pyiron@cmpc06#1   \n",
       "\n",
       "                     hamilton hamversion parentid masterid  \n",
       "0  PythonFunctionContainerJob        0.4     None     None  \n",
       "1  PythonFunctionContainerJob        0.4     None     None  \n",
       "2  PythonFunctionContainerJob        0.4     None     None  \n",
       "3  PythonFunctionContainerJob        0.4     None     None  \n",
       "4  PythonFunctionContainerJob        0.4     None     None  \n",
       "5  PythonFunctionContainerJob        0.4     None     None  "
      ]
     },
     "execution_count": 21,
     "metadata": {},
     "output_type": "execute_result"
    }
   ],
   "source": [
    "pr.job_table()"
   ]
  }
 ],
 "metadata": {
  "kernelspec": {
   "display_name": "Python 3 (ipykernel)",
   "language": "python",
   "name": "python3"
  },
  "language_info": {
   "codemirror_mode": {
    "name": "ipython",
    "version": 3
   },
   "file_extension": ".py",
   "mimetype": "text/x-python",
   "name": "python",
   "nbconvert_exporter": "python",
   "pygments_lexer": "ipython3",
   "version": "3.12.5"
  }
 },
 "nbformat": 4,
 "nbformat_minor": 5
}
