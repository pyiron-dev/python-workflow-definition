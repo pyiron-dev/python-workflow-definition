{
 "cells": [
  {
   "cell_type": "markdown",
   "id": "106ded66-d202-46ac-82b0-2755ca309bdd",
   "metadata": {},
   "source": [
    "https://github.com/BAMresearch/NFDI4IngScientificWorkflowRequirements"
   ]
  },
  {
   "cell_type": "code",
   "execution_count": 1,
   "id": "6d86e804-245a-4d96-a1a3-1bc3216c3646",
   "metadata": {},
   "outputs": [
    {
     "name": "stdout",
     "output_type": "stream",
     "text": [
      "\n",
      "# conda environments:\n",
      "#\n",
      "base                 * /home/janssen/mambaforge\n",
      "postprocessing         /home/janssen/mambaforge/envs/postprocessing\n",
      "preprocessing          /home/janssen/mambaforge/envs/preprocessing\n",
      "processing             /home/janssen/mambaforge/envs/processing\n",
      "\n"
     ]
    }
   ],
   "source": [
    "!conda env list"
   ]
  },
  {
   "cell_type": "markdown",
   "id": "11e09b78-cb72-465f-9c8b-5b77f0aa729c",
   "metadata": {},
   "source": [
    "# Preprocessing "
   ]
  },
  {
   "cell_type": "code",
   "execution_count": 2,
   "id": "a76e6c0a-98f2-4436-af10-8097da183341",
   "metadata": {},
   "outputs": [],
   "source": [
    "from nfdi_ing_workflow import (\n",
    "    generate_mesh as _generate_mesh, \n",
    "    convert_to_xdmf as _convert_to_xdmf,\n",
    "    poisson as _poisson,\n",
    "    plot_over_line as _plot_over_line,\n",
    "    substitute_macros as _substitute_macros,\n",
    "    compile_paper as _compile_paper,\n",
    ")"
   ]
  },
  {
   "cell_type": "code",
   "execution_count": 3,
   "id": "89c02460-b543-442c-a27e-f1757dc2262e",
   "metadata": {},
   "outputs": [],
   "source": [
    "from jobflow import job, Flow"
   ]
  },
  {
   "cell_type": "code",
   "execution_count": 4,
   "id": "549ecf27-88ef-4e77-8bd4-b616cfdda2e4",
   "metadata": {},
   "outputs": [],
   "source": [
    "generate_mesh = job(_generate_mesh)\n",
    "convert_to_xdmf = job(_convert_to_xdmf, data=[\"xdmf_file\", \"h5_file\"])\n",
    "poisson = job(_poisson, data=[\"numdofs\", \"pvd_file\", \"vtu_file\"])\n",
    "plot_over_line = job(_plot_over_line)\n",
    "substitute_macros = job(_substitute_macros)\n",
    "compile_paper = job(_compile_paper)"
   ]
  },
  {
   "cell_type": "code",
   "execution_count": 5,
   "id": "8d911f98-3b80-457f-a0f4-3cb37ebf1691",
   "metadata": {},
   "outputs": [],
   "source": [
    "domain_size = 2.0"
   ]
  },
  {
   "cell_type": "markdown",
   "id": "cf1e22d2-9ce5-488f-8048-308d7d5d4966",
   "metadata": {},
   "source": [
    "## generate mesh"
   ]
  },
  {
   "cell_type": "code",
   "execution_count": 6,
   "id": "71d411b6-cbec-489e-99e3-ba71680bcb5b",
   "metadata": {
    "tags": []
   },
   "outputs": [],
   "source": [
    "gmsh_output_file = generate_mesh(\n",
    "    domain_size=domain_size,\n",
    ")"
   ]
  },
  {
   "cell_type": "markdown",
   "id": "019938e7-8b41-47a9-b226-00e05dabc193",
   "metadata": {},
   "source": [
    "## convert to xdmf"
   ]
  },
  {
   "cell_type": "code",
   "execution_count": 7,
   "id": "1d0d9804-f250-48b3-a5d0-a546d520f79b",
   "metadata": {
    "tags": []
   },
   "outputs": [],
   "source": [
    "meshio_output_dict = convert_to_xdmf(\n",
    "    gmsh_output_file=gmsh_output_file.output,\n",
    ")"
   ]
  },
  {
   "cell_type": "markdown",
   "id": "ceb0b643-caaa-426c-9781-28703440e647",
   "metadata": {},
   "source": [
    "# Processing"
   ]
  },
  {
   "cell_type": "markdown",
   "id": "11815a8b-319c-4ff3-8eae-330bf6e58eee",
   "metadata": {},
   "source": [
    "## poisson"
   ]
  },
  {
   "cell_type": "code",
   "execution_count": 8,
   "id": "7b69bcff-e2b1-4d4a-b62c-6a1c86eeb590",
   "metadata": {
    "tags": []
   },
   "outputs": [],
   "source": [
    "poisson_dict = poisson(\n",
    "    meshio_output_xdmf=meshio_output_dict.output.xdmf_file, \n",
    "    meshio_output_h5=meshio_output_dict.output.h5_file,\n",
    ")"
   ]
  },
  {
   "cell_type": "markdown",
   "id": "bc8a8634-029e-4337-96a2-a1f284cb4c38",
   "metadata": {},
   "source": [
    "# Postprocessing"
   ]
  },
  {
   "cell_type": "markdown",
   "id": "157c5386-91a3-4e21-ac65-8f947f2d62fa",
   "metadata": {},
   "source": [
    "## plot over line"
   ]
  },
  {
   "cell_type": "code",
   "execution_count": 9,
   "id": "3c4a29b0-eb1e-490a-8be0-e03cfff15e0a",
   "metadata": {
    "tags": []
   },
   "outputs": [],
   "source": [
    "pvbatch_output_file = plot_over_line(\n",
    "    poisson_output_pvd_file=poisson_dict.output.pvd_file, \n",
    "    poisson_output_vtu_file=poisson_dict.output.vtu_file,\n",
    ")"
   ]
  },
  {
   "cell_type": "markdown",
   "id": "54f1d4bd-b944-470f-9cf8-30e64a24eb6d",
   "metadata": {},
   "source": [
    "## substitute macros"
   ]
  },
  {
   "cell_type": "code",
   "execution_count": 10,
   "id": "a0a4c233-322d-4723-9627-62ca2487bfa9",
   "metadata": {
    "tags": []
   },
   "outputs": [],
   "source": [
    "macros_tex_file = substitute_macros( \n",
    "    pvbatch_output_file=pvbatch_output_file.output, \n",
    "    ndofs=poisson_dict.output.numdofs, \n",
    "    domain_size=domain_size,\n",
    ")"
   ]
  },
  {
   "cell_type": "markdown",
   "id": "2031b693-acf3-48bd-bb00-e33f669381e9",
   "metadata": {},
   "source": [
    "## compile paper"
   ]
  },
  {
   "cell_type": "code",
   "execution_count": 11,
   "id": "c281408f-e63d-4380-a7e6-c595d49fbb8f",
   "metadata": {},
   "outputs": [],
   "source": [
    "paper_output = compile_paper(\n",
    "    macros_tex=macros_tex_file.output, \n",
    "    plot_file=pvbatch_output_file.output,\n",
    ")"
   ]
  },
  {
   "cell_type": "code",
   "execution_count": 12,
   "id": "a384d70a-8ef5-4fdd-880c-56ac7eaf87b9",
   "metadata": {},
   "outputs": [],
   "source": [
    "flow = Flow([gmsh_output_file, meshio_output_dict, poisson_dict, pvbatch_output_file, macros_tex_file, paper_output])"
   ]
  },
  {
   "cell_type": "markdown",
   "id": "5c1b0200-bba3-484d-ac49-f582898e974f",
   "metadata": {},
   "source": [
    "# Convert "
   ]
  },
  {
   "cell_type": "code",
   "execution_count": 13,
   "id": "196faf18-c46b-4f42-a652-698d2c580221",
   "metadata": {},
   "outputs": [],
   "source": [
    "from python_workflow_definition.jobflow import write_workflow_json"
   ]
  },
  {
   "cell_type": "code",
   "execution_count": 14,
   "id": "fb23ad9c-76fd-4c0b-b546-e305d6c49796",
   "metadata": {},
   "outputs": [],
   "source": [
    "workflow_json_filename = \"jobflow_nfdi.json\""
   ]
  },
  {
   "cell_type": "code",
   "execution_count": 15,
   "id": "4139547a-9717-4708-b1a5-8202a0382d77",
   "metadata": {},
   "outputs": [],
   "source": [
    "write_workflow_json(flow=flow, file_name=workflow_json_filename)"
   ]
  },
  {
   "cell_type": "markdown",
   "id": "397b16a2-e1ec-4eec-8562-1c84f585c347",
   "metadata": {},
   "source": [
    "# Load Workflow with pyiron_base"
   ]
  },
  {
   "cell_type": "code",
   "execution_count": 16,
   "id": "fdde6b82-b51d-434a-a9a8-5a8c31bbb429",
   "metadata": {},
   "outputs": [],
   "source": [
    "from pyiron_base import Project"
   ]
  },
  {
   "cell_type": "code",
   "execution_count": 17,
   "id": "be4d5d93-e9f6-4072-a6be-0ee5dc93590f",
   "metadata": {},
   "outputs": [],
   "source": [
    "from python_workflow_definition.pyiron_base import load_workflow_json"
   ]
  },
  {
   "cell_type": "code",
   "execution_count": 18,
   "id": "4db75587-5f4c-416d-a1f6-c949077fa2ca",
   "metadata": {},
   "outputs": [
    {
     "data": {
      "application/vnd.jupyter.widget-view+json": {
       "model_id": "1f42ddabf265471cbb57f5ad5064bd4e",
       "version_major": 2,
       "version_minor": 0
      },
      "text/plain": [
       "0it [00:00, ?it/s]"
      ]
     },
     "metadata": {},
     "output_type": "display_data"
    }
   ],
   "source": [
    "pr = Project(\"test\")\n",
    "pr.remove_jobs(recursive=True, silently=True)"
   ]
  },
  {
   "cell_type": "code",
   "execution_count": 19,
   "id": "4452a648-d4c3-4f5f-8678-ffb54bef17dc",
   "metadata": {},
   "outputs": [
    {
     "data": {
      "image/svg+xml": [
       "<svg xmlns=\"http://www.w3.org/2000/svg\" xmlns:xlink=\"http://www.w3.org/1999/xlink\" width=\"2194pt\" height=\"476pt\" viewBox=\"0.00 0.00 2193.61 476.00\">\n",
       "<g id=\"graph0\" class=\"graph\" transform=\"scale(1 1) rotate(0) translate(4 472)\">\n",
       "<polygon fill=\"white\" stroke=\"none\" points=\"-4,4 -4,-472 2189.61,-472 2189.61,4 -4,4\"/>\n",
       "<!-- create_function_job_19ee2cba4a6ec0c97eab519834ce2c6b -->\n",
       "<g id=\"node1\" class=\"node\">\n",
       "<title>create_function_job_19ee2cba4a6ec0c97eab519834ce2c6b</title>\n",
       "<ellipse fill=\"none\" stroke=\"black\" cx=\"1151.33\" cy=\"-18\" rx=\"359.97\" ry=\"18\"/>\n",
       "<text text-anchor=\"middle\" x=\"1151.33\" y=\"-12.95\" font-family=\"Times,serif\" font-size=\"14.00\">create_function_job=&lt;pyiron_base.project.delayed.DelayedObject object at 0x73aea8ff65a0&gt;</text>\n",
       "</g>\n",
       "<!-- macros_tex_f8e7c70add5a6917362eaba96348676f -->\n",
       "<g id=\"node2\" class=\"node\">\n",
       "<title>macros_tex_f8e7c70add5a6917362eaba96348676f</title>\n",
       "<ellipse fill=\"none\" stroke=\"black\" cx=\"1497.33\" cy=\"-90\" rx=\"329.78\" ry=\"18\"/>\n",
       "<text text-anchor=\"middle\" x=\"1497.33\" y=\"-84.95\" font-family=\"Times,serif\" font-size=\"14.00\">macros_tex=&lt;pyiron_base.project.delayed.DelayedObject object at 0x73aea8ff6300&gt;</text>\n",
       "</g>\n",
       "<!-- macros_tex_f8e7c70add5a6917362eaba96348676f&#45;&gt;create_function_job_19ee2cba4a6ec0c97eab519834ce2c6b -->\n",
       "<g id=\"edge1\" class=\"edge\">\n",
       "<title>macros_tex_f8e7c70add5a6917362eaba96348676f-&gt;create_function_job_19ee2cba4a6ec0c97eab519834ce2c6b</title>\n",
       "<path fill=\"none\" stroke=\"black\" d=\"M1414.01,-72.14C1363.42,-61.91 1298.68,-48.81 1246.14,-38.18\"/>\n",
       "<polygon fill=\"black\" stroke=\"black\" points=\"1247.1,-34.8 1236.6,-36.25 1245.71,-41.67 1247.1,-34.8\"/>\n",
       "</g>\n",
       "<!-- pvbatch_output_file_a227e82a0cabcaa4ff69b537232c3daf -->\n",
       "<g id=\"node3\" class=\"node\">\n",
       "<title>pvbatch_output_file_a227e82a0cabcaa4ff69b537232c3daf</title>\n",
       "<ellipse fill=\"none\" stroke=\"black\" cx=\"1225.33\" cy=\"-162\" rx=\"358.95\" ry=\"18\"/>\n",
       "<text text-anchor=\"middle\" x=\"1225.33\" y=\"-156.95\" font-family=\"Times,serif\" font-size=\"14.00\">pvbatch_output_file=&lt;pyiron_base.project.delayed.DelayedObject object at 0x73aea8ff5fa0&gt;</text>\n",
       "</g>\n",
       "<!-- pvbatch_output_file_a227e82a0cabcaa4ff69b537232c3daf&#45;&gt;macros_tex_f8e7c70add5a6917362eaba96348676f -->\n",
       "<g id=\"edge2\" class=\"edge\">\n",
       "<title>pvbatch_output_file_a227e82a0cabcaa4ff69b537232c3daf-&gt;macros_tex_f8e7c70add5a6917362eaba96348676f</title>\n",
       "<path fill=\"none\" stroke=\"black\" d=\"M1291.86,-143.88C1330.62,-133.9 1379.66,-121.28 1420.11,-110.87\"/>\n",
       "<polygon fill=\"black\" stroke=\"black\" points=\"1420.73,-114.33 1429.54,-108.45 1418.98,-107.55 1420.73,-114.33\"/>\n",
       "</g>\n",
       "<!-- poisson_output_pvd_file_3d7237a32c9c37d58bcde272202eb973 -->\n",
       "<g id=\"node4\" class=\"node\">\n",
       "<title>poisson_output_pvd_file_3d7237a32c9c37d58bcde272202eb973</title>\n",
       "<ellipse fill=\"none\" stroke=\"black\" cx=\"1146.33\" cy=\"-234\" rx=\"377.88\" ry=\"18\"/>\n",
       "<text text-anchor=\"middle\" x=\"1146.33\" y=\"-228.95\" font-family=\"Times,serif\" font-size=\"14.00\">poisson_output_pvd_file=&lt;pyiron_base.project.delayed.DelayedObject object at 0x73aea8ff5c10&gt;</text>\n",
       "</g>\n",
       "<!-- poisson_output_pvd_file_3d7237a32c9c37d58bcde272202eb973&#45;&gt;pvbatch_output_file_a227e82a0cabcaa4ff69b537232c3daf -->\n",
       "<g id=\"edge3\" class=\"edge\">\n",
       "<title>poisson_output_pvd_file_3d7237a32c9c37d58bcde272202eb973-&gt;pvbatch_output_file_a227e82a0cabcaa4ff69b537232c3daf</title>\n",
       "<path fill=\"none\" stroke=\"black\" d=\"M1165.85,-215.7C1175.35,-207.28 1186.93,-197.02 1197.35,-187.79\"/>\n",
       "<polygon fill=\"black\" stroke=\"black\" points=\"1199.45,-190.6 1204.62,-181.35 1194.81,-185.36 1199.45,-190.6\"/>\n",
       "</g>\n",
       "<!-- plot_file_a227e82a0cabcaa4ff69b537232c3daf -->\n",
       "<g id=\"node5\" class=\"node\">\n",
       "<title>plot_file_a227e82a0cabcaa4ff69b537232c3daf</title>\n",
       "<ellipse fill=\"none\" stroke=\"black\" cx=\"532.33\" cy=\"-162\" rx=\"315.96\" ry=\"18\"/>\n",
       "<text text-anchor=\"middle\" x=\"532.33\" y=\"-156.95\" font-family=\"Times,serif\" font-size=\"14.00\">plot_file=&lt;pyiron_base.project.delayed.DelayedObject object at 0x73aea8ff5fa0&gt;</text>\n",
       "</g>\n",
       "<!-- poisson_output_pvd_file_3d7237a32c9c37d58bcde272202eb973&#45;&gt;plot_file_a227e82a0cabcaa4ff69b537232c3daf -->\n",
       "<g id=\"edge4\" class=\"edge\">\n",
       "<title>poisson_output_pvd_file_3d7237a32c9c37d58bcde272202eb973-&gt;plot_file_a227e82a0cabcaa4ff69b537232c3daf</title>\n",
       "<path fill=\"none\" stroke=\"black\" d=\"M1004.69,-216.85C907.67,-205.79 779.25,-191.15 680.8,-179.93\"/>\n",
       "<polygon fill=\"black\" stroke=\"black\" points=\"681.39,-176.47 671.06,-178.82 680.59,-183.43 681.39,-176.47\"/>\n",
       "</g>\n",
       "<!-- plot_file_a227e82a0cabcaa4ff69b537232c3daf&#45;&gt;create_function_job_19ee2cba4a6ec0c97eab519834ce2c6b -->\n",
       "<g id=\"edge18\" class=\"edge\">\n",
       "<title>plot_file_a227e82a0cabcaa4ff69b537232c3daf-&gt;create_function_job_19ee2cba4a6ec0c97eab519834ce2c6b</title>\n",
       "<path fill=\"none\" stroke=\"black\" d=\"M606.07,-144.08C721.4,-117.63 943.87,-66.59 1065.97,-38.58\"/>\n",
       "<polygon fill=\"black\" stroke=\"black\" points=\"1066.67,-42.01 1075.63,-36.36 1065.1,-35.19 1066.67,-42.01\"/>\n",
       "</g>\n",
       "<!-- meshio_output_xdmf_5f6efd392b1691367349ce93caf0169d -->\n",
       "<g id=\"node6\" class=\"node\">\n",
       "<title>meshio_output_xdmf_5f6efd392b1691367349ce93caf0169d</title>\n",
       "<ellipse fill=\"none\" stroke=\"black\" cx=\"1059.33\" cy=\"-306\" rx=\"367.14\" ry=\"18\"/>\n",
       "<text text-anchor=\"middle\" x=\"1059.33\" y=\"-300.95\" font-family=\"Times,serif\" font-size=\"14.00\">meshio_output_xdmf=&lt;pyiron_base.project.delayed.DelayedObject object at 0x73aeac6f6c90&gt;</text>\n",
       "</g>\n",
       "<!-- meshio_output_xdmf_5f6efd392b1691367349ce93caf0169d&#45;&gt;poisson_output_pvd_file_3d7237a32c9c37d58bcde272202eb973 -->\n",
       "<g id=\"edge5\" class=\"edge\">\n",
       "<title>meshio_output_xdmf_5f6efd392b1691367349ce93caf0169d-&gt;poisson_output_pvd_file_3d7237a32c9c37d58bcde272202eb973</title>\n",
       "<path fill=\"none\" stroke=\"black\" d=\"M1080.83,-287.7C1091.39,-279.2 1104.3,-268.81 1115.86,-259.51\"/>\n",
       "<polygon fill=\"black\" stroke=\"black\" points=\"1117.99,-262.29 1123.59,-253.3 1113.6,-256.84 1117.99,-262.29\"/>\n",
       "</g>\n",
       "<!-- poisson_output_vtu_file_6970a46dfc05b1a19e5634d8c18059e3 -->\n",
       "<g id=\"node7\" class=\"node\">\n",
       "<title>poisson_output_vtu_file_6970a46dfc05b1a19e5634d8c18059e3</title>\n",
       "<ellipse fill=\"none\" stroke=\"black\" cx=\"375.33\" cy=\"-234\" rx=\"375.33\" ry=\"18\"/>\n",
       "<text text-anchor=\"middle\" x=\"375.33\" y=\"-228.95\" font-family=\"Times,serif\" font-size=\"14.00\">poisson_output_vtu_file=&lt;pyiron_base.project.delayed.DelayedObject object at 0x73aea8ff5ac0&gt;</text>\n",
       "</g>\n",
       "<!-- meshio_output_xdmf_5f6efd392b1691367349ce93caf0169d&#45;&gt;poisson_output_vtu_file_6970a46dfc05b1a19e5634d8c18059e3 -->\n",
       "<g id=\"edge6\" class=\"edge\">\n",
       "<title>meshio_output_xdmf_5f6efd392b1691367349ce93caf0169d-&gt;poisson_output_vtu_file_6970a46dfc05b1a19e5634d8c18059e3</title>\n",
       "<path fill=\"none\" stroke=\"black\" d=\"M905.4,-289.25C797.13,-278.17 652.38,-263.35 541.5,-252.01\"/>\n",
       "<polygon fill=\"black\" stroke=\"black\" points=\"542.01,-248.54 531.7,-251 541.29,-255.5 542.01,-248.54\"/>\n",
       "</g>\n",
       "<!-- ndofs_af456a32dc17ccd053cef8f83b61802e -->\n",
       "<g id=\"node8\" class=\"node\">\n",
       "<title>ndofs_af456a32dc17ccd053cef8f83b61802e</title>\n",
       "<ellipse fill=\"none\" stroke=\"black\" cx=\"1849.33\" cy=\"-234\" rx=\"307.26\" ry=\"18\"/>\n",
       "<text text-anchor=\"middle\" x=\"1849.33\" y=\"-228.95\" font-family=\"Times,serif\" font-size=\"14.00\">ndofs=&lt;pyiron_base.project.delayed.DelayedObject object at 0x73aea8ff6030&gt;</text>\n",
       "</g>\n",
       "<!-- meshio_output_xdmf_5f6efd392b1691367349ce93caf0169d&#45;&gt;ndofs_af456a32dc17ccd053cef8f83b61802e -->\n",
       "<g id=\"edge7\" class=\"edge\">\n",
       "<title>meshio_output_xdmf_5f6efd392b1691367349ce93caf0169d-&gt;ndofs_af456a32dc17ccd053cef8f83b61802e</title>\n",
       "<path fill=\"none\" stroke=\"black\" d=\"M1232.21,-289.68C1362.92,-278.1 1541.73,-262.26 1673.23,-250.6\"/>\n",
       "<polygon fill=\"black\" stroke=\"black\" points=\"1673.44,-254.1 1683.09,-249.73 1672.82,-247.13 1673.44,-254.1\"/>\n",
       "</g>\n",
       "<!-- poisson_output_vtu_file_6970a46dfc05b1a19e5634d8c18059e3&#45;&gt;pvbatch_output_file_a227e82a0cabcaa4ff69b537232c3daf -->\n",
       "<g id=\"edge15\" class=\"edge\">\n",
       "<title>poisson_output_vtu_file_6970a46dfc05b1a19e5634d8c18059e3-&gt;pvbatch_output_file_a227e82a0cabcaa4ff69b537232c3daf</title>\n",
       "<path fill=\"none\" stroke=\"black\" d=\"M558.98,-217.88C698.7,-206.37 890.47,-190.58 1032.42,-178.89\"/>\n",
       "<polygon fill=\"black\" stroke=\"black\" points=\"1032.65,-182.38 1042.33,-178.07 1032.07,-175.4 1032.65,-182.38\"/>\n",
       "</g>\n",
       "<!-- poisson_output_vtu_file_6970a46dfc05b1a19e5634d8c18059e3&#45;&gt;plot_file_a227e82a0cabcaa4ff69b537232c3daf -->\n",
       "<g id=\"edge16\" class=\"edge\">\n",
       "<title>poisson_output_vtu_file_6970a46dfc05b1a19e5634d8c18059e3-&gt;plot_file_a227e82a0cabcaa4ff69b537232c3daf</title>\n",
       "<path fill=\"none\" stroke=\"black\" d=\"M414.13,-215.7C434.99,-206.4 460.91,-194.84 483.16,-184.92\"/>\n",
       "<polygon fill=\"black\" stroke=\"black\" points=\"484.33,-188.23 492.04,-180.96 481.48,-181.84 484.33,-188.23\"/>\n",
       "</g>\n",
       "<!-- ndofs_af456a32dc17ccd053cef8f83b61802e&#45;&gt;macros_tex_f8e7c70add5a6917362eaba96348676f -->\n",
       "<g id=\"edge17\" class=\"edge\">\n",
       "<title>ndofs_af456a32dc17ccd053cef8f83b61802e-&gt;macros_tex_f8e7c70add5a6917362eaba96348676f</title>\n",
       "<path fill=\"none\" stroke=\"black\" d=\"M1806.52,-215.73C1742.12,-189.75 1620.44,-140.67 1550.47,-112.44\"/>\n",
       "<polygon fill=\"black\" stroke=\"black\" points=\"1552.1,-109.32 1541.52,-108.83 1549.48,-115.81 1552.1,-109.32\"/>\n",
       "</g>\n",
       "<!-- gmsh_output_file_b41125ac47f34334493d860607ee71a3 -->\n",
       "<g id=\"node9\" class=\"node\">\n",
       "<title>gmsh_output_file_b41125ac47f34334493d860607ee71a3</title>\n",
       "<ellipse fill=\"none\" stroke=\"black\" cx=\"1800.33\" cy=\"-378\" rx=\"352.29\" ry=\"18\"/>\n",
       "<text text-anchor=\"middle\" x=\"1800.33\" y=\"-372.95\" font-family=\"Times,serif\" font-size=\"14.00\">gmsh_output_file=&lt;pyiron_base.project.delayed.DelayedObject object at 0x73aea8ff5580&gt;</text>\n",
       "</g>\n",
       "<!-- gmsh_output_file_b41125ac47f34334493d860607ee71a3&#45;&gt;meshio_output_xdmf_5f6efd392b1691367349ce93caf0169d -->\n",
       "<g id=\"edge8\" class=\"edge\">\n",
       "<title>gmsh_output_file_b41125ac47f34334493d860607ee71a3-&gt;meshio_output_xdmf_5f6efd392b1691367349ce93caf0169d</title>\n",
       "<path fill=\"none\" stroke=\"black\" d=\"M1637.71,-361.64C1518.63,-350.39 1357.18,-335.14 1235.12,-323.61\"/>\n",
       "<polygon fill=\"black\" stroke=\"black\" points=\"1235.59,-320.14 1225.31,-322.68 1234.94,-327.1 1235.59,-320.14\"/>\n",
       "</g>\n",
       "<!-- meshio_output_h5_d7fa661d88a4ddaa49c65aba59c05081 -->\n",
       "<g id=\"node10\" class=\"node\">\n",
       "<title>meshio_output_h5_d7fa661d88a4ddaa49c65aba59c05081</title>\n",
       "<ellipse fill=\"none\" stroke=\"black\" cx=\"1800.33\" cy=\"-306\" rx=\"355.88\" ry=\"18\"/>\n",
       "<text text-anchor=\"middle\" x=\"1800.33\" y=\"-300.95\" font-family=\"Times,serif\" font-size=\"14.00\">meshio_output_h5=&lt;pyiron_base.project.delayed.DelayedObject object at 0x73aea8ff5310&gt;</text>\n",
       "</g>\n",
       "<!-- gmsh_output_file_b41125ac47f34334493d860607ee71a3&#45;&gt;meshio_output_h5_d7fa661d88a4ddaa49c65aba59c05081 -->\n",
       "<g id=\"edge9\" class=\"edge\">\n",
       "<title>gmsh_output_file_b41125ac47f34334493d860607ee71a3-&gt;meshio_output_h5_d7fa661d88a4ddaa49c65aba59c05081</title>\n",
       "<path fill=\"none\" stroke=\"black\" d=\"M1800.33,-359.7C1800.33,-352.41 1800.33,-343.73 1800.33,-335.54\"/>\n",
       "<polygon fill=\"black\" stroke=\"black\" points=\"1803.83,-335.62 1800.33,-325.62 1796.83,-335.62 1803.83,-335.62\"/>\n",
       "</g>\n",
       "<!-- meshio_output_h5_d7fa661d88a4ddaa49c65aba59c05081&#45;&gt;poisson_output_pvd_file_3d7237a32c9c37d58bcde272202eb973 -->\n",
       "<g id=\"edge12\" class=\"edge\">\n",
       "<title>meshio_output_h5_d7fa661d88a4ddaa49c65aba59c05081-&gt;poisson_output_pvd_file_3d7237a32c9c37d58bcde272202eb973</title>\n",
       "<path fill=\"none\" stroke=\"black\" d=\"M1652.74,-289.2C1549.87,-278.19 1412.69,-263.51 1307.06,-252.2\"/>\n",
       "<polygon fill=\"black\" stroke=\"black\" points=\"1307.46,-248.73 1297.14,-251.14 1306.71,-255.69 1307.46,-248.73\"/>\n",
       "</g>\n",
       "<!-- meshio_output_h5_d7fa661d88a4ddaa49c65aba59c05081&#45;&gt;poisson_output_vtu_file_6970a46dfc05b1a19e5634d8c18059e3 -->\n",
       "<g id=\"edge13\" class=\"edge\">\n",
       "<title>meshio_output_h5_d7fa661d88a4ddaa49c65aba59c05081-&gt;poisson_output_vtu_file_6970a46dfc05b1a19e5634d8c18059e3</title>\n",
       "<path fill=\"none\" stroke=\"black\" d=\"M1551.3,-292.77C1296.76,-280.26 902.82,-260.91 642.05,-248.1\"/>\n",
       "<polygon fill=\"black\" stroke=\"black\" points=\"642.57,-244.62 632.41,-247.63 642.22,-251.62 642.57,-244.62\"/>\n",
       "</g>\n",
       "<!-- meshio_output_h5_d7fa661d88a4ddaa49c65aba59c05081&#45;&gt;ndofs_af456a32dc17ccd053cef8f83b61802e -->\n",
       "<g id=\"edge14\" class=\"edge\">\n",
       "<title>meshio_output_h5_d7fa661d88a4ddaa49c65aba59c05081-&gt;ndofs_af456a32dc17ccd053cef8f83b61802e</title>\n",
       "<path fill=\"none\" stroke=\"black\" d=\"M1812.44,-287.7C1818.02,-279.73 1824.76,-270.1 1830.94,-261.26\"/>\n",
       "<polygon fill=\"black\" stroke=\"black\" points=\"1833.62,-263.54 1836.48,-253.34 1827.88,-259.53 1833.62,-263.54\"/>\n",
       "</g>\n",
       "<!-- domain_size_f12a7f1986b9dd058dfc666dbe230b20 -->\n",
       "<g id=\"node11\" class=\"node\">\n",
       "<title>domain_size_f12a7f1986b9dd058dfc666dbe230b20</title>\n",
       "<ellipse fill=\"none\" stroke=\"black\" cx=\"1992.33\" cy=\"-450\" rx=\"75.41\" ry=\"18\"/>\n",
       "<text text-anchor=\"middle\" x=\"1992.33\" y=\"-444.95\" font-family=\"Times,serif\" font-size=\"14.00\">domain_size=2.0</text>\n",
       "</g>\n",
       "<!-- domain_size_f12a7f1986b9dd058dfc666dbe230b20&#45;&gt;macros_tex_f8e7c70add5a6917362eaba96348676f -->\n",
       "<g id=\"edge10\" class=\"edge\">\n",
       "<title>domain_size_f12a7f1986b9dd058dfc666dbe230b20-&gt;macros_tex_f8e7c70add5a6917362eaba96348676f</title>\n",
       "<path fill=\"none\" stroke=\"black\" d=\"M2061.95,-442.91C2096.22,-436.4 2135.59,-423.08 2161.33,-396 2189.47,-366.38 2184.33,-347.86 2184.33,-307 2184.33,-307 2184.33,-307 2184.33,-233 2184.33,-148.33 1981.69,-113.75 1796.52,-99.82\"/>\n",
       "<polygon fill=\"black\" stroke=\"black\" points=\"1796.93,-96.34 1786.7,-99.1 1796.42,-103.32 1796.93,-96.34\"/>\n",
       "</g>\n",
       "<!-- domain_size_f12a7f1986b9dd058dfc666dbe230b20&#45;&gt;gmsh_output_file_b41125ac47f34334493d860607ee71a3 -->\n",
       "<g id=\"edge11\" class=\"edge\">\n",
       "<title>domain_size_f12a7f1986b9dd058dfc666dbe230b20-&gt;gmsh_output_file_b41125ac47f34334493d860607ee71a3</title>\n",
       "<path fill=\"none\" stroke=\"black\" d=\"M1952.08,-434.33C1924.83,-424.39 1888.41,-411.12 1858.08,-400.06\"/>\n",
       "<polygon fill=\"black\" stroke=\"black\" points=\"1859.65,-396.9 1849.06,-396.77 1857.25,-403.48 1859.65,-396.9\"/>\n",
       "</g>\n",
       "</g>\n",
       "</svg>"
      ],
      "text/plain": [
       "<IPython.core.display.SVG object>"
      ]
     },
     "metadata": {},
     "output_type": "display_data"
    }
   ],
   "source": [
    "delayed_object = load_workflow_json(project=pr, file_name=workflow_json_filename)\n",
    "delayed_object.draw()"
   ]
  },
  {
   "cell_type": "code",
   "execution_count": 20,
   "id": "1c2760b6-96b4-4f44-ac49-a229d4a0cf67",
   "metadata": {},
   "outputs": [
    {
     "name": "stdout",
     "output_type": "stream",
     "text": [
      "The job generate_mesh_0b48cf5155cd6802c17d20bb58104132 was saved and received the ID: 2005\n",
      "The job convert_to_xdmf_9ded0361e4866afe4962398287e4f6ae was saved and received the ID: 2006\n",
      "The job poisson_2d98621ac2c8e43a266693cf65647173 was saved and received the ID: 2007\n",
      "The job plot_over_line_004790462b53a54f512cc7e1a2a10519 was saved and received the ID: 2008\n",
      "The job substitute_macros_52130ff9ec1931ec82532a7119df653f was saved and received the ID: 2009\n",
      "The job compile_paper_b65627cdc212fc76a216689a26379fae was saved and received the ID: 2010\n"
     ]
    },
    {
     "data": {
      "text/plain": [
       "'/home/janssen/notebooks/2025/2025-04-02-nfdi-pwd/postprocessing/paper.pdf'"
      ]
     },
     "execution_count": 20,
     "metadata": {},
     "output_type": "execute_result"
    }
   ],
   "source": [
    "delayed_object.pull()"
   ]
  },
  {
   "cell_type": "code",
   "execution_count": 21,
   "id": "b3bba27e-ece9-4c02-834c-53e69844b140",
   "metadata": {},
   "outputs": [
    {
     "data": {
      "text/html": [
       "<div>\n",
       "<style scoped>\n",
       "    .dataframe tbody tr th:only-of-type {\n",
       "        vertical-align: middle;\n",
       "    }\n",
       "\n",
       "    .dataframe tbody tr th {\n",
       "        vertical-align: top;\n",
       "    }\n",
       "\n",
       "    .dataframe thead th {\n",
       "        text-align: right;\n",
       "    }\n",
       "</style>\n",
       "<table border=\"1\" class=\"dataframe\">\n",
       "  <thead>\n",
       "    <tr style=\"text-align: right;\">\n",
       "      <th></th>\n",
       "      <th>id</th>\n",
       "      <th>status</th>\n",
       "      <th>chemicalformula</th>\n",
       "      <th>job</th>\n",
       "      <th>subjob</th>\n",
       "      <th>projectpath</th>\n",
       "      <th>project</th>\n",
       "      <th>timestart</th>\n",
       "      <th>timestop</th>\n",
       "      <th>totalcputime</th>\n",
       "      <th>computer</th>\n",
       "      <th>hamilton</th>\n",
       "      <th>hamversion</th>\n",
       "      <th>parentid</th>\n",
       "      <th>masterid</th>\n",
       "    </tr>\n",
       "  </thead>\n",
       "  <tbody>\n",
       "    <tr>\n",
       "      <th>0</th>\n",
       "      <td>2005</td>\n",
       "      <td>finished</td>\n",
       "      <td>None</td>\n",
       "      <td>generate_mesh_0b48cf5155cd6802c17d20bb58104132</td>\n",
       "      <td>/generate_mesh_0b48cf5155cd6802c17d20bb58104132</td>\n",
       "      <td>None</td>\n",
       "      <td>/home/janssen/notebooks/2025/2025-04-02-nfdi-pwd/test/</td>\n",
       "      <td>2025-04-02 12:21:45.438450</td>\n",
       "      <td>None</td>\n",
       "      <td>None</td>\n",
       "      <td>pyiron@cmpc06#1</td>\n",
       "      <td>PythonFunctionContainerJob</td>\n",
       "      <td>0.4</td>\n",
       "      <td>None</td>\n",
       "      <td>None</td>\n",
       "    </tr>\n",
       "    <tr>\n",
       "      <th>1</th>\n",
       "      <td>2006</td>\n",
       "      <td>finished</td>\n",
       "      <td>None</td>\n",
       "      <td>convert_to_xdmf_9ded0361e4866afe4962398287e4f6ae</td>\n",
       "      <td>/convert_to_xdmf_9ded0361e4866afe4962398287e4f6ae</td>\n",
       "      <td>None</td>\n",
       "      <td>/home/janssen/notebooks/2025/2025-04-02-nfdi-pwd/test/</td>\n",
       "      <td>2025-04-02 12:21:51.424277</td>\n",
       "      <td>None</td>\n",
       "      <td>None</td>\n",
       "      <td>pyiron@cmpc06#1</td>\n",
       "      <td>PythonFunctionContainerJob</td>\n",
       "      <td>0.4</td>\n",
       "      <td>None</td>\n",
       "      <td>None</td>\n",
       "    </tr>\n",
       "    <tr>\n",
       "      <th>2</th>\n",
       "      <td>2007</td>\n",
       "      <td>finished</td>\n",
       "      <td>None</td>\n",
       "      <td>poisson_2d98621ac2c8e43a266693cf65647173</td>\n",
       "      <td>/poisson_2d98621ac2c8e43a266693cf65647173</td>\n",
       "      <td>None</td>\n",
       "      <td>/home/janssen/notebooks/2025/2025-04-02-nfdi-pwd/test/</td>\n",
       "      <td>2025-04-02 12:21:58.678881</td>\n",
       "      <td>None</td>\n",
       "      <td>None</td>\n",
       "      <td>pyiron@cmpc06#1</td>\n",
       "      <td>PythonFunctionContainerJob</td>\n",
       "      <td>0.4</td>\n",
       "      <td>None</td>\n",
       "      <td>None</td>\n",
       "    </tr>\n",
       "    <tr>\n",
       "      <th>3</th>\n",
       "      <td>2008</td>\n",
       "      <td>finished</td>\n",
       "      <td>None</td>\n",
       "      <td>plot_over_line_004790462b53a54f512cc7e1a2a10519</td>\n",
       "      <td>/plot_over_line_004790462b53a54f512cc7e1a2a10519</td>\n",
       "      <td>None</td>\n",
       "      <td>/home/janssen/notebooks/2025/2025-04-02-nfdi-pwd/test/</td>\n",
       "      <td>2025-04-02 12:22:08.130059</td>\n",
       "      <td>None</td>\n",
       "      <td>None</td>\n",
       "      <td>pyiron@cmpc06#1</td>\n",
       "      <td>PythonFunctionContainerJob</td>\n",
       "      <td>0.4</td>\n",
       "      <td>None</td>\n",
       "      <td>None</td>\n",
       "    </tr>\n",
       "    <tr>\n",
       "      <th>4</th>\n",
       "      <td>2009</td>\n",
       "      <td>finished</td>\n",
       "      <td>None</td>\n",
       "      <td>substitute_macros_52130ff9ec1931ec82532a7119df653f</td>\n",
       "      <td>/substitute_macros_52130ff9ec1931ec82532a7119df653f</td>\n",
       "      <td>None</td>\n",
       "      <td>/home/janssen/notebooks/2025/2025-04-02-nfdi-pwd/test/</td>\n",
       "      <td>2025-04-02 12:22:15.564673</td>\n",
       "      <td>None</td>\n",
       "      <td>None</td>\n",
       "      <td>pyiron@cmpc06#1</td>\n",
       "      <td>PythonFunctionContainerJob</td>\n",
       "      <td>0.4</td>\n",
       "      <td>None</td>\n",
       "      <td>None</td>\n",
       "    </tr>\n",
       "    <tr>\n",
       "      <th>5</th>\n",
       "      <td>2010</td>\n",
       "      <td>finished</td>\n",
       "      <td>None</td>\n",
       "      <td>compile_paper_b65627cdc212fc76a216689a26379fae</td>\n",
       "      <td>/compile_paper_b65627cdc212fc76a216689a26379fae</td>\n",
       "      <td>None</td>\n",
       "      <td>/home/janssen/notebooks/2025/2025-04-02-nfdi-pwd/test/</td>\n",
       "      <td>2025-04-02 12:22:21.966167</td>\n",
       "      <td>None</td>\n",
       "      <td>None</td>\n",
       "      <td>pyiron@cmpc06#1</td>\n",
       "      <td>PythonFunctionContainerJob</td>\n",
       "      <td>0.4</td>\n",
       "      <td>None</td>\n",
       "      <td>None</td>\n",
       "    </tr>\n",
       "  </tbody>\n",
       "</table>\n",
       "</div>"
      ],
      "text/plain": [
       "     id    status chemicalformula  \\\n",
       "0  2005  finished            None   \n",
       "1  2006  finished            None   \n",
       "2  2007  finished            None   \n",
       "3  2008  finished            None   \n",
       "4  2009  finished            None   \n",
       "5  2010  finished            None   \n",
       "\n",
       "                                                  job  \\\n",
       "0      generate_mesh_0b48cf5155cd6802c17d20bb58104132   \n",
       "1    convert_to_xdmf_9ded0361e4866afe4962398287e4f6ae   \n",
       "2            poisson_2d98621ac2c8e43a266693cf65647173   \n",
       "3     plot_over_line_004790462b53a54f512cc7e1a2a10519   \n",
       "4  substitute_macros_52130ff9ec1931ec82532a7119df653f   \n",
       "5      compile_paper_b65627cdc212fc76a216689a26379fae   \n",
       "\n",
       "                                                subjob projectpath  \\\n",
       "0      /generate_mesh_0b48cf5155cd6802c17d20bb58104132        None   \n",
       "1    /convert_to_xdmf_9ded0361e4866afe4962398287e4f6ae        None   \n",
       "2            /poisson_2d98621ac2c8e43a266693cf65647173        None   \n",
       "3     /plot_over_line_004790462b53a54f512cc7e1a2a10519        None   \n",
       "4  /substitute_macros_52130ff9ec1931ec82532a7119df653f        None   \n",
       "5      /compile_paper_b65627cdc212fc76a216689a26379fae        None   \n",
       "\n",
       "                                                  project  \\\n",
       "0  /home/janssen/notebooks/2025/2025-04-02-nfdi-pwd/test/   \n",
       "1  /home/janssen/notebooks/2025/2025-04-02-nfdi-pwd/test/   \n",
       "2  /home/janssen/notebooks/2025/2025-04-02-nfdi-pwd/test/   \n",
       "3  /home/janssen/notebooks/2025/2025-04-02-nfdi-pwd/test/   \n",
       "4  /home/janssen/notebooks/2025/2025-04-02-nfdi-pwd/test/   \n",
       "5  /home/janssen/notebooks/2025/2025-04-02-nfdi-pwd/test/   \n",
       "\n",
       "                   timestart timestop totalcputime         computer  \\\n",
       "0 2025-04-02 12:21:45.438450     None         None  pyiron@cmpc06#1   \n",
       "1 2025-04-02 12:21:51.424277     None         None  pyiron@cmpc06#1   \n",
       "2 2025-04-02 12:21:58.678881     None         None  pyiron@cmpc06#1   \n",
       "3 2025-04-02 12:22:08.130059     None         None  pyiron@cmpc06#1   \n",
       "4 2025-04-02 12:22:15.564673     None         None  pyiron@cmpc06#1   \n",
       "5 2025-04-02 12:22:21.966167     None         None  pyiron@cmpc06#1   \n",
       "\n",
       "                     hamilton hamversion parentid masterid  \n",
       "0  PythonFunctionContainerJob        0.4     None     None  \n",
       "1  PythonFunctionContainerJob        0.4     None     None  \n",
       "2  PythonFunctionContainerJob        0.4     None     None  \n",
       "3  PythonFunctionContainerJob        0.4     None     None  \n",
       "4  PythonFunctionContainerJob        0.4     None     None  \n",
       "5  PythonFunctionContainerJob        0.4     None     None  "
      ]
     },
     "execution_count": 21,
     "metadata": {},
     "output_type": "execute_result"
    }
   ],
   "source": [
    "pr.job_table()"
   ]
  }
 ],
 "metadata": {
  "kernelspec": {
   "display_name": "Python 3 (ipykernel)",
   "language": "python",
   "name": "python3"
  },
  "language_info": {
   "codemirror_mode": {
    "name": "ipython",
    "version": 3
   },
   "file_extension": ".py",
   "mimetype": "text/x-python",
   "name": "python",
   "nbconvert_exporter": "python",
   "pygments_lexer": "ipython3",
   "version": "3.12.5"
  }
 },
 "nbformat": 4,
 "nbformat_minor": 5
}
