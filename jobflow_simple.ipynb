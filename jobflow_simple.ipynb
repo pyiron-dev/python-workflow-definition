{
 "cells": [
  {
   "cell_type": "markdown",
   "id": "982a4fbe-7cf9-45dd-84ae-9854149db0b9",
   "metadata": {},
   "source": [
    "# Simple Workflow with jobflow"
   ]
  },
  {
   "cell_type": "markdown",
   "id": "e6180712-d081-45c7-ba41-fc5191f10427",
   "metadata": {},
   "source": [
    "## Define workflow with jobflow"
   ]
  },
  {
   "cell_type": "code",
   "execution_count": 1,
   "id": "000bbd4a-f53c-4eea-9d85-76f0aa2ca10b",
   "metadata": {},
   "outputs": [
    {
     "name": "stderr",
     "output_type": "stream",
     "text": [
      "/home/jan/mambaforge/lib/python3.12/site-packages/paramiko/pkey.py:82: CryptographyDeprecationWarning: TripleDES has been moved to cryptography.hazmat.decrepit.ciphers.algorithms.TripleDES and will be removed from cryptography.hazmat.primitives.ciphers.algorithms in 48.0.0.\n",
      "  \"cipher\": algorithms.TripleDES,\n",
      "/home/jan/mambaforge/lib/python3.12/site-packages/paramiko/transport.py:253: CryptographyDeprecationWarning: TripleDES has been moved to cryptography.hazmat.decrepit.ciphers.algorithms.TripleDES and will be removed from cryptography.hazmat.primitives.ciphers.algorithms in 48.0.0.\n",
      "  \"class\": algorithms.TripleDES,\n"
     ]
    }
   ],
   "source": [
    "from jobflow import job, Flow"
   ]
  },
  {
   "cell_type": "code",
   "execution_count": 2,
   "id": "06c2bd9e-b2ac-4b88-9158-fa37331c3418",
   "metadata": {},
   "outputs": [],
   "source": [
    "from python_workflow_definition.jobflow import write_workflow_json"
   ]
  },
  {
   "cell_type": "code",
   "execution_count": 3,
   "id": "fb847d49-7bf9-4839-9b99-c116d1b0e9ee",
   "metadata": {},
   "outputs": [],
   "source": [
    "from simple_workflow import (\n",
    "    add_x_and_y as _add_x_and_y, \n",
    "    add_x_and_y_and_z as _add_x_and_y_and_z,\n",
    ")"
   ]
  },
  {
   "cell_type": "code",
   "execution_count": 4,
   "id": "8f95244e",
   "metadata": {},
   "outputs": [],
   "source": [
    "workflow_json_filename = \"jobflow_simple.json\""
   ]
  },
  {
   "cell_type": "code",
   "execution_count": 5,
   "id": "07598344-0f75-433b-8902-bea21a42088c",
   "metadata": {},
   "outputs": [],
   "source": [
    "add_x_and_y = job(_add_x_and_y, data=[\"x\", \"y\", \"z\"])\n",
    "add_x_and_y_and_z = job(_add_x_and_y_and_z)"
   ]
  },
  {
   "cell_type": "code",
   "execution_count": 6,
   "id": "ecef1ed5-a8d3-48c3-9e01-4a40e55c1153",
   "metadata": {},
   "outputs": [],
   "source": [
    "obj = add_x_and_y(x=1, y=2)"
   ]
  },
  {
   "cell_type": "code",
   "execution_count": 7,
   "id": "2b88a30a-e26b-4802-89b7-79ca08cc0af9",
   "metadata": {},
   "outputs": [],
   "source": [
    "w = add_x_and_y_and_z(x=obj.output.x, y=obj.output.y, z=obj.output.z)"
   ]
  },
  {
   "cell_type": "code",
   "execution_count": 8,
   "id": "a5e5ca63-2906-47c9-bac6-adebf8643cba",
   "metadata": {},
   "outputs": [],
   "source": [
    "flow = Flow([obj, w])"
   ]
  },
  {
   "cell_type": "code",
   "execution_count": 9,
   "id": "e464da97-16a1-4772-9a07-0a47f152781d",
   "metadata": {},
   "outputs": [],
   "source": [
    "write_workflow_json(flow=flow, file_name=workflow_json_filename)"
   ]
  },
  {
   "cell_type": "code",
   "execution_count": 10,
   "id": "bca646b2-0a9a-4271-966a-e5903a8c9031",
   "metadata": {},
   "outputs": [
    {
     "name": "stdout",
     "output_type": "stream",
     "text": [
      "{\"nodes\": {\"0\": \"simple_workflow.add_x_and_y\", \"1\": \"simple_workflow.add_x_and_y_and_z\", \"2\": 1, \"3\": 2}, \"edges\": [{\"target\": 0, \"targetHandle\": \"x\", \"source\": 2, \"sourceHandle\": null}, {\"target\": 0, \"targetHandle\": \"y\", \"source\": 3, \"sourceHandle\": null}, {\"target\": 1, \"targetHandle\": \"x\", \"source\": 0, \"sourceHandle\": \"x\"}, {\"target\": 1, \"targetHandle\": \"y\", \"source\": 0, \"sourceHandle\": \"y\"}, {\"target\": 1, \"targetHandle\": \"z\", \"source\": 0, \"sourceHandle\": \"z\"}]}"
     ]
    }
   ],
   "source": [
    "!cat {workflow_json_filename}"
   ]
  },
  {
   "cell_type": "markdown",
   "id": "87a27540-c390-4d34-ae75-4739bfc4c1b7",
   "metadata": {},
   "source": [
    "## Load Workflow with aiida"
   ]
  },
  {
   "cell_type": "code",
   "execution_count": 11,
   "id": "66a1b3a6-3d3b-4caa-b58f-d8bc089b1074",
   "metadata": {},
   "outputs": [
    {
     "data": {
      "text/plain": [
       "Profile<uuid='c08748df7ab74ec08c14e5f16cebc987' name='pwd'>"
      ]
     },
     "execution_count": 11,
     "metadata": {},
     "output_type": "execute_result"
    }
   ],
   "source": [
    "from aiida import load_profile\n",
    "\n",
    "load_profile()"
   ]
  },
  {
   "cell_type": "code",
   "execution_count": 12,
   "id": "4679693b-039b-45cf-8c67-5b2b3d705a83",
   "metadata": {},
   "outputs": [],
   "source": [
    "from python_workflow_definition.aiida import load_workflow_json"
   ]
  },
  {
   "cell_type": "code",
   "execution_count": 13,
   "id": "68c41a61-d185-47e8-ba31-eeff71d8b2c6",
   "metadata": {},
   "outputs": [
    {
     "data": {
      "application/vnd.jupyter.widget-view+json": {
       "model_id": "8e477ea52ce842b2be61f889452c9ab5",
       "version_major": 2,
       "version_minor": 1
      },
      "text/plain": [
       "NodeGraphWidget(settings={'minimap': True}, style={'width': '90%', 'height': '600px'}, value={'name': 'WorkGra…"
      ]
     },
     "execution_count": 13,
     "metadata": {},
     "output_type": "execute_result"
    }
   ],
   "source": [
    "wg = load_workflow_json(file_name=workflow_json_filename)\n",
    "wg"
   ]
  },
  {
   "cell_type": "code",
   "execution_count": 14,
   "id": "05228ece-643c-420c-8df8-4ce3df379515",
   "metadata": {},
   "outputs": [
    {
     "name": "stderr",
     "output_type": "stream",
     "text": [
      "03/22/2025 05:13:01 PM <12689> aiida.orm.nodes.process.workflow.workchain.WorkChainNode: [REPORT] [3|WorkGraphEngine|continue_workgraph]: tasks ready to run: pickle_node3,pickle_node4\n",
      "03/22/2025 05:13:04 PM <12689> aiida.orm.nodes.process.workflow.workchain.WorkChainNode: [REPORT] [3|WorkGraphEngine|on_wait]: Process status: Waiting for child processes: 11, 18\n",
      "03/22/2025 05:13:15 PM <12689> aiida.orm.nodes.process.workflow.workchain.WorkChainNode: [REPORT] [3|WorkGraphEngine|update_task_state]: Task: pickle_node3, type: PYTHONJOB, finished.\n",
      "03/22/2025 05:13:15 PM <12689> aiida.orm.nodes.process.workflow.workchain.WorkChainNode: [REPORT] [3|WorkGraphEngine|update_task_state]: Task: pickle_node4, type: PYTHONJOB, finished.\n"
     ]
    },
    {
     "name": "stdout",
     "output_type": "stream",
     "text": [
      "invalid state\n"
     ]
    },
    {
     "name": "stderr",
     "output_type": "stream",
     "text": [
      "03/22/2025 05:13:16 PM <12689> aiida.orm.nodes.process.workflow.workchain.WorkChainNode: [REPORT] [3|WorkGraphEngine|continue_workgraph]: tasks ready to run: add_x_and_y1\n",
      "03/22/2025 05:13:16 PM <12689> aiida.orm.nodes.process.workflow.workchain.WorkChainNode: [REPORT] [3|WorkGraphEngine|on_wait]: Process status: Waiting for child processes: 33\n",
      "03/22/2025 05:13:23 PM <12689> aiida.orm.nodes.process.workflow.workchain.WorkChainNode: [REPORT] [3|WorkGraphEngine|update_task_state]: Task: add_x_and_y1, type: PYTHONJOB, finished.\n",
      "03/22/2025 05:13:24 PM <12689> aiida.orm.nodes.process.workflow.workchain.WorkChainNode: [REPORT] [3|WorkGraphEngine|continue_workgraph]: tasks ready to run: add_x_and_y_and_z2\n",
      "03/22/2025 05:13:25 PM <12689> aiida.orm.nodes.process.workflow.workchain.WorkChainNode: [REPORT] [3|WorkGraphEngine|on_wait]: Process status: Waiting for child processes: 46\n",
      "03/22/2025 05:13:32 PM <12689> aiida.orm.nodes.process.workflow.workchain.WorkChainNode: [REPORT] [3|WorkGraphEngine|update_task_state]: Task: add_x_and_y_and_z2, type: PYTHONJOB, finished.\n",
      "03/22/2025 05:13:32 PM <12689> aiida.orm.nodes.process.workflow.workchain.WorkChainNode: [REPORT] [3|WorkGraphEngine|continue_workgraph]: tasks ready to run: \n",
      "03/22/2025 05:13:32 PM <12689> aiida.orm.nodes.process.workflow.workchain.WorkChainNode: [REPORT] [3|WorkGraphEngine|finalize]: Finalize workgraph.\n"
     ]
    }
   ],
   "source": [
    "wg.run()"
   ]
  },
  {
   "cell_type": "markdown",
   "id": "2c942094-61b4-4e94-859a-64f87b5bec64",
   "metadata": {},
   "source": [
    "## Load Workflow with pyiron_base"
   ]
  },
  {
   "cell_type": "code",
   "execution_count": 15,
   "id": "40672826-23bf-4c24-84e2-a6b9d87e2a3f",
   "metadata": {},
   "outputs": [],
   "source": [
    "from pyiron_base import Project"
   ]
  },
  {
   "cell_type": "code",
   "execution_count": 16,
   "id": "ea102341-84f7-4156-a7d1-c3ab1ea613a5",
   "metadata": {},
   "outputs": [],
   "source": [
    "from python_workflow_definition.pyiron_base import load_workflow_json"
   ]
  },
  {
   "cell_type": "code",
   "execution_count": 17,
   "id": "f45684a8-2613-415a-ab0a-5cb2bafaffea",
   "metadata": {},
   "outputs": [
    {
     "data": {
      "application/vnd.jupyter.widget-view+json": {
       "model_id": "0a8547ce309a493fb1c5c1d102006e82",
       "version_major": 2,
       "version_minor": 0
      },
      "text/plain": [
       "0it [00:00, ?it/s]"
      ]
     },
     "metadata": {},
     "output_type": "display_data"
    }
   ],
   "source": [
    "pr = Project(\"test\")\n",
    "pr.remove_jobs(recursive=True, silently=True)"
   ]
  },
  {
   "cell_type": "code",
   "execution_count": 18,
   "id": "8f2a621d-b533-4ddd-8bcd-c22db2f922ec",
   "metadata": {},
   "outputs": [
    {
     "data": {
      "image/svg+xml": [
       "<svg xmlns=\"http://www.w3.org/2000/svg\" xmlns:xlink=\"http://www.w3.org/1999/xlink\" width=\"1805pt\" height=\"188pt\" viewBox=\"0.00 0.00 1804.87 188.00\">\n",
       "<g id=\"graph0\" class=\"graph\" transform=\"scale(1 1) rotate(0) translate(4 184)\">\n",
       "<polygon fill=\"white\" stroke=\"none\" points=\"-4,4 -4,-184 1800.87,-184 1800.87,4 -4,4\"/>\n",
       "<!-- create_function_job_5ba8ef37736a543dc29291038078c77e -->\n",
       "<g id=\"node1\" class=\"node\">\n",
       "<title>create_function_job_5ba8ef37736a543dc29291038078c77e</title>\n",
       "<ellipse fill=\"none\" stroke=\"black\" cx=\"900.46\" cy=\"-18\" rx=\"363.04\" ry=\"18\"/>\n",
       "<text text-anchor=\"middle\" x=\"900.46\" y=\"-12.95\" font-family=\"Times,serif\" font-size=\"14.00\">create_function_job=&lt;pyiron_base.project.delayed.DelayedObject object at 0x7f0b7e9b5b50&gt;</text>\n",
       "</g>\n",
       "<!-- x_8b6e6a40c48b5cbc9bb2330ca1d55a57 -->\n",
       "<g id=\"node2\" class=\"node\">\n",
       "<title>x_8b6e6a40c48b5cbc9bb2330ca1d55a57</title>\n",
       "<ellipse fill=\"none\" stroke=\"black\" cx=\"294.46\" cy=\"-90\" rx=\"294.46\" ry=\"18\"/>\n",
       "<text text-anchor=\"middle\" x=\"294.46\" y=\"-84.95\" font-family=\"Times,serif\" font-size=\"14.00\">x=&lt;pyiron_base.project.delayed.DelayedObject object at 0x7f0b89d22540&gt;</text>\n",
       "</g>\n",
       "<!-- x_8b6e6a40c48b5cbc9bb2330ca1d55a57&#45;&gt;create_function_job_5ba8ef37736a543dc29291038078c77e -->\n",
       "<g id=\"edge1\" class=\"edge\">\n",
       "<title>x_8b6e6a40c48b5cbc9bb2330ca1d55a57-&gt;create_function_job_5ba8ef37736a543dc29291038078c77e</title>\n",
       "<path fill=\"none\" stroke=\"black\" d=\"M428.2,-73.55C523.35,-62.56 651.28,-47.78 750,-36.38\"/>\n",
       "<polygon fill=\"black\" stroke=\"black\" points=\"750.24,-39.88 759.77,-35.25 749.44,-32.92 750.24,-39.88\"/>\n",
       "</g>\n",
       "<!-- x_1d847da32ecaabf6731c38f798c3d4ce -->\n",
       "<g id=\"node3\" class=\"node\">\n",
       "<title>x_1d847da32ecaabf6731c38f798c3d4ce</title>\n",
       "<ellipse fill=\"none\" stroke=\"black\" cx=\"864.46\" cy=\"-162\" rx=\"27\" ry=\"18\"/>\n",
       "<text text-anchor=\"middle\" x=\"864.46\" y=\"-156.95\" font-family=\"Times,serif\" font-size=\"14.00\">x=1</text>\n",
       "</g>\n",
       "<!-- x_1d847da32ecaabf6731c38f798c3d4ce&#45;&gt;x_8b6e6a40c48b5cbc9bb2330ca1d55a57 -->\n",
       "<g id=\"edge2\" class=\"edge\">\n",
       "<title>x_1d847da32ecaabf6731c38f798c3d4ce-&gt;x_8b6e6a40c48b5cbc9bb2330ca1d55a57</title>\n",
       "<path fill=\"none\" stroke=\"black\" d=\"M837.73,-157.72C766.71,-149 569.43,-124.77 433.24,-108.04\"/>\n",
       "<polygon fill=\"black\" stroke=\"black\" points=\"433.75,-104.58 423.4,-106.84 432.9,-111.53 433.75,-104.58\"/>\n",
       "</g>\n",
       "<!-- y_53c8cca1c3b0ea88b12cb36e9f0231a2 -->\n",
       "<g id=\"node4\" class=\"node\">\n",
       "<title>y_53c8cca1c3b0ea88b12cb36e9f0231a2</title>\n",
       "<ellipse fill=\"none\" stroke=\"black\" cx=\"900.46\" cy=\"-90\" rx=\"293.95\" ry=\"18\"/>\n",
       "<text text-anchor=\"middle\" x=\"900.46\" y=\"-84.95\" font-family=\"Times,serif\" font-size=\"14.00\">y=&lt;pyiron_base.project.delayed.DelayedObject object at 0x7f0b7e9b56d0&gt;</text>\n",
       "</g>\n",
       "<!-- x_1d847da32ecaabf6731c38f798c3d4ce&#45;&gt;y_53c8cca1c3b0ea88b12cb36e9f0231a2 -->\n",
       "<g id=\"edge3\" class=\"edge\">\n",
       "<title>x_1d847da32ecaabf6731c38f798c3d4ce-&gt;y_53c8cca1c3b0ea88b12cb36e9f0231a2</title>\n",
       "<path fill=\"none\" stroke=\"black\" d=\"M872.81,-144.76C876.87,-136.87 881.86,-127.16 886.48,-118.18\"/>\n",
       "<polygon fill=\"black\" stroke=\"black\" points=\"889.5,-119.96 890.96,-109.47 883.28,-116.76 889.5,-119.96\"/>\n",
       "</g>\n",
       "<!-- z_d75e7302821c66349ff25722ebcca91f -->\n",
       "<g id=\"node5\" class=\"node\">\n",
       "<title>z_d75e7302821c66349ff25722ebcca91f</title>\n",
       "<ellipse fill=\"none\" stroke=\"black\" cx=\"1504.46\" cy=\"-90\" rx=\"292.41\" ry=\"18\"/>\n",
       "<text text-anchor=\"middle\" x=\"1504.46\" y=\"-84.95\" font-family=\"Times,serif\" font-size=\"14.00\">z=&lt;pyiron_base.project.delayed.DelayedObject object at 0x7f0b7e9b4ce0&gt;</text>\n",
       "</g>\n",
       "<!-- x_1d847da32ecaabf6731c38f798c3d4ce&#45;&gt;z_d75e7302821c66349ff25722ebcca91f -->\n",
       "<g id=\"edge4\" class=\"edge\">\n",
       "<title>x_1d847da32ecaabf6731c38f798c3d4ce-&gt;z_d75e7302821c66349ff25722ebcca91f</title>\n",
       "<path fill=\"none\" stroke=\"black\" d=\"M884.92,-149.82C889.88,-147.54 895.26,-145.41 900.46,-144 939.07,-133.55 1144.78,-116.82 1305.54,-104.96\"/>\n",
       "<polygon fill=\"black\" stroke=\"black\" points=\"1305.32,-108.48 1315.04,-104.26 1304.81,-101.5 1305.32,-108.48\"/>\n",
       "</g>\n",
       "<!-- y_53c8cca1c3b0ea88b12cb36e9f0231a2&#45;&gt;create_function_job_5ba8ef37736a543dc29291038078c77e -->\n",
       "<g id=\"edge8\" class=\"edge\">\n",
       "<title>y_53c8cca1c3b0ea88b12cb36e9f0231a2-&gt;create_function_job_5ba8ef37736a543dc29291038078c77e</title>\n",
       "<path fill=\"none\" stroke=\"black\" d=\"M900.46,-71.7C900.46,-64.41 900.46,-55.73 900.46,-47.54\"/>\n",
       "<polygon fill=\"black\" stroke=\"black\" points=\"903.96,-47.62 900.46,-37.62 896.96,-47.62 903.96,-47.62\"/>\n",
       "</g>\n",
       "<!-- z_d75e7302821c66349ff25722ebcca91f&#45;&gt;create_function_job_5ba8ef37736a543dc29291038078c77e -->\n",
       "<g id=\"edge9\" class=\"edge\">\n",
       "<title>z_d75e7302821c66349ff25722ebcca91f-&gt;create_function_job_5ba8ef37736a543dc29291038078c77e</title>\n",
       "<path fill=\"none\" stroke=\"black\" d=\"M1371.16,-73.55C1276.33,-62.56 1148.81,-47.78 1050.43,-36.38\"/>\n",
       "<polygon fill=\"black\" stroke=\"black\" points=\"1051.02,-32.93 1040.69,-35.25 1050.22,-39.88 1051.02,-32.93\"/>\n",
       "</g>\n",
       "<!-- y_a9ec4f5f33f0d64e74ed5d9900bceac6 -->\n",
       "<g id=\"node6\" class=\"node\">\n",
       "<title>y_a9ec4f5f33f0d64e74ed5d9900bceac6</title>\n",
       "<ellipse fill=\"none\" stroke=\"black\" cx=\"936.46\" cy=\"-162\" rx=\"27\" ry=\"18\"/>\n",
       "<text text-anchor=\"middle\" x=\"936.46\" y=\"-156.95\" font-family=\"Times,serif\" font-size=\"14.00\">y=2</text>\n",
       "</g>\n",
       "<!-- y_a9ec4f5f33f0d64e74ed5d9900bceac6&#45;&gt;x_8b6e6a40c48b5cbc9bb2330ca1d55a57 -->\n",
       "<g id=\"edge5\" class=\"edge\">\n",
       "<title>y_a9ec4f5f33f0d64e74ed5d9900bceac6-&gt;x_8b6e6a40c48b5cbc9bb2330ca1d55a57</title>\n",
       "<path fill=\"none\" stroke=\"black\" d=\"M916,-149.81C911.04,-147.54 905.66,-145.41 900.46,-144 861.75,-133.53 655.66,-116.83 494.43,-104.97\"/>\n",
       "<polygon fill=\"black\" stroke=\"black\" points=\"495.12,-101.51 484.89,-104.27 494.61,-108.5 495.12,-101.51\"/>\n",
       "</g>\n",
       "<!-- y_a9ec4f5f33f0d64e74ed5d9900bceac6&#45;&gt;y_53c8cca1c3b0ea88b12cb36e9f0231a2 -->\n",
       "<g id=\"edge6\" class=\"edge\">\n",
       "<title>y_a9ec4f5f33f0d64e74ed5d9900bceac6-&gt;y_53c8cca1c3b0ea88b12cb36e9f0231a2</title>\n",
       "<path fill=\"none\" stroke=\"black\" d=\"M928.11,-144.76C924.05,-136.87 919.06,-127.16 914.44,-118.18\"/>\n",
       "<polygon fill=\"black\" stroke=\"black\" points=\"917.65,-116.76 909.96,-109.47 911.42,-119.96 917.65,-116.76\"/>\n",
       "</g>\n",
       "<!-- y_a9ec4f5f33f0d64e74ed5d9900bceac6&#45;&gt;z_d75e7302821c66349ff25722ebcca91f -->\n",
       "<g id=\"edge7\" class=\"edge\">\n",
       "<title>y_a9ec4f5f33f0d64e74ed5d9900bceac6-&gt;z_d75e7302821c66349ff25722ebcca91f</title>\n",
       "<path fill=\"none\" stroke=\"black\" d=\"M963.09,-157.72C1033.87,-149 1230.46,-124.77 1366.17,-108.04\"/>\n",
       "<polygon fill=\"black\" stroke=\"black\" points=\"1366.47,-111.53 1375.97,-106.84 1365.61,-104.59 1366.47,-111.53\"/>\n",
       "</g>\n",
       "</g>\n",
       "</svg>"
      ],
      "text/plain": [
       "<IPython.core.display.SVG object>"
      ]
     },
     "metadata": {},
     "output_type": "display_data"
    }
   ],
   "source": [
    "delayed_object = load_workflow_json(project=pr, file_name=workflow_json_filename)\n",
    "delayed_object.draw()"
   ]
  },
  {
   "cell_type": "code",
   "execution_count": 19,
   "id": "cf80267d-c2b0-4236-bf1d-a57596985fc1",
   "metadata": {},
   "outputs": [
    {
     "name": "stdout",
     "output_type": "stream",
     "text": [
      "The job add_x_and_y_68901482a2c5221cc845f828aabebd27 was saved and received the ID: 8\n",
      "The job add_x_and_y_and_z_b671e81aaa4670d81d7eee509650af8d was saved and received the ID: 9\n"
     ]
    },
    {
     "data": {
      "text/plain": [
       "6"
      ]
     },
     "execution_count": 19,
     "metadata": {},
     "output_type": "execute_result"
    }
   ],
   "source": [
    "delayed_object.pull()"
   ]
  },
  {
   "cell_type": "code",
   "execution_count": null,
   "id": "9d819ed0-689c-46a7-9eff-0afb5ed66efc",
   "metadata": {},
   "outputs": [],
   "source": []
  }
 ],
 "metadata": {
  "kernelspec": {
   "display_name": "Python 3 (ipykernel)",
   "language": "python",
   "name": "python3"
  },
  "language_info": {
   "codemirror_mode": {
    "name": "ipython",
    "version": 3
   },
   "file_extension": ".py",
   "mimetype": "text/x-python",
   "name": "python",
   "nbconvert_exporter": "python",
   "pygments_lexer": "ipython3",
   "version": "3.12.5"
  }
 },
 "nbformat": 4,
 "nbformat_minor": 5
}
