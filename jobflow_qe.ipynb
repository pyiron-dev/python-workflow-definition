{
 "cells": [
  {
   "cell_type": "markdown",
   "metadata": {},
   "source": [
    "# Quantum Espresso Energy Volume Curve Workflow with jobflow"
   ]
  },
  {
   "cell_type": "markdown",
   "metadata": {},
   "source": [
    "## Define workflow with jobflow"
   ]
  },
  {
   "cell_type": "code",
   "execution_count": 1,
   "metadata": {},
   "outputs": [],
   "source": [
    "import numpy as np"
   ]
  },
  {
   "cell_type": "code",
   "execution_count": 2,
   "metadata": {},
   "outputs": [
    {
     "name": "stderr",
     "output_type": "stream",
     "text": [
      "/home/jan/mambaforge/lib/python3.12/site-packages/paramiko/pkey.py:82: CryptographyDeprecationWarning: TripleDES has been moved to cryptography.hazmat.decrepit.ciphers.algorithms.TripleDES and will be removed from cryptography.hazmat.primitives.ciphers.algorithms in 48.0.0.\n",
      "  \"cipher\": algorithms.TripleDES,\n",
      "/home/jan/mambaforge/lib/python3.12/site-packages/paramiko/transport.py:253: CryptographyDeprecationWarning: TripleDES has been moved to cryptography.hazmat.decrepit.ciphers.algorithms.TripleDES and will be removed from cryptography.hazmat.primitives.ciphers.algorithms in 48.0.0.\n",
      "  \"class\": algorithms.TripleDES,\n"
     ]
    }
   ],
   "source": [
    "from jobflow import job, Flow"
   ]
  },
  {
   "cell_type": "code",
   "execution_count": 3,
   "metadata": {},
   "outputs": [],
   "source": [
    "from python_workflow_definition.jobflow import write_workflow_json"
   ]
  },
  {
   "cell_type": "code",
   "execution_count": 4,
   "metadata": {},
   "outputs": [],
   "source": [
    "from quantum_espresso_workflow import (\n",
    "    calculate_qe as _calculate_qe, \n",
    "    generate_structures as _generate_structures, \n",
    "    get_bulk_structure as _get_bulk_structure, \n",
    "    plot_energy_volume_curve as _plot_energy_volume_curve,\n",
    ")"
   ]
  },
  {
   "cell_type": "code",
   "execution_count": 5,
   "metadata": {},
   "outputs": [],
   "source": [
    "workflow_json_filename = \"jobflow_qe.json\""
   ]
  },
  {
   "cell_type": "code",
   "execution_count": 6,
   "metadata": {},
   "outputs": [],
   "source": [
    "calculate_qe = job(_calculate_qe, data=[\"energy\", \"volume\", \"structure\"])\n",
    "generate_structures = job(_generate_structures, data=[f\"s_{i}\" for i in range(100)])\n",
    "plot_energy_volume_curve = job(_plot_energy_volume_curve)\n",
    "get_bulk_structure = job(_get_bulk_structure)"
   ]
  },
  {
   "cell_type": "code",
   "execution_count": 7,
   "metadata": {},
   "outputs": [],
   "source": [
    "pseudopotentials = {\"Al\": \"Al.pbe-n-kjpaw_psl.1.0.0.UPF\"}"
   ]
  },
  {
   "cell_type": "code",
   "execution_count": 8,
   "metadata": {},
   "outputs": [],
   "source": [
    "structure = get_bulk_structure(\n",
    "    element=\"Al\",\n",
    "    a=4.05,\n",
    "    cubic=True,\n",
    ")"
   ]
  },
  {
   "cell_type": "code",
   "execution_count": 9,
   "metadata": {},
   "outputs": [],
   "source": [
    "calc_mini = calculate_qe(\n",
    "    working_directory=\"mini\",\n",
    "    input_dict={\n",
    "        \"structure\": structure.output,\n",
    "        \"pseudopotentials\": pseudopotentials,\n",
    "        \"kpts\": (3, 3, 3),\n",
    "        \"calculation\": \"vc-relax\",\n",
    "        \"smearing\": 0.02,\n",
    "    },\n",
    ")"
   ]
  },
  {
   "cell_type": "code",
   "execution_count": 10,
   "metadata": {},
   "outputs": [],
   "source": [
    "number_of_strains = 5\n",
    "structure_lst = generate_structures(\n",
    "    structure=calc_mini.output.structure,\n",
    "    strain_lst=np.linspace(0.9, 1.1, number_of_strains),\n",
    ")"
   ]
  },
  {
   "cell_type": "code",
   "execution_count": 11,
   "metadata": {},
   "outputs": [],
   "source": [
    "job_strain_lst = []\n",
    "for i in range(number_of_strains):\n",
    "    calc_strain = calculate_qe(\n",
    "        working_directory=\"strain_\" + str(i),\n",
    "        input_dict={\n",
    "            \"structure\": getattr(structure_lst.output, f\"s_{i}\"),\n",
    "            \"pseudopotentials\": pseudopotentials,\n",
    "            \"kpts\": (3, 3, 3),\n",
    "            \"calculation\": \"scf\",\n",
    "            \"smearing\": 0.02,\n",
    "        },\n",
    "    )\n",
    "    job_strain_lst.append(calc_strain)"
   ]
  },
  {
   "cell_type": "code",
   "execution_count": 12,
   "metadata": {},
   "outputs": [],
   "source": [
    "plot = plot_energy_volume_curve(\n",
    "    volume_lst=[job.output.volume for job in job_strain_lst],\n",
    "    energy_lst=[job.output.energy for job in job_strain_lst],\n",
    ")"
   ]
  },
  {
   "cell_type": "code",
   "execution_count": 13,
   "metadata": {},
   "outputs": [],
   "source": [
    "flow = Flow([structure, calc_mini, structure_lst] + job_strain_lst + [plot])"
   ]
  },
  {
   "cell_type": "code",
   "execution_count": 14,
   "metadata": {},
   "outputs": [],
   "source": [
    "write_workflow_json(flow=flow, file_name=workflow_json_filename)"
   ]
  },
  {
   "cell_type": "code",
   "execution_count": 15,
   "metadata": {},
   "outputs": [
    {
     "name": "stdout",
     "output_type": "stream",
     "text": [
      "{\"nodes\": {\"0\": \"quantum_espresso_workflow.get_bulk_structure\", \"1\": \"quantum_espresso_workflow.calculate_qe\", \"2\": \"quantum_espresso_workflow.generate_structures\", \"3\": \"quantum_espresso_workflow.calculate_qe\", \"4\": \"quantum_espresso_workflow.calculate_qe\", \"5\": \"quantum_espresso_workflow.calculate_qe\", \"6\": \"quantum_espresso_workflow.calculate_qe\", \"7\": \"quantum_espresso_workflow.calculate_qe\", \"8\": \"quantum_espresso_workflow.plot_energy_volume_curve\", \"9\": \"Al\", \"10\": 4.05, \"11\": true, \"12\": \"mini\", \"13\": \"python_workflow_definition.shared.get_dict\", \"14\": {\"Al\": \"Al.pbe-n-kjpaw_psl.1.0.0.UPF\"}, \"15\": [3, 3, 3], \"16\": \"vc-relax\", \"17\": 0.02, \"18\": [0.9, 0.9500000000000001, 1.0, 1.05, 1.1], \"19\": \"strain_0\", \"20\": \"python_workflow_definition.shared.get_dict\", \"21\": \"scf\", \"22\": \"strain_1\", \"23\": \"python_workflow_definition.shared.get_dict\", \"24\": \"strain_2\", \"25\": \"python_workflow_definition.shared.get_dict\", \"26\": \"strain_3\", \"27\": \"python_workflow_definition.shared.get_dict\", \"28\": \"strain_4\", \"29\": \"python_workflow_definition.shared.get_dict\", \"30\": \"python_workflow_definition.shared.get_list\", \"31\": \"python_workflow_definition.shared.get_list\"}, \"edges\": [{\"target\": 0, \"targetHandle\": \"element\", \"source\": 9, \"sourceHandle\": null}, {\"target\": 0, \"targetHandle\": \"a\", \"source\": 10, \"sourceHandle\": null}, {\"target\": 0, \"targetHandle\": \"cubic\", \"source\": 11, \"sourceHandle\": null}, {\"target\": 1, \"targetHandle\": \"working_directory\", \"source\": 12, \"sourceHandle\": null}, {\"target\": 13, \"targetHandle\": \"structure\", \"source\": 0, \"sourceHandle\": null}, {\"target\": 13, \"targetHandle\": \"pseudopotentials\", \"source\": 14, \"sourceHandle\": null}, {\"target\": 13, \"targetHandle\": \"kpts\", \"source\": 15, \"sourceHandle\": null}, {\"target\": 13, \"targetHandle\": \"calculation\", \"source\": 16, \"sourceHandle\": null}, {\"target\": 13, \"targetHandle\": \"smearing\", \"source\": 17, \"sourceHandle\": null}, {\"target\": 1, \"targetHandle\": \"input_dict\", \"source\": 13, \"sourceHandle\": null}, {\"target\": 2, \"targetHandle\": \"structure\", \"source\": 1, \"sourceHandle\": \"structure\"}, {\"target\": 2, \"targetHandle\": \"strain_lst\", \"source\": 18, \"sourceHandle\": null}, {\"target\": 3, \"targetHandle\": \"working_directory\", \"source\": 19, \"sourceHandle\": null}, {\"target\": 20, \"targetHandle\": \"structure\", \"source\": 2, \"sourceHandle\": \"s_0\"}, {\"target\": 20, \"targetHandle\": \"pseudopotentials\", \"source\": 14, \"sourceHandle\": null}, {\"target\": 20, \"targetHandle\": \"kpts\", \"source\": 15, \"sourceHandle\": null}, {\"target\": 20, \"targetHandle\": \"calculation\", \"source\": 21, \"sourceHandle\": null}, {\"target\": 20, \"targetHandle\": \"smearing\", \"source\": 17, \"sourceHandle\": null}, {\"target\": 3, \"targetHandle\": \"input_dict\", \"source\": 20, \"sourceHandle\": null}, {\"target\": 4, \"targetHandle\": \"working_directory\", \"source\": 22, \"sourceHandle\": null}, {\"target\": 23, \"targetHandle\": \"structure\", \"source\": 2, \"sourceHandle\": \"s_1\"}, {\"target\": 23, \"targetHandle\": \"pseudopotentials\", \"source\": 14, \"sourceHandle\": null}, {\"target\": 23, \"targetHandle\": \"kpts\", \"source\": 15, \"sourceHandle\": null}, {\"target\": 23, \"targetHandle\": \"calculation\", \"source\": 21, \"sourceHandle\": null}, {\"target\": 23, \"targetHandle\": \"smearing\", \"source\": 17, \"sourceHandle\": null}, {\"target\": 4, \"targetHandle\": \"input_dict\", \"source\": 23, \"sourceHandle\": null}, {\"target\": 5, \"targetHandle\": \"working_directory\", \"source\": 24, \"sourceHandle\": null}, {\"target\": 25, \"targetHandle\": \"structure\", \"source\": 2, \"sourceHandle\": \"s_2\"}, {\"target\": 25, \"targetHandle\": \"pseudopotentials\", \"source\": 14, \"sourceHandle\": null}, {\"target\": 25, \"targetHandle\": \"kpts\", \"source\": 15, \"sourceHandle\": null}, {\"target\": 25, \"targetHandle\": \"calculation\", \"source\": 21, \"sourceHandle\": null}, {\"target\": 25, \"targetHandle\": \"smearing\", \"source\": 17, \"sourceHandle\": null}, {\"target\": 5, \"targetHandle\": \"input_dict\", \"source\": 25, \"sourceHandle\": null}, {\"target\": 6, \"targetHandle\": \"working_directory\", \"source\": 26, \"sourceHandle\": null}, {\"target\": 27, \"targetHandle\": \"structure\", \"source\": 2, \"sourceHandle\": \"s_3\"}, {\"target\": 27, \"targetHandle\": \"pseudopotentials\", \"source\": 14, \"sourceHandle\": null}, {\"target\": 27, \"targetHandle\": \"kpts\", \"source\": 15, \"sourceHandle\": null}, {\"target\": 27, \"targetHandle\": \"calculation\", \"source\": 21, \"sourceHandle\": null}, {\"target\": 27, \"targetHandle\": \"smearing\", \"source\": 17, \"sourceHandle\": null}, {\"target\": 6, \"targetHandle\": \"input_dict\", \"source\": 27, \"sourceHandle\": null}, {\"target\": 7, \"targetHandle\": \"working_directory\", \"source\": 28, \"sourceHandle\": null}, {\"target\": 29, \"targetHandle\": \"structure\", \"source\": 2, \"sourceHandle\": \"s_4\"}, {\"target\": 29, \"targetHandle\": \"pseudopotentials\", \"source\": 14, \"sourceHandle\": null}, {\"target\": 29, \"targetHandle\": \"kpts\", \"source\": 15, \"sourceHandle\": null}, {\"target\": 29, \"targetHandle\": \"calculation\", \"source\": 21, \"sourceHandle\": null}, {\"target\": 29, \"targetHandle\": \"smearing\", \"source\": 17, \"sourceHandle\": null}, {\"target\": 7, \"targetHandle\": \"input_dict\", \"source\": 29, \"sourceHandle\": null}, {\"target\": 30, \"targetHandle\": \"0\", \"source\": 3, \"sourceHandle\": \"volume\"}, {\"target\": 30, \"targetHandle\": \"1\", \"source\": 4, \"sourceHandle\": \"volume\"}, {\"target\": 30, \"targetHandle\": \"2\", \"source\": 5, \"sourceHandle\": \"volume\"}, {\"target\": 30, \"targetHandle\": \"3\", \"source\": 6, \"sourceHandle\": \"volume\"}, {\"target\": 30, \"targetHandle\": \"4\", \"source\": 7, \"sourceHandle\": \"volume\"}, {\"target\": 8, \"targetHandle\": \"volume_lst\", \"source\": 30, \"sourceHandle\": null}, {\"target\": 31, \"targetHandle\": \"0\", \"source\": 3, \"sourceHandle\": \"energy\"}, {\"target\": 31, \"targetHandle\": \"1\", \"source\": 4, \"sourceHandle\": \"energy\"}, {\"target\": 31, \"targetHandle\": \"2\", \"source\": 5, \"sourceHandle\": \"energy\"}, {\"target\": 31, \"targetHandle\": \"3\", \"source\": 6, \"sourceHandle\": \"energy\"}, {\"target\": 31, \"targetHandle\": \"4\", \"source\": 7, \"sourceHandle\": \"energy\"}, {\"target\": 8, \"targetHandle\": \"energy_lst\", \"source\": 31, \"sourceHandle\": null}]}"
     ]
    }
   ],
   "source": [
    "!cat {workflow_json_filename}"
   ]
  },
  {
   "cell_type": "markdown",
   "metadata": {},
   "source": [
    "## Load Workflow with aiida"
   ]
  },
  {
   "cell_type": "code",
   "execution_count": 16,
   "metadata": {},
   "outputs": [
    {
     "data": {
      "text/plain": [
       "Profile<uuid='c08748df7ab74ec08c14e5f16cebc987' name='pwd'>"
      ]
     },
     "execution_count": 16,
     "metadata": {},
     "output_type": "execute_result"
    }
   ],
   "source": [
    "from aiida import load_profile\n",
    "\n",
    "load_profile()"
   ]
  },
  {
   "cell_type": "code",
   "execution_count": 17,
   "metadata": {},
   "outputs": [],
   "source": [
    "from python_workflow_definition.aiida import load_workflow_json"
   ]
  },
  {
   "cell_type": "code",
   "execution_count": 18,
   "metadata": {},
   "outputs": [],
   "source": [
    "wg = load_workflow_json(workflow_json_filename)"
   ]
  },
  {
   "cell_type": "code",
   "execution_count": 19,
   "metadata": {},
   "outputs": [
    {
     "data": {
      "application/vnd.jupyter.widget-view+json": {
       "model_id": "6ae53aad4c0e45789225a46b5b096434",
       "version_major": 2,
       "version_minor": 1
      },
      "text/plain": [
       "NodeGraphWidget(settings={'minimap': True}, style={'width': '90%', 'height': '600px'}, value={'name': 'WorkGra…"
      ]
     },
     "execution_count": 19,
     "metadata": {},
     "output_type": "execute_result"
    }
   ],
   "source": [
    "wg"
   ]
  },
  {
   "cell_type": "code",
   "execution_count": 20,
   "metadata": {},
   "outputs": [
    {
     "name": "stderr",
     "output_type": "stream",
     "text": [
      "03/22/2025 05:25:44 PM <77053> aiida.orm.nodes.process.workflow.workchain.WorkChainNode: [REPORT] [328|WorkGraphEngine|continue_workgraph]: tasks ready to run: pickle_node10,pickle_node11,pickle_node12,pickle_node13,pickle_node15,pickle_node16,pickle_node17,pickle_node18,pickle_node19,pickle_node20,pickle_node22,pickle_node23,pickle_node25,pickle_node27,pickle_node29\n",
      "03/22/2025 05:26:05 PM <77053> aiida.orm.nodes.process.workflow.workchain.WorkChainNode: [REPORT] [328|WorkGraphEngine|on_wait]: Process status: Waiting for child processes: 335, 342, 349, 356, 363, 370, 377, 384, 391, 398, 405, 412, 419, 426, 433\n",
      "03/22/2025 05:27:16 PM <77053> aiida.orm.nodes.process.workflow.workchain.WorkChainNode: [REPORT] [328|WorkGraphEngine|update_task_state]: Task: pickle_node10, type: PYTHONJOB, finished.\n",
      "03/22/2025 05:27:16 PM <77053> aiida.orm.nodes.process.workflow.workchain.WorkChainNode: [REPORT] [328|WorkGraphEngine|update_task_state]: Task: pickle_node11, type: PYTHONJOB, finished.\n"
     ]
    },
    {
     "name": "stdout",
     "output_type": "stream",
     "text": [
      "invalid state\n"
     ]
    },
    {
     "name": "stderr",
     "output_type": "stream",
     "text": [
      "03/22/2025 05:27:17 PM <77053> aiida.orm.nodes.process.workflow.workchain.WorkChainNode: [REPORT] [328|WorkGraphEngine|update_task_state]: Task: pickle_node12, type: PYTHONJOB, finished.\n"
     ]
    },
    {
     "name": "stdout",
     "output_type": "stream",
     "text": [
      "invalid state\n"
     ]
    },
    {
     "name": "stderr",
     "output_type": "stream",
     "text": [
      "03/22/2025 05:27:17 PM <77053> aiida.orm.nodes.process.workflow.workchain.WorkChainNode: [REPORT] [328|WorkGraphEngine|update_task_state]: Task: pickle_node13, type: PYTHONJOB, finished.\n"
     ]
    },
    {
     "name": "stdout",
     "output_type": "stream",
     "text": [
      "invalid state\n"
     ]
    },
    {
     "name": "stderr",
     "output_type": "stream",
     "text": [
      "03/22/2025 05:27:18 PM <77053> aiida.orm.nodes.process.workflow.workchain.WorkChainNode: [REPORT] [328|WorkGraphEngine|update_task_state]: Task: pickle_node15, type: PYTHONJOB, finished.\n"
     ]
    },
    {
     "name": "stdout",
     "output_type": "stream",
     "text": [
      "invalid state\n"
     ]
    },
    {
     "name": "stderr",
     "output_type": "stream",
     "text": [
      "03/22/2025 05:27:18 PM <77053> aiida.orm.nodes.process.workflow.workchain.WorkChainNode: [REPORT] [328|WorkGraphEngine|update_task_state]: Task: pickle_node16, type: PYTHONJOB, finished.\n"
     ]
    },
    {
     "name": "stdout",
     "output_type": "stream",
     "text": [
      "invalid state\n"
     ]
    },
    {
     "name": "stderr",
     "output_type": "stream",
     "text": [
      "03/22/2025 05:27:19 PM <77053> aiida.orm.nodes.process.workflow.workchain.WorkChainNode: [REPORT] [328|WorkGraphEngine|update_task_state]: Task: pickle_node17, type: PYTHONJOB, finished.\n"
     ]
    },
    {
     "name": "stdout",
     "output_type": "stream",
     "text": [
      "invalid state\n"
     ]
    },
    {
     "name": "stderr",
     "output_type": "stream",
     "text": [
      "03/22/2025 05:27:19 PM <77053> aiida.orm.nodes.process.workflow.workchain.WorkChainNode: [REPORT] [328|WorkGraphEngine|update_task_state]: Task: pickle_node18, type: PYTHONJOB, finished.\n"
     ]
    },
    {
     "name": "stdout",
     "output_type": "stream",
     "text": [
      "invalid state\n"
     ]
    },
    {
     "name": "stderr",
     "output_type": "stream",
     "text": [
      "03/22/2025 05:27:20 PM <77053> aiida.orm.nodes.process.workflow.workchain.WorkChainNode: [REPORT] [328|WorkGraphEngine|update_task_state]: Task: pickle_node19, type: PYTHONJOB, finished.\n"
     ]
    },
    {
     "name": "stdout",
     "output_type": "stream",
     "text": [
      "invalid state\n"
     ]
    },
    {
     "name": "stderr",
     "output_type": "stream",
     "text": [
      "03/22/2025 05:27:20 PM <77053> aiida.orm.nodes.process.workflow.workchain.WorkChainNode: [REPORT] [328|WorkGraphEngine|update_task_state]: Task: pickle_node20, type: PYTHONJOB, finished.\n"
     ]
    },
    {
     "name": "stdout",
     "output_type": "stream",
     "text": [
      "invalid state\n"
     ]
    },
    {
     "name": "stderr",
     "output_type": "stream",
     "text": [
      "03/22/2025 05:27:21 PM <77053> aiida.orm.nodes.process.workflow.workchain.WorkChainNode: [REPORT] [328|WorkGraphEngine|update_task_state]: Task: pickle_node22, type: PYTHONJOB, finished.\n"
     ]
    },
    {
     "name": "stdout",
     "output_type": "stream",
     "text": [
      "invalid state\n"
     ]
    },
    {
     "name": "stderr",
     "output_type": "stream",
     "text": [
      "03/22/2025 05:27:21 PM <77053> aiida.orm.nodes.process.workflow.workchain.WorkChainNode: [REPORT] [328|WorkGraphEngine|update_task_state]: Task: pickle_node23, type: PYTHONJOB, finished.\n"
     ]
    },
    {
     "name": "stdout",
     "output_type": "stream",
     "text": [
      "invalid state\n"
     ]
    },
    {
     "name": "stderr",
     "output_type": "stream",
     "text": [
      "03/22/2025 05:27:22 PM <77053> aiida.orm.nodes.process.workflow.workchain.WorkChainNode: [REPORT] [328|WorkGraphEngine|update_task_state]: Task: pickle_node25, type: PYTHONJOB, finished.\n"
     ]
    },
    {
     "name": "stdout",
     "output_type": "stream",
     "text": [
      "invalid state\n"
     ]
    },
    {
     "name": "stderr",
     "output_type": "stream",
     "text": [
      "03/22/2025 05:27:22 PM <77053> aiida.orm.nodes.process.workflow.workchain.WorkChainNode: [REPORT] [328|WorkGraphEngine|update_task_state]: Task: pickle_node27, type: PYTHONJOB, finished.\n"
     ]
    },
    {
     "name": "stdout",
     "output_type": "stream",
     "text": [
      "invalid state\n"
     ]
    },
    {
     "name": "stderr",
     "output_type": "stream",
     "text": [
      "03/22/2025 05:27:23 PM <77053> aiida.orm.nodes.process.workflow.workchain.WorkChainNode: [REPORT] [328|WorkGraphEngine|update_task_state]: Task: pickle_node29, type: PYTHONJOB, finished.\n"
     ]
    },
    {
     "name": "stdout",
     "output_type": "stream",
     "text": [
      "invalid state\n"
     ]
    },
    {
     "name": "stderr",
     "output_type": "stream",
     "text": [
      "03/22/2025 05:27:29 PM <77053> aiida.orm.nodes.process.workflow.workchain.WorkChainNode: [REPORT] [328|WorkGraphEngine|continue_workgraph]: tasks ready to run: get_bulk_structure1\n",
      "03/22/2025 05:27:31 PM <77053> aiida.orm.nodes.process.workflow.workchain.WorkChainNode: [REPORT] [328|WorkGraphEngine|on_wait]: Process status: Waiting for child processes: 500\n",
      "03/22/2025 05:27:43 PM <77053> aiida.orm.nodes.process.workflow.workchain.WorkChainNode: [REPORT] [328|WorkGraphEngine|update_task_state]: Task: get_bulk_structure1, type: PYTHONJOB, finished.\n",
      "03/22/2025 05:27:48 PM <77053> aiida.orm.nodes.process.workflow.workchain.WorkChainNode: [REPORT] [328|WorkGraphEngine|continue_workgraph]: tasks ready to run: get_dict14\n",
      "03/22/2025 05:27:51 PM <77053> aiida.orm.nodes.process.workflow.workchain.WorkChainNode: [REPORT] [328|WorkGraphEngine|on_wait]: Process status: Waiting for child processes: 511\n",
      "03/22/2025 05:28:02 PM <77053> aiida.orm.nodes.process.workflow.workchain.WorkChainNode: [REPORT] [328|WorkGraphEngine|update_task_state]: Task: get_dict14, type: PYTHONJOB, finished.\n",
      "03/22/2025 05:28:07 PM <77053> aiida.orm.nodes.process.workflow.workchain.WorkChainNode: [REPORT] [328|WorkGraphEngine|continue_workgraph]: tasks ready to run: calculate_qe2\n",
      "03/22/2025 05:28:10 PM <77053> aiida.orm.nodes.process.workflow.workchain.WorkChainNode: [REPORT] [328|WorkGraphEngine|on_wait]: Process status: Waiting for child processes: 522\n",
      "03/22/2025 05:28:48 PM <77053> aiida.parser.PythonJobParser: [WARNING] Found extra results that are not included in the output: dict_keys(['energy', 'volume'])\n",
      "03/22/2025 05:28:49 PM <77053> aiida.orm.nodes.process.workflow.workchain.WorkChainNode: [REPORT] [328|WorkGraphEngine|update_task_state]: Task: calculate_qe2, type: PYTHONJOB, finished.\n",
      "03/22/2025 05:28:55 PM <77053> aiida.orm.nodes.process.workflow.workchain.WorkChainNode: [REPORT] [328|WorkGraphEngine|continue_workgraph]: tasks ready to run: generate_structures3\n",
      "03/22/2025 05:28:57 PM <77053> aiida.orm.nodes.process.workflow.workchain.WorkChainNode: [REPORT] [328|WorkGraphEngine|on_wait]: Process status: Waiting for child processes: 533\n",
      "03/22/2025 05:29:09 PM <77053> aiida.orm.nodes.process.workflow.workchain.WorkChainNode: [REPORT] [328|WorkGraphEngine|update_task_state]: Task: generate_structures3, type: PYTHONJOB, finished.\n",
      "03/22/2025 05:29:16 PM <77053> aiida.orm.nodes.process.workflow.workchain.WorkChainNode: [REPORT] [328|WorkGraphEngine|continue_workgraph]: tasks ready to run: get_dict21,get_dict24,get_dict26,get_dict28,get_dict30\n",
      "03/22/2025 05:29:24 PM <77053> aiida.orm.nodes.process.workflow.workchain.WorkChainNode: [REPORT] [328|WorkGraphEngine|on_wait]: Process status: Waiting for child processes: 548, 555, 562, 569, 576\n",
      "03/22/2025 05:29:52 PM <77053> aiida.orm.nodes.process.workflow.workchain.WorkChainNode: [REPORT] [328|WorkGraphEngine|update_task_state]: Task: get_dict21, type: PYTHONJOB, finished.\n",
      "03/22/2025 05:29:52 PM <77053> aiida.orm.nodes.process.workflow.workchain.WorkChainNode: [REPORT] [328|WorkGraphEngine|update_task_state]: Task: get_dict24, type: PYTHONJOB, finished.\n"
     ]
    },
    {
     "name": "stdout",
     "output_type": "stream",
     "text": [
      "invalid state\n"
     ]
    },
    {
     "name": "stderr",
     "output_type": "stream",
     "text": [
      "03/22/2025 05:29:53 PM <77053> aiida.orm.nodes.process.workflow.workchain.WorkChainNode: [REPORT] [328|WorkGraphEngine|update_task_state]: Task: get_dict26, type: PYTHONJOB, finished.\n"
     ]
    },
    {
     "name": "stdout",
     "output_type": "stream",
     "text": [
      "invalid state\n"
     ]
    },
    {
     "name": "stderr",
     "output_type": "stream",
     "text": [
      "03/22/2025 05:29:53 PM <77053> aiida.orm.nodes.process.workflow.workchain.WorkChainNode: [REPORT] [328|WorkGraphEngine|update_task_state]: Task: get_dict28, type: PYTHONJOB, finished.\n"
     ]
    },
    {
     "name": "stdout",
     "output_type": "stream",
     "text": [
      "invalid state\n"
     ]
    },
    {
     "name": "stderr",
     "output_type": "stream",
     "text": [
      "03/22/2025 05:29:54 PM <77053> aiida.orm.nodes.process.workflow.workchain.WorkChainNode: [REPORT] [328|WorkGraphEngine|update_task_state]: Task: get_dict30, type: PYTHONJOB, finished.\n"
     ]
    },
    {
     "name": "stdout",
     "output_type": "stream",
     "text": [
      "invalid state\n"
     ]
    },
    {
     "name": "stderr",
     "output_type": "stream",
     "text": [
      "03/22/2025 05:29:59 PM <77053> aiida.orm.nodes.process.workflow.workchain.WorkChainNode: [REPORT] [328|WorkGraphEngine|continue_workgraph]: tasks ready to run: calculate_qe4,calculate_qe5,calculate_qe6,calculate_qe7,calculate_qe8\n",
      "03/22/2025 05:30:07 PM <77053> aiida.orm.nodes.process.workflow.workchain.WorkChainNode: [REPORT] [328|WorkGraphEngine|on_wait]: Process status: Waiting for child processes: 603, 610, 617, 624, 631\n",
      "03/22/2025 05:30:41 PM <77053> aiida.parser.PythonJobParser: [WARNING] Found extra results that are not included in the output: dict_keys(['structure'])\n",
      "03/22/2025 05:30:42 PM <77053> aiida.orm.nodes.process.workflow.workchain.WorkChainNode: [REPORT] [328|WorkGraphEngine|update_task_state]: Task: calculate_qe4, type: PYTHONJOB, finished.\n",
      "03/22/2025 05:30:47 PM <77053> aiida.orm.nodes.process.workflow.workchain.WorkChainNode: [REPORT] [328|WorkGraphEngine|continue_workgraph]: tasks ready to run: \n",
      "03/22/2025 05:30:50 PM <77053> aiida.orm.nodes.process.workflow.workchain.WorkChainNode: [REPORT] [328|WorkGraphEngine|on_wait]: Process status: Waiting for child processes: 610, 617, 624, 631\n",
      "03/22/2025 05:30:58 PM <77053> aiida.parser.PythonJobParser: [WARNING] Found extra results that are not included in the output: dict_keys(['structure'])\n",
      "03/22/2025 05:30:59 PM <77053> aiida.orm.nodes.process.workflow.workchain.WorkChainNode: [REPORT] [328|WorkGraphEngine|update_task_state]: Task: calculate_qe5, type: PYTHONJOB, finished.\n",
      "03/22/2025 05:31:06 PM <77053> aiida.orm.nodes.process.workflow.workchain.WorkChainNode: [REPORT] [328|WorkGraphEngine|continue_workgraph]: tasks ready to run: \n",
      "03/22/2025 05:31:07 PM <77053> aiida.orm.nodes.process.workflow.workchain.WorkChainNode: [REPORT] [328|WorkGraphEngine|on_wait]: Process status: Waiting for child processes: 617, 624, 631\n",
      "03/22/2025 05:31:14 PM <77053> aiida.parser.PythonJobParser: [WARNING] Found extra results that are not included in the output: dict_keys(['structure'])\n",
      "03/22/2025 05:31:15 PM <77053> aiida.parser.PythonJobParser: [WARNING] Found extra results that are not included in the output: dict_keys(['structure'])\n",
      "03/22/2025 05:31:15 PM <77053> aiida.parser.PythonJobParser: [WARNING] Found extra results that are not included in the output: dict_keys(['structure'])\n",
      "03/22/2025 05:31:16 PM <77053> aiida.orm.nodes.process.workflow.workchain.WorkChainNode: [REPORT] [328|WorkGraphEngine|update_task_state]: Task: calculate_qe6, type: PYTHONJOB, finished.\n",
      "03/22/2025 05:31:16 PM <77053> aiida.orm.nodes.process.workflow.workchain.WorkChainNode: [REPORT] [328|WorkGraphEngine|update_task_state]: Task: calculate_qe7, type: PYTHONJOB, finished.\n"
     ]
    },
    {
     "name": "stdout",
     "output_type": "stream",
     "text": [
      "invalid state\n"
     ]
    },
    {
     "name": "stderr",
     "output_type": "stream",
     "text": [
      "03/22/2025 05:31:17 PM <77053> aiida.orm.nodes.process.workflow.workchain.WorkChainNode: [REPORT] [328|WorkGraphEngine|update_task_state]: Task: calculate_qe8, type: PYTHONJOB, finished.\n"
     ]
    },
    {
     "name": "stdout",
     "output_type": "stream",
     "text": [
      "invalid state\n"
     ]
    },
    {
     "name": "stderr",
     "output_type": "stream",
     "text": [
      "03/22/2025 05:31:22 PM <77053> aiida.orm.nodes.process.workflow.workchain.WorkChainNode: [REPORT] [328|WorkGraphEngine|continue_workgraph]: tasks ready to run: get_list31,get_list32\n",
      "03/22/2025 05:31:27 PM <77053> aiida.orm.nodes.process.workflow.workchain.WorkChainNode: [REPORT] [328|WorkGraphEngine|on_wait]: Process status: Waiting for child processes: 663, 670\n",
      "03/22/2025 05:31:42 PM <77053> aiida.orm.nodes.process.workflow.workchain.WorkChainNode: [REPORT] [328|WorkGraphEngine|update_task_state]: Task: get_list31, type: PYTHONJOB, finished.\n",
      "03/22/2025 05:31:42 PM <77053> aiida.orm.nodes.process.workflow.workchain.WorkChainNode: [REPORT] [328|WorkGraphEngine|update_task_state]: Task: get_list32, type: PYTHONJOB, finished.\n"
     ]
    },
    {
     "name": "stdout",
     "output_type": "stream",
     "text": [
      "invalid state\n"
     ]
    },
    {
     "name": "stderr",
     "output_type": "stream",
     "text": [
      "03/22/2025 05:31:47 PM <77053> aiida.orm.nodes.process.workflow.workchain.WorkChainNode: [REPORT] [328|WorkGraphEngine|continue_workgraph]: tasks ready to run: plot_energy_volume_curve9\n",
      "03/22/2025 05:31:50 PM <77053> aiida.orm.nodes.process.workflow.workchain.WorkChainNode: [REPORT] [328|WorkGraphEngine|on_wait]: Process status: Waiting for child processes: 685\n",
      "03/22/2025 05:32:04 PM <77053> aiida.orm.nodes.process.workflow.workchain.WorkChainNode: [REPORT] [328|WorkGraphEngine|update_task_state]: Task: plot_energy_volume_curve9, type: PYTHONJOB, finished.\n",
      "03/22/2025 05:32:09 PM <77053> aiida.orm.nodes.process.workflow.workchain.WorkChainNode: [REPORT] [328|WorkGraphEngine|continue_workgraph]: tasks ready to run: \n",
      "03/22/2025 05:32:11 PM <77053> aiida.orm.nodes.process.workflow.workchain.WorkChainNode: [REPORT] [328|WorkGraphEngine|finalize]: Finalize workgraph.\n"
     ]
    }
   ],
   "source": [
    "result = wg.run()"
   ]
  },
  {
   "cell_type": "code",
   "execution_count": 21,
   "metadata": {},
   "outputs": [
    {
     "data": {
      "image/png": "[encoded data removed]",
      "text/plain": [
       "<IPython.core.display.Image object>"
      ]
     },
     "metadata": {},
     "output_type": "display_data"
    }
   ],
   "source": [
    "from IPython.display import Image, display\n",
    "\n",
    "plot_task = [t for t in wg.tasks if t.name.startswith('plot_energy_volume_curve')][0]\n",
    "plot_file = f\"{plot_task.node.get_remote_workdir()}/evcurve.png\"\n",
    "\n",
    "display(Image(filename=str(plot_file)))\n"
   ]
  },
  {
   "cell_type": "markdown",
   "metadata": {},
   "source": [
    "## Load Workflow with pyiron_base"
   ]
  },
  {
   "cell_type": "code",
   "execution_count": 22,
   "metadata": {},
   "outputs": [],
   "source": [
    "from pyiron_base import Project"
   ]
  },
  {
   "cell_type": "code",
   "execution_count": 23,
   "metadata": {},
   "outputs": [],
   "source": [
    "from python_workflow_definition.pyiron_base import load_workflow_json"
   ]
  },
  {
   "cell_type": "code",
   "execution_count": 24,
   "metadata": {},
   "outputs": [
    {
     "data": {
      "application/vnd.jupyter.widget-view+json": {
       "model_id": "a850e49d3d5c4eddb02cdff71ddd2065",
       "version_major": 2,
       "version_minor": 0
      },
      "text/plain": [
       "0it [00:00, ?it/s]"
      ]
     },
     "metadata": {},
     "output_type": "display_data"
    }
   ],
   "source": [
    "pr = Project(\"test\")\n",
    "pr.remove_jobs(recursive=True, silently=True)"
   ]
  },
  {
   "cell_type": "code",
   "execution_count": 25,
   "metadata": {},
   "outputs": [
    {
     "data": {
      "image/svg+xml": [
       "<svg xmlns=\"http://www.w3.org/2000/svg\" xmlns:xlink=\"http://www.w3.org/1999/xlink\" width=\"6022pt\" height=\"620pt\" viewBox=\"0.00 0.00 6022.31 620.00\">\n",
       "<g id=\"graph0\" class=\"graph\" transform=\"scale(1 1) rotate(0) translate(4 616)\">\n",
       "<polygon fill=\"white\" stroke=\"none\" points=\"-4,4 -4,-616 6018.31,-616 6018.31,4 -4,4\"/>\n",
       "<!-- create_function_job_e3cf7382da1f89333d5638766d8f35d1 -->\n",
       "<g id=\"node1\" class=\"node\">\n",
       "<title>create_function_job_e3cf7382da1f89333d5638766d8f35d1</title>\n",
       "<ellipse fill=\"none\" stroke=\"black\" cx=\"3006.39\" cy=\"-18\" rx=\"361\" ry=\"18\"/>\n",
       "<text text-anchor=\"middle\" x=\"3006.39\" y=\"-12.95\" font-family=\"Times,serif\" font-size=\"14.00\">create_function_job=&lt;pyiron_base.project.delayed.DelayedObject object at 0x7f6dbf1d1ac0&gt;</text>\n",
       "</g>\n",
       "<!-- volume_lst_827680783f0748a5c1484d35a17d3098 -->\n",
       "<g id=\"node2\" class=\"node\">\n",
       "<title>volume_lst_827680783f0748a5c1484d35a17d3098</title>\n",
       "<ellipse fill=\"none\" stroke=\"black\" cx=\"2669.39\" cy=\"-90\" rx=\"329.78\" ry=\"18\"/>\n",
       "<text text-anchor=\"middle\" x=\"2669.39\" y=\"-84.95\" font-family=\"Times,serif\" font-size=\"14.00\">volume_lst=&lt;pyiron_base.project.delayed.DelayedObject object at 0x7f6dbf1d1760&gt;</text>\n",
       "</g>\n",
       "<!-- volume_lst_827680783f0748a5c1484d35a17d3098&#45;&gt;create_function_job_e3cf7382da1f89333d5638766d8f35d1 -->\n",
       "<g id=\"edge1\" class=\"edge\">\n",
       "<title>volume_lst_827680783f0748a5c1484d35a17d3098-&gt;create_function_job_e3cf7382da1f89333d5638766d8f35d1</title>\n",
       "<path fill=\"none\" stroke=\"black\" d=\"M2750.54,-72.14C2799.62,-61.95 2862.37,-48.92 2913.44,-38.31\"/>\n",
       "<polygon fill=\"black\" stroke=\"black\" points=\"2913.92,-41.78 2923,-36.32 2912.5,-34.93 2913.92,-41.78\"/>\n",
       "</g>\n",
       "<!-- 0_9cbbf4500eced430f69780421606e9d0 -->\n",
       "<g id=\"node3\" class=\"node\">\n",
       "<title>0_9cbbf4500eced430f69780421606e9d0</title>\n",
       "<ellipse fill=\"none\" stroke=\"black\" cx=\"1497.39\" cy=\"-162\" rx=\"292.92\" ry=\"18\"/>\n",
       "<text text-anchor=\"middle\" x=\"1497.39\" y=\"-156.95\" font-family=\"Times,serif\" font-size=\"14.00\">0=&lt;pyiron_base.project.delayed.DelayedObject object at 0x7f6dbf1d1130&gt;</text>\n",
       "</g>\n",
       "<!-- 0_9cbbf4500eced430f69780421606e9d0&#45;&gt;volume_lst_827680783f0748a5c1484d35a17d3098 -->\n",
       "<g id=\"edge2\" class=\"edge\">\n",
       "<title>0_9cbbf4500eced430f69780421606e9d0-&gt;volume_lst_827680783f0748a5c1484d35a17d3098</title>\n",
       "<path fill=\"none\" stroke=\"black\" d=\"M1702.21,-148.77C1908.73,-136.43 2226.83,-117.43 2441.29,-104.62\"/>\n",
       "<polygon fill=\"black\" stroke=\"black\" points=\"2441.42,-108.12 2451.19,-104.03 2441,-101.13 2441.42,-108.12\"/>\n",
       "</g>\n",
       "<!-- working_directory_2e9abb255f1a31f7d29b4451ad422add -->\n",
       "<g id=\"node4\" class=\"node\">\n",
       "<title>working_directory_2e9abb255f1a31f7d29b4451ad422add</title>\n",
       "<ellipse fill=\"none\" stroke=\"black\" cx=\"1592.39\" cy=\"-234\" rx=\"114.82\" ry=\"18\"/>\n",
       "<text text-anchor=\"middle\" x=\"1592.39\" y=\"-228.95\" font-family=\"Times,serif\" font-size=\"14.00\">working_directory=strain_0</text>\n",
       "</g>\n",
       "<!-- working_directory_2e9abb255f1a31f7d29b4451ad422add&#45;&gt;0_9cbbf4500eced430f69780421606e9d0 -->\n",
       "<g id=\"edge3\" class=\"edge\">\n",
       "<title>working_directory_2e9abb255f1a31f7d29b4451ad422add-&gt;0_9cbbf4500eced430f69780421606e9d0</title>\n",
       "<path fill=\"none\" stroke=\"black\" d=\"M1569.39,-216.05C1557.55,-207.33 1542.91,-196.54 1529.93,-186.98\"/>\n",
       "<polygon fill=\"black\" stroke=\"black\" points=\"1532.18,-184.29 1522.05,-181.17 1528.03,-189.92 1532.18,-184.29\"/>\n",
       "</g>\n",
       "<!-- 0_34b16fa51aa55c4b2edc220ba6b4c05a -->\n",
       "<g id=\"node5\" class=\"node\">\n",
       "<title>0_34b16fa51aa55c4b2edc220ba6b4c05a</title>\n",
       "<ellipse fill=\"none\" stroke=\"black\" cx=\"2101.39\" cy=\"-162\" rx=\"292.92\" ry=\"18\"/>\n",
       "<text text-anchor=\"middle\" x=\"2101.39\" y=\"-156.95\" font-family=\"Times,serif\" font-size=\"14.00\">0=&lt;pyiron_base.project.delayed.DelayedObject object at 0x7f6dbf1d0b00&gt;</text>\n",
       "</g>\n",
       "<!-- working_directory_2e9abb255f1a31f7d29b4451ad422add&#45;&gt;0_34b16fa51aa55c4b2edc220ba6b4c05a -->\n",
       "<g id=\"edge4\" class=\"edge\">\n",
       "<title>working_directory_2e9abb255f1a31f7d29b4451ad422add-&gt;0_34b16fa51aa55c4b2edc220ba6b4c05a</title>\n",
       "<path fill=\"none\" stroke=\"black\" d=\"M1676.42,-221.38C1689.46,-219.57 1702.79,-217.74 1715.39,-216 1801.44,-204.15 1898.28,-190.85 1973.44,-180.54\"/>\n",
       "<polygon fill=\"black\" stroke=\"black\" points=\"1973.9,-184.01 1983.34,-179.18 1972.95,-177.07 1973.9,-184.01\"/>\n",
       "</g>\n",
       "<!-- energy_lst_c8e0653e8979628bed5344a2329ced3a -->\n",
       "<g id=\"node41\" class=\"node\">\n",
       "<title>energy_lst_c8e0653e8979628bed5344a2329ced3a</title>\n",
       "<ellipse fill=\"none\" stroke=\"black\" cx=\"3343.39\" cy=\"-90\" rx=\"326.7\" ry=\"18\"/>\n",
       "<text text-anchor=\"middle\" x=\"3343.39\" y=\"-84.95\" font-family=\"Times,serif\" font-size=\"14.00\">energy_lst=&lt;pyiron_base.project.delayed.DelayedObject object at 0x7f6dbf1d1610&gt;</text>\n",
       "</g>\n",
       "<!-- 0_34b16fa51aa55c4b2edc220ba6b4c05a&#45;&gt;energy_lst_c8e0653e8979628bed5344a2329ced3a -->\n",
       "<g id=\"edge73\" class=\"edge\">\n",
       "<title>0_34b16fa51aa55c4b2edc220ba6b4c05a-&gt;energy_lst_c8e0653e8979628bed5344a2329ced3a</title>\n",
       "<path fill=\"none\" stroke=\"black\" d=\"M2312.08,-149.13C2533.3,-136.66 2880.25,-117.1 3109.73,-104.17\"/>\n",
       "<polygon fill=\"black\" stroke=\"black\" points=\"3109.61,-107.68 3119.4,-103.62 3109.22,-100.69 3109.61,-107.68\"/>\n",
       "</g>\n",
       "<!-- input_dict_4916d4252cf37904bd6ab67b0e467ba6 -->\n",
       "<g id=\"node6\" class=\"node\">\n",
       "<title>input_dict_4916d4252cf37904bd6ab67b0e467ba6</title>\n",
       "<ellipse fill=\"none\" stroke=\"black\" cx=\"2050.39\" cy=\"-234\" rx=\"325.68\" ry=\"18\"/>\n",
       "<text text-anchor=\"middle\" x=\"2050.39\" y=\"-228.95\" font-family=\"Times,serif\" font-size=\"14.00\">input_dict=&lt;pyiron_base.project.delayed.DelayedObject object at 0x7f6dbf1d0800&gt;</text>\n",
       "</g>\n",
       "<!-- input_dict_4916d4252cf37904bd6ab67b0e467ba6&#45;&gt;0_9cbbf4500eced430f69780421606e9d0 -->\n",
       "<g id=\"edge5\" class=\"edge\">\n",
       "<title>input_dict_4916d4252cf37904bd6ab67b0e467ba6-&gt;0_9cbbf4500eced430f69780421606e9d0</title>\n",
       "<path fill=\"none\" stroke=\"black\" d=\"M1923.87,-216.98C1836.88,-205.97 1721.5,-191.37 1632.69,-180.13\"/>\n",
       "<polygon fill=\"black\" stroke=\"black\" points=\"1633.3,-176.68 1622.94,-178.89 1632.42,-183.62 1633.3,-176.68\"/>\n",
       "</g>\n",
       "<!-- input_dict_4916d4252cf37904bd6ab67b0e467ba6&#45;&gt;0_34b16fa51aa55c4b2edc220ba6b4c05a -->\n",
       "<g id=\"edge6\" class=\"edge\">\n",
       "<title>input_dict_4916d4252cf37904bd6ab67b0e467ba6-&gt;0_34b16fa51aa55c4b2edc220ba6b4c05a</title>\n",
       "<path fill=\"none\" stroke=\"black\" d=\"M2063,-215.7C2068.8,-207.73 2075.82,-198.1 2082.25,-189.26\"/>\n",
       "<polygon fill=\"black\" stroke=\"black\" points=\"2084.98,-191.47 2088.04,-181.33 2079.32,-187.35 2084.98,-191.47\"/>\n",
       "</g>\n",
       "<!-- structure_ca5b365df74c177e23545c25c63d1008 -->\n",
       "<g id=\"node7\" class=\"node\">\n",
       "<title>structure_ca5b365df74c177e23545c25c63d1008</title>\n",
       "<ellipse fill=\"none\" stroke=\"black\" cx=\"2142.39\" cy=\"-306\" rx=\"320.56\" ry=\"18\"/>\n",
       "<text text-anchor=\"middle\" x=\"2142.39\" y=\"-300.95\" font-family=\"Times,serif\" font-size=\"14.00\">structure=&lt;pyiron_base.project.delayed.DelayedObject object at 0x7f6dbf19b7d0&gt;</text>\n",
       "</g>\n",
       "<!-- structure_ca5b365df74c177e23545c25c63d1008&#45;&gt;input_dict_4916d4252cf37904bd6ab67b0e467ba6 -->\n",
       "<g id=\"edge7\" class=\"edge\">\n",
       "<title>structure_ca5b365df74c177e23545c25c63d1008-&gt;input_dict_4916d4252cf37904bd6ab67b0e467ba6</title>\n",
       "<path fill=\"none\" stroke=\"black\" d=\"M2119.65,-287.7C2108.37,-279.11 2094.56,-268.61 2082.25,-259.24\"/>\n",
       "<polygon fill=\"black\" stroke=\"black\" points=\"2084.47,-256.53 2074.39,-253.26 2080.23,-262.1 2084.47,-256.53\"/>\n",
       "</g>\n",
       "<!-- structure_893d7836de2e162745806493a2876713 -->\n",
       "<g id=\"node8\" class=\"node\">\n",
       "<title>structure_893d7836de2e162745806493a2876713</title>\n",
       "<ellipse fill=\"none\" stroke=\"black\" cx=\"2800.39\" cy=\"-378\" rx=\"320.05\" ry=\"18\"/>\n",
       "<text text-anchor=\"middle\" x=\"2800.39\" y=\"-372.95\" font-family=\"Times,serif\" font-size=\"14.00\">structure=&lt;pyiron_base.project.delayed.DelayedObject object at 0x7f6dbf19a960&gt;</text>\n",
       "</g>\n",
       "<!-- structure_893d7836de2e162745806493a2876713&#45;&gt;structure_ca5b365df74c177e23545c25c63d1008 -->\n",
       "<g id=\"edge8\" class=\"edge\">\n",
       "<title>structure_893d7836de2e162745806493a2876713-&gt;structure_ca5b365df74c177e23545c25c63d1008</title>\n",
       "<path fill=\"none\" stroke=\"black\" d=\"M2655.17,-361.55C2549.72,-350.33 2407.17,-335.17 2299.14,-323.68\"/>\n",
       "<polygon fill=\"black\" stroke=\"black\" points=\"2299.62,-320.21 2289.31,-322.63 2298.88,-327.17 2299.62,-320.21\"/>\n",
       "</g>\n",
       "<!-- structure_9d53a4e58f1637ab9ff67b46cb7358fe -->\n",
       "<g id=\"node9\" class=\"node\">\n",
       "<title>structure_9d53a4e58f1637ab9ff67b46cb7358fe</title>\n",
       "<ellipse fill=\"none\" stroke=\"black\" cx=\"3611.39\" cy=\"-306\" rx=\"320.56\" ry=\"18\"/>\n",
       "<text text-anchor=\"middle\" x=\"3611.39\" y=\"-300.95\" font-family=\"Times,serif\" font-size=\"14.00\">structure=&lt;pyiron_base.project.delayed.DelayedObject object at 0x7f6dbf19b470&gt;</text>\n",
       "</g>\n",
       "<!-- structure_893d7836de2e162745806493a2876713&#45;&gt;structure_9d53a4e58f1637ab9ff67b46cb7358fe -->\n",
       "<g id=\"edge9\" class=\"edge\">\n",
       "<title>structure_893d7836de2e162745806493a2876713-&gt;structure_9d53a4e58f1637ab9ff67b46cb7358fe</title>\n",
       "<path fill=\"none\" stroke=\"black\" d=\"M2970.4,-362.33C3104.92,-350.72 3292.34,-334.54 3429.78,-322.68\"/>\n",
       "<polygon fill=\"black\" stroke=\"black\" points=\"3430.08,-326.16 3439.74,-321.82 3429.48,-319.19 3430.08,-326.16\"/>\n",
       "</g>\n",
       "<!-- structure_a1a86487e175db26ad2bbab9cfdc965a -->\n",
       "<g id=\"node10\" class=\"node\">\n",
       "<title>structure_a1a86487e175db26ad2bbab9cfdc965a</title>\n",
       "<ellipse fill=\"none\" stroke=\"black\" cx=\"1483.39\" cy=\"-306\" rx=\"320.56\" ry=\"18\"/>\n",
       "<text text-anchor=\"middle\" x=\"1483.39\" y=\"-300.95\" font-family=\"Times,serif\" font-size=\"14.00\">structure=&lt;pyiron_base.project.delayed.DelayedObject object at 0x7f6dbf19b140&gt;</text>\n",
       "</g>\n",
       "<!-- structure_893d7836de2e162745806493a2876713&#45;&gt;structure_a1a86487e175db26ad2bbab9cfdc965a -->\n",
       "<g id=\"edge10\" class=\"edge\">\n",
       "<title>structure_893d7836de2e162745806493a2876713-&gt;structure_a1a86487e175db26ad2bbab9cfdc965a</title>\n",
       "<path fill=\"none\" stroke=\"black\" d=\"M2573.61,-364.95C2335.82,-352.31 1963.74,-332.53 1721.71,-319.67\"/>\n",
       "<polygon fill=\"black\" stroke=\"black\" points=\"1721.96,-316.18 1711.79,-319.14 1721.59,-323.17 1721.96,-316.18\"/>\n",
       "</g>\n",
       "<!-- structure_9e6dc28c2f921df7ffd77a6335216375 -->\n",
       "<g id=\"node11\" class=\"node\">\n",
       "<title>structure_9e6dc28c2f921df7ffd77a6335216375</title>\n",
       "<ellipse fill=\"none\" stroke=\"black\" cx=\"2800.39\" cy=\"-306\" rx=\"319.54\" ry=\"18\"/>\n",
       "<text text-anchor=\"middle\" x=\"2800.39\" y=\"-300.95\" font-family=\"Times,serif\" font-size=\"14.00\">structure=&lt;pyiron_base.project.delayed.DelayedObject object at 0x7f6dbf19ae10&gt;</text>\n",
       "</g>\n",
       "<!-- structure_893d7836de2e162745806493a2876713&#45;&gt;structure_9e6dc28c2f921df7ffd77a6335216375 -->\n",
       "<g id=\"edge11\" class=\"edge\">\n",
       "<title>structure_893d7836de2e162745806493a2876713-&gt;structure_9e6dc28c2f921df7ffd77a6335216375</title>\n",
       "<path fill=\"none\" stroke=\"black\" d=\"M2800.39,-359.7C2800.39,-352.41 2800.39,-343.73 2800.39,-335.54\"/>\n",
       "<polygon fill=\"black\" stroke=\"black\" points=\"2803.89,-335.62 2800.39,-325.62 2796.89,-335.62 2803.89,-335.62\"/>\n",
       "</g>\n",
       "<!-- structure_0fc0e2c282bca743a26bab57a734c94d -->\n",
       "<g id=\"node12\" class=\"node\">\n",
       "<title>structure_0fc0e2c282bca743a26bab57a734c94d</title>\n",
       "<ellipse fill=\"none\" stroke=\"black\" cx=\"4269.39\" cy=\"-306\" rx=\"319.03\" ry=\"18\"/>\n",
       "<text text-anchor=\"middle\" x=\"4269.39\" y=\"-300.95\" font-family=\"Times,serif\" font-size=\"14.00\">structure=&lt;pyiron_base.project.delayed.DelayedObject object at 0x7f6dbf19aae0&gt;</text>\n",
       "</g>\n",
       "<!-- structure_893d7836de2e162745806493a2876713&#45;&gt;structure_0fc0e2c282bca743a26bab57a734c94d -->\n",
       "<g id=\"edge12\" class=\"edge\">\n",
       "<title>structure_893d7836de2e162745806493a2876713-&gt;structure_0fc0e2c282bca743a26bab57a734c94d</title>\n",
       "<path fill=\"none\" stroke=\"black\" d=\"M3028.25,-365.01C3062.15,-363.29 3096.68,-361.57 3129.39,-360 3490.22,-342.68 3580.56,-341.35 3941.39,-324 3970.43,-322.6 4000.91,-321.09 4031.11,-319.56\"/>\n",
       "<polygon fill=\"black\" stroke=\"black\" points=\"4030.9,-323.07 4040.71,-319.07 4030.55,-316.08 4030.9,-323.07\"/>\n",
       "</g>\n",
       "<!-- input_dict_ea239d48fd20e1e0e7798573a7df9a84 -->\n",
       "<g id=\"node20\" class=\"node\">\n",
       "<title>input_dict_ea239d48fd20e1e0e7798573a7df9a84</title>\n",
       "<ellipse fill=\"none\" stroke=\"black\" cx=\"3922.39\" cy=\"-234\" rx=\"325.68\" ry=\"18\"/>\n",
       "<text text-anchor=\"middle\" x=\"3922.39\" y=\"-228.95\" font-family=\"Times,serif\" font-size=\"14.00\">input_dict=&lt;pyiron_base.project.delayed.DelayedObject object at 0x7f6dbf1d04d0&gt;</text>\n",
       "</g>\n",
       "<!-- structure_9d53a4e58f1637ab9ff67b46cb7358fe&#45;&gt;input_dict_ea239d48fd20e1e0e7798573a7df9a84 -->\n",
       "<g id=\"edge53\" class=\"edge\">\n",
       "<title>structure_9d53a4e58f1637ab9ff67b46cb7358fe-&gt;input_dict_ea239d48fd20e1e0e7798573a7df9a84</title>\n",
       "<path fill=\"none\" stroke=\"black\" d=\"M3686.67,-288.05C3731.69,-277.92 3789.06,-265.01 3835.93,-254.46\"/>\n",
       "<polygon fill=\"black\" stroke=\"black\" points=\"3836.53,-257.91 3845.51,-252.3 3834.99,-251.08 3836.53,-257.91\"/>\n",
       "</g>\n",
       "<!-- input_dict_e04569bc62299c8e7e0be4078f3d04f8 -->\n",
       "<g id=\"node21\" class=\"node\">\n",
       "<title>input_dict_e04569bc62299c8e7e0be4078f3d04f8</title>\n",
       "<ellipse fill=\"none\" stroke=\"black\" cx=\"887.39\" cy=\"-234\" rx=\"324.66\" ry=\"18\"/>\n",
       "<text text-anchor=\"middle\" x=\"887.39\" y=\"-228.95\" font-family=\"Times,serif\" font-size=\"14.00\">input_dict=&lt;pyiron_base.project.delayed.DelayedObject object at 0x7f6dbf19bce0&gt;</text>\n",
       "</g>\n",
       "<!-- structure_a1a86487e175db26ad2bbab9cfdc965a&#45;&gt;input_dict_e04569bc62299c8e7e0be4078f3d04f8 -->\n",
       "<g id=\"edge59\" class=\"edge\">\n",
       "<title>structure_a1a86487e175db26ad2bbab9cfdc965a-&gt;input_dict_e04569bc62299c8e7e0be4078f3d04f8</title>\n",
       "<path fill=\"none\" stroke=\"black\" d=\"M1348.89,-289.2C1255.02,-278.18 1129.79,-263.47 1033.47,-252.16\"/>\n",
       "<polygon fill=\"black\" stroke=\"black\" points=\"1034.01,-248.7 1023.67,-251.01 1033.2,-255.65 1034.01,-248.7\"/>\n",
       "</g>\n",
       "<!-- input_dict_876de51beaeae27d415e18ff8375236f -->\n",
       "<g id=\"node22\" class=\"node\">\n",
       "<title>input_dict_876de51beaeae27d415e18ff8375236f</title>\n",
       "<ellipse fill=\"none\" stroke=\"black\" cx=\"2800.39\" cy=\"-234\" rx=\"325.17\" ry=\"18\"/>\n",
       "<text text-anchor=\"middle\" x=\"2800.39\" y=\"-228.95\" font-family=\"Times,serif\" font-size=\"14.00\">input_dict=&lt;pyiron_base.project.delayed.DelayedObject object at 0x7f6dbf19be30&gt;</text>\n",
       "</g>\n",
       "<!-- structure_9e6dc28c2f921df7ffd77a6335216375&#45;&gt;input_dict_876de51beaeae27d415e18ff8375236f -->\n",
       "<g id=\"edge65\" class=\"edge\">\n",
       "<title>structure_9e6dc28c2f921df7ffd77a6335216375-&gt;input_dict_876de51beaeae27d415e18ff8375236f</title>\n",
       "<path fill=\"none\" stroke=\"black\" d=\"M2800.39,-287.7C2800.39,-280.41 2800.39,-271.73 2800.39,-263.54\"/>\n",
       "<polygon fill=\"black\" stroke=\"black\" points=\"2803.89,-263.62 2800.39,-253.62 2796.89,-263.62 2803.89,-263.62\"/>\n",
       "</g>\n",
       "<!-- input_dict_52703a43da225b4ababe3488538c00f8 -->\n",
       "<g id=\"node23\" class=\"node\">\n",
       "<title>input_dict_52703a43da225b4ababe3488538c00f8</title>\n",
       "<ellipse fill=\"none\" stroke=\"black\" cx=\"4838.39\" cy=\"-234\" rx=\"325.68\" ry=\"18\"/>\n",
       "<text text-anchor=\"middle\" x=\"4838.39\" y=\"-228.95\" font-family=\"Times,serif\" font-size=\"14.00\">input_dict=&lt;pyiron_base.project.delayed.DelayedObject object at 0x7f6dbf19bb00&gt;</text>\n",
       "</g>\n",
       "<!-- structure_0fc0e2c282bca743a26bab57a734c94d&#45;&gt;input_dict_52703a43da225b4ababe3488538c00f8 -->\n",
       "<g id=\"edge71\" class=\"edge\">\n",
       "<title>structure_0fc0e2c282bca743a26bab57a734c94d-&gt;input_dict_52703a43da225b4ababe3488538c00f8</title>\n",
       "<path fill=\"none\" stroke=\"black\" d=\"M4398.5,-289.12C4487.58,-278.16 4605.97,-263.59 4697.49,-252.33\"/>\n",
       "<polygon fill=\"black\" stroke=\"black\" points=\"4697.8,-255.82 4707.3,-251.13 4696.95,-248.87 4697.8,-255.82\"/>\n",
       "</g>\n",
       "<!-- working_directory_a17ade9a563d8dcadb655fb2e1c743a7 -->\n",
       "<g id=\"node13\" class=\"node\">\n",
       "<title>working_directory_a17ade9a563d8dcadb655fb2e1c743a7</title>\n",
       "<ellipse fill=\"none\" stroke=\"black\" cx=\"2800.39\" cy=\"-450\" rx=\"102.53\" ry=\"18\"/>\n",
       "<text text-anchor=\"middle\" x=\"2800.39\" y=\"-444.95\" font-family=\"Times,serif\" font-size=\"14.00\">working_directory=mini</text>\n",
       "</g>\n",
       "<!-- working_directory_a17ade9a563d8dcadb655fb2e1c743a7&#45;&gt;structure_893d7836de2e162745806493a2876713 -->\n",
       "<g id=\"edge13\" class=\"edge\">\n",
       "<title>working_directory_a17ade9a563d8dcadb655fb2e1c743a7-&gt;structure_893d7836de2e162745806493a2876713</title>\n",
       "<path fill=\"none\" stroke=\"black\" d=\"M2800.39,-431.7C2800.39,-424.41 2800.39,-415.73 2800.39,-407.54\"/>\n",
       "<polygon fill=\"black\" stroke=\"black\" points=\"2803.89,-407.62 2800.39,-397.62 2796.89,-407.62 2803.89,-407.62\"/>\n",
       "</g>\n",
       "<!-- input_dict_07335a500eb862ea35ad83a00432e5b3 -->\n",
       "<g id=\"node14\" class=\"node\">\n",
       "<title>input_dict_07335a500eb862ea35ad83a00432e5b3</title>\n",
       "<ellipse fill=\"none\" stroke=\"black\" cx=\"4396.39\" cy=\"-450\" rx=\"325.17\" ry=\"18\"/>\n",
       "<text text-anchor=\"middle\" x=\"4396.39\" y=\"-444.95\" font-family=\"Times,serif\" font-size=\"14.00\">input_dict=&lt;pyiron_base.project.delayed.DelayedObject object at 0x7f6dbf19a690&gt;</text>\n",
       "</g>\n",
       "<!-- input_dict_07335a500eb862ea35ad83a00432e5b3&#45;&gt;structure_893d7836de2e162745806493a2876713 -->\n",
       "<g id=\"edge14\" class=\"edge\">\n",
       "<title>input_dict_07335a500eb862ea35ad83a00432e5b3-&gt;structure_893d7836de2e162745806493a2876713</title>\n",
       "<path fill=\"none\" stroke=\"black\" d=\"M4136.41,-438.87C3880.27,-428.72 3477.82,-412.29 3129.39,-396 3100,-394.63 3069.15,-393.12 3038.59,-391.59\"/>\n",
       "<polygon fill=\"black\" stroke=\"black\" points=\"3039.03,-388.1 3028.87,-391.1 3038.68,-395.09 3039.03,-388.1\"/>\n",
       "</g>\n",
       "<!-- structure_1d94a5c4a960d995dd333520f8e69021 -->\n",
       "<g id=\"node15\" class=\"node\">\n",
       "<title>structure_1d94a5c4a960d995dd333520f8e69021</title>\n",
       "<ellipse fill=\"none\" stroke=\"black\" cx=\"4015.39\" cy=\"-522\" rx=\"320.56\" ry=\"18\"/>\n",
       "<text text-anchor=\"middle\" x=\"4015.39\" y=\"-516.95\" font-family=\"Times,serif\" font-size=\"14.00\">structure=&lt;pyiron_base.project.delayed.DelayedObject object at 0x7f6dbf17b440&gt;</text>\n",
       "</g>\n",
       "<!-- structure_1d94a5c4a960d995dd333520f8e69021&#45;&gt;input_dict_07335a500eb862ea35ad83a00432e5b3 -->\n",
       "<g id=\"edge15\" class=\"edge\">\n",
       "<title>structure_1d94a5c4a960d995dd333520f8e69021-&gt;input_dict_07335a500eb862ea35ad83a00432e5b3</title>\n",
       "<path fill=\"none\" stroke=\"black\" d=\"M4106.16,-504.32C4162.72,-493.93 4235.6,-480.54 4294.18,-469.78\"/>\n",
       "<polygon fill=\"black\" stroke=\"black\" points=\"4294.63,-473.25 4303.83,-468.01 4293.36,-466.37 4294.63,-473.25\"/>\n",
       "</g>\n",
       "<!-- element_467734216d9bd2497ffd28d5cd6daba0 -->\n",
       "<g id=\"node16\" class=\"node\">\n",
       "<title>element_467734216d9bd2497ffd28d5cd6daba0</title>\n",
       "<ellipse fill=\"none\" stroke=\"black\" cx=\"3905.39\" cy=\"-594\" rx=\"55.45\" ry=\"18\"/>\n",
       "<text text-anchor=\"middle\" x=\"3905.39\" y=\"-588.95\" font-family=\"Times,serif\" font-size=\"14.00\">element=Al</text>\n",
       "</g>\n",
       "<!-- element_467734216d9bd2497ffd28d5cd6daba0&#45;&gt;structure_1d94a5c4a960d995dd333520f8e69021 -->\n",
       "<g id=\"edge16\" class=\"edge\">\n",
       "<title>element_467734216d9bd2497ffd28d5cd6daba0-&gt;structure_1d94a5c4a960d995dd333520f8e69021</title>\n",
       "<path fill=\"none\" stroke=\"black\" d=\"M3929.8,-577.46C3944.16,-568.33 3962.61,-556.59 3978.69,-546.35\"/>\n",
       "<polygon fill=\"black\" stroke=\"black\" points=\"3980.51,-549.34 3987.07,-541.02 3976.75,-543.44 3980.51,-549.34\"/>\n",
       "</g>\n",
       "<!-- a_aea0574e321c6f75f923c059730e9537 -->\n",
       "<g id=\"node17\" class=\"node\">\n",
       "<title>a_aea0574e321c6f75f923c059730e9537</title>\n",
       "<ellipse fill=\"none\" stroke=\"black\" cx=\"4015.39\" cy=\"-594\" rx=\"37.02\" ry=\"18\"/>\n",
       "<text text-anchor=\"middle\" x=\"4015.39\" y=\"-588.95\" font-family=\"Times,serif\" font-size=\"14.00\">a=4.05</text>\n",
       "</g>\n",
       "<!-- a_aea0574e321c6f75f923c059730e9537&#45;&gt;structure_1d94a5c4a960d995dd333520f8e69021 -->\n",
       "<g id=\"edge17\" class=\"edge\">\n",
       "<title>a_aea0574e321c6f75f923c059730e9537-&gt;structure_1d94a5c4a960d995dd333520f8e69021</title>\n",
       "<path fill=\"none\" stroke=\"black\" d=\"M4015.39,-575.7C4015.39,-568.41 4015.39,-559.73 4015.39,-551.54\"/>\n",
       "<polygon fill=\"black\" stroke=\"black\" points=\"4018.89,-551.62 4015.39,-541.62 4011.89,-551.62 4018.89,-551.62\"/>\n",
       "</g>\n",
       "<!-- cubic_bad787c53fa02a5559fe570238fdb23a -->\n",
       "<g id=\"node18\" class=\"node\">\n",
       "<title>cubic_bad787c53fa02a5559fe570238fdb23a</title>\n",
       "<ellipse fill=\"none\" stroke=\"black\" cx=\"4124.39\" cy=\"-594\" rx=\"53.91\" ry=\"18\"/>\n",
       "<text text-anchor=\"middle\" x=\"4124.39\" y=\"-588.95\" font-family=\"Times,serif\" font-size=\"14.00\">cubic=True</text>\n",
       "</g>\n",
       "<!-- cubic_bad787c53fa02a5559fe570238fdb23a&#45;&gt;structure_1d94a5c4a960d995dd333520f8e69021 -->\n",
       "<g id=\"edge18\" class=\"edge\">\n",
       "<title>cubic_bad787c53fa02a5559fe570238fdb23a-&gt;structure_1d94a5c4a960d995dd333520f8e69021</title>\n",
       "<path fill=\"none\" stroke=\"black\" d=\"M4100.2,-577.46C4085.97,-568.33 4067.69,-556.59 4051.75,-546.35\"/>\n",
       "<polygon fill=\"black\" stroke=\"black\" points=\"4053.77,-543.49 4043.46,-541.03 4049.99,-549.38 4053.77,-543.49\"/>\n",
       "</g>\n",
       "<!-- pseudopotentials_453cdcc0d627a851e196cd899d956d10 -->\n",
       "<g id=\"node19\" class=\"node\">\n",
       "<title>pseudopotentials_453cdcc0d627a851e196cd899d956d10</title>\n",
       "<ellipse fill=\"none\" stroke=\"black\" cx=\"1584.39\" cy=\"-522\" rx=\"222.81\" ry=\"18\"/>\n",
       "<text text-anchor=\"middle\" x=\"1584.39\" y=\"-516.95\" font-family=\"Times,serif\" font-size=\"14.00\">pseudopotentials={'Al': 'Al.pbe-n-kjpaw_psl.1.0.0.UPF'}</text>\n",
       "</g>\n",
       "<!-- pseudopotentials_453cdcc0d627a851e196cd899d956d10&#45;&gt;input_dict_4916d4252cf37904bd6ab67b0e467ba6 -->\n",
       "<g id=\"edge19\" class=\"edge\">\n",
       "<title>pseudopotentials_453cdcc0d627a851e196cd899d956d10-&gt;input_dict_4916d4252cf37904bd6ab67b0e467ba6</title>\n",
       "<path fill=\"none\" stroke=\"black\" d=\"M1371.09,-516.59C1204.14,-510.87 995.72,-497.78 968.39,-468 929.06,-425.14 898.43,-375.62 1006.39,-288 1067.72,-238.23 1637.5,-256.01 1716.39,-252 1745.18,-250.54 1775.37,-249 1805.33,-247.48\"/>\n",
       "<polygon fill=\"black\" stroke=\"black\" points=\"1805.48,-250.98 1815.29,-246.97 1805.13,-243.98 1805.48,-250.98\"/>\n",
       "</g>\n",
       "<!-- pseudopotentials_453cdcc0d627a851e196cd899d956d10&#45;&gt;input_dict_07335a500eb862ea35ad83a00432e5b3 -->\n",
       "<g id=\"edge20\" class=\"edge\">\n",
       "<title>pseudopotentials_453cdcc0d627a851e196cd899d956d10-&gt;input_dict_07335a500eb862ea35ad83a00432e5b3</title>\n",
       "<path fill=\"none\" stroke=\"black\" d=\"M1802.3,-517.96C2228.3,-511.64 3201.38,-495.34 4019.39,-468 4060.56,-466.62 4104.26,-464.9 4146.75,-463.08\"/>\n",
       "<polygon fill=\"black\" stroke=\"black\" points=\"4146.76,-466.58 4156.6,-462.65 4146.45,-459.59 4146.76,-466.58\"/>\n",
       "</g>\n",
       "<!-- pseudopotentials_453cdcc0d627a851e196cd899d956d10&#45;&gt;input_dict_ea239d48fd20e1e0e7798573a7df9a84 -->\n",
       "<g id=\"edge21\" class=\"edge\">\n",
       "<title>pseudopotentials_453cdcc0d627a851e196cd899d956d10-&gt;input_dict_ea239d48fd20e1e0e7798573a7df9a84</title>\n",
       "<path fill=\"none\" stroke=\"black\" d=\"M1793.56,-515.58C2055.33,-508.13 2517.3,-492.75 2912.39,-468 2935.83,-466.53 4581.5,-341.3 4597.39,-324 4608.21,-312.21 4608.25,-299.75 4597.39,-288 4589.56,-279.53 4337.61,-261.53 4143.82,-248.86\"/>\n",
       "<polygon fill=\"black\" stroke=\"black\" points=\"4144.31,-245.38 4134.11,-248.23 4143.86,-252.37 4144.31,-245.38\"/>\n",
       "</g>\n",
       "<!-- pseudopotentials_453cdcc0d627a851e196cd899d956d10&#45;&gt;input_dict_e04569bc62299c8e7e0be4078f3d04f8 -->\n",
       "<g id=\"edge22\" class=\"edge\">\n",
       "<title>pseudopotentials_453cdcc0d627a851e196cd899d956d10-&gt;input_dict_e04569bc62299c8e7e0be4078f3d04f8</title>\n",
       "<path fill=\"none\" stroke=\"black\" d=\"M1376.31,-515.37C1200.66,-508.75 972.41,-495.05 938.39,-468 876.85,-419.08 878.54,-314.58 883.52,-263.83\"/>\n",
       "<polygon fill=\"black\" stroke=\"black\" points=\"886.99,-264.27 884.62,-253.95 880.03,-263.5 886.99,-264.27\"/>\n",
       "</g>\n",
       "<!-- pseudopotentials_453cdcc0d627a851e196cd899d956d10&#45;&gt;input_dict_876de51beaeae27d415e18ff8375236f -->\n",
       "<g id=\"edge23\" class=\"edge\">\n",
       "<title>pseudopotentials_453cdcc0d627a851e196cd899d956d10-&gt;input_dict_876de51beaeae27d415e18ff8375236f</title>\n",
       "<path fill=\"none\" stroke=\"black\" d=\"M1385.6,-513.63C1303.41,-506.72 1220.14,-493.44 1189.39,-468 1125.6,-415.22 1083.7,-347.39 1141.39,-288 1165.48,-263.2 2350.84,-253.21 2385.39,-252 2434.72,-250.28 2487.33,-248.26 2537.96,-246.23\"/>\n",
       "<polygon fill=\"black\" stroke=\"black\" points=\"2538.04,-249.73 2547.89,-245.83 2537.76,-242.73 2538.04,-249.73\"/>\n",
       "</g>\n",
       "<!-- pseudopotentials_453cdcc0d627a851e196cd899d956d10&#45;&gt;input_dict_52703a43da225b4ababe3488538c00f8 -->\n",
       "<g id=\"edge24\" class=\"edge\">\n",
       "<title>pseudopotentials_453cdcc0d627a851e196cd899d956d10-&gt;input_dict_52703a43da225b4ababe3488538c00f8</title>\n",
       "<path fill=\"none\" stroke=\"black\" d=\"M1798.47,-516.77C2099.7,-510.13 2665.71,-495.12 3147.39,-468 3554.23,-445.09 3655.81,-435.36 4061.39,-396 4339.26,-369.03 4420.46,-412.05 4685.39,-324 4730.39,-309.05 4776.72,-279.79 4806.44,-258.9\"/>\n",
       "<polygon fill=\"black\" stroke=\"black\" points=\"4808.15,-261.98 4814.25,-253.32 4804.08,-256.28 4808.15,-261.98\"/>\n",
       "</g>\n",
       "<!-- 1_dac8d2446138b9e055f14b2715880b08 -->\n",
       "<g id=\"node29\" class=\"node\">\n",
       "<title>1_dac8d2446138b9e055f14b2715880b08</title>\n",
       "<ellipse fill=\"none\" stroke=\"black\" cx=\"3911.39\" cy=\"-162\" rx=\"292.92\" ry=\"18\"/>\n",
       "<text text-anchor=\"middle\" x=\"3911.39\" y=\"-156.95\" font-family=\"Times,serif\" font-size=\"14.00\">1=&lt;pyiron_base.project.delayed.DelayedObject object at 0x7f6dbf1d1100&gt;</text>\n",
       "</g>\n",
       "<!-- input_dict_ea239d48fd20e1e0e7798573a7df9a84&#45;&gt;1_dac8d2446138b9e055f14b2715880b08 -->\n",
       "<g id=\"edge51\" class=\"edge\">\n",
       "<title>input_dict_ea239d48fd20e1e0e7798573a7df9a84-&gt;1_dac8d2446138b9e055f14b2715880b08</title>\n",
       "<path fill=\"none\" stroke=\"black\" d=\"M3919.67,-215.7C3918.51,-208.32 3917.13,-199.52 3915.83,-191.25\"/>\n",
       "<polygon fill=\"black\" stroke=\"black\" points=\"3919.32,-190.93 3914.31,-181.6 3912.41,-192.02 3919.32,-190.93\"/>\n",
       "</g>\n",
       "<!-- 1_c79dc8180be4313c1a8524819805c079 -->\n",
       "<g id=\"node31\" class=\"node\">\n",
       "<title>1_c79dc8180be4313c1a8524819805c079</title>\n",
       "<ellipse fill=\"none\" stroke=\"black\" cx=\"4514.39\" cy=\"-162\" rx=\"292.41\" ry=\"18\"/>\n",
       "<text text-anchor=\"middle\" x=\"4514.39\" y=\"-156.95\" font-family=\"Times,serif\" font-size=\"14.00\">1=&lt;pyiron_base.project.delayed.DelayedObject object at 0x7f6dbf1d0ad0&gt;</text>\n",
       "</g>\n",
       "<!-- input_dict_ea239d48fd20e1e0e7798573a7df9a84&#45;&gt;1_c79dc8180be4313c1a8524819805c079 -->\n",
       "<g id=\"edge52\" class=\"edge\">\n",
       "<title>input_dict_ea239d48fd20e1e0e7798573a7df9a84-&gt;1_c79dc8180be4313c1a8524819805c079</title>\n",
       "<path fill=\"none\" stroke=\"black\" d=\"M4056.35,-217.16C4150.43,-206.04 4276.08,-191.18 4371.98,-179.84\"/>\n",
       "<polygon fill=\"black\" stroke=\"black\" points=\"4372.2,-183.34 4381.72,-178.69 4371.38,-176.39 4372.2,-183.34\"/>\n",
       "</g>\n",
       "<!-- 2_838342f7da35f02c876868ff30ff7865 -->\n",
       "<g id=\"node32\" class=\"node\">\n",
       "<title>2_838342f7da35f02c876868ff30ff7865</title>\n",
       "<ellipse fill=\"none\" stroke=\"black\" cx=\"291.39\" cy=\"-162\" rx=\"291.39\" ry=\"18\"/>\n",
       "<text text-anchor=\"middle\" x=\"291.39\" y=\"-156.95\" font-family=\"Times,serif\" font-size=\"14.00\">2=&lt;pyiron_base.project.delayed.DelayedObject object at 0x7f6dbf1d0f20&gt;</text>\n",
       "</g>\n",
       "<!-- input_dict_e04569bc62299c8e7e0be4078f3d04f8&#45;&gt;2_838342f7da35f02c876868ff30ff7865 -->\n",
       "<g id=\"edge57\" class=\"edge\">\n",
       "<title>input_dict_e04569bc62299c8e7e0be4078f3d04f8-&gt;2_838342f7da35f02c876868ff30ff7865</title>\n",
       "<path fill=\"none\" stroke=\"black\" d=\"M752.89,-217.2C658.11,-206.07 531.37,-191.19 434.68,-179.83\"/>\n",
       "<polygon fill=\"black\" stroke=\"black\" points=\"435.19,-176.37 424.85,-178.67 434.37,-183.32 435.19,-176.37\"/>\n",
       "</g>\n",
       "<!-- 2_9dd8bbfe21b048f992836f5bbd5526d7 -->\n",
       "<g id=\"node34\" class=\"node\">\n",
       "<title>2_9dd8bbfe21b048f992836f5bbd5526d7</title>\n",
       "<ellipse fill=\"none\" stroke=\"black\" cx=\"893.39\" cy=\"-162\" rx=\"292.92\" ry=\"18\"/>\n",
       "<text text-anchor=\"middle\" x=\"893.39\" y=\"-156.95\" font-family=\"Times,serif\" font-size=\"14.00\">2=&lt;pyiron_base.project.delayed.DelayedObject object at 0x7f6dbf1d0350&gt;</text>\n",
       "</g>\n",
       "<!-- input_dict_e04569bc62299c8e7e0be4078f3d04f8&#45;&gt;2_9dd8bbfe21b048f992836f5bbd5526d7 -->\n",
       "<g id=\"edge58\" class=\"edge\">\n",
       "<title>input_dict_e04569bc62299c8e7e0be4078f3d04f8-&gt;2_9dd8bbfe21b048f992836f5bbd5526d7</title>\n",
       "<path fill=\"none\" stroke=\"black\" d=\"M888.87,-215.7C889.5,-208.41 890.24,-199.73 890.94,-191.54\"/>\n",
       "<polygon fill=\"black\" stroke=\"black\" points=\"894.43,-191.87 891.79,-181.61 887.45,-191.28 894.43,-191.87\"/>\n",
       "</g>\n",
       "<!-- 3_399b343c06d77e76dd5f03f86c659928 -->\n",
       "<g id=\"node35\" class=\"node\">\n",
       "<title>3_399b343c06d77e76dd5f03f86c659928</title>\n",
       "<ellipse fill=\"none\" stroke=\"black\" cx=\"2705.39\" cy=\"-162\" rx=\"292.92\" ry=\"18\"/>\n",
       "<text text-anchor=\"middle\" x=\"2705.39\" y=\"-156.95\" font-family=\"Times,serif\" font-size=\"14.00\">3=&lt;pyiron_base.project.delayed.DelayedObject object at 0x7f6dbf1d1280&gt;</text>\n",
       "</g>\n",
       "<!-- input_dict_876de51beaeae27d415e18ff8375236f&#45;&gt;3_399b343c06d77e76dd5f03f86c659928 -->\n",
       "<g id=\"edge63\" class=\"edge\">\n",
       "<title>input_dict_876de51beaeae27d415e18ff8375236f-&gt;3_399b343c06d77e76dd5f03f86c659928</title>\n",
       "<path fill=\"none\" stroke=\"black\" d=\"M2776.91,-215.7C2765.15,-207.03 2750.72,-196.4 2737.91,-186.96\"/>\n",
       "<polygon fill=\"black\" stroke=\"black\" points=\"2740.28,-184.36 2730.15,-181.24 2736.12,-189.99 2740.28,-184.36\"/>\n",
       "</g>\n",
       "<!-- 3_68b6717ff03b14312116c3d25f1dff65 -->\n",
       "<g id=\"node37\" class=\"node\">\n",
       "<title>3_68b6717ff03b14312116c3d25f1dff65</title>\n",
       "<ellipse fill=\"none\" stroke=\"black\" cx=\"3308.39\" cy=\"-162\" rx=\"292.41\" ry=\"18\"/>\n",
       "<text text-anchor=\"middle\" x=\"3308.39\" y=\"-156.95\" font-family=\"Times,serif\" font-size=\"14.00\">3=&lt;pyiron_base.project.delayed.DelayedObject object at 0x7f6dbf1d0c50&gt;</text>\n",
       "</g>\n",
       "<!-- input_dict_876de51beaeae27d415e18ff8375236f&#45;&gt;3_68b6717ff03b14312116c3d25f1dff65 -->\n",
       "<g id=\"edge64\" class=\"edge\">\n",
       "<title>input_dict_876de51beaeae27d415e18ff8375236f-&gt;3_68b6717ff03b14312116c3d25f1dff65</title>\n",
       "<path fill=\"none\" stroke=\"black\" d=\"M2918.21,-216.76C2997.01,-205.91 3100.64,-191.63 3181.3,-180.51\"/>\n",
       "<polygon fill=\"black\" stroke=\"black\" points=\"3181.59,-184.01 3191.02,-179.17 3180.64,-177.07 3181.59,-184.01\"/>\n",
       "</g>\n",
       "<!-- 4_6ffdb7c4762ea12c71db04392a959a44 -->\n",
       "<g id=\"node38\" class=\"node\">\n",
       "<title>4_6ffdb7c4762ea12c71db04392a959a44</title>\n",
       "<ellipse fill=\"none\" stroke=\"black\" cx=\"5117.39\" cy=\"-162\" rx=\"292.92\" ry=\"18\"/>\n",
       "<text text-anchor=\"middle\" x=\"5117.39\" y=\"-156.95\" font-family=\"Times,serif\" font-size=\"14.00\">4=&lt;pyiron_base.project.delayed.DelayedObject object at 0x7f6dbf1d1340&gt;</text>\n",
       "</g>\n",
       "<!-- input_dict_52703a43da225b4ababe3488538c00f8&#45;&gt;4_6ffdb7c4762ea12c71db04392a959a44 -->\n",
       "<g id=\"edge69\" class=\"edge\">\n",
       "<title>input_dict_52703a43da225b4ababe3488538c00f8-&gt;4_6ffdb7c4762ea12c71db04392a959a44</title>\n",
       "<path fill=\"none\" stroke=\"black\" d=\"M4906.28,-215.97C4946.26,-205.94 4997,-193.2 5038.72,-182.74\"/>\n",
       "<polygon fill=\"black\" stroke=\"black\" points=\"5039.36,-186.19 5048.21,-180.36 5037.66,-179.4 5039.36,-186.19\"/>\n",
       "</g>\n",
       "<!-- 4_930a550eaf9294f2bcab46e39206e253 -->\n",
       "<g id=\"node40\" class=\"node\">\n",
       "<title>4_930a550eaf9294f2bcab46e39206e253</title>\n",
       "<ellipse fill=\"none\" stroke=\"black\" cx=\"5721.39\" cy=\"-162\" rx=\"292.92\" ry=\"18\"/>\n",
       "<text text-anchor=\"middle\" x=\"5721.39\" y=\"-156.95\" font-family=\"Times,serif\" font-size=\"14.00\">4=&lt;pyiron_base.project.delayed.DelayedObject object at 0x7f6dbf1d0d10&gt;</text>\n",
       "</g>\n",
       "<!-- input_dict_52703a43da225b4ababe3488538c00f8&#45;&gt;4_930a550eaf9294f2bcab46e39206e253 -->\n",
       "<g id=\"edge70\" class=\"edge\">\n",
       "<title>input_dict_52703a43da225b4ababe3488538c00f8-&gt;4_930a550eaf9294f2bcab46e39206e253</title>\n",
       "<path fill=\"none\" stroke=\"black\" d=\"M5019.74,-218.62C5170.29,-206.69 5383.57,-189.78 5535.39,-177.75\"/>\n",
       "<polygon fill=\"black\" stroke=\"black\" points=\"5535.47,-181.25 5545.16,-176.97 5534.91,-174.27 5535.47,-181.25\"/>\n",
       "</g>\n",
       "<!-- kpts_e961a9390797b0f6f8887a402ea3e9aa -->\n",
       "<g id=\"node24\" class=\"node\">\n",
       "<title>kpts_e961a9390797b0f6f8887a402ea3e9aa</title>\n",
       "<ellipse fill=\"none\" stroke=\"black\" cx=\"3038.39\" cy=\"-522\" rx=\"62.1\" ry=\"18\"/>\n",
       "<text text-anchor=\"middle\" x=\"3038.39\" y=\"-516.95\" font-family=\"Times,serif\" font-size=\"14.00\">kpts=[3, 3, 3]</text>\n",
       "</g>\n",
       "<!-- kpts_e961a9390797b0f6f8887a402ea3e9aa&#45;&gt;input_dict_4916d4252cf37904bd6ab67b0e467ba6 -->\n",
       "<g id=\"edge25\" class=\"edge\">\n",
       "<title>kpts_e961a9390797b0f6f8887a402ea3e9aa-&gt;input_dict_4916d4252cf37904bd6ab67b0e467ba6</title>\n",
       "<path fill=\"none\" stroke=\"black\" d=\"M2976.52,-520.02C2736.52,-516.02 1866.75,-499.6 1592.39,-468 1358.41,-441.05 1205.36,-524.88 1082.39,-324 1074.04,-310.35 1071.39,-299.62 1082.39,-288 1083.95,-286.35 1522.96,-262.86 1809.16,-247.71\"/>\n",
       "<polygon fill=\"black\" stroke=\"black\" points=\"1809.23,-251.21 1819.03,-247.19 1808.86,-244.22 1809.23,-251.21\"/>\n",
       "</g>\n",
       "<!-- kpts_e961a9390797b0f6f8887a402ea3e9aa&#45;&gt;input_dict_07335a500eb862ea35ad83a00432e5b3 -->\n",
       "<g id=\"edge26\" class=\"edge\">\n",
       "<title>kpts_e961a9390797b0f6f8887a402ea3e9aa-&gt;input_dict_07335a500eb862ea35ad83a00432e5b3</title>\n",
       "<path fill=\"none\" stroke=\"black\" d=\"M3099.38,-517.86C3281.85,-508.45 3830.79,-480.15 4153.06,-463.54\"/>\n",
       "<polygon fill=\"black\" stroke=\"black\" points=\"4153.11,-467.04 4162.92,-463.03 4152.75,-460.05 4153.11,-467.04\"/>\n",
       "</g>\n",
       "<!-- kpts_e961a9390797b0f6f8887a402ea3e9aa&#45;&gt;input_dict_ea239d48fd20e1e0e7798573a7df9a84 -->\n",
       "<g id=\"edge27\" class=\"edge\">\n",
       "<title>kpts_e961a9390797b0f6f8887a402ea3e9aa-&gt;input_dict_ea239d48fd20e1e0e7798573a7df9a84</title>\n",
       "<path fill=\"none\" stroke=\"black\" d=\"M3100.59,-520.08C3277.75,-517.03 3782.58,-505.22 3943.39,-468 3983.76,-458.66 3989.49,-443.17 4029.39,-432 4132.83,-403.04 4162.41,-413.52 4268.39,-396 4446.61,-366.54 4552.53,-462.58 4668.39,-324 4678.65,-311.73 4679.29,-299.71 4668.39,-288 4659.6,-278.56 4374.28,-260.42 4159.13,-248.02\"/>\n",
       "<polygon fill=\"black\" stroke=\"black\" points=\"4159.34,-244.52 4149.16,-247.44 4158.94,-251.51 4159.34,-244.52\"/>\n",
       "</g>\n",
       "<!-- kpts_e961a9390797b0f6f8887a402ea3e9aa&#45;&gt;input_dict_e04569bc62299c8e7e0be4078f3d04f8 -->\n",
       "<g id=\"edge28\" class=\"edge\">\n",
       "<title>kpts_e961a9390797b0f6f8887a402ea3e9aa-&gt;input_dict_e04569bc62299c8e7e0be4078f3d04f8</title>\n",
       "<path fill=\"none\" stroke=\"black\" d=\"M2976.22,-520.05C2663.87,-515.15 1277.28,-492.14 1189.39,-468 1062.39,-433.12 1020.81,-419.76 930.39,-324 914.02,-306.66 902.75,-281.93 895.87,-262.93\"/>\n",
       "<polygon fill=\"black\" stroke=\"black\" points=\"899.25,-262.01 892.72,-253.67 892.63,-264.26 899.25,-262.01\"/>\n",
       "</g>\n",
       "<!-- kpts_e961a9390797b0f6f8887a402ea3e9aa&#45;&gt;input_dict_876de51beaeae27d415e18ff8375236f -->\n",
       "<g id=\"edge29\" class=\"edge\">\n",
       "<title>kpts_e961a9390797b0f6f8887a402ea3e9aa-&gt;input_dict_876de51beaeae27d415e18ff8375236f</title>\n",
       "<path fill=\"none\" stroke=\"black\" d=\"M2976.63,-519.34C2665.35,-510.38 1278.45,-462.81 1153.39,-324 1142.68,-312.11 1142.24,-299.48 1153.39,-288 1177.24,-263.44 2351.17,-253.2 2385.39,-252 2434.63,-250.27 2487.16,-248.26 2537.7,-246.23\"/>\n",
       "<polygon fill=\"black\" stroke=\"black\" points=\"2537.77,-249.73 2547.62,-245.83 2537.48,-242.73 2537.77,-249.73\"/>\n",
       "</g>\n",
       "<!-- kpts_e961a9390797b0f6f8887a402ea3e9aa&#45;&gt;input_dict_52703a43da225b4ababe3488538c00f8 -->\n",
       "<g id=\"edge30\" class=\"edge\">\n",
       "<title>kpts_e961a9390797b0f6f8887a402ea3e9aa-&gt;input_dict_52703a43da225b4ababe3488538c00f8</title>\n",
       "<path fill=\"none\" stroke=\"black\" d=\"M3100.31,-519.92C3302.34,-516.1 3934.25,-501.56 4019.39,-468 4042.58,-458.86 4039.2,-441.13 4062.39,-432 4203.62,-376.43 4614.81,-475.01 4744.39,-396 4793.23,-366.22 4819.43,-300.84 4830.98,-263.19\"/>\n",
       "<polygon fill=\"black\" stroke=\"black\" points=\"4834.24,-264.5 4833.68,-253.92 4827.52,-262.55 4834.24,-264.5\"/>\n",
       "</g>\n",
       "<!-- calculation_77b75a01e65d83962d14fa8a882d6c34 -->\n",
       "<g id=\"node25\" class=\"node\">\n",
       "<title>calculation_77b75a01e65d83962d14fa8a882d6c34</title>\n",
       "<ellipse fill=\"none\" stroke=\"black\" cx=\"4441.39\" cy=\"-522\" rx=\"87.18\" ry=\"18\"/>\n",
       "<text text-anchor=\"middle\" x=\"4441.39\" y=\"-516.95\" font-family=\"Times,serif\" font-size=\"14.00\">calculation=vc-relax</text>\n",
       "</g>\n",
       "<!-- calculation_77b75a01e65d83962d14fa8a882d6c34&#45;&gt;input_dict_07335a500eb862ea35ad83a00432e5b3 -->\n",
       "<g id=\"edge31\" class=\"edge\">\n",
       "<title>calculation_77b75a01e65d83962d14fa8a882d6c34-&gt;input_dict_07335a500eb862ea35ad83a00432e5b3</title>\n",
       "<path fill=\"none\" stroke=\"black\" d=\"M4430.27,-503.7C4425.2,-495.81 4419.08,-486.3 4413.45,-477.55\"/>\n",
       "<polygon fill=\"black\" stroke=\"black\" points=\"4416.56,-475.9 4408.2,-469.38 4410.67,-479.68 4416.56,-475.9\"/>\n",
       "</g>\n",
       "<!-- smearing_64a632a7e5bfbb7d0c6face9b82082a9 -->\n",
       "<g id=\"node26\" class=\"node\">\n",
       "<title>smearing_64a632a7e5bfbb7d0c6face9b82082a9</title>\n",
       "<ellipse fill=\"none\" stroke=\"black\" cx=\"4703.39\" cy=\"-522\" rx=\"67.22\" ry=\"18\"/>\n",
       "<text text-anchor=\"middle\" x=\"4703.39\" y=\"-516.95\" font-family=\"Times,serif\" font-size=\"14.00\">smearing=0.02</text>\n",
       "</g>\n",
       "<!-- smearing_64a632a7e5bfbb7d0c6face9b82082a9&#45;&gt;input_dict_4916d4252cf37904bd6ab67b0e467ba6 -->\n",
       "<g id=\"edge32\" class=\"edge\">\n",
       "<title>smearing_64a632a7e5bfbb7d0c6face9b82082a9-&gt;input_dict_4916d4252cf37904bd6ab67b0e467ba6</title>\n",
       "<path fill=\"none\" stroke=\"black\" d=\"M4643.17,-513.62C4611.7,-510.08 4572.52,-506.14 4537.39,-504 3716.97,-454.09 3509.01,-514.42 2688.39,-468 2346.33,-448.65 1384.06,-577.32 1153.39,-324 1142.62,-312.17 1142.41,-299.64 1153.39,-288 1158.99,-282.05 1541.7,-261.18 1805.35,-247.47\"/>\n",
       "<polygon fill=\"black\" stroke=\"black\" points=\"1805.32,-250.98 1815.13,-246.96 1804.96,-243.99 1805.32,-250.98\"/>\n",
       "</g>\n",
       "<!-- smearing_64a632a7e5bfbb7d0c6face9b82082a9&#45;&gt;input_dict_07335a500eb862ea35ad83a00432e5b3 -->\n",
       "<g id=\"edge33\" class=\"edge\">\n",
       "<title>smearing_64a632a7e5bfbb7d0c6face9b82082a9-&gt;input_dict_07335a500eb862ea35ad83a00432e5b3</title>\n",
       "<path fill=\"none\" stroke=\"black\" d=\"M4653.38,-509.6C4607.05,-499.03 4537.16,-483.1 4481.96,-470.51\"/>\n",
       "<polygon fill=\"black\" stroke=\"black\" points=\"4482.77,-467.11 4472.25,-468.3 4481.22,-473.93 4482.77,-467.11\"/>\n",
       "</g>\n",
       "<!-- smearing_64a632a7e5bfbb7d0c6face9b82082a9&#45;&gt;input_dict_ea239d48fd20e1e0e7798573a7df9a84 -->\n",
       "<g id=\"edge34\" class=\"edge\">\n",
       "<title>smearing_64a632a7e5bfbb7d0c6face9b82082a9-&gt;input_dict_ea239d48fd20e1e0e7798573a7df9a84</title>\n",
       "<path fill=\"none\" stroke=\"black\" d=\"M4730.08,-505.12C4742.69,-496.01 4756.48,-483.33 4763.39,-468 4791.42,-405.83 4745.11,-316.27 4706.39,-288 4695.27,-279.88 4386.07,-260.91 4159.37,-248.01\"/>\n",
       "<polygon fill=\"black\" stroke=\"black\" points=\"4159.65,-244.52 4149.47,-247.45 4159.26,-251.51 4159.65,-244.52\"/>\n",
       "</g>\n",
       "<!-- smearing_64a632a7e5bfbb7d0c6face9b82082a9&#45;&gt;input_dict_e04569bc62299c8e7e0be4078f3d04f8 -->\n",
       "<g id=\"edge35\" class=\"edge\">\n",
       "<title>smearing_64a632a7e5bfbb7d0c6face9b82082a9-&gt;input_dict_e04569bc62299c8e7e0be4078f3d04f8</title>\n",
       "<path fill=\"none\" stroke=\"black\" d=\"M4643.56,-513.55C4612.03,-509.96 4572.68,-506 4537.39,-504 4361.44,-494.01 1537.94,-503.86 1365.39,-468 1185.46,-430.6 996.33,-310.48 921.11,-258.9\"/>\n",
       "<polygon fill=\"black\" stroke=\"black\" points=\"923.13,-256.05 912.92,-253.24 919.15,-261.81 923.13,-256.05\"/>\n",
       "</g>\n",
       "<!-- smearing_64a632a7e5bfbb7d0c6face9b82082a9&#45;&gt;input_dict_876de51beaeae27d415e18ff8375236f -->\n",
       "<g id=\"edge36\" class=\"edge\">\n",
       "<title>smearing_64a632a7e5bfbb7d0c6face9b82082a9-&gt;input_dict_876de51beaeae27d415e18ff8375236f</title>\n",
       "<path fill=\"none\" stroke=\"black\" d=\"M4715.29,-504C4726.41,-485.89 4739.98,-456.51 4730.39,-432 4698.65,-350.86 4676.76,-323.92 4597.39,-288 4524.43,-254.98 3236.42,-254.91 3156.39,-252 3120.23,-250.69 3082.01,-249.08 3044.57,-247.4\"/>\n",
       "<polygon fill=\"black\" stroke=\"black\" points=\"3045.16,-243.92 3035.02,-246.96 3044.85,-250.91 3045.16,-243.92\"/>\n",
       "</g>\n",
       "<!-- smearing_64a632a7e5bfbb7d0c6face9b82082a9&#45;&gt;input_dict_52703a43da225b4ababe3488538c00f8 -->\n",
       "<g id=\"edge37\" class=\"edge\">\n",
       "<title>smearing_64a632a7e5bfbb7d0c6face9b82082a9-&gt;input_dict_52703a43da225b4ababe3488538c00f8</title>\n",
       "<path fill=\"none\" stroke=\"black\" d=\"M4744.83,-507.47C4764.61,-499.03 4787.04,-486.24 4801.39,-468 4848.68,-407.88 4846.66,-311.49 4842.11,-263.73\"/>\n",
       "<polygon fill=\"black\" stroke=\"black\" points=\"4845.61,-263.5 4841.06,-253.93 4838.65,-264.24 4845.61,-263.5\"/>\n",
       "</g>\n",
       "<!-- strain_lst_17d5bcbc7579ab5e0f98577d05347b86 -->\n",
       "<g id=\"node27\" class=\"node\">\n",
       "<title>strain_lst_17d5bcbc7579ab5e0f98577d05347b86</title>\n",
       "<ellipse fill=\"none\" stroke=\"black\" cx=\"3348.39\" cy=\"-378\" rx=\"209.5\" ry=\"18\"/>\n",
       "<text text-anchor=\"middle\" x=\"3348.39\" y=\"-372.95\" font-family=\"Times,serif\" font-size=\"14.00\">strain_lst=[0.9, 0.9500000000000001, 1.0, 1.05, 1.1]</text>\n",
       "</g>\n",
       "<!-- strain_lst_17d5bcbc7579ab5e0f98577d05347b86&#45;&gt;structure_ca5b365df74c177e23545c25c63d1008 -->\n",
       "<g id=\"edge38\" class=\"edge\">\n",
       "<title>strain_lst_17d5bcbc7579ab5e0f98577d05347b86-&gt;structure_ca5b365df74c177e23545c25c63d1008</title>\n",
       "<path fill=\"none\" stroke=\"black\" d=\"M3199.7,-364.98C3176.18,-363.21 3152.13,-361.49 3129.39,-360 3057.09,-355.25 2650.62,-333.7 2382.36,-319.59\"/>\n",
       "<polygon fill=\"black\" stroke=\"black\" points=\"2382.57,-316.09 2372.4,-319.06 2382.2,-323.08 2382.57,-316.09\"/>\n",
       "</g>\n",
       "<!-- strain_lst_17d5bcbc7579ab5e0f98577d05347b86&#45;&gt;structure_9d53a4e58f1637ab9ff67b46cb7358fe -->\n",
       "<g id=\"edge39\" class=\"edge\">\n",
       "<title>strain_lst_17d5bcbc7579ab5e0f98577d05347b86-&gt;structure_9d53a4e58f1637ab9ff67b46cb7358fe</title>\n",
       "<path fill=\"none\" stroke=\"black\" d=\"M3410.72,-360.41C3448.34,-350.4 3496.53,-337.57 3536.26,-327\"/>\n",
       "<polygon fill=\"black\" stroke=\"black\" points=\"3537,-330.42 3545.76,-324.47 3535.2,-323.66 3537,-330.42\"/>\n",
       "</g>\n",
       "<!-- strain_lst_17d5bcbc7579ab5e0f98577d05347b86&#45;&gt;structure_a1a86487e175db26ad2bbab9cfdc965a -->\n",
       "<g id=\"edge40\" class=\"edge\">\n",
       "<title>strain_lst_17d5bcbc7579ab5e0f98577d05347b86-&gt;structure_a1a86487e175db26ad2bbab9cfdc965a</title>\n",
       "<path fill=\"none\" stroke=\"black\" d=\"M3202.97,-364.68C3178.42,-362.9 3153.19,-361.25 3129.39,-360 2544.64,-329.33 2397.49,-347.11 1812.39,-324 1781.84,-322.79 1749.71,-321.35 1717.99,-319.82\"/>\n",
       "<polygon fill=\"black\" stroke=\"black\" points=\"1718.46,-316.34 1708.3,-319.35 1718.12,-323.33 1718.46,-316.34\"/>\n",
       "</g>\n",
       "<!-- strain_lst_17d5bcbc7579ab5e0f98577d05347b86&#45;&gt;structure_9e6dc28c2f921df7ffd77a6335216375 -->\n",
       "<g id=\"edge41\" class=\"edge\">\n",
       "<title>strain_lst_17d5bcbc7579ab5e0f98577d05347b86-&gt;structure_9e6dc28c2f921df7ffd77a6335216375</title>\n",
       "<path fill=\"none\" stroke=\"black\" d=\"M3234.84,-362.5C3148.32,-351.44 3028.84,-336.18 2937.07,-324.46\"/>\n",
       "<polygon fill=\"black\" stroke=\"black\" points=\"2937.6,-321 2927.24,-323.2 2936.72,-327.94 2937.6,-321\"/>\n",
       "</g>\n",
       "<!-- strain_lst_17d5bcbc7579ab5e0f98577d05347b86&#45;&gt;structure_0fc0e2c282bca743a26bab57a734c94d -->\n",
       "<g id=\"edge42\" class=\"edge\">\n",
       "<title>strain_lst_17d5bcbc7579ab5e0f98577d05347b86-&gt;structure_0fc0e2c282bca743a26bab57a734c94d</title>\n",
       "<path fill=\"none\" stroke=\"black\" d=\"M3501.51,-365.36C3658.22,-353.45 3902.32,-334.9 4073.13,-321.92\"/>\n",
       "<polygon fill=\"black\" stroke=\"black\" points=\"4073.31,-325.41 4083.02,-321.17 4072.78,-318.43 4073.31,-325.41\"/>\n",
       "</g>\n",
       "<!-- calculation_bc91e0ce7227762f507f47b85f2f0a83 -->\n",
       "<g id=\"node28\" class=\"node\">\n",
       "<title>calculation_bc91e0ce7227762f507f47b85f2f0a83</title>\n",
       "<ellipse fill=\"none\" stroke=\"black\" cx=\"3205.39\" cy=\"-306\" rx=\"67.73\" ry=\"18\"/>\n",
       "<text text-anchor=\"middle\" x=\"3205.39\" y=\"-300.95\" font-family=\"Times,serif\" font-size=\"14.00\">calculation=scf</text>\n",
       "</g>\n",
       "<!-- calculation_bc91e0ce7227762f507f47b85f2f0a83&#45;&gt;input_dict_4916d4252cf37904bd6ab67b0e467ba6 -->\n",
       "<g id=\"edge43\" class=\"edge\">\n",
       "<title>calculation_bc91e0ce7227762f507f47b85f2f0a83-&gt;input_dict_4916d4252cf37904bd6ab67b0e467ba6</title>\n",
       "<path fill=\"none\" stroke=\"black\" d=\"M3157.37,-292.96C3148.13,-291.01 3138.5,-289.23 3129.39,-288 3051.46,-277.45 2612.51,-257.97 2319.04,-245.8\"/>\n",
       "<polygon fill=\"black\" stroke=\"black\" points=\"2319.44,-242.31 2309.3,-245.39 2319.15,-249.31 2319.44,-242.31\"/>\n",
       "</g>\n",
       "<!-- calculation_bc91e0ce7227762f507f47b85f2f0a83&#45;&gt;input_dict_ea239d48fd20e1e0e7798573a7df9a84 -->\n",
       "<g id=\"edge44\" class=\"edge\">\n",
       "<title>calculation_bc91e0ce7227762f507f47b85f2f0a83-&gt;input_dict_ea239d48fd20e1e0e7798573a7df9a84</title>\n",
       "<path fill=\"none\" stroke=\"black\" d=\"M3253.85,-293.12C3262.96,-291.18 3272.43,-289.37 3281.39,-288 3410.52,-268.32 3555.48,-255.55 3674.84,-247.5\"/>\n",
       "<polygon fill=\"black\" stroke=\"black\" points=\"3675.05,-250.99 3684.8,-246.83 3674.58,-244.01 3675.05,-250.99\"/>\n",
       "</g>\n",
       "<!-- calculation_bc91e0ce7227762f507f47b85f2f0a83&#45;&gt;input_dict_e04569bc62299c8e7e0be4078f3d04f8 -->\n",
       "<g id=\"edge45\" class=\"edge\">\n",
       "<title>calculation_bc91e0ce7227762f507f47b85f2f0a83-&gt;input_dict_e04569bc62299c8e7e0be4078f3d04f8</title>\n",
       "<path fill=\"none\" stroke=\"black\" d=\"M3157.8,-292.82C3148.44,-290.86 3138.65,-289.11 3129.39,-288 2708.12,-237.43 1644.43,-266.82 1220.39,-252 1188.55,-250.89 1155.02,-249.47 1121.98,-247.92\"/>\n",
       "<polygon fill=\"black\" stroke=\"black\" points=\"1122.47,-244.44 1112.31,-247.47 1122.14,-251.44 1122.47,-244.44\"/>\n",
       "</g>\n",
       "<!-- calculation_bc91e0ce7227762f507f47b85f2f0a83&#45;&gt;input_dict_876de51beaeae27d415e18ff8375236f -->\n",
       "<g id=\"edge46\" class=\"edge\">\n",
       "<title>calculation_bc91e0ce7227762f507f47b85f2f0a83-&gt;input_dict_876de51beaeae27d415e18ff8375236f</title>\n",
       "<path fill=\"none\" stroke=\"black\" d=\"M3155.6,-293.41C3146.89,-291.51 3137.89,-289.63 3129.39,-288 3061.73,-275 2985.82,-262.62 2923.99,-253.1\"/>\n",
       "<polygon fill=\"black\" stroke=\"black\" points=\"2924.52,-249.65 2914.1,-251.59 2923.46,-256.56 2924.52,-249.65\"/>\n",
       "</g>\n",
       "<!-- calculation_bc91e0ce7227762f507f47b85f2f0a83&#45;&gt;input_dict_52703a43da225b4ababe3488538c00f8 -->\n",
       "<g id=\"edge47\" class=\"edge\">\n",
       "<title>calculation_bc91e0ce7227762f507f47b85f2f0a83-&gt;input_dict_52703a43da225b4ababe3488538c00f8</title>\n",
       "<path fill=\"none\" stroke=\"black\" d=\"M3252.98,-292.9C3262.34,-290.93 3272.13,-289.16 3281.39,-288 3820.95,-220.34 3961.04,-273.82 4504.39,-252 4535.14,-250.77 4567.47,-249.31 4599.41,-247.79\"/>\n",
       "<polygon fill=\"black\" stroke=\"black\" points=\"4599.36,-251.29 4609.18,-247.32 4599.02,-244.3 4599.36,-251.29\"/>\n",
       "</g>\n",
       "<!-- 1_dac8d2446138b9e055f14b2715880b08&#45;&gt;volume_lst_827680783f0748a5c1484d35a17d3098 -->\n",
       "<g id=\"edge48\" class=\"edge\">\n",
       "<title>1_dac8d2446138b9e055f14b2715880b08-&gt;volume_lst_827680783f0748a5c1484d35a17d3098</title>\n",
       "<path fill=\"none\" stroke=\"black\" d=\"M3700.7,-149.13C3479.82,-136.68 3133.59,-117.16 2904.11,-104.23\"/>\n",
       "<polygon fill=\"black\" stroke=\"black\" points=\"2904.62,-100.75 2894.44,-103.68 2904.22,-107.74 2904.62,-100.75\"/>\n",
       "</g>\n",
       "<!-- working_directory_5423d2cc67129a6d0383af6f347df5bd -->\n",
       "<g id=\"node30\" class=\"node\">\n",
       "<title>working_directory_5423d2cc67129a6d0383af6f347df5bd</title>\n",
       "<ellipse fill=\"none\" stroke=\"black\" cx=\"4380.39\" cy=\"-234\" rx=\"114.82\" ry=\"18\"/>\n",
       "<text text-anchor=\"middle\" x=\"4380.39\" y=\"-228.95\" font-family=\"Times,serif\" font-size=\"14.00\">working_directory=strain_1</text>\n",
       "</g>\n",
       "<!-- working_directory_5423d2cc67129a6d0383af6f347df5bd&#45;&gt;1_dac8d2446138b9e055f14b2715880b08 -->\n",
       "<g id=\"edge49\" class=\"edge\">\n",
       "<title>working_directory_5423d2cc67129a6d0383af6f347df5bd-&gt;1_dac8d2446138b9e055f14b2715880b08</title>\n",
       "<path fill=\"none\" stroke=\"black\" d=\"M4299.23,-220.89C4225.21,-209.84 4114.9,-193.37 4030.82,-180.83\"/>\n",
       "<polygon fill=\"black\" stroke=\"black\" points=\"4031.56,-177.4 4021.16,-179.38 4030.53,-184.32 4031.56,-177.4\"/>\n",
       "</g>\n",
       "<!-- working_directory_5423d2cc67129a6d0383af6f347df5bd&#45;&gt;1_c79dc8180be4313c1a8524819805c079 -->\n",
       "<g id=\"edge50\" class=\"edge\">\n",
       "<title>working_directory_5423d2cc67129a6d0383af6f347df5bd-&gt;1_c79dc8180be4313c1a8524819805c079</title>\n",
       "<path fill=\"none\" stroke=\"black\" d=\"M4412.49,-216.23C4430.08,-207.04 4452.12,-195.53 4471.2,-185.56\"/>\n",
       "<polygon fill=\"black\" stroke=\"black\" points=\"4472.57,-188.79 4479.81,-181.06 4469.33,-182.59 4472.57,-188.79\"/>\n",
       "</g>\n",
       "<!-- 1_c79dc8180be4313c1a8524819805c079&#45;&gt;energy_lst_c8e0653e8979628bed5344a2329ced3a -->\n",
       "<g id=\"edge74\" class=\"edge\">\n",
       "<title>1_c79dc8180be4313c1a8524819805c079-&gt;energy_lst_c8e0653e8979628bed5344a2329ced3a</title>\n",
       "<path fill=\"none\" stroke=\"black\" d=\"M4309.75,-148.77C4103.16,-136.42 3784.82,-117.39 3570.54,-104.58\"/>\n",
       "<polygon fill=\"black\" stroke=\"black\" points=\"3570.84,-101.09 3560.65,-103.99 3570.42,-108.08 3570.84,-101.09\"/>\n",
       "</g>\n",
       "<!-- 2_838342f7da35f02c876868ff30ff7865&#45;&gt;volume_lst_827680783f0748a5c1484d35a17d3098 -->\n",
       "<g id=\"edge54\" class=\"edge\">\n",
       "<title>2_838342f7da35f02c876868ff30ff7865-&gt;volume_lst_827680783f0748a5c1484d35a17d3098</title>\n",
       "<path fill=\"none\" stroke=\"black\" d=\"M493.47,-148.69C526.19,-146.94 559.72,-145.3 591.39,-144 1211.63,-118.52 1936.55,-103.35 2345.44,-96.14\"/>\n",
       "<polygon fill=\"black\" stroke=\"black\" points=\"2345.4,-99.65 2355.33,-95.97 2345.27,-92.65 2345.4,-99.65\"/>\n",
       "</g>\n",
       "<!-- working_directory_cc646e064ddfc4b2811aba3d86d27992 -->\n",
       "<g id=\"node33\" class=\"node\">\n",
       "<title>working_directory_cc646e064ddfc4b2811aba3d86d27992</title>\n",
       "<ellipse fill=\"none\" stroke=\"black\" cx=\"1344.39\" cy=\"-234\" rx=\"114.82\" ry=\"18\"/>\n",
       "<text text-anchor=\"middle\" x=\"1344.39\" y=\"-228.95\" font-family=\"Times,serif\" font-size=\"14.00\">working_directory=strain_2</text>\n",
       "</g>\n",
       "<!-- working_directory_cc646e064ddfc4b2811aba3d86d27992&#45;&gt;2_838342f7da35f02c876868ff30ff7865 -->\n",
       "<g id=\"edge55\" class=\"edge\">\n",
       "<title>working_directory_cc646e064ddfc4b2811aba3d86d27992-&gt;2_838342f7da35f02c876868ff30ff7865</title>\n",
       "<path fill=\"none\" stroke=\"black\" d=\"M1263.45,-220.87C1249.45,-219.04 1235.01,-217.33 1221.39,-216 1217,-215.57 785.48,-191.05 511.86,-175.51\"/>\n",
       "<polygon fill=\"black\" stroke=\"black\" points=\"512.26,-172.03 502.08,-174.96 511.87,-179.02 512.26,-172.03\"/>\n",
       "</g>\n",
       "<!-- working_directory_cc646e064ddfc4b2811aba3d86d27992&#45;&gt;2_9dd8bbfe21b048f992836f5bbd5526d7 -->\n",
       "<g id=\"edge56\" class=\"edge\">\n",
       "<title>working_directory_cc646e064ddfc4b2811aba3d86d27992-&gt;2_9dd8bbfe21b048f992836f5bbd5526d7</title>\n",
       "<path fill=\"none\" stroke=\"black\" d=\"M1264.8,-220.65C1193.91,-209.64 1089.32,-193.41 1009.17,-180.97\"/>\n",
       "<polygon fill=\"black\" stroke=\"black\" points=\"1009.94,-177.55 999.53,-179.47 1008.87,-184.47 1009.94,-177.55\"/>\n",
       "</g>\n",
       "<!-- 2_9dd8bbfe21b048f992836f5bbd5526d7&#45;&gt;energy_lst_c8e0653e8979628bed5344a2329ced3a -->\n",
       "<g id=\"edge75\" class=\"edge\">\n",
       "<title>2_9dd8bbfe21b048f992836f5bbd5526d7-&gt;energy_lst_c8e0653e8979628bed5344a2329ced3a</title>\n",
       "<path fill=\"none\" stroke=\"black\" d=\"M1095.59,-148.6C1128.92,-146.85 1163.12,-145.23 1195.39,-144 2000.74,-113.35 2202.95,-136.43 3008.39,-108 3040.28,-106.87 3073.88,-105.45 3106.98,-103.91\"/>\n",
       "<polygon fill=\"black\" stroke=\"black\" points=\"3106.85,-107.42 3116.67,-103.45 3106.52,-100.43 3106.85,-107.42\"/>\n",
       "</g>\n",
       "<!-- 3_399b343c06d77e76dd5f03f86c659928&#45;&gt;volume_lst_827680783f0748a5c1484d35a17d3098 -->\n",
       "<g id=\"edge60\" class=\"edge\">\n",
       "<title>3_399b343c06d77e76dd5f03f86c659928-&gt;volume_lst_827680783f0748a5c1484d35a17d3098</title>\n",
       "<path fill=\"none\" stroke=\"black\" d=\"M2696.49,-143.7C2692.52,-135.98 2687.76,-126.71 2683.33,-118.11\"/>\n",
       "<polygon fill=\"black\" stroke=\"black\" points=\"2686.56,-116.74 2678.88,-109.45 2680.34,-119.94 2686.56,-116.74\"/>\n",
       "</g>\n",
       "<!-- working_directory_e27768d53df6cd8dc245c52054ecf31f -->\n",
       "<g id=\"node36\" class=\"node\">\n",
       "<title>working_directory_e27768d53df6cd8dc245c52054ecf31f</title>\n",
       "<ellipse fill=\"none\" stroke=\"black\" cx=\"3280.39\" cy=\"-234\" rx=\"114.82\" ry=\"18\"/>\n",
       "<text text-anchor=\"middle\" x=\"3280.39\" y=\"-228.95\" font-family=\"Times,serif\" font-size=\"14.00\">working_directory=strain_3</text>\n",
       "</g>\n",
       "<!-- working_directory_e27768d53df6cd8dc245c52054ecf31f&#45;&gt;3_399b343c06d77e76dd5f03f86c659928 -->\n",
       "<g id=\"edge61\" class=\"edge\">\n",
       "<title>working_directory_e27768d53df6cd8dc245c52054ecf31f-&gt;3_399b343c06d77e76dd5f03f86c659928</title>\n",
       "<path fill=\"none\" stroke=\"black\" d=\"M3191.81,-222.22C3099.31,-210.96 2952.94,-193.14 2844.9,-179.98\"/>\n",
       "<polygon fill=\"black\" stroke=\"black\" points=\"2845.43,-176.52 2835.08,-178.79 2844.59,-183.47 2845.43,-176.52\"/>\n",
       "</g>\n",
       "<!-- working_directory_e27768d53df6cd8dc245c52054ecf31f&#45;&gt;3_68b6717ff03b14312116c3d25f1dff65 -->\n",
       "<g id=\"edge62\" class=\"edge\">\n",
       "<title>working_directory_e27768d53df6cd8dc245c52054ecf31f-&gt;3_68b6717ff03b14312116c3d25f1dff65</title>\n",
       "<path fill=\"none\" stroke=\"black\" d=\"M3287.31,-215.7C3290.33,-208.15 3293.94,-199.12 3297.32,-190.68\"/>\n",
       "<polygon fill=\"black\" stroke=\"black\" points=\"3300.52,-192.09 3300.99,-181.51 3294.02,-189.49 3300.52,-192.09\"/>\n",
       "</g>\n",
       "<!-- 3_68b6717ff03b14312116c3d25f1dff65&#45;&gt;energy_lst_c8e0653e8979628bed5344a2329ced3a -->\n",
       "<g id=\"edge76\" class=\"edge\">\n",
       "<title>3_68b6717ff03b14312116c3d25f1dff65-&gt;energy_lst_c8e0653e8979628bed5344a2329ced3a</title>\n",
       "<path fill=\"none\" stroke=\"black\" d=\"M3317.04,-143.7C3320.86,-136.07 3325.43,-126.92 3329.69,-118.4\"/>\n",
       "<polygon fill=\"black\" stroke=\"black\" points=\"3332.82,-119.97 3334.16,-109.46 3326.56,-116.84 3332.82,-119.97\"/>\n",
       "</g>\n",
       "<!-- 4_6ffdb7c4762ea12c71db04392a959a44&#45;&gt;volume_lst_827680783f0748a5c1484d35a17d3098 -->\n",
       "<g id=\"edge66\" class=\"edge\">\n",
       "<title>4_6ffdb7c4762ea12c71db04392a959a44-&gt;volume_lst_827680783f0748a5c1484d35a17d3098</title>\n",
       "<path fill=\"none\" stroke=\"black\" d=\"M4915.19,-148.6C4881.86,-146.85 4847.66,-145.23 4815.39,-144 4012.26,-113.41 3810.61,-136.19 3007.39,-108 2975.34,-106.88 2941.59,-105.46 2908.33,-103.92\"/>\n",
       "<polygon fill=\"black\" stroke=\"black\" points=\"2908.73,-100.44 2898.58,-103.47 2908.41,-107.43 2908.73,-100.44\"/>\n",
       "</g>\n",
       "<!-- working_directory_72bba39b22d2b7ce154d37c7e8c658b7 -->\n",
       "<g id=\"node39\" class=\"node\">\n",
       "<title>working_directory_72bba39b22d2b7ce154d37c7e8c658b7</title>\n",
       "<ellipse fill=\"none\" stroke=\"black\" cx=\"5514.39\" cy=\"-234\" rx=\"114.82\" ry=\"18\"/>\n",
       "<text text-anchor=\"middle\" x=\"5514.39\" y=\"-228.95\" font-family=\"Times,serif\" font-size=\"14.00\">working_directory=strain_4</text>\n",
       "</g>\n",
       "<!-- working_directory_72bba39b22d2b7ce154d37c7e8c658b7&#45;&gt;4_6ffdb7c4762ea12c71db04392a959a44 -->\n",
       "<g id=\"edge67\" class=\"edge\">\n",
       "<title>working_directory_72bba39b22d2b7ce154d37c7e8c658b7-&gt;4_6ffdb7c4762ea12c71db04392a959a44</title>\n",
       "<path fill=\"none\" stroke=\"black\" d=\"M5440.18,-219.92C5378.74,-209.08 5290.72,-193.56 5222.11,-181.46\"/>\n",
       "<polygon fill=\"black\" stroke=\"black\" points=\"5222.79,-178.03 5212.33,-179.74 5221.57,-184.92 5222.79,-178.03\"/>\n",
       "</g>\n",
       "<!-- working_directory_72bba39b22d2b7ce154d37c7e8c658b7&#45;&gt;4_930a550eaf9294f2bcab46e39206e253 -->\n",
       "<g id=\"edge68\" class=\"edge\">\n",
       "<title>working_directory_72bba39b22d2b7ce154d37c7e8c658b7-&gt;4_930a550eaf9294f2bcab46e39206e253</title>\n",
       "<path fill=\"none\" stroke=\"black\" d=\"M5561.36,-217.12C5590.49,-207.27 5628.24,-194.5 5659.76,-183.84\"/>\n",
       "<polygon fill=\"black\" stroke=\"black\" points=\"5660.84,-187.17 5669.19,-180.65 5658.59,-180.54 5660.84,-187.17\"/>\n",
       "</g>\n",
       "<!-- 4_930a550eaf9294f2bcab46e39206e253&#45;&gt;energy_lst_c8e0653e8979628bed5344a2329ced3a -->\n",
       "<g id=\"edge77\" class=\"edge\">\n",
       "<title>4_930a550eaf9294f2bcab46e39206e253-&gt;energy_lst_c8e0653e8979628bed5344a2329ced3a</title>\n",
       "<path fill=\"none\" stroke=\"black\" d=\"M5517.96,-148.69C5485.02,-146.95 5451.26,-145.3 5419.39,-144 4798.4,-118.6 4072.39,-103.38 3664.38,-96.14\"/>\n",
       "<polygon fill=\"black\" stroke=\"black\" points=\"3664.57,-92.64 3654.51,-95.97 3664.45,-99.64 3664.57,-92.64\"/>\n",
       "</g>\n",
       "<!-- energy_lst_c8e0653e8979628bed5344a2329ced3a&#45;&gt;create_function_job_e3cf7382da1f89333d5638766d8f35d1 -->\n",
       "<g id=\"edge72\" class=\"edge\">\n",
       "<title>energy_lst_c8e0653e8979628bed5344a2329ced3a-&gt;create_function_job_e3cf7382da1f89333d5638766d8f35d1</title>\n",
       "<path fill=\"none\" stroke=\"black\" d=\"M3262.24,-72.14C3213.16,-61.95 3150.41,-48.92 3099.34,-38.31\"/>\n",
       "<polygon fill=\"black\" stroke=\"black\" points=\"3100.28,-34.93 3089.78,-36.32 3098.86,-41.78 3100.28,-34.93\"/>\n",
       "</g>\n",
       "</g>\n",
       "</svg>"
      ],
      "text/plain": [
       "<IPython.core.display.SVG object>"
      ]
     },
     "metadata": {},
     "output_type": "display_data"
    }
   ],
   "source": [
    "delayed_object = load_workflow_json(project=pr, file_name=workflow_json_filename)\n",
    "delayed_object.draw()"
   ]
  },
  {
   "cell_type": "code",
   "execution_count": 26,
   "metadata": {},
   "outputs": [
    {
     "name": "stdout",
     "output_type": "stream",
     "text": [
      "The job get_bulk_structure_f1e730ed97e30e5439e855d2ac41396f was saved and received the ID: 8\n",
      "The job get_dict_1e47509b88d63a21fd421686554c8f4a was saved and received the ID: 9\n",
      "The job calculate_qe_e3c0bf43f7edf24d215901bf93271e87 was saved and received the ID: 10\n"
     ]
    },
    {
     "name": "stderr",
     "output_type": "stream",
     "text": [
      "Note: The following floating-point exceptions are signalling: IEEE_INVALID_FLAG\n"
     ]
    },
    {
     "name": "stdout",
     "output_type": "stream",
     "text": [
      "The job generate_structures_6326b8ea2e84f099ea95fec76459bc56 was saved and received the ID: 11\n",
      "The job get_dict_27e8162e8ea354dae951497ba9e7b9dd was saved and received the ID: 12\n",
      "The job calculate_qe_1bf9ad9fb363acc8d268f1e80ed53382 was saved and received the ID: 13\n"
     ]
    },
    {
     "name": "stderr",
     "output_type": "stream",
     "text": [
      "Note: The following floating-point exceptions are signalling: IEEE_INVALID_FLAG\n"
     ]
    },
    {
     "name": "stdout",
     "output_type": "stream",
     "text": [
      "The job get_dict_3e0ebfe87008f5e62291452793644d90 was saved and received the ID: 14\n",
      "The job calculate_qe_b6c10ce0f5581c5163295b4ddf908191 was saved and received the ID: 15\n"
     ]
    },
    {
     "name": "stderr",
     "output_type": "stream",
     "text": [
      "Note: The following floating-point exceptions are signalling: IEEE_INVALID_FLAG\n"
     ]
    },
    {
     "name": "stdout",
     "output_type": "stream",
     "text": [
      "The job get_dict_e59211242612ae95433521ef6b374e6f was saved and received the ID: 16\n",
      "The job calculate_qe_5be20ee465cbcc51f54d4167a9f081ae was saved and received the ID: 17\n"
     ]
    },
    {
     "name": "stderr",
     "output_type": "stream",
     "text": [
      "Note: The following floating-point exceptions are signalling: IEEE_INVALID_FLAG\n"
     ]
    },
    {
     "name": "stdout",
     "output_type": "stream",
     "text": [
      "The job get_dict_9dd0bb1e6343ccf9acbdb1bea11bd506 was saved and received the ID: 18\n",
      "The job calculate_qe_0e5300454c9d12e36c6d2925c2e6d859 was saved and received the ID: 19\n"
     ]
    },
    {
     "name": "stderr",
     "output_type": "stream",
     "text": [
      "Note: The following floating-point exceptions are signalling: IEEE_INVALID_FLAG\n"
     ]
    },
    {
     "name": "stdout",
     "output_type": "stream",
     "text": [
      "The job get_dict_da6f93cd2ef0e45bdf569b708131d0a6 was saved and received the ID: 20\n",
      "The job calculate_qe_326496dc7db0f79fde4d7e1abe2eedf3 was saved and received the ID: 21\n"
     ]
    },
    {
     "name": "stderr",
     "output_type": "stream",
     "text": [
      "Note: The following floating-point exceptions are signalling: IEEE_INVALID_FLAG\n"
     ]
    },
    {
     "name": "stdout",
     "output_type": "stream",
     "text": [
      "The job get_list_09ab4d5239e439dc9eb2292db9516c04 was saved and received the ID: 22\n",
      "The job get_list_30bb97099893030717e722ed661022c7 was saved and received the ID: 23\n",
      "The job plot_energy_volume_curve_e82d98c6a163e43fe8943f89cb94dee9 was saved and received the ID: 24\n"
     ]
    },
    {
     "data": {
      "image/png": "[encoded data removed]",
      "text/plain": [
       "<Figure size 640x480 with 1 Axes>"
      ]
     },
     "metadata": {},
     "output_type": "display_data"
    }
   ],
   "source": [
    "delayed_object.pull()"
   ]
  },
  {
   "cell_type": "code",
   "execution_count": null,
   "metadata": {},
   "outputs": [],
   "source": []
  }
 ],
 "metadata": {
  "kernelspec": {
   "display_name": "Python 3 (ipykernel)",
   "language": "python",
   "name": "python3"
  },
  "language_info": {
   "codemirror_mode": {
    "name": "ipython",
    "version": 3
   },
   "file_extension": ".py",
   "mimetype": "text/x-python",
   "name": "python",
   "nbconvert_exporter": "python",
   "pygments_lexer": "ipython3",
   "version": "3.12.5"
  }
 },
 "nbformat": 4,
 "nbformat_minor": 4
}
