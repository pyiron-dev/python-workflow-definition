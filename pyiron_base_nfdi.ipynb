{
 "cells": [
  {
   "cell_type": "markdown",
   "id": "106ded66-d202-46ac-82b0-2755ca309bdd",
   "metadata": {},
   "source": [
    "https://github.com/BAMresearch/NFDI4IngScientificWorkflowRequirements"
   ]
  },
  {
   "cell_type": "code",
   "execution_count": 1,
   "id": "6d86e804-245a-4d96-a1a3-1bc3216c3646",
   "metadata": {},
   "outputs": [
    {
     "name": "stdout",
     "output_type": "stream",
     "text": [
      "\n",
      "# conda environments:\n",
      "#\n",
      "base                 * /home/janssen/mambaforge\n",
      "postprocessing         /home/janssen/mambaforge/envs/postprocessing\n",
      "preprocessing          /home/janssen/mambaforge/envs/preprocessing\n",
      "processing             /home/janssen/mambaforge/envs/processing\n",
      "\n"
     ]
    }
   ],
   "source": [
    "!conda env list"
   ]
  },
  {
   "cell_type": "markdown",
   "id": "11e09b78-cb72-465f-9c8b-5b77f0aa729c",
   "metadata": {},
   "source": [
    "# Preprocessing "
   ]
  },
  {
   "cell_type": "code",
   "execution_count": 2,
   "id": "a76e6c0a-98f2-4436-af10-8097da183341",
   "metadata": {},
   "outputs": [],
   "source": [
    "from nfdi_ing_workflow import (\n",
    "    generate_mesh as _generate_mesh, \n",
    "    convert_to_xdmf as _convert_to_xdmf,\n",
    "    poisson as _poisson,\n",
    "    plot_over_line as _plot_over_line,\n",
    "    substitute_macros as _substitute_macros,\n",
    "    compile_paper as _compile_paper,\n",
    ")"
   ]
  },
  {
   "cell_type": "code",
   "execution_count": 3,
   "id": "89c02460-b543-442c-a27e-f1757dc2262e",
   "metadata": {},
   "outputs": [],
   "source": [
    "from pyiron_base import Project, job"
   ]
  },
  {
   "cell_type": "code",
   "execution_count": 4,
   "id": "549ecf27-88ef-4e77-8bd4-b616cfdda2e4",
   "metadata": {},
   "outputs": [],
   "source": [
    "generate_mesh = job(_generate_mesh)\n",
    "convert_to_xdmf = job(_convert_to_xdmf, output_key_lst=[\"xdmf_file\", \"h5_file\"])\n",
    "poisson = job(_poisson, output_key_lst=[\"numdofs\", \"pvd_file\", \"vtu_file\"])\n",
    "plot_over_line = job(_plot_over_line)\n",
    "substitute_macros = job(_substitute_macros)\n",
    "compile_paper = job(_compile_paper)"
   ]
  },
  {
   "cell_type": "code",
   "execution_count": 5,
   "id": "508e6549-f7b8-492b-8c88-9e46c08ffca9",
   "metadata": {},
   "outputs": [
    {
     "data": {
      "application/vnd.jupyter.widget-view+json": {
       "model_id": "be3cedb38a374d93ae4b49d69040c4e9",
       "version_major": 2,
       "version_minor": 0
      },
      "text/plain": [
       "  0%|          | 0/6 [00:00<?, ?it/s]"
      ]
     },
     "metadata": {},
     "output_type": "display_data"
    }
   ],
   "source": [
    "pr = Project(\"test\")\n",
    "pr.remove_jobs(recursive=True, silently=True)"
   ]
  },
  {
   "cell_type": "code",
   "execution_count": 6,
   "id": "8d911f98-3b80-457f-a0f4-3cb37ebf1691",
   "metadata": {},
   "outputs": [],
   "source": [
    "domain_size = 2.0"
   ]
  },
  {
   "cell_type": "markdown",
   "id": "cf1e22d2-9ce5-488f-8048-308d7d5d4966",
   "metadata": {},
   "source": [
    "## generate mesh"
   ]
  },
  {
   "cell_type": "code",
   "execution_count": 7,
   "id": "71d411b6-cbec-489e-99e3-ba71680bcb5b",
   "metadata": {
    "tags": []
   },
   "outputs": [],
   "source": [
    "gmsh_output_file = generate_mesh(\n",
    "    domain_size=domain_size,\n",
    "    pyiron_project=pr\n",
    ")"
   ]
  },
  {
   "cell_type": "markdown",
   "id": "019938e7-8b41-47a9-b226-00e05dabc193",
   "metadata": {},
   "source": [
    "## convert to xdmf"
   ]
  },
  {
   "cell_type": "code",
   "execution_count": 8,
   "id": "1d0d9804-f250-48b3-a5d0-a546d520f79b",
   "metadata": {
    "tags": []
   },
   "outputs": [],
   "source": [
    "meshio_output_dict = convert_to_xdmf(\n",
    "    gmsh_output_file=gmsh_output_file,\n",
    "    pyiron_project=pr,\n",
    ")"
   ]
  },
  {
   "cell_type": "markdown",
   "id": "ceb0b643-caaa-426c-9781-28703440e647",
   "metadata": {},
   "source": [
    "# Processing"
   ]
  },
  {
   "cell_type": "markdown",
   "id": "11815a8b-319c-4ff3-8eae-330bf6e58eee",
   "metadata": {},
   "source": [
    "## poisson"
   ]
  },
  {
   "cell_type": "code",
   "execution_count": 9,
   "id": "7b69bcff-e2b1-4d4a-b62c-6a1c86eeb590",
   "metadata": {
    "tags": []
   },
   "outputs": [],
   "source": [
    "poisson_dict = poisson(\n",
    "    meshio_output_xdmf=meshio_output_dict.output.xdmf_file, \n",
    "    meshio_output_h5=meshio_output_dict.output.h5_file,\n",
    "    pyiron_project=pr,\n",
    ")"
   ]
  },
  {
   "cell_type": "markdown",
   "id": "bc8a8634-029e-4337-96a2-a1f284cb4c38",
   "metadata": {},
   "source": [
    "# Postprocessing"
   ]
  },
  {
   "cell_type": "markdown",
   "id": "157c5386-91a3-4e21-ac65-8f947f2d62fa",
   "metadata": {},
   "source": [
    "## plot over line"
   ]
  },
  {
   "cell_type": "code",
   "execution_count": 10,
   "id": "3c4a29b0-eb1e-490a-8be0-e03cfff15e0a",
   "metadata": {
    "tags": []
   },
   "outputs": [],
   "source": [
    "pvbatch_output_file = plot_over_line(\n",
    "    poisson_output_pvd_file=poisson_dict.output.pvd_file, \n",
    "    poisson_output_vtu_file=poisson_dict.output.vtu_file,\n",
    "    pyiron_project=pr,\n",
    ")"
   ]
  },
  {
   "cell_type": "markdown",
   "id": "54f1d4bd-b944-470f-9cf8-30e64a24eb6d",
   "metadata": {},
   "source": [
    "## substitute macros"
   ]
  },
  {
   "cell_type": "code",
   "execution_count": 11,
   "id": "a0a4c233-322d-4723-9627-62ca2487bfa9",
   "metadata": {
    "tags": []
   },
   "outputs": [],
   "source": [
    "macros_tex_file = substitute_macros( \n",
    "    pvbatch_output_file=pvbatch_output_file, \n",
    "    ndofs=poisson_dict.output.numdofs, \n",
    "    domain_size=domain_size,\n",
    "    pyiron_project=pr,\n",
    ")"
   ]
  },
  {
   "cell_type": "markdown",
   "id": "2031b693-acf3-48bd-bb00-e33f669381e9",
   "metadata": {},
   "source": [
    "## compile paper"
   ]
  },
  {
   "cell_type": "code",
   "execution_count": 12,
   "id": "c281408f-e63d-4380-a7e6-c595d49fbb8f",
   "metadata": {},
   "outputs": [],
   "source": [
    "paper_output = compile_paper(\n",
    "    macros_tex=macros_tex_file, \n",
    "    plot_file=pvbatch_output_file,\n",
    "    pyiron_project=pr,\n",
    ")"
   ]
  },
  {
   "cell_type": "markdown",
   "id": "7b079060-0646-490e-9f1a-19376a1ebc6c",
   "metadata": {},
   "source": [
    "# Convert "
   ]
  },
  {
   "cell_type": "code",
   "execution_count": 13,
   "id": "65bdc51a-895e-421c-bf20-0f793a397f67",
   "metadata": {},
   "outputs": [],
   "source": [
    "from python_workflow_definition.pyiron_base import write_workflow_json"
   ]
  },
  {
   "cell_type": "code",
   "execution_count": 14,
   "id": "63f29646-3846-4a97-a033-20e9df0ac214",
   "metadata": {},
   "outputs": [],
   "source": [
    "workflow_json_filename = \"pyiron_base_nfdi.json\""
   ]
  },
  {
   "cell_type": "code",
   "execution_count": 15,
   "id": "f62111ba-9271-4987-9c7e-3b1c9f9eae7a",
   "metadata": {},
   "outputs": [],
   "source": [
    "write_workflow_json(delayed_object=paper_output, file_name=workflow_json_filename)"
   ]
  },
  {
   "cell_type": "markdown",
   "id": "55dc8d12-dfe6-4465-a368-b7e590ae6800",
   "metadata": {},
   "source": [
    "# Load Workflow with pyiron_base"
   ]
  },
  {
   "cell_type": "code",
   "execution_count": 16,
   "id": "dff46eb8-e0e7-49bb-8c40-0db2df133124",
   "metadata": {},
   "outputs": [],
   "source": [
    "from python_workflow_definition.jobflow import load_workflow_json"
   ]
  },
  {
   "cell_type": "code",
   "execution_count": 17,
   "id": "6a189459-84e4-4738-ada1-37ee8c65b2ab",
   "metadata": {},
   "outputs": [],
   "source": [
    "from jobflow.managers.local import run_locally"
   ]
  },
  {
   "cell_type": "code",
   "execution_count": 18,
   "id": "6e7f3614-c971-4e2d-83f0-96f0d0fc04de",
   "metadata": {},
   "outputs": [],
   "source": [
    "flow = load_workflow_json(file_name=workflow_json_filename)"
   ]
  },
  {
   "cell_type": "code",
   "execution_count": 19,
   "id": "2d87ed45-f5d9-403f-a03a-26be4a47a3ef",
   "metadata": {},
   "outputs": [
    {
     "name": "stdout",
     "output_type": "stream",
     "text": [
      "2025-04-02 12:26:51,431 INFO Started executing jobs locally\n",
      "2025-04-02 12:26:52,523 INFO Starting job - generate_mesh (8e08f639-79ee-4bb7-8bdf-c983090db8f2)\n",
      "2025-04-02 12:26:57,857 INFO Finished job - generate_mesh (8e08f639-79ee-4bb7-8bdf-c983090db8f2)\n",
      "2025-04-02 12:26:57,858 INFO Starting job - convert_to_xdmf (26a08691-4ed4-424f-bd1d-45f82628291d)\n",
      "2025-04-02 12:27:04,267 INFO Finished job - convert_to_xdmf (26a08691-4ed4-424f-bd1d-45f82628291d)\n",
      "2025-04-02 12:27:04,268 INFO Starting job - poisson (8cf33e64-03b9-4735-a6df-c0455b3e78a0)\n",
      "2025-04-02 12:27:12,202 INFO Finished job - poisson (8cf33e64-03b9-4735-a6df-c0455b3e78a0)\n",
      "2025-04-02 12:27:12,202 INFO Starting job - plot_over_line (ae1ad613-0ea0-4f0a-8c4a-7d49372263ed)\n",
      "2025-04-02 12:27:19,207 INFO Finished job - plot_over_line (ae1ad613-0ea0-4f0a-8c4a-7d49372263ed)\n",
      "2025-04-02 12:27:19,207 INFO Starting job - substitute_macros (e203bac0-8b68-4fb3-9d0e-1dfdb2910c21)\n",
      "2025-04-02 12:27:24,872 INFO Finished job - substitute_macros (e203bac0-8b68-4fb3-9d0e-1dfdb2910c21)\n",
      "2025-04-02 12:27:24,872 INFO Starting job - compile_paper (1f61712d-51e7-4948-b1b0-b0be06584ac0)\n",
      "2025-04-02 12:27:32,358 INFO Finished job - compile_paper (1f61712d-51e7-4948-b1b0-b0be06584ac0)\n",
      "2025-04-02 12:27:32,358 INFO Finished executing jobs locally\n"
     ]
    },
    {
     "data": {
      "text/plain": [
       "{'8e08f639-79ee-4bb7-8bdf-c983090db8f2': {1: Response(output='/home/janssen/notebooks/2025/2025-04-02-nfdi-pwd/preprocessing/square.msh', detour=None, addition=None, replace=None, stored_data=None, stop_children=False, stop_jobflow=False, job_dir=PosixPath('/home/janssen/notebooks/2025/2025-04-02-nfdi-pwd'))},\n",
       " '26a08691-4ed4-424f-bd1d-45f82628291d': {1: Response(output={'xdmf_file': '/home/janssen/notebooks/2025/2025-04-02-nfdi-pwd/preprocessing/square.xdmf', 'h5_file': '/home/janssen/notebooks/2025/2025-04-02-nfdi-pwd/preprocessing/square.h5'}, detour=None, addition=None, replace=None, stored_data=None, stop_children=False, stop_jobflow=False, job_dir=PosixPath('/home/janssen/notebooks/2025/2025-04-02-nfdi-pwd'))},\n",
       " '8cf33e64-03b9-4735-a6df-c0455b3e78a0': {1: Response(output={'numdofs': 357, 'pvd_file': '/home/janssen/notebooks/2025/2025-04-02-nfdi-pwd/processing/poisson.pvd', 'vtu_file': '/home/janssen/notebooks/2025/2025-04-02-nfdi-pwd/processing/poisson000000.vtu'}, detour=None, addition=None, replace=None, stored_data=None, stop_children=False, stop_jobflow=False, job_dir=PosixPath('/home/janssen/notebooks/2025/2025-04-02-nfdi-pwd'))},\n",
       " 'ae1ad613-0ea0-4f0a-8c4a-7d49372263ed': {1: Response(output='/home/janssen/notebooks/2025/2025-04-02-nfdi-pwd/postprocessing/plotoverline.csv', detour=None, addition=None, replace=None, stored_data=None, stop_children=False, stop_jobflow=False, job_dir=PosixPath('/home/janssen/notebooks/2025/2025-04-02-nfdi-pwd'))},\n",
       " 'e203bac0-8b68-4fb3-9d0e-1dfdb2910c21': {1: Response(output='/home/janssen/notebooks/2025/2025-04-02-nfdi-pwd/postprocessing/macros.tex', detour=None, addition=None, replace=None, stored_data=None, stop_children=False, stop_jobflow=False, job_dir=PosixPath('/home/janssen/notebooks/2025/2025-04-02-nfdi-pwd'))},\n",
       " '1f61712d-51e7-4948-b1b0-b0be06584ac0': {1: Response(output='/home/janssen/notebooks/2025/2025-04-02-nfdi-pwd/postprocessing/paper.pdf', detour=None, addition=None, replace=None, stored_data=None, stop_children=False, stop_jobflow=False, job_dir=PosixPath('/home/janssen/notebooks/2025/2025-04-02-nfdi-pwd'))}}"
      ]
     },
     "execution_count": 19,
     "metadata": {},
     "output_type": "execute_result"
    }
   ],
   "source": [
    "result = run_locally(flow)\n",
    "result"
   ]
  }
 ],
 "metadata": {
  "kernelspec": {
   "display_name": "Python 3 (ipykernel)",
   "language": "python",
   "name": "python3"
  },
  "language_info": {
   "codemirror_mode": {
    "name": "ipython",
    "version": 3
   },
   "file_extension": ".py",
   "mimetype": "text/x-python",
   "name": "python",
   "nbconvert_exporter": "python",
   "pygments_lexer": "ipython3",
   "version": "3.12.5"
  }
 },
 "nbformat": 4,
 "nbformat_minor": 5
}
