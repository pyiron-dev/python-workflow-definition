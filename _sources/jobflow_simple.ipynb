{
 "metadata": {
  "kernelspec": {
   "display_name": "Python 3 (ipykernel)",
   "language": "python",
   "name": "python3"
  },
  "language_info": {
   "name": "python",
   "version": "3.12.8",
   "mimetype": "text/x-python",
   "codemirror_mode": {
    "name": "ipython",
    "version": 3
   },
   "pygments_lexer": "ipython3",
   "nbconvert_exporter": "python",
   "file_extension": ".py"
  }
 },
 "nbformat_minor": 5,
 "nbformat": 4,
 "cells": [
  {
   "id": "982a4fbe-7cf9-45dd-84ae-9854149db0b9",
   "cell_type": "markdown",
   "source": "# jobflow",
   "metadata": {}
  },
  {
   "id": "e6180712-d081-45c7-ba41-fc5191f10427",
   "cell_type": "markdown",
   "source": "## Define workflow with jobflow",
   "metadata": {}
  },
  {
   "id": "000bbd4a-f53c-4eea-9d85-76f0aa2ca10b",
   "cell_type": "code",
   "source": "from jobflow import job, Flow",
   "metadata": {
    "trusted": true
   },
   "outputs": [
    {
     "name": "stderr",
     "output_type": "stream",
     "text": "/srv/conda/envs/notebook/lib/python3.12/site-packages/paramiko/pkey.py:82: CryptographyDeprecationWarning: TripleDES has been moved to cryptography.hazmat.decrepit.ciphers.algorithms.TripleDES and will be removed from cryptography.hazmat.primitives.ciphers.algorithms in 48.0.0.\n  \"cipher\": algorithms.TripleDES,\n/srv/conda/envs/notebook/lib/python3.12/site-packages/paramiko/transport.py:253: CryptographyDeprecationWarning: TripleDES has been moved to cryptography.hazmat.decrepit.ciphers.algorithms.TripleDES and will be removed from cryptography.hazmat.primitives.ciphers.algorithms in 48.0.0.\n  \"class\": algorithms.TripleDES,\n"
    }
   ],
   "execution_count": 1
  },
  {
   "id": "06c2bd9e-b2ac-4b88-9158-fa37331c3418",
   "cell_type": "code",
   "source": "from python_workflow_definition.jobflow import write_workflow_json",
   "metadata": {
    "trusted": true
   },
   "outputs": [],
   "execution_count": 2
  },
  {
   "id": "fb847d49-7bf9-4839-9b99-c116d1b0e9ee",
   "cell_type": "code",
   "source": "from simple_workflow import (\n    add_x_and_y as _add_x_and_y, \n    get_prod_and_div as _get_prod_and_div,\n)",
   "metadata": {
    "trusted": true
   },
   "outputs": [],
   "execution_count": 3
  },
  {
   "id": "8f95244e",
   "cell_type": "code",
   "source": "workflow_json_filename = \"jobflow_simple.json\"",
   "metadata": {
    "trusted": true
   },
   "outputs": [],
   "execution_count": 4
  },
  {
   "id": "07598344-0f75-433b-8902-bea21a42088c",
   "cell_type": "code",
   "source": "add_x_and_y = job(_add_x_and_y)\nget_prod_and_div = job(_get_prod_and_div, data=[\"prod\", \"div\"])",
   "metadata": {
    "trusted": true
   },
   "outputs": [],
   "execution_count": 5
  },
  {
   "id": "ecef1ed5-a8d3-48c3-9e01-4a40e55c1153",
   "cell_type": "code",
   "source": "obj = get_prod_and_div(x=1, y=2)",
   "metadata": {
    "trusted": true
   },
   "outputs": [],
   "execution_count": 6
  },
  {
   "id": "2b88a30a-e26b-4802-89b7-79ca08cc0af9",
   "cell_type": "code",
   "source": "w = add_x_and_y(x=obj.output.prod, y=obj.output.div)",
   "metadata": {
    "trusted": true
   },
   "outputs": [],
   "execution_count": 7
  },
  {
   "id": "a5e5ca63-2906-47c9-bac6-adebf8643cba",
   "cell_type": "code",
   "source": "flow = Flow([obj, w])",
   "metadata": {
    "trusted": true
   },
   "outputs": [],
   "execution_count": 8
  },
  {
   "id": "e464da97-16a1-4772-9a07-0a47f152781d",
   "cell_type": "code",
   "source": "write_workflow_json(flow=flow, file_name=workflow_json_filename)",
   "metadata": {
    "trusted": true
   },
   "outputs": [],
   "execution_count": 9
  },
  {
   "id": "bca646b2-0a9a-4271-966a-e5903a8c9031",
   "cell_type": "code",
   "source": "!cat {workflow_json_filename}",
   "metadata": {
    "trusted": true
   },
   "outputs": [
    {
     "name": "stdout",
     "output_type": "stream",
     "text": "{\"nodes\": [{\"id\": 0, \"function\": \"simple_workflow.get_prod_and_div\"}, {\"id\": 1, \"function\": \"simple_workflow.add_x_and_y\"}, {\"id\": 2, \"value\": 1}, {\"id\": 3, \"value\": 2}], \"edges\": [{\"target\": 0, \"targetPort\": \"x\", \"source\": 2, \"sourcePort\": null}, {\"target\": 0, \"targetPort\": \"y\", \"source\": 3, \"sourcePort\": null}, {\"target\": 1, \"targetPort\": \"x\", \"source\": 0, \"sourcePort\": \"prod\"}, {\"target\": 1, \"targetPort\": \"y\", \"source\": 0, \"sourcePort\": \"div\"}]}"
    }
   ],
   "execution_count": 10
  },
  {
   "id": "87a27540-c390-4d34-ae75-4739bfc4c1b7",
   "cell_type": "markdown",
   "source": "## Load Workflow with aiida",
   "metadata": {}
  },
  {
   "id": "66a1b3a6-3d3b-4caa-b58f-d8bc089b1074",
   "cell_type": "code",
   "source": "from aiida import load_profile\n\nload_profile()",
   "metadata": {
    "trusted": true
   },
   "outputs": [
    {
     "execution_count": 11,
     "output_type": "execute_result",
     "data": {
      "text/plain": "Profile<uuid='9da6a68ed2b14ffb920b92aa0a616339' name='pwd'>"
     },
     "metadata": {}
    }
   ],
   "execution_count": 11
  },
  {
   "id": "4679693b-039b-45cf-8c67-5b2b3d705a83",
   "cell_type": "code",
   "source": "from python_workflow_definition.aiida import load_workflow_json",
   "metadata": {
    "trusted": true
   },
   "outputs": [],
   "execution_count": 12
  },
  {
   "id": "68c41a61-d185-47e8-ba31-eeff71d8b2c6",
   "cell_type": "code",
   "source": "wg = load_workflow_json(file_name=workflow_json_filename)\nwg",
   "metadata": {
    "trusted": true
   },
   "outputs": [
    {
     "execution_count": 13,
     "output_type": "execute_result",
     "data": {
      "text/plain": "NodeGraphWidget(settings={'minimap': True}, style={'width': '90%', 'height': '600px'}, value={'name': 'WorkGra…",
      "application/vnd.jupyter.widget-view+json": {
       "version_major": 2,
       "version_minor": 1,
       "model_id": "446bdf6725a9438e91af6f0ca4bd55ed"
      }
     },
     "metadata": {}
    }
   ],
   "execution_count": 13
  },
  {
   "id": "05228ece-643c-420c-8df8-4ce3df379515",
   "cell_type": "code",
   "source": "wg.run()",
   "metadata": {
    "trusted": true
   },
   "outputs": [
    {
     "name": "stderr",
     "output_type": "stream",
     "text": "04/12/2025 11:27:56 AM <381> aiida.orm.nodes.process.workflow.workchain.WorkChainNode: [REPORT] [3|WorkGraphEngine|continue_workgraph]: tasks ready to run: get_prod_and_div1\n04/12/2025 11:27:57 AM <381> aiida.orm.nodes.process.workflow.workchain.WorkChainNode: [REPORT] [3|WorkGraphEngine|update_task_state]: Task: get_prod_and_div1, type: PyFunction, finished.\n04/12/2025 11:27:57 AM <381> aiida.orm.nodes.process.workflow.workchain.WorkChainNode: [REPORT] [3|WorkGraphEngine|continue_workgraph]: tasks ready to run: add_x_and_y2\n04/12/2025 11:27:58 AM <381> aiida.orm.nodes.process.workflow.workchain.WorkChainNode: [REPORT] [3|WorkGraphEngine|update_task_state]: Task: add_x_and_y2, type: PyFunction, finished.\n04/12/2025 11:27:58 AM <381> aiida.orm.nodes.process.workflow.workchain.WorkChainNode: [REPORT] [3|WorkGraphEngine|continue_workgraph]: tasks ready to run: \n04/12/2025 11:27:58 AM <381> aiida.orm.nodes.process.workflow.workchain.WorkChainNode: [REPORT] [3|WorkGraphEngine|finalize]: Finalize workgraph.\n"
    }
   ],
   "execution_count": 14
  },
  {
   "id": "2c942094-61b4-4e94-859a-64f87b5bec64",
   "cell_type": "markdown",
   "source": "## Load Workflow with pyiron_base",
   "metadata": {}
  },
  {
   "id": "ea102341-84f7-4156-a7d1-c3ab1ea613a5",
   "cell_type": "code",
   "source": "from python_workflow_definition.pyiron_base import load_workflow_json",
   "metadata": {
    "trusted": true
   },
   "outputs": [],
   "execution_count": 16
  },
  {
   "id": "8f2a621d-b533-4ddd-8bcd-c22db2f922ec",
   "cell_type": "code",
   "source": [
    "delayed_object_lst = load_workflow_json(file_name=workflow_json_filename)\n",
    "delayed_object_lst[-1].draw()"
   ],
   "metadata": {
    "trusted": true
   },
   "outputs": [
    {
     "output_type": "display_data",
     "data": {
      "text/plain": "<IPython.core.display.SVG object>",
      "image/svg+xml": "<svg xmlns=\"http://www.w3.org/2000/svg\" xmlns:xlink=\"http://www.w3.org/1999/xlink\" width=\"1582pt\" height=\"188pt\" viewBox=\"0.00 0.00 1581.94 188.00\">\n<g id=\"graph0\" class=\"graph\" transform=\"scale(1 1) rotate(0) translate(4 184)\">\n<polygon fill=\"white\" stroke=\"none\" points=\"-4,4 -4,-184 1577.94,-184 1577.94,4 -4,4\"/>\n<!-- create_function_job_65c7f45cff3952fa90203cdbc4f68274 -->\n<g id=\"node1\" class=\"node\">\n<title>create_function_job_65c7f45cff3952fa90203cdbc4f68274</title>\n<ellipse fill=\"none\" stroke=\"black\" cx=\"786.97\" cy=\"-18\" rx=\"479.46\" ry=\"18\"/>\n<text text-anchor=\"middle\" x=\"786.97\" y=\"-13.32\" font-family=\"Times,serif\" font-size=\"14.00\">create_function_job=&lt;pyiron_base.project.delayed.DelayedObject object at 0x7f47fd2f3c50&gt;</text>\n</g>\n<!-- x_497c5ebc48033cf60f366c0fd3763723 -->\n<g id=\"node2\" class=\"node\">\n<title>x_497c5ebc48033cf60f366c0fd3763723</title>\n<ellipse fill=\"none\" stroke=\"black\" cx=\"388.97\" cy=\"-90\" rx=\"388.97\" ry=\"18\"/>\n<text text-anchor=\"middle\" x=\"388.97\" y=\"-85.33\" font-family=\"Times,serif\" font-size=\"14.00\">x=&lt;pyiron_base.project.delayed.DelayedObject object at 0x7f47fd2f3980&gt;</text>\n</g>\n<!-- x_497c5ebc48033cf60f366c0fd3763723&#45;&gt;create_function_job_65c7f45cff3952fa90203cdbc4f68274 -->\n<g id=\"edge1\" class=\"edge\">\n<title>x_497c5ebc48033cf60f366c0fd3763723-&gt;create_function_job_65c7f45cff3952fa90203cdbc4f68274</title>\n<path fill=\"none\" stroke=\"black\" d=\"M485.06,-72.1C543.42,-61.83 618.08,-48.7 678.55,-38.07\"/>\n<polygon fill=\"black\" stroke=\"black\" points=\"678.93,-41.56 688.18,-36.38 677.72,-34.66 678.93,-41.56\"/>\n</g>\n<!-- x_1d847da32ecaabf6731c38f798c3d4ce -->\n<g id=\"node3\" class=\"node\">\n<title>x_1d847da32ecaabf6731c38f798c3d4ce</title>\n<ellipse fill=\"none\" stroke=\"black\" cx=\"745.97\" cy=\"-162\" rx=\"31.74\" ry=\"18\"/>\n<text text-anchor=\"middle\" x=\"745.97\" y=\"-157.32\" font-family=\"Times,serif\" font-size=\"14.00\">x=1</text>\n</g>\n<!-- x_1d847da32ecaabf6731c38f798c3d4ce&#45;&gt;x_497c5ebc48033cf60f366c0fd3763723 -->\n<g id=\"edge2\" class=\"edge\">\n<title>x_1d847da32ecaabf6731c38f798c3d4ce-&gt;x_497c5ebc48033cf60f366c0fd3763723</title>\n<path fill=\"none\" stroke=\"black\" d=\"M716.15,-155.15C666.31,-145.38 564,-125.32 486.97,-110.22\"/>\n<polygon fill=\"black\" stroke=\"black\" points=\"487.78,-106.81 477.29,-108.32 486.43,-113.68 487.78,-106.81\"/>\n</g>\n<!-- y_2aeb6a5422726bc4dfbbbadc099f1760 -->\n<g id=\"node4\" class=\"node\">\n<title>y_2aeb6a5422726bc4dfbbbadc099f1760</title>\n<ellipse fill=\"none\" stroke=\"black\" cx=\"1184.97\" cy=\"-90\" rx=\"388.97\" ry=\"18\"/>\n<text text-anchor=\"middle\" x=\"1184.97\" y=\"-85.33\" font-family=\"Times,serif\" font-size=\"14.00\">y=&lt;pyiron_base.project.delayed.DelayedObject object at 0x7f47fd2f3950&gt;</text>\n</g>\n<!-- x_1d847da32ecaabf6731c38f798c3d4ce&#45;&gt;y_2aeb6a5422726bc4dfbbbadc099f1760 -->\n<g id=\"edge3\" class=\"edge\">\n<title>x_1d847da32ecaabf6731c38f798c3d4ce-&gt;y_2aeb6a5422726bc4dfbbbadc099f1760</title>\n<path fill=\"none\" stroke=\"black\" d=\"M776.49,-156.13C835.94,-146.65 970.03,-125.27 1068.43,-109.58\"/>\n<polygon fill=\"black\" stroke=\"black\" points=\"1068.82,-113.06 1078.15,-108.03 1067.72,-106.15 1068.82,-113.06\"/>\n</g>\n<!-- y_2aeb6a5422726bc4dfbbbadc099f1760&#45;&gt;create_function_job_65c7f45cff3952fa90203cdbc4f68274 -->\n<g id=\"edge6\" class=\"edge\">\n<title>y_2aeb6a5422726bc4dfbbbadc099f1760-&gt;create_function_job_65c7f45cff3952fa90203cdbc4f68274</title>\n<path fill=\"none\" stroke=\"black\" d=\"M1088.88,-72.1C1030.52,-61.83 955.86,-48.7 895.39,-38.07\"/>\n<polygon fill=\"black\" stroke=\"black\" points=\"896.22,-34.66 885.76,-36.38 895.01,-41.56 896.22,-34.66\"/>\n</g>\n<!-- y_a9ec4f5f33f0d64e74ed5d9900bceac6 -->\n<g id=\"node5\" class=\"node\">\n<title>y_a9ec4f5f33f0d64e74ed5d9900bceac6</title>\n<ellipse fill=\"none\" stroke=\"black\" cx=\"1005.97\" cy=\"-162\" rx=\"31.74\" ry=\"18\"/>\n<text text-anchor=\"middle\" x=\"1005.97\" y=\"-157.32\" font-family=\"Times,serif\" font-size=\"14.00\">y=2</text>\n</g>\n<!-- y_a9ec4f5f33f0d64e74ed5d9900bceac6&#45;&gt;x_497c5ebc48033cf60f366c0fd3763723 -->\n<g id=\"edge4\" class=\"edge\">\n<title>y_a9ec4f5f33f0d64e74ed5d9900bceac6-&gt;x_497c5ebc48033cf60f366c0fd3763723</title>\n<path fill=\"none\" stroke=\"black\" d=\"M974.95,-157.48C897.01,-148.64 688.79,-125.01 542.84,-108.46\"/>\n<polygon fill=\"black\" stroke=\"black\" points=\"543.4,-105 533.07,-107.35 542.61,-111.95 543.4,-105\"/>\n</g>\n<!-- y_a9ec4f5f33f0d64e74ed5d9900bceac6&#45;&gt;y_2aeb6a5422726bc4dfbbbadc099f1760 -->\n<g id=\"edge5\" class=\"edge\">\n<title>y_a9ec4f5f33f0d64e74ed5d9900bceac6-&gt;y_2aeb6a5422726bc4dfbbbadc099f1760</title>\n<path fill=\"none\" stroke=\"black\" d=\"M1031.62,-150.97C1057.26,-140.94 1097.5,-125.21 1130.33,-112.37\"/>\n<polygon fill=\"black\" stroke=\"black\" points=\"1131.25,-115.77 1139.29,-108.86 1128.7,-109.25 1131.25,-115.77\"/>\n</g>\n</g>\n</svg>"
     },
     "metadata": {}
    }
   ],
   "execution_count": 18
  },
  {
   "id": "cf80267d-c2b0-4236-bf1d-a57596985fc1",
   "cell_type": "code",
   "source": "delayed_object_lst[-1].pull()",
   "metadata": {
    "trusted": true
   },
   "outputs": [
    {
     "name": "stdout",
     "output_type": "stream",
     "text": "The job get_prod_and_div_5e64acfa88dc01309cd4ba60143865e3 was saved and received the ID: 1\nThe job add_x_and_y_82c0f2025c97ddd328aaebe50fb30c48 was saved and received the ID: 2\n"
    },
    {
     "execution_count": 19,
     "output_type": "execute_result",
     "data": {
      "text/plain": "2.5"
     },
     "metadata": {}
    }
   ],
   "execution_count": 19
  },
  {
   "id": "9d819ed0-689c-46a7-9eff-0afb5ed66efc",
   "cell_type": "code",
   "source": "",
   "metadata": {
    "trusted": true
   },
   "outputs": [],
   "execution_count": null
  }
 ]
}
