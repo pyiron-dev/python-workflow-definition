{
 "metadata": {
  "kernelspec": {
   "display_name": "Python 3 (ipykernel)",
   "language": "python",
   "name": "python3"
  },
  "language_info": {
   "name": "python",
   "version": "3.12.8",
   "mimetype": "text/x-python",
   "codemirror_mode": {
    "name": "ipython",
    "version": 3
   },
   "pygments_lexer": "ipython3",
   "nbconvert_exporter": "python",
   "file_extension": ".py"
  }
 },
 "nbformat_minor": 5,
 "nbformat": 4,
 "cells": [
  {
   "id": "982a4fbe-7cf9-45dd-84ae-9854149db0b9",
   "cell_type": "markdown",
   "source": "# jobflow",
   "metadata": {}
  },
  {
   "id": "e6180712-d081-45c7-ba41-fc5191f10427",
   "cell_type": "markdown",
   "source": "## Define workflow with jobflow",
   "metadata": {}
  },
  {
   "id": "000bbd4a-f53c-4eea-9d85-76f0aa2ca10b",
   "cell_type": "code",
   "source": "from jobflow import job, Flow",
   "metadata": {
    "trusted": false
   },
   "outputs": [
    {
     "name": "stderr",
     "output_type": "stream",
     "text": "/srv/conda/envs/notebook/lib/python3.12/site-packages/paramiko/pkey.py:82: CryptographyDeprecationWarning: TripleDES has been moved to cryptography.hazmat.decrepit.ciphers.algorithms.TripleDES and will be removed from cryptography.hazmat.primitives.ciphers.algorithms in 48.0.0.\n  \"cipher\": algorithms.TripleDES,\n/srv/conda/envs/notebook/lib/python3.12/site-packages/paramiko/transport.py:253: CryptographyDeprecationWarning: TripleDES has been moved to cryptography.hazmat.decrepit.ciphers.algorithms.TripleDES and will be removed from cryptography.hazmat.primitives.ciphers.algorithms in 48.0.0.\n  \"class\": algorithms.TripleDES,\n"
    }
   ],
   "execution_count": 1
  },
  {
   "id": "06c2bd9e-b2ac-4b88-9158-fa37331c3418",
   "cell_type": "code",
   "source": "from python_workflow_definition.jobflow import write_workflow_json",
   "metadata": {
    "trusted": false
   },
   "outputs": [],
   "execution_count": 2
  },
  {
   "id": "fb847d49-7bf9-4839-9b99-c116d1b0e9ee",
   "cell_type": "code",
   "source": [
    "from simple_workflow import (\n",
    "    add_x_and_y as _add_x_and_y, \n",
    "    get_prod_and_div as _get_prod_and_div,\n",
    ")"
   ],
   "metadata": {
    "trusted": false
   },
   "outputs": [],
   "execution_count": 3
  },
  {
   "id": "8f95244e",
   "cell_type": "code",
   "source": "workflow_json_filename = \"jobflow_simple.json\"",
   "metadata": {
    "trusted": false
   },
   "outputs": [],
   "execution_count": 4
  },
  {
   "id": "07598344-0f75-433b-8902-bea21a42088c",
   "cell_type": "code",
   "source": [
    "add_x_and_y = job(_add_x_and_y)\n",
    "get_prod_and_div = job(_get_prod_and_div, data=[\"prod\", \"div\"])"
   ],
   "metadata": {
    "trusted": false
   },
   "outputs": [],
   "execution_count": 5
  },
  {
   "id": "ecef1ed5-a8d3-48c3-9e01-4a40e55c1153",
   "cell_type": "code",
   "source": "obj = get_prod_and_div(x=1, y=2)",
   "metadata": {
    "trusted": false
   },
   "outputs": [],
   "execution_count": 6
  },
  {
   "id": "2b88a30a-e26b-4802-89b7-79ca08cc0af9",
   "cell_type": "code",
   "source": "w = add_x_and_y(x=obj.output.prod, y=obj.output.div)",
   "metadata": {
    "trusted": false
   },
   "outputs": [],
   "execution_count": 7
  },
  {
   "id": "a5e5ca63-2906-47c9-bac6-adebf8643cba",
   "cell_type": "code",
   "source": "flow = Flow([obj, w])",
   "metadata": {
    "trusted": false
   },
   "outputs": [],
   "execution_count": 8
  },
  {
   "id": "e464da97-16a1-4772-9a07-0a47f152781d",
   "cell_type": "code",
   "source": "write_workflow_json(flow=flow, file_name=workflow_json_filename)",
   "metadata": {
    "trusted": false
   },
   "outputs": [],
   "execution_count": 9
  },
  {
   "id": "bca646b2-0a9a-4271-966a-e5903a8c9031",
   "cell_type": "code",
   "source": "!cat {workflow_json_filename}",
   "metadata": {
    "trusted": false
   },
   "outputs": [
    {
     "name": "stdout",
     "output_type": "stream",
     "text": "{\"nodes\": {\"0\": \"simple_workflow.add_x_and_y\", \"1\": \"simple_workflow.add_x_and_y_and_z\", \"2\": 1, \"3\": 2}, \"edges\": [{\"tn\": 0, \"th\": \"x\", \"sn\": 2, \"sh\": null}, {\"tn\": 0, \"th\": \"y\", \"sn\": 3, \"sh\": null}, {\"tn\": 1, \"th\": \"x\", \"sn\": 0, \"sh\": \"x\"}, {\"tn\": 1, \"th\": \"y\", \"sn\": 0, \"sh\": \"y\"}, {\"tn\": 1, \"th\": \"z\", \"sn\": 0, \"sh\": \"z\"}]}"
    }
   ],
   "execution_count": 10
  },
  {
   "id": "87a27540-c390-4d34-ae75-4739bfc4c1b7",
   "cell_type": "markdown",
   "source": "## Load Workflow with aiida",
   "metadata": {}
  },
  {
   "id": "66a1b3a6-3d3b-4caa-b58f-d8bc089b1074",
   "cell_type": "code",
   "source": "from aiida import load_profile\n\nload_profile()",
   "metadata": {
    "trusted": false
   },
   "outputs": [
    {
     "execution_count": 11,
     "output_type": "execute_result",
     "data": {
      "text/plain": "Profile<uuid='8bb81b57acda4bf6bbc69d5eb5ae123e' name='pwd'>"
     },
     "metadata": {}
    }
   ],
   "execution_count": 11
  },
  {
   "id": "4679693b-039b-45cf-8c67-5b2b3d705a83",
   "cell_type": "code",
   "source": "from python_workflow_definition.aiida import load_workflow_json",
   "metadata": {
    "trusted": false
   },
   "outputs": [],
   "execution_count": 12
  },
  {
   "id": "68c41a61-d185-47e8-ba31-eeff71d8b2c6",
   "cell_type": "code",
   "source": "wg = load_workflow_json(file_name=workflow_json_filename)\nwg",
   "metadata": {
    "trusted": false
   },
   "outputs": [
    {
     "execution_count": 13,
     "output_type": "execute_result",
     "data": {
      "text/plain": "NodeGraphWidget(settings={'minimap': True}, style={'width': '90%', 'height': '600px'}, value={'name': 'WorkGra…",
      "application/vnd.jupyter.widget-view+json": {
       "version_major": 2,
       "version_minor": 1,
       "model_id": "14e9a03e426b468dbfe338d7f734a41a"
      }
     },
     "metadata": {}
    }
   ],
   "execution_count": 13
  },
  {
   "id": "05228ece-643c-420c-8df8-4ce3df379515",
   "cell_type": "code",
   "source": "wg.run()",
   "metadata": {
    "trusted": false
   },
   "outputs": [
    {
     "name": "stderr",
     "output_type": "stream",
     "text": "04/02/2025 02:37:38 PM <422> aiida.orm.nodes.process.workflow.workchain.WorkChainNode: [REPORT] [16|WorkGraphEngine|continue_workgraph]: tasks ready to run: add_x_and_y1\n04/02/2025 02:37:38 PM <422> aiida.orm.nodes.process.workflow.workchain.WorkChainNode: [REPORT] [16|WorkGraphEngine|update_task_state]: Task: add_x_and_y1, type: PyFunction, finished.\n04/02/2025 02:37:38 PM <422> aiida.orm.nodes.process.workflow.workchain.WorkChainNode: [REPORT] [16|WorkGraphEngine|continue_workgraph]: tasks ready to run: add_x_and_y_and_z2\n04/02/2025 02:37:39 PM <422> aiida.orm.nodes.process.workflow.workchain.WorkChainNode: [REPORT] [16|WorkGraphEngine|update_task_state]: Task: add_x_and_y_and_z2, type: PyFunction, finished.\n04/02/2025 02:37:39 PM <422> aiida.orm.nodes.process.workflow.workchain.WorkChainNode: [REPORT] [16|WorkGraphEngine|continue_workgraph]: tasks ready to run: \n04/02/2025 02:37:39 PM <422> aiida.orm.nodes.process.workflow.workchain.WorkChainNode: [REPORT] [16|WorkGraphEngine|finalize]: Finalize workgraph.\n"
    }
   ],
   "execution_count": 14
  },
  {
   "id": "2c942094-61b4-4e94-859a-64f87b5bec64",
   "cell_type": "markdown",
   "source": "## Load Workflow with pyiron_base",
   "metadata": {}
  },
  {
   "id": "40672826-23bf-4c24-84e2-a6b9d87e2a3f",
   "cell_type": "code",
   "source": "from pyiron_base import Project",
   "metadata": {
    "trusted": false
   },
   "outputs": [],
   "execution_count": 15
  },
  {
   "id": "ea102341-84f7-4156-a7d1-c3ab1ea613a5",
   "cell_type": "code",
   "source": "from python_workflow_definition.pyiron_base import load_workflow_json",
   "metadata": {
    "trusted": false
   },
   "outputs": [],
   "execution_count": 16
  },
  {
   "id": "f45684a8-2613-415a-ab0a-5cb2bafaffea",
   "cell_type": "code",
   "source": "pr = Project(\"test\")\npr.remove_jobs(recursive=True, silently=True)",
   "metadata": {
    "trusted": false
   },
   "outputs": [
    {
     "output_type": "display_data",
     "data": {
      "text/plain": "0it [00:00, ?it/s]",
      "application/vnd.jupyter.widget-view+json": {
       "version_major": 2,
       "version_minor": 0,
       "model_id": "f4514974ee9546f788ea311ec80db1c9"
      }
     },
     "metadata": {}
    }
   ],
   "execution_count": 17
  },
  {
   "id": "8f2a621d-b533-4ddd-8bcd-c22db2f922ec",
   "cell_type": "code",
   "source": "delayed_object = load_workflow_json(project=pr, file_name=workflow_json_filename)\ndelayed_object.draw()",
   "metadata": {
    "trusted": false
   },
   "outputs": [
    {
     "output_type": "display_data",
     "data": {
      "text/plain": "<IPython.core.display.SVG object>",
      "image/svg+xml": "<svg xmlns=\"http://www.w3.org/2000/svg\" xmlns:xlink=\"http://www.w3.org/1999/xlink\" width=\"2383pt\" height=\"188pt\" viewBox=\"0.00 0.00 2382.52 188.00\">\n<g id=\"graph0\" class=\"graph\" transform=\"scale(1 1) rotate(0) translate(4 184)\">\n<polygon fill=\"white\" stroke=\"none\" points=\"-4,4 -4,-184 2378.52,-184 2378.52,4 -4,4\"/>\n<!-- create_function_job_988efa8422518ba29903b66c63607fb8 -->\n<g id=\"node1\" class=\"node\">\n<title>create_function_job_988efa8422518ba29903b66c63607fb8</title>\n<ellipse fill=\"none\" stroke=\"black\" cx=\"1188.02\" cy=\"-18\" rx=\"478.94\" ry=\"18\"/>\n<text text-anchor=\"middle\" x=\"1188.02\" y=\"-13.32\" font-family=\"Times,serif\" font-size=\"14.00\">create_function_job=&lt;pyiron_base.project.delayed.DelayedObject object at 0x75516fcff020&gt;</text>\n</g>\n<!-- x_b8003ea81f8e4a9bdbfd3b4eb1e68e2b -->\n<g id=\"node2\" class=\"node\">\n<title>x_b8003ea81f8e4a9bdbfd3b4eb1e68e2b</title>\n<ellipse fill=\"none\" stroke=\"black\" cx=\"390.02\" cy=\"-90\" rx=\"390.02\" ry=\"18\"/>\n<text text-anchor=\"middle\" x=\"390.02\" y=\"-85.33\" font-family=\"Times,serif\" font-size=\"14.00\">x=&lt;pyiron_base.project.delayed.DelayedObject object at 0x75516fcfebd0&gt;</text>\n</g>\n<!-- x_b8003ea81f8e4a9bdbfd3b4eb1e68e2b&#45;&gt;create_function_job_988efa8422518ba29903b66c63607fb8 -->\n<g id=\"edge1\" class=\"edge\">\n<title>x_b8003ea81f8e4a9bdbfd3b4eb1e68e2b-&gt;create_function_job_988efa8422518ba29903b66c63607fb8</title>\n<path fill=\"none\" stroke=\"black\" d=\"M566.63,-73.51C692.98,-62.42 863.05,-47.51 993.33,-36.08\"/>\n<polygon fill=\"black\" stroke=\"black\" points=\"993.45,-39.58 1003.11,-35.22 992.84,-32.61 993.45,-39.58\"/>\n</g>\n<!-- x_1d847da32ecaabf6731c38f798c3d4ce -->\n<g id=\"node3\" class=\"node\">\n<title>x_1d847da32ecaabf6731c38f798c3d4ce</title>\n<ellipse fill=\"none\" stroke=\"black\" cx=\"1147.02\" cy=\"-162\" rx=\"31.74\" ry=\"18\"/>\n<text text-anchor=\"middle\" x=\"1147.02\" y=\"-157.32\" font-family=\"Times,serif\" font-size=\"14.00\">x=1</text>\n</g>\n<!-- x_1d847da32ecaabf6731c38f798c3d4ce&#45;&gt;x_b8003ea81f8e4a9bdbfd3b4eb1e68e2b -->\n<g id=\"edge2\" class=\"edge\">\n<title>x_1d847da32ecaabf6731c38f798c3d4ce-&gt;x_b8003ea81f8e4a9bdbfd3b4eb1e68e2b</title>\n<path fill=\"none\" stroke=\"black\" d=\"M1115.94,-158.13C1025.05,-149.72 754.65,-124.72 570.79,-107.72\"/>\n<polygon fill=\"black\" stroke=\"black\" points=\"571.15,-104.23 560.87,-106.8 570.5,-111.2 571.15,-104.23\"/>\n</g>\n<!-- y_f60ae41b1c92823db71999ac596241ab -->\n<g id=\"node4\" class=\"node\">\n<title>y_f60ae41b1c92823db71999ac596241ab</title>\n<ellipse fill=\"none\" stroke=\"black\" cx=\"1188.02\" cy=\"-90\" rx=\"389.5\" ry=\"18\"/>\n<text text-anchor=\"middle\" x=\"1188.02\" y=\"-85.33\" font-family=\"Times,serif\" font-size=\"14.00\">y=&lt;pyiron_base.project.delayed.DelayedObject object at 0x75516fcfeba0&gt;</text>\n</g>\n<!-- x_1d847da32ecaabf6731c38f798c3d4ce&#45;&gt;y_f60ae41b1c92823db71999ac596241ab -->\n<g id=\"edge3\" class=\"edge\">\n<title>x_1d847da32ecaabf6731c38f798c3d4ce-&gt;y_f60ae41b1c92823db71999ac596241ab</title>\n<path fill=\"none\" stroke=\"black\" d=\"M1156.74,-144.41C1161.3,-136.62 1166.86,-127.14 1172.02,-118.33\"/>\n<polygon fill=\"black\" stroke=\"black\" points=\"1175.01,-120.15 1177.04,-109.75 1168.96,-116.61 1175.01,-120.15\"/>\n</g>\n<!-- z_a926da40ec18154feb3f3bb147af8220 -->\n<g id=\"node5\" class=\"node\">\n<title>z_a926da40ec18154feb3f3bb147af8220</title>\n<ellipse fill=\"none\" stroke=\"black\" cx=\"1985.02\" cy=\"-90\" rx=\"389.5\" ry=\"18\"/>\n<text text-anchor=\"middle\" x=\"1985.02\" y=\"-85.33\" font-family=\"Times,serif\" font-size=\"14.00\">z=&lt;pyiron_base.project.delayed.DelayedObject object at 0x75516fcfe810&gt;</text>\n</g>\n<!-- x_1d847da32ecaabf6731c38f798c3d4ce&#45;&gt;z_a926da40ec18154feb3f3bb147af8220 -->\n<g id=\"edge4\" class=\"edge\">\n<title>x_1d847da32ecaabf6731c38f798c3d4ce-&gt;z_a926da40ec18154feb3f3bb147af8220</title>\n<path fill=\"none\" stroke=\"black\" d=\"M1170.27,-149.58C1175.65,-147.37 1181.44,-145.33 1187.02,-144 1237.8,-131.89 1504.25,-115.72 1715.5,-104.44\"/>\n<polygon fill=\"black\" stroke=\"black\" points=\"1715.47,-107.95 1725.27,-103.92 1715.1,-100.96 1715.47,-107.95\"/>\n</g>\n<!-- y_f60ae41b1c92823db71999ac596241ab&#45;&gt;create_function_job_988efa8422518ba29903b66c63607fb8 -->\n<g id=\"edge8\" class=\"edge\">\n<title>y_f60ae41b1c92823db71999ac596241ab-&gt;create_function_job_988efa8422518ba29903b66c63607fb8</title>\n<path fill=\"none\" stroke=\"black\" d=\"M1188.02,-71.7C1188.02,-64.41 1188.02,-55.73 1188.02,-47.54\"/>\n<polygon fill=\"black\" stroke=\"black\" points=\"1191.52,-47.62 1188.02,-37.62 1184.52,-47.62 1191.52,-47.62\"/>\n</g>\n<!-- z_a926da40ec18154feb3f3bb147af8220&#45;&gt;create_function_job_988efa8422518ba29903b66c63607fb8 -->\n<g id=\"edge9\" class=\"edge\">\n<title>z_a926da40ec18154feb3f3bb147af8220-&gt;create_function_job_988efa8422518ba29903b66c63607fb8</title>\n<path fill=\"none\" stroke=\"black\" d=\"M1808.64,-73.51C1682.44,-62.42 1512.59,-47.51 1382.47,-36.08\"/>\n<polygon fill=\"black\" stroke=\"black\" points=\"1382.98,-32.61 1372.71,-35.22 1382.36,-39.58 1382.98,-32.61\"/>\n</g>\n<!-- y_a9ec4f5f33f0d64e74ed5d9900bceac6 -->\n<g id=\"node6\" class=\"node\">\n<title>y_a9ec4f5f33f0d64e74ed5d9900bceac6</title>\n<ellipse fill=\"none\" stroke=\"black\" cx=\"1228.02\" cy=\"-162\" rx=\"31.74\" ry=\"18\"/>\n<text text-anchor=\"middle\" x=\"1228.02\" y=\"-157.32\" font-family=\"Times,serif\" font-size=\"14.00\">y=2</text>\n</g>\n<!-- y_a9ec4f5f33f0d64e74ed5d9900bceac6&#45;&gt;x_b8003ea81f8e4a9bdbfd3b4eb1e68e2b -->\n<g id=\"edge5\" class=\"edge\">\n<title>y_a9ec4f5f33f0d64e74ed5d9900bceac6-&gt;x_b8003ea81f8e4a9bdbfd3b4eb1e68e2b</title>\n<path fill=\"none\" stroke=\"black\" d=\"M1204.78,-149.58C1199.39,-147.37 1193.6,-145.33 1188.02,-144 1137.27,-131.9 871.01,-115.74 659.81,-104.45\"/>\n<polygon fill=\"black\" stroke=\"black\" points=\"660.21,-100.97 650.04,-103.93 659.84,-107.96 660.21,-100.97\"/>\n</g>\n<!-- y_a9ec4f5f33f0d64e74ed5d9900bceac6&#45;&gt;y_f60ae41b1c92823db71999ac596241ab -->\n<g id=\"edge6\" class=\"edge\">\n<title>y_a9ec4f5f33f0d64e74ed5d9900bceac6-&gt;y_f60ae41b1c92823db71999ac596241ab</title>\n<path fill=\"none\" stroke=\"black\" d=\"M1218.54,-144.41C1214.09,-136.62 1208.67,-127.14 1203.64,-118.33\"/>\n<polygon fill=\"black\" stroke=\"black\" points=\"1206.74,-116.71 1198.74,-109.76 1200.67,-120.18 1206.74,-116.71\"/>\n</g>\n<!-- y_a9ec4f5f33f0d64e74ed5d9900bceac6&#45;&gt;z_a926da40ec18154feb3f3bb147af8220 -->\n<g id=\"edge7\" class=\"edge\">\n<title>y_a9ec4f5f33f0d64e74ed5d9900bceac6-&gt;z_a926da40ec18154feb3f3bb147af8220</title>\n<path fill=\"none\" stroke=\"black\" d=\"M1259.11,-158.13C1349.99,-149.72 1620.39,-124.72 1804.25,-107.72\"/>\n<polygon fill=\"black\" stroke=\"black\" points=\"1804.54,-111.2 1814.18,-106.8 1803.9,-104.23 1804.54,-111.2\"/>\n</g>\n</g>\n</svg>"
     },
     "metadata": {}
    }
   ],
   "execution_count": 18
  },
  {
   "id": "cf80267d-c2b0-4236-bf1d-a57596985fc1",
   "cell_type": "code",
   "source": "delayed_object.pull()",
   "metadata": {
    "trusted": false
   },
   "outputs": [
    {
     "name": "stdout",
     "output_type": "stream",
     "text": "The job add_x_and_y_68901482a2c5221cc845f828aabebd27 was saved and received the ID: 1\nThe job add_x_and_y_and_z_b671e81aaa4670d81d7eee509650af8d was saved and received the ID: 2\n"
    },
    {
     "execution_count": 19,
     "output_type": "execute_result",
     "data": {
      "text/plain": "6"
     },
     "metadata": {}
    }
   ],
   "execution_count": 19
  },
  {
   "id": "9d819ed0-689c-46a7-9eff-0afb5ed66efc",
   "cell_type": "code",
   "source": "",
   "metadata": {
    "trusted": false
   },
   "outputs": [],
   "execution_count": null
  }
 ]
}
