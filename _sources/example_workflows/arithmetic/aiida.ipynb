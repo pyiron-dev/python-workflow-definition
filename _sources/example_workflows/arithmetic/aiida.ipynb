{
 "cells": [
  {
   "cell_type": "markdown",
   "metadata": {},
   "source": [
    "# Aiida"
   ]
  },
  {
   "cell_type": "markdown",
   "metadata": {},
   "source": [
    "## Define workflow with aiida"
   ]
  },
  {
   "cell_type": "code",
   "execution_count": 1,
   "metadata": {
    "trusted": true
   },
   "outputs": [],
   "source": [
    "from python_workflow_definition.aiida import write_workflow_json\n",
    "\n",
    "from aiida_workgraph import WorkGraph, task\n",
    "from aiida import orm, load_profile\n",
    "load_profile()\n",
    "\n",
    "workflow_json_filename =  \"aiida_simple.json\""
   ]
  },
  {
   "cell_type": "code",
   "execution_count": null,
   "metadata": {},
   "outputs": [],
   "source": [
    "from workflow import (\n",
    "    get_sum as _get_sum,\n",
    "    get_prod_and_div as _get_prod_and_div,\n",
    "    get_square as _get_square,\n",
    ")"
   ]
  },
  {
   "cell_type": "code",
   "execution_count": null,
   "metadata": {},
   "outputs": [],
   "source": [
    "wg = WorkGraph(\"arithmetic\")"
   ]
  },
  {
   "cell_type": "code",
   "execution_count": 4,
   "metadata": {
    "trusted": true
   },
   "outputs": [],
   "source": [
    "get_prod_and_div_task = wg.add_task(\n",
    "    task(outputs=['prod', 'div'])(_get_prod_and_div),\n",
    "    name=\"get_prod_and_div\",\n",
    "    x=orm.Float(1),\n",
    "    y=orm.Float(2),\n",
    ")"
   ]
  },
  {
   "cell_type": "code",
   "execution_count": null,
   "metadata": {
    "trusted": true
   },
   "outputs": [],
   "source": [
    "get_sum_task = wg.add_task(\n",
    "    _get_sum,\n",
    "    name=\"get_sum\",\n",
    "    x=get_prod_and_div_task.outputs.prod,\n",
    "    y=get_prod_and_div_task.outputs.div,\n",
    ")"
   ]
  },
  {
   "cell_type": "code",
   "execution_count": null,
   "metadata": {},
   "outputs": [],
   "source": [
    "get_square_task = wg.add_task(\n",
    "    _get_square,\n",
    "    name=\"get_square\",\n",
    "    x=get_sum_task.outputs.result,\n",
    ")"
   ]
  },
  {
   "cell_type": "code",
   "execution_count": 6,
   "metadata": {
    "trusted": true
   },
   "outputs": [
    {
     "data": {
      "text/plain": [
       "{'nodes': [{'id': 0, 'function': 'arithmetic_workflow.get_prod_and_div'},\n",
       "  {'id': 1, 'function': 'arithmetic_workflow.get_sum'},\n",
       "  {'id': 2, 'value': 1.0},\n",
       "  {'id': 3, 'value': 2.0}],\n",
       " 'edges': [{'target': 1, 'targetPort': 'x', 'source': 0, 'sourcePort': 'prod'},\n",
       "  {'target': 1, 'targetPort': 'y', 'source': 0, 'sourcePort': 'div'},\n",
       "  {'target': 0, 'targetPort': 'x', 'source': 2, 'sourcePort': None},\n",
       "  {'target': 0, 'targetPort': 'y', 'source': 3, 'sourcePort': None}]}"
      ]
     },
     "execution_count": 6,
     "metadata": {},
     "output_type": "execute_result"
    }
   ],
   "source": [
    "write_workflow_json(wg=wg, file_name=workflow_json_filename)"
   ]
  },
  {
   "cell_type": "code",
   "execution_count": 7,
   "metadata": {
    "trusted": true
   },
   "outputs": [
    {
     "name": "stdout",
     "output_type": "stream",
     "text": [
      "{\n",
      "  \"nodes\": [\n",
      "    {\n",
      "      \"id\": 0,\n",
      "      \"function\": \"arithmetic_workflow.get_prod_and_div\"\n",
      "    },\n",
      "    {\n",
      "      \"id\": 1,\n",
      "      \"function\": \"arithmetic_workflow.get_sum\"\n",
      "    },\n",
      "    {\n",
      "      \"id\": 2,\n",
      "      \"value\": 1.0\n",
      "    },\n",
      "    {\n",
      "      \"id\": 3,\n",
      "      \"value\": 2.0\n",
      "    }\n",
      "  ],\n",
      "  \"edges\": [\n",
      "    {\n",
      "      \"target\": 1,\n",
      "      \"targetPort\": \"x\",\n",
      "      \"source\": 0,\n",
      "      \"sourcePort\": \"prod\"\n",
      "    },\n",
      "    {\n",
      "      \"target\": 1,\n",
      "      \"targetPort\": \"y\",\n",
      "      \"source\": 0,\n",
      "      \"sourcePort\": \"div\"\n",
      "    },\n",
      "    {\n",
      "      \"target\": 0,\n",
      "      \"targetPort\": \"x\",\n",
      "      \"source\": 2,\n",
      "      \"sourcePort\": null\n",
      "    },\n",
      "    {\n",
      "      \"target\": 0,\n",
      "      \"targetPort\": \"y\",\n",
      "      \"source\": 3,\n",
      "      \"sourcePort\": null\n",
      "    }\n",
      "  ]\n",
      "}"
     ]
    }
   ],
   "source": [
    "!cat {workflow_json_filename}"
   ]
  },
  {
   "cell_type": "markdown",
   "metadata": {},
   "source": [
    "## Load Workflow with jobflow"
   ]
  },
  {
   "cell_type": "code",
   "execution_count": 8,
   "metadata": {
    "trusted": true
   },
   "outputs": [
    {
     "name": "stderr",
     "output_type": "stream",
     "text": [
      "/srv/conda/envs/notebook/lib/python3.12/site-packages/paramiko/pkey.py:82: CryptographyDeprecationWarning: TripleDES has been moved to cryptography.hazmat.decrepit.ciphers.algorithms.TripleDES and will be removed from cryptography.hazmat.primitives.ciphers.algorithms in 48.0.0.\n",
      "  \"cipher\": algorithms.TripleDES,\n",
      "/srv/conda/envs/notebook/lib/python3.12/site-packages/paramiko/transport.py:253: CryptographyDeprecationWarning: TripleDES has been moved to cryptography.hazmat.decrepit.ciphers.algorithms.TripleDES and will be removed from cryptography.hazmat.primitives.ciphers.algorithms in 48.0.0.\n",
      "  \"class\": algorithms.TripleDES,\n"
     ]
    }
   ],
   "source": [
    "from python_workflow_definition.jobflow import load_workflow_json"
   ]
  },
  {
   "cell_type": "code",
   "execution_count": 9,
   "metadata": {
    "trusted": true
   },
   "outputs": [],
   "source": [
    "from jobflow.managers.local import run_locally"
   ]
  },
  {
   "cell_type": "code",
   "execution_count": 10,
   "metadata": {
    "trusted": true
   },
   "outputs": [],
   "source": [
    "flow = load_workflow_json(file_name=workflow_json_filename)"
   ]
  },
  {
   "cell_type": "code",
   "execution_count": 11,
   "metadata": {
    "trusted": true
   },
   "outputs": [
    {
     "name": "stdout",
     "output_type": "stream",
     "text": [
      "2025-04-23 09:27:52,129 INFO Started executing jobs locally\n",
      "2025-04-23 09:27:52,561 INFO Starting job - get_prod_and_div (6eae194f-04a4-4c7c-b0d9-baf624bac375)\n",
      "2025-04-23 09:27:52,564 INFO Finished job - get_prod_and_div (6eae194f-04a4-4c7c-b0d9-baf624bac375)\n",
      "2025-04-23 09:27:52,564 INFO Starting job - get_sum (21fda98d-7701-45c7-a30a-816e9a91ab75)\n",
      "2025-04-23 09:27:52,566 INFO Finished job - get_sum (21fda98d-7701-45c7-a30a-816e9a91ab75)\n",
      "2025-04-23 09:27:52,566 INFO Finished executing jobs locally\n"
     ]
    },
    {
     "data": {
      "text/plain": [
       "{'6eae194f-04a4-4c7c-b0d9-baf624bac375': {1: Response(output={'prod': 2.0, 'div': 0.5}, detour=None, addition=None, replace=None, stored_data=None, stop_children=False, stop_jobflow=False, job_dir=PosixPath('/home/jovyan'))},\n",
       " '21fda98d-7701-45c7-a30a-816e9a91ab75': {1: Response(output=2.5, detour=None, addition=None, replace=None, stored_data=None, stop_children=False, stop_jobflow=False, job_dir=PosixPath('/home/jovyan'))}}"
      ]
     },
     "execution_count": 11,
     "metadata": {},
     "output_type": "execute_result"
    }
   ],
   "source": [
    "result = run_locally(flow)\n",
    "result"
   ]
  },
  {
   "cell_type": "markdown",
   "metadata": {},
   "source": [
    "## Load Workflow with pyiron_base"
   ]
  },
  {
   "cell_type": "code",
   "execution_count": 12,
   "metadata": {
    "trusted": true
   },
   "outputs": [],
   "source": [
    "from python_workflow_definition.pyiron_base import load_workflow_json"
   ]
  },
  {
   "cell_type": "code",
   "execution_count": 13,
   "metadata": {
    "trusted": true
   },
   "outputs": [
    {
     "data": {
      "image/svg+xml": [
       "<svg xmlns=\"http://www.w3.org/2000/svg\" xmlns:xlink=\"http://www.w3.org/1999/xlink\" width=\"1604pt\" height=\"188pt\" viewBox=\"0.00 0.00 1603.99 188.00\">\n",
       "<g id=\"graph0\" class=\"graph\" transform=\"scale(1 1) rotate(0) translate(4 184)\">\n",
       "<polygon fill=\"white\" stroke=\"none\" points=\"-4,4 -4,-184 1599.99,-184 1599.99,4 -4,4\"/>\n",
       "<!-- create_function_job_92b349b68e1d28facd2c0cc67fea0894 -->\n",
       "<g id=\"node1\" class=\"node\">\n",
       "<title>create_function_job_92b349b68e1d28facd2c0cc67fea0894</title>\n",
       "<ellipse fill=\"none\" stroke=\"black\" cx=\"797.76\" cy=\"-18\" rx=\"487.35\" ry=\"18\"/>\n",
       "<text text-anchor=\"middle\" x=\"797.76\" y=\"-13.32\" font-family=\"Times,serif\" font-size=\"14.00\">create_function_job=&lt;pyiron_base.project.delayed.DelayedObject object at 0x7407d4c7d100&gt;</text>\n",
       "</g>\n",
       "<!-- x_c8e04d7c4ce41e51517caabdd70267c4 -->\n",
       "<g id=\"node2\" class=\"node\">\n",
       "<title>x_c8e04d7c4ce41e51517caabdd70267c4</title>\n",
       "<ellipse fill=\"none\" stroke=\"black\" cx=\"394.76\" cy=\"-90\" rx=\"394.76\" ry=\"18\"/>\n",
       "<text text-anchor=\"middle\" x=\"394.76\" y=\"-85.33\" font-family=\"Times,serif\" font-size=\"14.00\">x=&lt;pyiron_base.project.delayed.DelayedObject object at 0x7407ca519a90&gt;</text>\n",
       "</g>\n",
       "<!-- x_c8e04d7c4ce41e51517caabdd70267c4&#45;&gt;create_function_job_92b349b68e1d28facd2c0cc67fea0894 -->\n",
       "<g id=\"edge1\" class=\"edge\">\n",
       "<title>x_c8e04d7c4ce41e51517caabdd70267c4-&gt;create_function_job_92b349b68e1d28facd2c0cc67fea0894</title>\n",
       "<path fill=\"none\" stroke=\"black\" d=\"M492.06,-72.1C551.15,-61.83 626.74,-48.7 687.97,-38.07\"/>\n",
       "<polygon fill=\"black\" stroke=\"black\" points=\"688.49,-41.53 697.74,-36.37 687.29,-34.64 688.49,-41.53\"/>\n",
       "</g>\n",
       "<!-- x_974924ff998969b91bfc8b2db5f854a1 -->\n",
       "<g id=\"node3\" class=\"node\">\n",
       "<title>x_974924ff998969b91bfc8b2db5f854a1</title>\n",
       "<ellipse fill=\"none\" stroke=\"black\" cx=\"747.76\" cy=\"-162\" rx=\"41.21\" ry=\"18\"/>\n",
       "<text text-anchor=\"middle\" x=\"747.76\" y=\"-157.32\" font-family=\"Times,serif\" font-size=\"14.00\">x=1.0</text>\n",
       "</g>\n",
       "<!-- x_974924ff998969b91bfc8b2db5f854a1&#45;&gt;x_c8e04d7c4ce41e51517caabdd70267c4 -->\n",
       "<g id=\"edge2\" class=\"edge\">\n",
       "<title>x_974924ff998969b91bfc8b2db5f854a1-&gt;x_c8e04d7c4ce41e51517caabdd70267c4</title>\n",
       "<path fill=\"none\" stroke=\"black\" d=\"M710.65,-153.64C659.13,-143.42 564.1,-124.58 491.68,-110.22\"/>\n",
       "<polygon fill=\"black\" stroke=\"black\" points=\"492.69,-106.85 482.2,-108.34 491.33,-113.72 492.69,-106.85\"/>\n",
       "</g>\n",
       "<!-- y_6c83c1caef87634071eb9102b68e73cf -->\n",
       "<g id=\"node4\" class=\"node\">\n",
       "<title>y_6c83c1caef87634071eb9102b68e73cf</title>\n",
       "<ellipse fill=\"none\" stroke=\"black\" cx=\"1201.76\" cy=\"-90\" rx=\"394.23\" ry=\"18\"/>\n",
       "<text text-anchor=\"middle\" x=\"1201.76\" y=\"-85.33\" font-family=\"Times,serif\" font-size=\"14.00\">y=&lt;pyiron_base.project.delayed.DelayedObject object at 0x7407bf835610&gt;</text>\n",
       "</g>\n",
       "<!-- x_974924ff998969b91bfc8b2db5f854a1&#45;&gt;y_6c83c1caef87634071eb9102b68e73cf -->\n",
       "<g id=\"edge3\" class=\"edge\">\n",
       "<title>x_974924ff998969b91bfc8b2db5f854a1-&gt;y_6c83c1caef87634071eb9102b68e73cf</title>\n",
       "<path fill=\"none\" stroke=\"black\" d=\"M786.07,-155.09C850.61,-145.14 983.54,-124.65 1081.79,-109.5\"/>\n",
       "<polygon fill=\"black\" stroke=\"black\" points=\"1082.14,-112.99 1091.49,-108 1081.07,-106.07 1082.14,-112.99\"/>\n",
       "</g>\n",
       "<!-- y_6c83c1caef87634071eb9102b68e73cf&#45;&gt;create_function_job_92b349b68e1d28facd2c0cc67fea0894 -->\n",
       "<g id=\"edge6\" class=\"edge\">\n",
       "<title>y_6c83c1caef87634071eb9102b68e73cf-&gt;create_function_job_92b349b68e1d28facd2c0cc67fea0894</title>\n",
       "<path fill=\"none\" stroke=\"black\" d=\"M1104.22,-72.1C1044.98,-61.83 969.2,-48.7 907.81,-38.07\"/>\n",
       "<polygon fill=\"black\" stroke=\"black\" points=\"908.47,-34.63 898.02,-36.37 907.27,-41.53 908.47,-34.63\"/>\n",
       "</g>\n",
       "<!-- y_f12a7f1986b9dd058dfc666dbe230b20 -->\n",
       "<g id=\"node5\" class=\"node\">\n",
       "<title>y_f12a7f1986b9dd058dfc666dbe230b20</title>\n",
       "<ellipse fill=\"none\" stroke=\"black\" cx=\"1024.76\" cy=\"-162\" rx=\"41.21\" ry=\"18\"/>\n",
       "<text text-anchor=\"middle\" x=\"1024.76\" y=\"-157.32\" font-family=\"Times,serif\" font-size=\"14.00\">y=2.0</text>\n",
       "</g>\n",
       "<!-- y_f12a7f1986b9dd058dfc666dbe230b20&#45;&gt;x_c8e04d7c4ce41e51517caabdd70267c4 -->\n",
       "<g id=\"edge4\" class=\"edge\">\n",
       "<title>y_f12a7f1986b9dd058dfc666dbe230b20-&gt;x_c8e04d7c4ce41e51517caabdd70267c4</title>\n",
       "<path fill=\"none\" stroke=\"black\" d=\"M985.35,-156.62C900.35,-147.18 695.82,-124.45 551.36,-108.4\"/>\n",
       "<polygon fill=\"black\" stroke=\"black\" points=\"552.03,-104.95 541.7,-107.33 551.25,-111.91 552.03,-104.95\"/>\n",
       "</g>\n",
       "<!-- y_f12a7f1986b9dd058dfc666dbe230b20&#45;&gt;y_6c83c1caef87634071eb9102b68e73cf -->\n",
       "<g id=\"edge5\" class=\"edge\">\n",
       "<title>y_f12a7f1986b9dd058dfc666dbe230b20-&gt;y_6c83c1caef87634071eb9102b68e73cf</title>\n",
       "<path fill=\"none\" stroke=\"black\" d=\"M1054.38,-149.28C1079.74,-139.26 1116.89,-124.56 1147.55,-112.44\"/>\n",
       "<polygon fill=\"black\" stroke=\"black\" points=\"1148.67,-115.76 1156.68,-108.83 1146.1,-109.25 1148.67,-115.76\"/>\n",
       "</g>\n",
       "</g>\n",
       "</svg>"
      ],
      "text/plain": [
       "<IPython.core.display.SVG object>"
      ]
     },
     "metadata": {},
     "output_type": "display_data"
    }
   ],
   "source": [
    "delayed_object_lst = load_workflow_json(file_name=workflow_json_filename)\n",
    "delayed_object_lst[-1].draw()"
   ]
  },
  {
   "cell_type": "code",
   "execution_count": 14,
   "metadata": {
    "trusted": true
   },
   "outputs": [
    {
     "name": "stdout",
     "output_type": "stream",
     "text": [
      "The job get_prod_and_div_7c19c6233dddb02781fc331f609558a1 was saved and received the ID: 1\n",
      "The job get_sum_92b8e0a2d45fff6b04940562a8d7d8f7 was saved and received the ID: 2\n"
     ]
    },
    {
     "data": {
      "text/plain": [
       "2.5"
      ]
     },
     "execution_count": 14,
     "metadata": {},
     "output_type": "execute_result"
    }
   ],
   "source": [
    "delayed_object_lst[-1].pull()"
   ]
  }
 ],
 "metadata": {
  "kernelspec": {
   "display_name": "Python 3 (ipykernel)",
   "language": "python",
   "name": "python3"
  },
  "language_info": {
   "codemirror_mode": {
    "name": "ipython",
    "version": 3
   },
   "file_extension": ".py",
   "mimetype": "text/x-python",
   "name": "python",
   "nbconvert_exporter": "python",
   "pygments_lexer": "ipython3",
   "version": "3.12.8"
  }
 },
 "nbformat": 4,
 "nbformat_minor": 4
}
