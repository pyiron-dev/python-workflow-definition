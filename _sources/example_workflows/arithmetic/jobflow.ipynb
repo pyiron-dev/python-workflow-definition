{
 "cells": [
  {
   "cell_type": "markdown",
   "id": "982a4fbe-7cf9-45dd-84ae-9854149db0b9",
   "metadata": {},
   "source": [
    "# jobflow"
   ]
  },
  {
   "cell_type": "markdown",
   "id": "e6180712-d081-45c7-ba41-fc5191f10427",
   "metadata": {},
   "source": [
    "## Define workflow with jobflow\n",
    "\n",
    "This tutorial will demonstrate how to use the PWD with `jobflow` and load the workflow with `aiida` and `pyiron`.\n",
    "\n",
    "[`jobflow`](https://joss.theoj.org/papers/10.21105/joss.05995) was developed to simplify the development of high-throughput workflows. It uses a decorator-based approach to define the “Job“s that can be connected to form complex workflows (“Flow“s). `jobflow` is the workflow language of the workflow library [`atomate2`](https://chemrxiv.org/engage/chemrxiv/article-details/678e76a16dde43c9085c75e9), designed to replace [atomate](https://www.sciencedirect.com/science/article/pii/S0927025617303919), which was central to the development of the [Materials Project](https://pubs.aip.org/aip/apm/article/1/1/011002/119685/Commentary-The-Materials-Project-A-materials) database."
   ]
  },
  {
   "cell_type": "markdown",
   "id": "69bedfb9ec12c092",
   "metadata": {
    "collapsed": false,
    "jupyter": {
     "outputs_hidden": false
    }
   },
   "source": [
    "First, we start by importing the job decorator and the Flow class from jobflow, as welll as the necessary modules from the python workflow definition and the example arithmetic workflow."
   ]
  },
  {
   "cell_type": "code",
   "execution_count": 1,
   "id": "000bbd4a-f53c-4eea-9d85-76f0aa2ca10b",
   "metadata": {
    "ExecuteTime": {
     "end_time": "2025-04-24T12:51:34.747117656Z",
     "start_time": "2025-04-24T12:51:33.203979325Z"
    },
    "trusted": true
   },
   "outputs": [
    {
     "name": "stderr",
     "output_type": "stream",
     "text": [
      "/srv/conda/envs/notebook/lib/python3.12/site-packages/paramiko/pkey.py:82: CryptographyDeprecationWarning: TripleDES has been moved to cryptography.hazmat.decrepit.ciphers.algorithms.TripleDES and will be removed from cryptography.hazmat.primitives.ciphers.algorithms in 48.0.0.\n",
      "  \"cipher\": algorithms.TripleDES,\n",
      "/srv/conda/envs/notebook/lib/python3.12/site-packages/paramiko/transport.py:253: CryptographyDeprecationWarning: TripleDES has been moved to cryptography.hazmat.decrepit.ciphers.algorithms.TripleDES and will be removed from cryptography.hazmat.primitives.ciphers.algorithms in 48.0.0.\n",
      "  \"class\": algorithms.TripleDES,\n"
     ]
    }
   ],
   "source": [
    "from jobflow import job, Flow"
   ]
  },
  {
   "cell_type": "code",
   "execution_count": 2,
   "id": "06c2bd9e-b2ac-4b88-9158-fa37331c3418",
   "metadata": {
    "trusted": true
   },
   "outputs": [],
   "source": [
    "from python_workflow_definition.jobflow import write_workflow_json"
   ]
  },
  {
   "cell_type": "code",
   "execution_count": null,
   "id": "f9217ce7b093b5fc",
   "metadata": {
    "trusted": true
   },
   "outputs": [],
   "source": [
    "from workflow import (\n",
    "    get_sum as _get_sum,\n",
    "    get_prod_and_div as _get_prod_and_div,\n",
    "    get_square as _get_square,\n",
    ")"
   ]
  },
  {
   "cell_type": "markdown",
   "id": "2639deadfae9c591",
   "metadata": {
    "collapsed": false,
    "jupyter": {
     "outputs_hidden": false
    }
   },
   "source": [
    "Using the job object decorator, the imported functions from the arithmetic workflow are transformed into jobflow “Job”s. These “Job”s can delay the execution of Python functions and can be chained into workflows (“Flow”s). A “Job” can return serializable outputs (e.g., a number, a dictionary, or a Pydantic model) or a so-called “Response” object, which enables the execution of dynamic workflows where the number of nodes is not known prior to the workflow’s execution. "
   ]
  },
  {
   "cell_type": "code",
   "execution_count": 4,
   "id": "1feba0898ee4e361",
   "metadata": {
    "ExecuteTime": {
     "end_time": "2025-04-24T10:30:04.751088Z",
     "start_time": "2025-04-24T10:30:04.748941Z"
    },
    "trusted": true
   },
   "outputs": [],
   "source": [
    "workflow_json_filename = \"jobflow_simple.json\""
   ]
  },
  {
   "cell_type": "code",
   "execution_count": null,
   "id": "07598344-0f75-433b-8902-bea21a42088c",
   "metadata": {
    "trusted": true
   },
   "outputs": [],
   "source": [
    "get_sum = job(_get_sum)\n",
    "# Note: one could also transfer the outputs to the datastore as well: get_prod_and_div = job(_get_prod_and_div, data=[\"prod\", \"div\"])\n",
    "# On the way from the general definition to the jobflow definition, we do this automatically to avoid overflow databases.\n",
    "get_prod_and_div = job(_get_prod_and_div)\n",
    "get_square = job(_get_square)"
   ]
  },
  {
   "cell_type": "code",
   "execution_count": null,
   "id": "ecef1ed5-a8d3-48c3-9e01-4a40e55c1153",
   "metadata": {
    "trusted": true
   },
   "outputs": [],
   "source": [
    "prod_and_div = get_prod_and_div(x=1, y=2)"
   ]
  },
  {
   "cell_type": "code",
   "execution_count": null,
   "id": "2b88a30a-e26b-4802-89b7-79ca08cc0af9",
   "metadata": {
    "trusted": true
   },
   "outputs": [],
   "source": [
    "tmp_sum = get_sum(x=prod_and_div.output.prod, y=prod_and_div.output.div)"
   ]
  },
  {
   "cell_type": "code",
   "execution_count": null,
   "id": "8d95c3aa",
   "metadata": {},
   "outputs": [],
   "source": [
    "result = get_square(x=tmp_sum.output)"
   ]
  },
  {
   "cell_type": "code",
   "execution_count": null,
   "id": "a5e5ca63-2906-47c9-bac6-adebf8643cba",
   "metadata": {
    "trusted": true
   },
   "outputs": [],
   "source": [
    "flow = Flow([prod_and_div, tmp_sum, result])"
   ]
  },
  {
   "cell_type": "markdown",
   "id": "27688edd256f1420",
   "metadata": {
    "collapsed": false,
    "jupyter": {
     "outputs_hidden": false
    }
   },
   "source": [
    "As jobflow itself is only a workflow language, the workflows are typically executed on high-performance computers with a workflow manager such as [Fireworks](https://onlinelibrary.wiley.com/doi/full/10.1002/cpe.3505) or [jobflow-remote](https://github.com/Matgenix/jobflow-remote). For smaller and test workflows, simple linear, non-parallel execution of the workflow graph can be performed with jobflow itself. All outputs of individual jobs are saved in a database. For high-throughput applications typically, a MongoDB database is used. For testing and smaller workflows, a memory database can be used instead."
   ]
  },
  {
   "cell_type": "code",
   "execution_count": 9,
   "id": "e464da97-16a1-4772-9a07-0a47f152781d",
   "metadata": {
    "trusted": true
   },
   "outputs": [],
   "source": [
    "write_workflow_json(flow=flow, file_name=workflow_json_filename)"
   ]
  },
  {
   "cell_type": "code",
   "execution_count": 10,
   "id": "bca646b2-0a9a-4271-966a-e5903a8c9031",
   "metadata": {
    "trusted": true
   },
   "outputs": [
    {
     "name": "stdout",
     "output_type": "stream",
     "text": [
      "{\"nodes\": [{\"id\": 0, \"function\": \"workflow.get_prod_and_div\"}, {\"id\": 1, \"function\": \"workflow.get_sum\"}, {\"id\": 2, \"value\": 1}, {\"id\": 3, \"value\": 2}], \"edges\": [{\"target\": 0, \"targetPort\": \"x\", \"source\": 2, \"sourcePort\": null}, {\"target\": 0, \"targetPort\": \"y\", \"source\": 3, \"sourcePort\": null}, {\"target\": 1, \"targetPort\": \"x\", \"source\": 0, \"sourcePort\": \"prod\"}, {\"target\": 1, \"targetPort\": \"y\", \"source\": 0, \"sourcePort\": \"div\"}]}"
     ]
    }
   ],
   "source": [
    "!cat {workflow_json_filename}"
   ]
  },
  {
   "cell_type": "markdown",
   "id": "65389ef27c38fdec",
   "metadata": {
    "collapsed": false,
    "jupyter": {
     "outputs_hidden": false
    }
   },
   "source": [
    "Finally, you can write the workflow data into a JSON file to be imported later."
   ]
  },
  {
   "cell_type": "markdown",
   "id": "87a27540-c390-4d34-ae75-4739bfc4c1b7",
   "metadata": {},
   "source": [
    "## Load Workflow with aiida\n",
    "\n",
    "In this part, we will demonstrate how to import the `jobflow` workflow into `aiida` via the PWD."
   ]
  },
  {
   "cell_type": "code",
   "execution_count": 11,
   "id": "66a1b3a6-3d3b-4caa-b58f-d8bc089b1074",
   "metadata": {
    "trusted": true
   },
   "outputs": [
    {
     "data": {
      "text/plain": [
       "Profile<uuid='303d448bdd4d4169a5c887d1311d727a' name='pwd'>"
      ]
     },
     "execution_count": 11,
     "metadata": {},
     "output_type": "execute_result"
    }
   ],
   "source": [
    "from aiida import load_profile\n",
    "\n",
    "load_profile()"
   ]
  },
  {
   "cell_type": "code",
   "execution_count": 12,
   "id": "4679693b-039b-45cf-8c67-5b2b3d705a83",
   "metadata": {
    "trusted": true
   },
   "outputs": [],
   "source": [
    "from python_workflow_definition.aiida import load_workflow_json"
   ]
  },
  {
   "cell_type": "markdown",
   "id": "cc7127193d31d8ef",
   "metadata": {
    "collapsed": false,
    "jupyter": {
     "outputs_hidden": false
    }
   },
   "source": [
    "We import the necessary modules from `aiida` and the PWD, as well as the workflow JSON file."
   ]
  },
  {
   "cell_type": "code",
   "execution_count": 13,
   "id": "68c41a61-d185-47e8-ba31-eeff71d8b2c6",
   "metadata": {
    "trusted": true
   },
   "outputs": [
    {
     "data": {
      "application/vnd.jupyter.widget-view+json": {
       "model_id": "2bbe8584e19148d79f7be020abafa3eb",
       "version_major": 2,
       "version_minor": 1
      },
      "text/plain": [
       "NodeGraphWidget(settings={'minimap': True}, style={'width': '90%', 'height': '600px'}, value={'name': 'WorkGra…"
      ]
     },
     "execution_count": 13,
     "metadata": {},
     "output_type": "execute_result"
    }
   ],
   "source": [
    "wg = load_workflow_json(file_name=workflow_json_filename)\n",
    "wg"
   ]
  },
  {
   "cell_type": "markdown",
   "id": "4816325767559bbe",
   "metadata": {
    "collapsed": false,
    "jupyter": {
     "outputs_hidden": false
    }
   },
   "source": [
    "Finally, we are now able to run the workflow with `aiida`."
   ]
  },
  {
   "cell_type": "code",
   "execution_count": 14,
   "id": "05228ece-643c-420c-8df8-4ce3df379515",
   "metadata": {
    "trusted": true
   },
   "outputs": [
    {
     "name": "stderr",
     "output_type": "stream",
     "text": [
      "04/24/2025 02:55:50 PM <99> aiida.orm.nodes.process.workflow.workchain.WorkChainNode: [REPORT] [3|WorkGraphEngine|continue_workgraph]: tasks ready to run: get_prod_and_div1\n",
      "04/24/2025 02:55:50 PM <99> aiida.orm.nodes.process.workflow.workchain.WorkChainNode: [REPORT] [3|WorkGraphEngine|update_task_state]: Task: get_prod_and_div1, type: PyFunction, finished.\n",
      "04/24/2025 02:55:50 PM <99> aiida.orm.nodes.process.workflow.workchain.WorkChainNode: [REPORT] [3|WorkGraphEngine|continue_workgraph]: tasks ready to run: get_sum2\n",
      "04/24/2025 02:55:51 PM <99> aiida.orm.nodes.process.workflow.workchain.WorkChainNode: [REPORT] [3|WorkGraphEngine|update_task_state]: Task: get_sum2, type: PyFunction, finished.\n",
      "04/24/2025 02:55:51 PM <99> aiida.orm.nodes.process.workflow.workchain.WorkChainNode: [REPORT] [3|WorkGraphEngine|continue_workgraph]: tasks ready to run: \n",
      "04/24/2025 02:55:51 PM <99> aiida.orm.nodes.process.workflow.workchain.WorkChainNode: [REPORT] [3|WorkGraphEngine|finalize]: Finalize workgraph.\n"
     ]
    }
   ],
   "source": [
    "wg.run()"
   ]
  },
  {
   "cell_type": "markdown",
   "id": "2c942094-61b4-4e94-859a-64f87b5bec64",
   "metadata": {},
   "source": [
    "## Load Workflow with pyiron_base\n",
    "\n",
    "In this part, we will demonstrate how to import the `jobflow` workflow into `pyiron` via the PWD."
   ]
  },
  {
   "cell_type": "code",
   "execution_count": 15,
   "id": "ea102341-84f7-4156-a7d1-c3ab1ea613a5",
   "metadata": {
    "trusted": true
   },
   "outputs": [],
   "source": [
    "from python_workflow_definition.pyiron_base import load_workflow_json"
   ]
  },
  {
   "cell_type": "code",
   "execution_count": 16,
   "id": "8f2a621d-b533-4ddd-8bcd-c22db2f922ec",
   "metadata": {
    "trusted": true
   },
   "outputs": [
    {
     "data": {
      "image/svg+xml": [
       "<svg xmlns=\"http://www.w3.org/2000/svg\" xmlns:xlink=\"http://www.w3.org/1999/xlink\" width=\"1608pt\" height=\"188pt\" viewBox=\"0.00 0.00 1608.09 188.00\">\n",
       "<g id=\"graph0\" class=\"graph\" transform=\"scale(1 1) rotate(0) translate(4 184)\">\n",
       "<polygon fill=\"white\" stroke=\"none\" points=\"-4,4 -4,-184 1604.09,-184 1604.09,4 -4,4\"/>\n",
       "<!-- create_function_job_c942e1812492f8750b853ea68445d43f -->\n",
       "<g id=\"node1\" class=\"node\">\n",
       "<title>create_function_job_c942e1812492f8750b853ea68445d43f</title>\n",
       "<ellipse fill=\"none\" stroke=\"black\" cx=\"799.28\" cy=\"-18\" rx=\"485.77\" ry=\"18\"/>\n",
       "<text text-anchor=\"middle\" x=\"799.28\" y=\"-13.32\" font-family=\"Times,serif\" font-size=\"14.00\">create_function_job=&lt;pyiron_base.project.delayed.DelayedObject object at 0x719ee1a6ee70&gt;</text>\n",
       "</g>\n",
       "<!-- x_5a41f1a01c281872a92d14b5bf806b3c -->\n",
       "<g id=\"node2\" class=\"node\">\n",
       "<title>x_5a41f1a01c281872a92d14b5bf806b3c</title>\n",
       "<ellipse fill=\"none\" stroke=\"black\" cx=\"395.28\" cy=\"-90\" rx=\"395.28\" ry=\"18\"/>\n",
       "<text text-anchor=\"middle\" x=\"395.28\" y=\"-85.33\" font-family=\"Times,serif\" font-size=\"14.00\">x=&lt;pyiron_base.project.delayed.DelayedObject object at 0x719ee39de8d0&gt;</text>\n",
       "</g>\n",
       "<!-- x_5a41f1a01c281872a92d14b5bf806b3c&#45;&gt;create_function_job_c942e1812492f8750b853ea68445d43f -->\n",
       "<g id=\"edge1\" class=\"edge\">\n",
       "<title>x_5a41f1a01c281872a92d14b5bf806b3c-&gt;create_function_job_c942e1812492f8750b853ea68445d43f</title>\n",
       "<path fill=\"none\" stroke=\"black\" d=\"M492.82,-72.1C552.07,-61.83 627.85,-48.7 689.23,-38.07\"/>\n",
       "<polygon fill=\"black\" stroke=\"black\" points=\"689.77,-41.53 699.02,-36.37 688.57,-34.63 689.77,-41.53\"/>\n",
       "</g>\n",
       "<!-- x_1d847da32ecaabf6731c38f798c3d4ce -->\n",
       "<g id=\"node3\" class=\"node\">\n",
       "<title>x_1d847da32ecaabf6731c38f798c3d4ce</title>\n",
       "<ellipse fill=\"none\" stroke=\"black\" cx=\"577.28\" cy=\"-162\" rx=\"31.74\" ry=\"18\"/>\n",
       "<text text-anchor=\"middle\" x=\"577.28\" y=\"-157.32\" font-family=\"Times,serif\" font-size=\"14.00\">x=1</text>\n",
       "</g>\n",
       "<!-- x_1d847da32ecaabf6731c38f798c3d4ce&#45;&gt;x_5a41f1a01c281872a92d14b5bf806b3c -->\n",
       "<g id=\"edge2\" class=\"edge\">\n",
       "<title>x_1d847da32ecaabf6731c38f798c3d4ce-&gt;x_5a41f1a01c281872a92d14b5bf806b3c</title>\n",
       "<path fill=\"none\" stroke=\"black\" d=\"M551.59,-151.12C525.51,-141.09 484.3,-125.24 450.74,-112.33\"/>\n",
       "<polygon fill=\"black\" stroke=\"black\" points=\"452.14,-109.12 441.55,-108.8 449.63,-115.65 452.14,-109.12\"/>\n",
       "</g>\n",
       "<!-- y_2f79d27085d95c7ddb45d9566ae33dfb -->\n",
       "<g id=\"node4\" class=\"node\">\n",
       "<title>y_2f79d27085d95c7ddb45d9566ae33dfb</title>\n",
       "<ellipse fill=\"none\" stroke=\"black\" cx=\"1204.28\" cy=\"-90\" rx=\"395.81\" ry=\"18\"/>\n",
       "<text text-anchor=\"middle\" x=\"1204.28\" y=\"-85.33\" font-family=\"Times,serif\" font-size=\"14.00\">y=&lt;pyiron_base.project.delayed.DelayedObject object at 0x719ee1d5d940&gt;</text>\n",
       "</g>\n",
       "<!-- x_1d847da32ecaabf6731c38f798c3d4ce&#45;&gt;y_2f79d27085d95c7ddb45d9566ae33dfb -->\n",
       "<g id=\"edge3\" class=\"edge\">\n",
       "<title>x_1d847da32ecaabf6731c38f798c3d4ce-&gt;y_2f79d27085d95c7ddb45d9566ae33dfb</title>\n",
       "<path fill=\"none\" stroke=\"black\" d=\"M608.38,-157.53C687.27,-148.72 899.47,-125.03 1048.06,-108.44\"/>\n",
       "<polygon fill=\"black\" stroke=\"black\" points=\"1048.04,-111.97 1057.59,-107.38 1047.26,-105.01 1048.04,-111.97\"/>\n",
       "</g>\n",
       "<!-- y_2f79d27085d95c7ddb45d9566ae33dfb&#45;&gt;create_function_job_c942e1812492f8750b853ea68445d43f -->\n",
       "<g id=\"edge6\" class=\"edge\">\n",
       "<title>y_2f79d27085d95c7ddb45d9566ae33dfb-&gt;create_function_job_c942e1812492f8750b853ea68445d43f</title>\n",
       "<path fill=\"none\" stroke=\"black\" d=\"M1106.5,-72.1C1047,-61.82 970.86,-48.66 909.27,-38.01\"/>\n",
       "<polygon fill=\"black\" stroke=\"black\" points=\"909.89,-34.56 899.44,-36.31 908.7,-41.46 909.89,-34.56\"/>\n",
       "</g>\n",
       "<!-- y_a9ec4f5f33f0d64e74ed5d9900bceac6 -->\n",
       "<g id=\"node5\" class=\"node\">\n",
       "<title>y_a9ec4f5f33f0d64e74ed5d9900bceac6</title>\n",
       "<ellipse fill=\"none\" stroke=\"black\" cx=\"1022.28\" cy=\"-162\" rx=\"31.74\" ry=\"18\"/>\n",
       "<text text-anchor=\"middle\" x=\"1022.28\" y=\"-157.32\" font-family=\"Times,serif\" font-size=\"14.00\">y=2</text>\n",
       "</g>\n",
       "<!-- y_a9ec4f5f33f0d64e74ed5d9900bceac6&#45;&gt;x_5a41f1a01c281872a92d14b5bf806b3c -->\n",
       "<g id=\"edge4\" class=\"edge\">\n",
       "<title>y_a9ec4f5f33f0d64e74ed5d9900bceac6-&gt;x_5a41f1a01c281872a92d14b5bf806b3c</title>\n",
       "<path fill=\"none\" stroke=\"black\" d=\"M991.19,-157.53C912.3,-148.72 700.09,-125.03 551.51,-108.44\"/>\n",
       "<polygon fill=\"black\" stroke=\"black\" points=\"552.3,-105.01 541.98,-107.38 551.53,-111.97 552.3,-105.01\"/>\n",
       "</g>\n",
       "<!-- y_a9ec4f5f33f0d64e74ed5d9900bceac6&#45;&gt;y_2f79d27085d95c7ddb45d9566ae33dfb -->\n",
       "<g id=\"edge5\" class=\"edge\">\n",
       "<title>y_a9ec4f5f33f0d64e74ed5d9900bceac6-&gt;y_2f79d27085d95c7ddb45d9566ae33dfb</title>\n",
       "<path fill=\"none\" stroke=\"black\" d=\"M1047.97,-151.12C1074.06,-141.09 1115.27,-125.24 1148.83,-112.33\"/>\n",
       "<polygon fill=\"black\" stroke=\"black\" points=\"1149.94,-115.65 1158.01,-108.8 1147.42,-109.12 1149.94,-115.65\"/>\n",
       "</g>\n",
       "</g>\n",
       "</svg>"
      ],
      "text/plain": [
       "<IPython.core.display.SVG object>"
      ]
     },
     "metadata": {},
     "output_type": "display_data"
    }
   ],
   "source": [
    "delayed_object_lst = load_workflow_json(file_name=workflow_json_filename)\n",
    "delayed_object_lst[-1].draw()"
   ]
  },
  {
   "cell_type": "code",
   "execution_count": 17,
   "id": "cf80267d-c2b0-4236-bf1d-a57596985fc1",
   "metadata": {
    "trusted": true
   },
   "outputs": [
    {
     "name": "stdout",
     "output_type": "stream",
     "text": [
      "The job get_prod_and_div_00cf2c787390eacfbc4a51e9a0c38ec7 was saved and received the ID: 1\n",
      "The job get_sum_4b5b9d16b259a13b6a32798ce2779af8 was saved and received the ID: 2\n"
     ]
    },
    {
     "data": {
      "text/plain": [
       "2.5"
      ]
     },
     "execution_count": 17,
     "metadata": {},
     "output_type": "execute_result"
    }
   ],
   "source": [
    "delayed_object_lst[-1].pull()"
   ]
  },
  {
   "cell_type": "markdown",
   "id": "9414680d1cbc3b2e",
   "metadata": {
    "collapsed": false,
    "jupyter": {
     "outputs_hidden": false
    }
   },
   "source": [
    "Here, the procedure is the same as before: Import the necessary `pyiron_base` module from the PWD, import the workflow JSON file and run the workflow with pyiron."
   ]
  },
  {
   "cell_type": "code",
   "execution_count": null,
   "id": "c199b28f3c0399cc",
   "metadata": {
    "collapsed": false,
    "jupyter": {
     "outputs_hidden": false
    },
    "trusted": true
   },
   "outputs": [],
   "source": []
  }
 ],
 "metadata": {
  "kernelspec": {
   "display_name": "Python 3 (ipykernel)",
   "language": "python",
   "name": "python3"
  },
  "language_info": {
   "codemirror_mode": {
    "name": "ipython",
    "version": 3
   },
   "file_extension": ".py",
   "mimetype": "text/x-python",
   "name": "python",
   "nbconvert_exporter": "python",
   "pygments_lexer": "ipython3",
   "version": "3.12.8"
  }
 },
 "nbformat": 4,
 "nbformat_minor": 5
}
