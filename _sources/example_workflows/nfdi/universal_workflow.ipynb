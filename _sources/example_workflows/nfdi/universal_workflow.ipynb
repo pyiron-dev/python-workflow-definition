{
 "metadata": {
  "kernelspec": {
   "display_name": "Python 3 (ipykernel)",
   "language": "python",
   "name": "python3"
  },
  "language_info": {
   "name": "python",
   "version": "3.12.8",
   "mimetype": "text/x-python",
   "codemirror_mode": {
    "name": "ipython",
    "version": 3
   },
   "pygments_lexer": "ipython3",
   "nbconvert_exporter": "python",
   "file_extension": ".py"
  }
 },
 "nbformat_minor": 4,
 "nbformat": 4,
 "cells": [
  {
   "cell_type": "markdown",
   "source": "# Load Simple Workflow",
   "metadata": {}
  },
  {
   "cell_type": "markdown",
   "source": "## Plot",
   "metadata": {}
  },
  {
   "cell_type": "code",
   "source": "from python_workflow_definition.plot import plot",
   "metadata": {
    "trusted": true
   },
   "outputs": [],
   "execution_count": 1
  },
  {
   "cell_type": "code",
   "source": "plot(file_name='workflow.json')",
   "metadata": {
    "trusted": true
   },
   "outputs": [
    {
     "output_type": "display_data",
     "data": {
      "text/plain": "<IPython.core.display.SVG object>",
      "image/svg+xml": "<svg xmlns=\"http://www.w3.org/2000/svg\" xmlns:xlink=\"http://www.w3.org/1999/xlink\" width=\"886pt\" height=\"580pt\" viewBox=\"0.00 0.00 886.31 579.50\">\n<g id=\"graph0\" class=\"graph\" transform=\"scale(1 1) rotate(0) translate(4 575.5)\">\n<polygon fill=\"white\" stroke=\"none\" points=\"-4,4 -4,-575.5 882.31,-575.5 882.31,4 -4,4\"/>\n<!-- 0 -->\n<g id=\"node1\" class=\"node\">\n<title>0</title>\n<ellipse fill=\"none\" stroke=\"black\" cx=\"498.31\" cy=\"-464.25\" rx=\"179.58\" ry=\"18\"/>\n<text text-anchor=\"middle\" x=\"498.31\" y=\"-459.57\" font-family=\"Times,serif\" font-size=\"14.00\">nfdi_ing_workflow.generate_mesh</text>\n</g>\n<!-- 1 -->\n<g id=\"node2\" class=\"node\">\n<title>1</title>\n<ellipse fill=\"none\" stroke=\"black\" cx=\"409.31\" cy=\"-375\" rx=\"185.89\" ry=\"18\"/>\n<text text-anchor=\"middle\" x=\"409.31\" y=\"-370.32\" font-family=\"Times,serif\" font-size=\"14.00\">nfdi_ing_workflow.convert_to_xdmf</text>\n</g>\n<!-- 0&#45;&gt;1 -->\n<g id=\"edge1\" class=\"edge\">\n<title>0-&gt;1</title>\n<path fill=\"none\" stroke=\"black\" d=\"M480.73,-446.01C467.69,-433.23 449.7,-415.59 435.04,-401.22\"/>\n<polygon fill=\"black\" stroke=\"black\" points=\"437.53,-398.76 427.94,-394.26 432.63,-403.76 437.53,-398.76\"/>\n<text text-anchor=\"middle\" x=\"522.54\" y=\"-414.95\" font-family=\"Times,serif\" font-size=\"14.00\">gmsh_output_file</text>\n</g>\n<!-- 2 -->\n<g id=\"node3\" class=\"node\">\n<title>2</title>\n<ellipse fill=\"none\" stroke=\"black\" cx=\"241.31\" cy=\"-285.75\" rx=\"141.17\" ry=\"18\"/>\n<text text-anchor=\"middle\" x=\"241.31\" y=\"-281.07\" font-family=\"Times,serif\" font-size=\"14.00\">nfdi_ing_workflow.poisson</text>\n</g>\n<!-- 1&#45;&gt;2 -->\n<g id=\"edge2\" class=\"edge\">\n<title>1-&gt;2</title>\n<path fill=\"none\" stroke=\"black\" d=\"M294.31,-360.45C270.7,-355.31 250.63,-348.35 242.81,-339 237.43,-332.56 235.74,-323.96 235.78,-315.6\"/>\n<polygon fill=\"black\" stroke=\"black\" points=\"239.26,-315.96 236.64,-305.69 232.29,-315.35 239.26,-315.96\"/>\n<text text-anchor=\"middle\" x=\"506.06\" y=\"-325.7\" font-family=\"Times,serif\" font-size=\"14.00\">meshio_output_xdmf=result[xdmf_file], meshio_output_h5=result[h5_file]</text>\n</g>\n<!-- 3 -->\n<g id=\"node4\" class=\"node\">\n<title>3</title>\n<ellipse fill=\"none\" stroke=\"black\" cx=\"328.31\" cy=\"-196.5\" rx=\"172.74\" ry=\"18\"/>\n<text text-anchor=\"middle\" x=\"328.31\" y=\"-191.82\" font-family=\"Times,serif\" font-size=\"14.00\">nfdi_ing_workflow.plot_over_line</text>\n</g>\n<!-- 2&#45;&gt;3 -->\n<g id=\"edge3\" class=\"edge\">\n<title>2-&gt;3</title>\n<path fill=\"none\" stroke=\"black\" d=\"M106.8,-279.97C61.25,-275.3 18.22,-266.43 3.81,-249.75 -1.2,-243.95 -1.31,-238.2 3.81,-232.5 15.29,-219.72 88.72,-211.19 162.82,-205.76\"/>\n<polygon fill=\"black\" stroke=\"black\" points=\"163,-209.25 172.72,-205.05 162.5,-202.27 163,-209.25\"/>\n<text text-anchor=\"middle\" x=\"294.06\" y=\"-236.45\" font-family=\"Times,serif\" font-size=\"14.00\">poisson_output_pvd_file=result[pvd_file], poisson_output_vtu_file=result[vtu_file]</text>\n</g>\n<!-- 4 -->\n<g id=\"node5\" class=\"node\">\n<title>4</title>\n<ellipse fill=\"none\" stroke=\"black\" cx=\"598.31\" cy=\"-107.25\" rx=\"195.36\" ry=\"18\"/>\n<text text-anchor=\"middle\" x=\"598.31\" y=\"-102.58\" font-family=\"Times,serif\" font-size=\"14.00\">nfdi_ing_workflow.substitute_macros</text>\n</g>\n<!-- 2&#45;&gt;4 -->\n<g id=\"edge4\" class=\"edge\">\n<title>2-&gt;4</title>\n<path fill=\"none\" stroke=\"black\" d=\"M373.5,-279.2C463.58,-274.08 569.18,-264.93 584.31,-249.75 613.52,-220.45 610.49,-168.87 604.91,-136.74\"/>\n<polygon fill=\"black\" stroke=\"black\" points=\"608.35,-136.09 603,-126.95 601.48,-137.43 608.35,-136.09\"/>\n<text text-anchor=\"middle\" x=\"691.05\" y=\"-191.82\" font-family=\"Times,serif\" font-size=\"14.00\">ndofs=result[numdofs]</text>\n</g>\n<!-- 3&#45;&gt;4 -->\n<g id=\"edge5\" class=\"edge\">\n<title>3-&gt;4</title>\n<path fill=\"none\" stroke=\"black\" d=\"M361.76,-178.37C384.67,-167.17 416.01,-152.89 444.81,-143.25 463.84,-136.88 484.58,-131.29 504.48,-126.55\"/>\n<polygon fill=\"black\" stroke=\"black\" points=\"505.01,-130.02 513.96,-124.35 503.43,-123.2 505.01,-130.02\"/>\n<text text-anchor=\"middle\" x=\"514.56\" y=\"-147.2\" font-family=\"Times,serif\" font-size=\"14.00\">pvbatch_output_file</text>\n</g>\n<!-- 5 -->\n<g id=\"node6\" class=\"node\">\n<title>5</title>\n<ellipse fill=\"none\" stroke=\"black\" cx=\"344.31\" cy=\"-18\" rx=\"175.9\" ry=\"18\"/>\n<text text-anchor=\"middle\" x=\"344.31\" y=\"-13.32\" font-family=\"Times,serif\" font-size=\"14.00\">nfdi_ing_workflow.compile_paper</text>\n</g>\n<!-- 3&#45;&gt;5 -->\n<g id=\"edge6\" class=\"edge\">\n<title>3-&gt;5</title>\n<path fill=\"none\" stroke=\"black\" d=\"M329.88,-178.26C332.64,-147.81 338.4,-84.26 341.75,-47.3\"/>\n<polygon fill=\"black\" stroke=\"black\" points=\"345.19,-48.1 342.61,-37.82 338.22,-47.47 345.19,-48.1\"/>\n<text text-anchor=\"middle\" x=\"366.03\" y=\"-102.58\" font-family=\"Times,serif\" font-size=\"14.00\">plot_file</text>\n</g>\n<!-- 4&#45;&gt;5 -->\n<g id=\"edge7\" class=\"edge\">\n<title>4-&gt;5</title>\n<path fill=\"none\" stroke=\"black\" d=\"M549.34,-89.43C507.79,-75.15 448.04,-54.63 403.76,-39.42\"/>\n<polygon fill=\"black\" stroke=\"black\" points=\"405.16,-36.2 394.57,-36.26 402.89,-42.82 405.16,-36.2\"/>\n<text text-anchor=\"middle\" x=\"534.56\" y=\"-57.95\" font-family=\"Times,serif\" font-size=\"14.00\">macros_tex</text>\n</g>\n<!-- 6 -->\n<g id=\"node7\" class=\"node\">\n<title>6</title>\n<ellipse fill=\"none\" stroke=\"black\" cx=\"687.31\" cy=\"-553.5\" rx=\"27.01\" ry=\"18\"/>\n<text text-anchor=\"middle\" x=\"687.31\" y=\"-548.83\" font-family=\"Times,serif\" font-size=\"14.00\">2.0</text>\n</g>\n<!-- 6&#45;&gt;0 -->\n<g id=\"edge8\" class=\"edge\">\n<title>6-&gt;0</title>\n<path fill=\"none\" stroke=\"black\" d=\"M665.63,-542.49C636.56,-529.07 584.17,-504.88 545.73,-487.14\"/>\n<polygon fill=\"black\" stroke=\"black\" points=\"547.21,-483.97 536.66,-482.95 544.27,-490.32 547.21,-483.97\"/>\n<text text-anchor=\"middle\" x=\"653.24\" y=\"-504.2\" font-family=\"Times,serif\" font-size=\"14.00\">domain_size</text>\n</g>\n<!-- 6&#45;&gt;4 -->\n<g id=\"edge9\" class=\"edge\">\n<title>6-&gt;4</title>\n<path fill=\"none\" stroke=\"black\" d=\"M711.17,-544.52C741.88,-532.56 791.31,-506.85 791.31,-465.25 791.31,-465.25 791.31,-465.25 791.31,-195.5 791.31,-159.1 762.46,-137.81 727.07,-125.38\"/>\n<polygon fill=\"black\" stroke=\"black\" points=\"728.45,-122.15 717.86,-122.41 726.31,-128.81 728.45,-122.15\"/>\n<text text-anchor=\"middle\" x=\"834.81\" y=\"-325.7\" font-family=\"Times,serif\" font-size=\"14.00\">domain_size</text>\n</g>\n</g>\n</svg>"
     },
     "metadata": {}
    }
   ],
   "execution_count": 2
  },
  {
   "cell_type": "markdown",
   "source": "## Aiida ",
   "metadata": {}
  },
  {
   "cell_type": "code",
   "source": "from python_workflow_definition.aiida import load_workflow_json\n\nfrom aiida import load_profile\nload_profile()",
   "metadata": {
    "trusted": true
   },
   "outputs": [
    {
     "execution_count": 3,
     "output_type": "execute_result",
     "data": {
      "text/plain": "Profile<uuid='5b8a8d98b3014876a9eed7d85a954e5e' name='pwd'>"
     },
     "metadata": {}
    }
   ],
   "execution_count": 3
  },
  {
   "cell_type": "code",
   "source": "workgraph = load_workflow_json(file_name='workflow.json')",
   "metadata": {
    "trusted": true
   },
   "outputs": [],
   "execution_count": 4
  },
  {
   "cell_type": "code",
   "source": "# TODO: Create inputs rather than tasks out of data nodes\nworkgraph",
   "metadata": {
    "trusted": true
   },
   "outputs": [
    {
     "execution_count": 5,
     "output_type": "execute_result",
     "data": {
      "text/plain": "NodeGraphWidget(settings={'minimap': True}, style={'width': '90%', 'height': '600px'}, value={'name': 'WorkGra…",
      "application/vnd.jupyter.widget-view+json": {
       "version_major": 2,
       "version_minor": 1,
       "model_id": "492cc805bc524eaa96137a512b2616fb"
      }
     },
     "metadata": {}
    }
   ],
   "execution_count": 5
  },
  {
   "cell_type": "code",
   "source": "\nworkgraph.run()",
   "metadata": {
    "trusted": true
   },
   "outputs": [
    {
     "name": "stderr",
     "output_type": "stream",
     "text": "04/23/2025 09:52:22 AM <6139> aiida.orm.nodes.process.workflow.workchain.WorkChainNode: [REPORT] [284|WorkGraphEngine|continue_workgraph]: tasks ready to run: generate_mesh1\n04/23/2025 09:52:24 AM <6139> aiida.orm.nodes.process.workflow.workchain.WorkChainNode: [REPORT] [284|WorkGraphEngine|update_task_state]: Task: generate_mesh1, type: PyFunction, finished.\n04/23/2025 09:52:24 AM <6139> aiida.orm.nodes.process.workflow.workchain.WorkChainNode: [REPORT] [284|WorkGraphEngine|continue_workgraph]: tasks ready to run: convert_to_xdmf2\n04/23/2025 09:52:26 AM <6139> aiida.orm.nodes.process.workflow.workchain.WorkChainNode: [REPORT] [284|WorkGraphEngine|update_task_state]: Task: convert_to_xdmf2, type: PyFunction, finished.\n04/23/2025 09:52:26 AM <6139> aiida.orm.nodes.process.workflow.workchain.WorkChainNode: [REPORT] [284|WorkGraphEngine|continue_workgraph]: tasks ready to run: poisson3\n04/23/2025 09:52:30 AM <6139> aiida.orm.nodes.process.workflow.workchain.WorkChainNode: [REPORT] [284|WorkGraphEngine|update_task_state]: Task: poisson3, type: PyFunction, finished.\n04/23/2025 09:52:30 AM <6139> aiida.orm.nodes.process.workflow.workchain.WorkChainNode: [REPORT] [284|WorkGraphEngine|continue_workgraph]: tasks ready to run: plot_over_line4\n04/23/2025 09:52:33 AM <6139> aiida.orm.nodes.process.workflow.workchain.WorkChainNode: [REPORT] [284|WorkGraphEngine|update_task_state]: Task: plot_over_line4, type: PyFunction, finished.\n04/23/2025 09:52:33 AM <6139> aiida.orm.nodes.process.workflow.workchain.WorkChainNode: [REPORT] [284|WorkGraphEngine|continue_workgraph]: tasks ready to run: substitute_macros5\n04/23/2025 09:52:35 AM <6139> aiida.orm.nodes.process.workflow.workchain.WorkChainNode: [REPORT] [284|WorkGraphEngine|update_task_state]: Task: substitute_macros5, type: PyFunction, finished.\n04/23/2025 09:52:35 AM <6139> aiida.orm.nodes.process.workflow.workchain.WorkChainNode: [REPORT] [284|WorkGraphEngine|continue_workgraph]: tasks ready to run: compile_paper6\n04/23/2025 09:52:38 AM <6139> aiida.orm.nodes.process.workflow.workchain.WorkChainNode: [REPORT] [284|WorkGraphEngine|update_task_state]: Task: compile_paper6, type: PyFunction, finished.\n04/23/2025 09:52:38 AM <6139> aiida.orm.nodes.process.workflow.workchain.WorkChainNode: [REPORT] [284|WorkGraphEngine|continue_workgraph]: tasks ready to run: \n04/23/2025 09:52:38 AM <6139> aiida.orm.nodes.process.workflow.workchain.WorkChainNode: [REPORT] [284|WorkGraphEngine|finalize]: Finalize workgraph.\n"
    }
   ],
   "execution_count": 6
  },
  {
   "cell_type": "markdown",
   "source": "## executorlib",
   "metadata": {}
  },
  {
   "cell_type": "code",
   "source": "from executorlib import SingleNodeExecutor",
   "metadata": {
    "trusted": true
   },
   "outputs": [],
   "execution_count": 7
  },
  {
   "cell_type": "code",
   "source": "from python_workflow_definition.executorlib import load_workflow_json",
   "metadata": {
    "trusted": true
   },
   "outputs": [],
   "execution_count": 8
  },
  {
   "cell_type": "code",
   "source": [
    "with SingleNodeExecutor(max_workers=1) as exe:\n",
    "    result = load_workflow_json(file_name=\"workflow.json\", exe=exe).result()"
   ],
   "metadata": {
    "trusted": true
   },
   "outputs": [],
   "execution_count": 9
  },
  {
   "cell_type": "code",
   "source": "result",
   "metadata": {
    "trusted": true
   },
   "outputs": [
    {
     "execution_count": 10,
     "output_type": "execute_result",
     "data": {
      "text/plain": "'/home/jovyan/postprocessing/paper.pdf'"
     },
     "metadata": {}
    }
   ],
   "execution_count": 10
  },
  {
   "cell_type": "markdown",
   "source": "## Jobflow",
   "metadata": {}
  },
  {
   "cell_type": "code",
   "source": "from jobflow.managers.local import run_locally",
   "metadata": {
    "trusted": true
   },
   "outputs": [
    {
     "name": "stderr",
     "output_type": "stream",
     "text": "/srv/conda/envs/notebook/lib/python3.12/site-packages/paramiko/pkey.py:82: CryptographyDeprecationWarning: TripleDES has been moved to cryptography.hazmat.decrepit.ciphers.algorithms.TripleDES and will be removed from cryptography.hazmat.primitives.ciphers.algorithms in 48.0.0.\n  \"cipher\": algorithms.TripleDES,\n/srv/conda/envs/notebook/lib/python3.12/site-packages/paramiko/transport.py:253: CryptographyDeprecationWarning: TripleDES has been moved to cryptography.hazmat.decrepit.ciphers.algorithms.TripleDES and will be removed from cryptography.hazmat.primitives.ciphers.algorithms in 48.0.0.\n  \"class\": algorithms.TripleDES,\n"
    }
   ],
   "execution_count": 11
  },
  {
   "cell_type": "code",
   "source": "from python_workflow_definition.jobflow import load_workflow_json",
   "metadata": {
    "trusted": true
   },
   "outputs": [],
   "execution_count": 12
  },
  {
   "cell_type": "code",
   "source": "flow = load_workflow_json(file_name=\"workflow.json\")",
   "metadata": {
    "trusted": true
   },
   "outputs": [],
   "execution_count": 13
  },
  {
   "cell_type": "code",
   "source": "result = run_locally(flow)\nresult",
   "metadata": {
    "trusted": true
   },
   "outputs": [
    {
     "name": "stdout",
     "output_type": "stream",
     "text": "2025-04-23 09:52:59,822 INFO Started executing jobs locally\n2025-04-23 09:52:59,957 INFO Starting job - generate_mesh (3dfb7e61-0ac4-48e8-90b9-5dc1c8e9cc3a)\n2025-04-23 09:53:01,321 INFO Finished job - generate_mesh (3dfb7e61-0ac4-48e8-90b9-5dc1c8e9cc3a)\n2025-04-23 09:53:01,325 INFO Starting job - convert_to_xdmf (2457090f-84ec-40dc-87dc-16e1ecd5c5ef)\n2025-04-23 09:53:03,102 INFO Finished job - convert_to_xdmf (2457090f-84ec-40dc-87dc-16e1ecd5c5ef)\n2025-04-23 09:53:03,103 INFO Starting job - poisson (ddd8574c-2717-4d3c-a638-2e55670ae679)\n2025-04-23 09:53:06,212 INFO Finished job - poisson (ddd8574c-2717-4d3c-a638-2e55670ae679)\n2025-04-23 09:53:06,213 INFO Starting job - plot_over_line (669dc5b4-0fe1-41fa-8861-305009122991)\n2025-04-23 09:53:08,100 INFO Finished job - plot_over_line (669dc5b4-0fe1-41fa-8861-305009122991)\n2025-04-23 09:53:08,101 INFO Starting job - substitute_macros (bb6ad245-506d-4524-ae3e-e54bc4fcea61)\n2025-04-23 09:53:09,122 INFO Finished job - substitute_macros (bb6ad245-506d-4524-ae3e-e54bc4fcea61)\n2025-04-23 09:53:09,123 INFO Starting job - compile_paper (034ed702-2349-4e6b-b3e5-c5f83772b5aa)\n2025-04-23 09:53:11,397 INFO Finished job - compile_paper (034ed702-2349-4e6b-b3e5-c5f83772b5aa)\n2025-04-23 09:53:11,398 INFO Finished executing jobs locally\n"
    },
    {
     "execution_count": 14,
     "output_type": "execute_result",
     "data": {
      "text/plain": "{'3dfb7e61-0ac4-48e8-90b9-5dc1c8e9cc3a': {1: Response(output='/home/jovyan/preprocessing/square.msh', detour=None, addition=None, replace=None, stored_data=None, stop_children=False, stop_jobflow=False, job_dir=PosixPath('/home/jovyan'))},\n '2457090f-84ec-40dc-87dc-16e1ecd5c5ef': {1: Response(output={'xdmf_file': '/home/jovyan/preprocessing/square.xdmf', 'h5_file': '/home/jovyan/preprocessing/square.h5'}, detour=None, addition=None, replace=None, stored_data=None, stop_children=False, stop_jobflow=False, job_dir=PosixPath('/home/jovyan'))},\n 'ddd8574c-2717-4d3c-a638-2e55670ae679': {1: Response(output={'numdofs': 357, 'pvd_file': '/home/jovyan/processing/poisson.pvd', 'vtu_file': '/home/jovyan/processing/poisson000000.vtu'}, detour=None, addition=None, replace=None, stored_data=None, stop_children=False, stop_jobflow=False, job_dir=PosixPath('/home/jovyan'))},\n '669dc5b4-0fe1-41fa-8861-305009122991': {1: Response(output='/home/jovyan/postprocessing/plotoverline.csv', detour=None, addition=None, replace=None, stored_data=None, stop_children=False, stop_jobflow=False, job_dir=PosixPath('/home/jovyan'))},\n 'bb6ad245-506d-4524-ae3e-e54bc4fcea61': {1: Response(output='/home/jovyan/postprocessing/macros.tex', detour=None, addition=None, replace=None, stored_data=None, stop_children=False, stop_jobflow=False, job_dir=PosixPath('/home/jovyan'))},\n '034ed702-2349-4e6b-b3e5-c5f83772b5aa': {1: Response(output='/home/jovyan/postprocessing/paper.pdf', detour=None, addition=None, replace=None, stored_data=None, stop_children=False, stop_jobflow=False, job_dir=PosixPath('/home/jovyan'))}}"
     },
     "metadata": {}
    }
   ],
   "execution_count": 14
  },
  {
   "cell_type": "markdown",
   "source": "## pyiron",
   "metadata": {}
  },
  {
   "cell_type": "code",
   "source": "from python_workflow_definition.pyiron_base import load_workflow_json",
   "metadata": {
    "trusted": true
   },
   "outputs": [],
   "execution_count": 15
  },
  {
   "cell_type": "code",
   "source": [
    "delayed_object_lst = load_workflow_json(file_name=\"workflow.json\")\n",
    "delayed_object_lst[-1].draw()"
   ],
   "metadata": {
    "trusted": true
   },
   "outputs": [
    {
     "output_type": "display_data",
     "data": {
      "text/plain": "<IPython.core.display.SVG object>",
      "image/svg+xml": "<svg xmlns=\"http://www.w3.org/2000/svg\" xmlns:xlink=\"http://www.w3.org/1999/xlink\" width=\"2934pt\" height=\"476pt\" viewBox=\"0.00 0.00 2934.06 476.00\">\n<g id=\"graph0\" class=\"graph\" transform=\"scale(1 1) rotate(0) translate(4 472)\">\n<polygon fill=\"white\" stroke=\"none\" points=\"-4,4 -4,-472 2930.06,-472 2930.06,4 -4,4\"/>\n<!-- create_function_job_69b38eef29d5c9aba4c6de512da1bb24 -->\n<g id=\"node1\" class=\"node\">\n<title>create_function_job_69b38eef29d5c9aba4c6de512da1bb24</title>\n<ellipse fill=\"none\" stroke=\"black\" cx=\"1542.29\" cy=\"-18\" rx=\"485.25\" ry=\"18\"/>\n<text text-anchor=\"middle\" x=\"1542.29\" y=\"-13.32\" font-family=\"Times,serif\" font-size=\"14.00\">create_function_job=&lt;pyiron_base.project.delayed.DelayedObject object at 0x7c1a34d2c0e0&gt;</text>\n</g>\n<!-- macros_tex_c5f640fc7b11414962941f82a40a8b04 -->\n<g id=\"node2\" class=\"node\">\n<title>macros_tex_c5f640fc7b11414962941f82a40a8b04</title>\n<ellipse fill=\"none\" stroke=\"black\" cx=\"2009.29\" cy=\"-90\" rx=\"446.32\" ry=\"18\"/>\n<text text-anchor=\"middle\" x=\"2009.29\" y=\"-85.33\" font-family=\"Times,serif\" font-size=\"14.00\">macros_tex=&lt;pyiron_base.project.delayed.DelayedObject object at 0x7c1a34d07dd0&gt;</text>\n</g>\n<!-- macros_tex_c5f640fc7b11414962941f82a40a8b04&#45;&gt;create_function_job_69b38eef29d5c9aba4c6de512da1bb24 -->\n<g id=\"edge1\" class=\"edge\">\n<title>macros_tex_c5f640fc7b11414962941f82a40a8b04-&gt;create_function_job_69b38eef29d5c9aba4c6de512da1bb24</title>\n<path fill=\"none\" stroke=\"black\" d=\"M1896.54,-72.1C1827.11,-61.69 1738.02,-48.34 1666.56,-37.63\"/>\n<polygon fill=\"black\" stroke=\"black\" points=\"1667.15,-34.18 1656.75,-36.16 1666.12,-41.1 1667.15,-34.18\"/>\n</g>\n<!-- pvbatch_output_file_5f8f87a5c4f1bd1a4b6cca85a1fc2b78 -->\n<g id=\"node3\" class=\"node\">\n<title>pvbatch_output_file_5f8f87a5c4f1bd1a4b6cca85a1fc2b78</title>\n<ellipse fill=\"none\" stroke=\"black\" cx=\"1645.29\" cy=\"-162\" rx=\"487.35\" ry=\"18\"/>\n<text text-anchor=\"middle\" x=\"1645.29\" y=\"-157.32\" font-family=\"Times,serif\" font-size=\"14.00\">pvbatch_output_file=&lt;pyiron_base.project.delayed.DelayedObject object at 0x7c1a34d07d70&gt;</text>\n</g>\n<!-- pvbatch_output_file_5f8f87a5c4f1bd1a4b6cca85a1fc2b78&#45;&gt;macros_tex_c5f640fc7b11414962941f82a40a8b04 -->\n<g id=\"edge2\" class=\"edge\">\n<title>pvbatch_output_file_5f8f87a5c4f1bd1a4b6cca85a1fc2b78-&gt;macros_tex_c5f640fc7b11414962941f82a40a8b04</title>\n<path fill=\"none\" stroke=\"black\" d=\"M1734.34,-143.88C1787.31,-133.69 1854.63,-120.74 1909.4,-110.21\"/>\n<polygon fill=\"black\" stroke=\"black\" points=\"1909.89,-113.68 1919.05,-108.35 1908.57,-106.81 1909.89,-113.68\"/>\n</g>\n<!-- poisson_output_pvd_file_08c5d21e2c998fd513709b7a059c6649 -->\n<g id=\"node4\" class=\"node\">\n<title>poisson_output_pvd_file_08c5d21e2c998fd513709b7a059c6649</title>\n<ellipse fill=\"none\" stroke=\"black\" cx=\"1538.29\" cy=\"-234\" rx=\"507.35\" ry=\"18\"/>\n<text text-anchor=\"middle\" x=\"1538.29\" y=\"-229.32\" font-family=\"Times,serif\" font-size=\"14.00\">poisson_output_pvd_file=&lt;pyiron_base.project.delayed.DelayedObject object at 0x7c1a34d07bc0&gt;</text>\n</g>\n<!-- poisson_output_pvd_file_08c5d21e2c998fd513709b7a059c6649&#45;&gt;pvbatch_output_file_5f8f87a5c4f1bd1a4b6cca85a1fc2b78 -->\n<g id=\"edge3\" class=\"edge\">\n<title>poisson_output_pvd_file_08c5d21e2c998fd513709b7a059c6649-&gt;pvbatch_output_file_5f8f87a5c4f1bd1a4b6cca85a1fc2b78</title>\n<path fill=\"none\" stroke=\"black\" d=\"M1564.74,-215.7C1578.25,-206.86 1594.87,-195.99 1609.5,-186.41\"/>\n<polygon fill=\"black\" stroke=\"black\" points=\"1611.06,-189.58 1617.51,-181.18 1607.23,-183.72 1611.06,-189.58\"/>\n</g>\n<!-- plot_file_5f8f87a5c4f1bd1a4b6cca85a1fc2b78 -->\n<g id=\"node5\" class=\"node\">\n<title>plot_file_5f8f87a5c4f1bd1a4b6cca85a1fc2b78</title>\n<ellipse fill=\"none\" stroke=\"black\" cx=\"711.29\" cy=\"-162\" rx=\"428.95\" ry=\"18\"/>\n<text text-anchor=\"middle\" x=\"711.29\" y=\"-157.32\" font-family=\"Times,serif\" font-size=\"14.00\">plot_file=&lt;pyiron_base.project.delayed.DelayedObject object at 0x7c1a34d07d70&gt;</text>\n</g>\n<!-- poisson_output_pvd_file_08c5d21e2c998fd513709b7a059c6649&#45;&gt;plot_file_5f8f87a5c4f1bd1a4b6cca85a1fc2b78 -->\n<g id=\"edge4\" class=\"edge\">\n<title>poisson_output_pvd_file_08c5d21e2c998fd513709b7a059c6649-&gt;plot_file_5f8f87a5c4f1bd1a4b6cca85a1fc2b78</title>\n<path fill=\"none\" stroke=\"black\" d=\"M1347.78,-216.87C1215.91,-205.71 1040.86,-190.9 907.72,-179.63\"/>\n<polygon fill=\"black\" stroke=\"black\" points=\"908.36,-176.17 898.1,-178.81 907.77,-183.14 908.36,-176.17\"/>\n</g>\n<!-- plot_file_5f8f87a5c4f1bd1a4b6cca85a1fc2b78&#45;&gt;create_function_job_69b38eef29d5c9aba4c6de512da1bb24 -->\n<g id=\"edge18\" class=\"edge\">\n<title>plot_file_5f8f87a5c4f1bd1a4b6cca85a1fc2b78-&gt;create_function_job_69b38eef29d5c9aba4c6de512da1bb24</title>\n<path fill=\"none\" stroke=\"black\" d=\"M810.71,-144.01C966.84,-117.33 1268.5,-65.78 1431.43,-37.94\"/>\n<polygon fill=\"black\" stroke=\"black\" points=\"1431.68,-41.45 1440.95,-36.32 1430.5,-34.55 1431.68,-41.45\"/>\n</g>\n<!-- meshio_output_xdmf_fc75e768124c1b73ca0efc70a5765dea -->\n<g id=\"node6\" class=\"node\">\n<title>meshio_output_xdmf_fc75e768124c1b73ca0efc70a5765dea</title>\n<ellipse fill=\"none\" stroke=\"black\" cx=\"1430.29\" cy=\"-306\" rx=\"492.09\" ry=\"18\"/>\n<text text-anchor=\"middle\" x=\"1430.29\" y=\"-301.32\" font-family=\"Times,serif\" font-size=\"14.00\">meshio_output_xdmf=&lt;pyiron_base.project.delayed.DelayedObject object at 0x7c1a34d078c0&gt;</text>\n</g>\n<!-- meshio_output_xdmf_fc75e768124c1b73ca0efc70a5765dea&#45;&gt;poisson_output_pvd_file_08c5d21e2c998fd513709b7a059c6649 -->\n<g id=\"edge5\" class=\"edge\">\n<title>meshio_output_xdmf_fc75e768124c1b73ca0efc70a5765dea-&gt;poisson_output_pvd_file_08c5d21e2c998fd513709b7a059c6649</title>\n<path fill=\"none\" stroke=\"black\" d=\"M1456.99,-287.7C1470.62,-278.86 1487.4,-267.99 1502.17,-258.41\"/>\n<polygon fill=\"black\" stroke=\"black\" points=\"1503.77,-261.55 1510.26,-253.17 1499.96,-255.67 1503.77,-261.55\"/>\n</g>\n<!-- poisson_output_vtu_file_62144723b416cb6b52989d18b3dec55b -->\n<g id=\"node7\" class=\"node\">\n<title>poisson_output_vtu_file_62144723b416cb6b52989d18b3dec55b</title>\n<ellipse fill=\"none\" stroke=\"black\" cx=\"506.29\" cy=\"-234\" rx=\"506.29\" ry=\"18\"/>\n<text text-anchor=\"middle\" x=\"506.29\" y=\"-229.32\" font-family=\"Times,serif\" font-size=\"14.00\">poisson_output_vtu_file=&lt;pyiron_base.project.delayed.DelayedObject object at 0x7c1a34d07b90&gt;</text>\n</g>\n<!-- meshio_output_xdmf_fc75e768124c1b73ca0efc70a5765dea&#45;&gt;poisson_output_vtu_file_62144723b416cb6b52989d18b3dec55b -->\n<g id=\"edge6\" class=\"edge\">\n<title>meshio_output_xdmf_fc75e768124c1b73ca0efc70a5765dea-&gt;poisson_output_vtu_file_62144723b416cb6b52989d18b3dec55b</title>\n<path fill=\"none\" stroke=\"black\" d=\"M1222.35,-289.25C1074.78,-278.07 877,-263.08 726.7,-251.7\"/>\n<polygon fill=\"black\" stroke=\"black\" points=\"727.25,-248.23 717.01,-250.96 726.72,-255.21 727.25,-248.23\"/>\n</g>\n<!-- ndofs_c3811e53ce75b5460d97029d314439b5 -->\n<g id=\"node8\" class=\"node\">\n<title>ndofs_c3811e53ce75b5460d97029d314439b5</title>\n<ellipse fill=\"none\" stroke=\"black\" cx=\"2480.29\" cy=\"-234\" rx=\"416.33\" ry=\"18\"/>\n<text text-anchor=\"middle\" x=\"2480.29\" y=\"-229.32\" font-family=\"Times,serif\" font-size=\"14.00\">ndofs=&lt;pyiron_base.project.delayed.DelayedObject object at 0x7c1a34d07e00&gt;</text>\n</g>\n<!-- meshio_output_xdmf_fc75e768124c1b73ca0efc70a5765dea&#45;&gt;ndofs_c3811e53ce75b5460d97029d314439b5 -->\n<g id=\"edge7\" class=\"edge\">\n<title>meshio_output_xdmf_fc75e768124c1b73ca0efc70a5765dea-&gt;ndofs_c3811e53ce75b5460d97029d314439b5</title>\n<path fill=\"none\" stroke=\"black\" d=\"M1660.4,-289.66C1834.93,-278.02 2073.83,-262.1 2248.72,-250.44\"/>\n<polygon fill=\"black\" stroke=\"black\" points=\"2248.9,-253.93 2258.64,-249.78 2248.43,-246.95 2248.9,-253.93\"/>\n</g>\n<!-- poisson_output_vtu_file_62144723b416cb6b52989d18b3dec55b&#45;&gt;pvbatch_output_file_5f8f87a5c4f1bd1a4b6cca85a1fc2b78 -->\n<g id=\"edge15\" class=\"edge\">\n<title>poisson_output_vtu_file_62144723b416cb6b52989d18b3dec55b-&gt;pvbatch_output_file_5f8f87a5c4f1bd1a4b6cca85a1fc2b78</title>\n<path fill=\"none\" stroke=\"black\" d=\"M752.74,-217.85C940.97,-206.29 1199.57,-190.39 1389.97,-178.69\"/>\n<polygon fill=\"black\" stroke=\"black\" points=\"1389.99,-182.2 1399.76,-178.09 1389.56,-175.21 1389.99,-182.2\"/>\n</g>\n<!-- poisson_output_vtu_file_62144723b416cb6b52989d18b3dec55b&#45;&gt;plot_file_5f8f87a5c4f1bd1a4b6cca85a1fc2b78 -->\n<g id=\"edge16\" class=\"edge\">\n<title>poisson_output_vtu_file_62144723b416cb6b52989d18b3dec55b-&gt;plot_file_5f8f87a5c4f1bd1a4b6cca85a1fc2b78</title>\n<path fill=\"none\" stroke=\"black\" d=\"M557.23,-215.61C585.32,-206.01 620.4,-194.04 649.99,-183.93\"/>\n<polygon fill=\"black\" stroke=\"black\" points=\"650.85,-187.34 659.19,-180.79 648.59,-180.71 650.85,-187.34\"/>\n</g>\n<!-- ndofs_c3811e53ce75b5460d97029d314439b5&#45;&gt;macros_tex_c5f640fc7b11414962941f82a40a8b04 -->\n<g id=\"edge17\" class=\"edge\">\n<title>ndofs_c3811e53ce75b5460d97029d314439b5-&gt;macros_tex_c5f640fc7b11414962941f82a40a8b04</title>\n<path fill=\"none\" stroke=\"black\" d=\"M2423.01,-215.73C2335.96,-189.49 2170.68,-139.66 2077.54,-111.57\"/>\n<polygon fill=\"black\" stroke=\"black\" points=\"2078.58,-108.23 2067.99,-108.7 2076.56,-114.94 2078.58,-108.23\"/>\n</g>\n<!-- gmsh_output_file_950b49ac6562a70cf11f14756f9831ea -->\n<g id=\"node9\" class=\"node\">\n<title>gmsh_output_file_950b49ac6562a70cf11f14756f9831ea</title>\n<ellipse fill=\"none\" stroke=\"black\" cx=\"2418.29\" cy=\"-378\" rx=\"474.73\" ry=\"18\"/>\n<text text-anchor=\"middle\" x=\"2418.29\" y=\"-373.32\" font-family=\"Times,serif\" font-size=\"14.00\">gmsh_output_file=&lt;pyiron_base.project.delayed.DelayedObject object at 0x7c1a34d076b0&gt;</text>\n</g>\n<!-- gmsh_output_file_950b49ac6562a70cf11f14756f9831ea&#45;&gt;meshio_output_xdmf_fc75e768124c1b73ca0efc70a5765dea -->\n<g id=\"edge8\" class=\"edge\">\n<title>gmsh_output_file_950b49ac6562a70cf11f14756f9831ea-&gt;meshio_output_xdmf_fc75e768124c1b73ca0efc70a5765dea</title>\n<path fill=\"none\" stroke=\"black\" d=\"M2200.56,-361.57C2040.59,-350.24 1823.65,-334.87 1660.76,-323.33\"/>\n<polygon fill=\"black\" stroke=\"black\" points=\"1661.35,-319.86 1651.13,-322.65 1660.86,-326.84 1661.35,-319.86\"/>\n</g>\n<!-- meshio_output_h5_efe999f964b5fb7603bd642abcd8905d -->\n<g id=\"node10\" class=\"node\">\n<title>meshio_output_h5_efe999f964b5fb7603bd642abcd8905d</title>\n<ellipse fill=\"none\" stroke=\"black\" cx=\"2418.29\" cy=\"-306\" rx=\"477.88\" ry=\"18\"/>\n<text text-anchor=\"middle\" x=\"2418.29\" y=\"-301.32\" font-family=\"Times,serif\" font-size=\"14.00\">meshio_output_h5=&lt;pyiron_base.project.delayed.DelayedObject object at 0x7c1a34d078f0&gt;</text>\n</g>\n<!-- gmsh_output_file_950b49ac6562a70cf11f14756f9831ea&#45;&gt;meshio_output_h5_efe999f964b5fb7603bd642abcd8905d -->\n<g id=\"edge9\" class=\"edge\">\n<title>gmsh_output_file_950b49ac6562a70cf11f14756f9831ea-&gt;meshio_output_h5_efe999f964b5fb7603bd642abcd8905d</title>\n<path fill=\"none\" stroke=\"black\" d=\"M2418.29,-359.7C2418.29,-352.41 2418.29,-343.73 2418.29,-335.54\"/>\n<polygon fill=\"black\" stroke=\"black\" points=\"2421.79,-335.62 2418.29,-325.62 2414.79,-335.62 2421.79,-335.62\"/>\n</g>\n<!-- meshio_output_h5_efe999f964b5fb7603bd642abcd8905d&#45;&gt;poisson_output_pvd_file_08c5d21e2c998fd513709b7a059c6649 -->\n<g id=\"edge12\" class=\"edge\">\n<title>meshio_output_h5_efe999f964b5fb7603bd642abcd8905d-&gt;poisson_output_pvd_file_08c5d21e2c998fd513709b7a059c6649</title>\n<path fill=\"none\" stroke=\"black\" d=\"M2219.43,-289.18C2079.6,-278.06 1892.76,-263.2 1750.13,-251.85\"/>\n<polygon fill=\"black\" stroke=\"black\" points=\"1750.83,-248.4 1740.59,-251.09 1750.28,-255.37 1750.83,-248.4\"/>\n</g>\n<!-- meshio_output_h5_efe999f964b5fb7603bd642abcd8905d&#45;&gt;poisson_output_vtu_file_62144723b416cb6b52989d18b3dec55b -->\n<g id=\"edge13\" class=\"edge\">\n<title>meshio_output_h5_efe999f964b5fb7603bd642abcd8905d-&gt;poisson_output_vtu_file_62144723b416cb6b52989d18b3dec55b</title>\n<path fill=\"none\" stroke=\"black\" d=\"M2084.15,-292.77C1741.71,-280.23 1211.22,-260.81 861.35,-248\"/>\n<polygon fill=\"black\" stroke=\"black\" points=\"861.65,-244.51 851.53,-247.64 861.39,-251.5 861.65,-244.51\"/>\n</g>\n<!-- meshio_output_h5_efe999f964b5fb7603bd642abcd8905d&#45;&gt;ndofs_c3811e53ce75b5460d97029d314439b5 -->\n<g id=\"edge14\" class=\"edge\">\n<title>meshio_output_h5_efe999f964b5fb7603bd642abcd8905d-&gt;ndofs_c3811e53ce75b5460d97029d314439b5</title>\n<path fill=\"none\" stroke=\"black\" d=\"M2433.62,-287.7C2440.83,-279.56 2449.57,-269.69 2457.53,-260.7\"/>\n<polygon fill=\"black\" stroke=\"black\" points=\"2460.13,-263.04 2464.14,-253.24 2454.89,-258.4 2460.13,-263.04\"/>\n</g>\n<!-- domain_size_f12a7f1986b9dd058dfc666dbe230b20 -->\n<g id=\"node11\" class=\"node\">\n<title>domain_size_f12a7f1986b9dd058dfc666dbe230b20</title>\n<ellipse fill=\"none\" stroke=\"black\" cx=\"2671.29\" cy=\"-450\" rx=\"96.45\" ry=\"18\"/>\n<text text-anchor=\"middle\" x=\"2671.29\" y=\"-445.32\" font-family=\"Times,serif\" font-size=\"14.00\">domain_size=2.0</text>\n</g>\n<!-- domain_size_f12a7f1986b9dd058dfc666dbe230b20&#45;&gt;macros_tex_c5f640fc7b11414962941f82a40a8b04 -->\n<g id=\"edge10\" class=\"edge\">\n<title>domain_size_f12a7f1986b9dd058dfc666dbe230b20-&gt;macros_tex_c5f640fc7b11414962941f82a40a8b04</title>\n<path fill=\"none\" stroke=\"black\" d=\"M2751.32,-439.63C2809.25,-431.24 2880.95,-416.99 2902.29,-396 2931.35,-367.43 2924.29,-347.75 2924.29,-307 2924.29,-307 2924.29,-307 2924.29,-233 2924.29,-165.96 2535.79,-125.99 2265.08,-106.29\"/>\n<polygon fill=\"black\" stroke=\"black\" points=\"2265.63,-102.82 2255.4,-105.59 2265.13,-109.8 2265.63,-102.82\"/>\n</g>\n<!-- domain_size_f12a7f1986b9dd058dfc666dbe230b20&#45;&gt;gmsh_output_file_950b49ac6562a70cf11f14756f9831ea -->\n<g id=\"edge11\" class=\"edge\">\n<title>domain_size_f12a7f1986b9dd058dfc666dbe230b20-&gt;gmsh_output_file_950b49ac6562a70cf11f14756f9831ea</title>\n<path fill=\"none\" stroke=\"black\" d=\"M2618.87,-434.5C2582.15,-424.33 2532.56,-410.62 2491.88,-399.36\"/>\n<polygon fill=\"black\" stroke=\"black\" points=\"2492.96,-396.03 2482.39,-396.73 2491.09,-402.77 2492.96,-396.03\"/>\n</g>\n</g>\n</svg>"
     },
     "metadata": {}
    }
   ],
   "execution_count": 16
  },
  {
   "cell_type": "code",
   "source": "delayed_object_lst[-1].pull()",
   "metadata": {
    "trusted": true
   },
   "outputs": [
    {
     "name": "stdout",
     "output_type": "stream",
     "text": "The job generate_mesh_0b48cf5155cd6802c17d20bb58104132 was saved and received the ID: 1\nThe job convert_to_xdmf_29ad6ec6927268429dc9aef8166fde43 was saved and received the ID: 2\nThe job poisson_a0224b23ceb2119d105a5d98ef37f93e was saved and received the ID: 3\nThe job plot_over_line_82b37a42e0747f11d9a7f6318f63ac6b was saved and received the ID: 4\nThe job substitute_macros_874fc185ecec04b4cb9537c58b7efb7b was saved and received the ID: 5\nThe job compile_paper_3cee534ffe692833d37faf1fd2170cb6 was saved and received the ID: 6\n"
    },
    {
     "execution_count": 17,
     "output_type": "execute_result",
     "data": {
      "text/plain": "'/home/jovyan/postprocessing/paper.pdf'"
     },
     "metadata": {}
    }
   ],
   "execution_count": 17
  },
  {
   "cell_type": "markdown",
   "source": "## Python",
   "metadata": {}
  },
  {
   "cell_type": "code",
   "source": "from python_workflow_definition.purepython import load_workflow_json",
   "metadata": {
    "trusted": true
   },
   "outputs": [],
   "execution_count": 18
  },
  {
   "cell_type": "code",
   "source": "load_workflow_json(file_name=\"workflow.json\")",
   "metadata": {
    "trusted": true
   },
   "outputs": [
    {
     "execution_count": 19,
     "output_type": "execute_result",
     "data": {
      "text/plain": "'/home/jovyan/postprocessing/paper.pdf'"
     },
     "metadata": {}
    }
   ],
   "execution_count": 19
  }
 ]
}
