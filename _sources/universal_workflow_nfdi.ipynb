{
 "cells": [
  {
   "cell_type": "markdown",
   "metadata": {},
   "source": [
    "# Load Simple Workflow"
   ]
  },
  {
   "metadata": {},
   "cell_type": "markdown",
   "source": "## Plot"
  },
  {
   "metadata": {},
   "cell_type": "code",
   "outputs": [],
   "execution_count": null,
   "source": "from python_workflow_definition.plot import plot"
  },
  {
   "metadata": {},
   "cell_type": "code",
   "outputs": [],
   "execution_count": null,
   "source": "plot(file_name='workflow_nfdi.json')"
  },
  {
   "cell_type": "markdown",
   "metadata": {},
   "source": [
    "## Aiida "
   ]
  },
  {
   "cell_type": "code",
   "execution_count": 1,
   "metadata": {},
   "outputs": [
    {
     "data": {
      "text/plain": [
       "Profile<uuid='c08748df7ab74ec08c14e5f16cebc987' name='pwd'>"
      ]
     },
     "execution_count": 1,
     "metadata": {},
     "output_type": "execute_result"
    }
   ],
   "source": [
    "from python_workflow_definition.aiida import load_workflow_json\n",
    "\n",
    "from aiida import load_profile\n",
    "load_profile()"
   ]
  },
  {
   "cell_type": "code",
   "execution_count": 2,
   "metadata": {},
   "outputs": [],
   "source": [
    "workgraph = load_workflow_json(file_name='workflow_nfdi.json')"
   ]
  },
  {
   "cell_type": "code",
   "execution_count": 3,
   "metadata": {},
   "outputs": [
    {
     "data": {
      "application/vnd.jupyter.widget-view+json": {
       "model_id": "c1671fb385e3469ea269044a47160225",
       "version_major": 2,
       "version_minor": 1
      },
      "text/plain": [
       "NodeGraphWidget(settings={'minimap': True}, style={'width': '90%', 'height': '600px'}, value={'name': 'WorkGra…"
      ]
     },
     "execution_count": 3,
     "metadata": {},
     "output_type": "execute_result"
    }
   ],
   "source": [
    "# TODO: Create inputs rather than tasks out of data nodes\n",
    "workgraph"
   ]
  },
  {
   "cell_type": "code",
   "execution_count": 4,
   "metadata": {},
   "outputs": [
    {
     "name": "stderr",
     "output_type": "stream",
     "text": [
      "03/24/2025 12:15:40 PM <259264> aiida.orm.nodes.process.workflow.workchain.WorkChainNode: [REPORT] [1069|WorkGraphEngine|continue_workgraph]: tasks ready to run: pickle_node3,pickle_node4\n",
      "03/24/2025 12:15:49 PM <259264> aiida.orm.nodes.process.workflow.workchain.WorkChainNode: [REPORT] [1069|WorkGraphEngine|on_wait]: Process status: Waiting for child processes: 1076, 1083\n",
      "03/24/2025 12:16:27 PM <259264> aiida.orm.nodes.process.workflow.workchain.WorkChainNode: [REPORT] [1069|WorkGraphEngine|update_task_state]: Task: pickle_node3, type: PYTHONJOB, finished.\n",
      "03/24/2025 12:16:28 PM <259264> aiida.orm.nodes.process.workflow.workchain.WorkChainNode: [REPORT] [1069|WorkGraphEngine|update_task_state]: Task: pickle_node4, type: PYTHONJOB, finished.\n"
     ]
    },
    {
     "name": "stdout",
     "output_type": "stream",
     "text": [
      "invalid state\n"
     ]
    },
    {
     "name": "stderr",
     "output_type": "stream",
     "text": [
      "03/24/2025 12:16:29 PM <259264> aiida.orm.nodes.process.workflow.workchain.WorkChainNode: [REPORT] [1069|WorkGraphEngine|continue_workgraph]: tasks ready to run: add_x_and_y1\n",
      "03/24/2025 12:16:35 PM <259264> aiida.orm.nodes.process.workflow.workchain.WorkChainNode: [REPORT] [1069|WorkGraphEngine|on_wait]: Process status: Waiting for child processes: 1098\n",
      "03/24/2025 12:16:58 PM <259264> aiida.orm.nodes.process.workflow.workchain.WorkChainNode: [REPORT] [1069|WorkGraphEngine|update_task_state]: Task: add_x_and_y1, type: PYTHONJOB, finished.\n",
      "03/24/2025 12:16:59 PM <259264> aiida.orm.nodes.process.workflow.workchain.WorkChainNode: [REPORT] [1069|WorkGraphEngine|continue_workgraph]: tasks ready to run: add_x_and_y_and_z2\n",
      "03/24/2025 12:17:04 PM <259264> aiida.orm.nodes.process.workflow.workchain.WorkChainNode: [REPORT] [1069|WorkGraphEngine|on_wait]: Process status: Waiting for child processes: 1111\n",
      "03/24/2025 12:17:23 PM <259264> aiida.orm.nodes.process.workflow.workchain.WorkChainNode: [REPORT] [1069|WorkGraphEngine|update_task_state]: Task: add_x_and_y_and_z2, type: PYTHONJOB, finished.\n",
      "03/24/2025 12:17:25 PM <259264> aiida.orm.nodes.process.workflow.workchain.WorkChainNode: [REPORT] [1069|WorkGraphEngine|continue_workgraph]: tasks ready to run: \n",
      "03/24/2025 12:17:25 PM <259264> aiida.orm.nodes.process.workflow.workchain.WorkChainNode: [REPORT] [1069|WorkGraphEngine|finalize]: Finalize workgraph.\n"
     ]
    }
   ],
   "source": [
    "\n",
    "workgraph.run()"
   ]
  },
  {
   "cell_type": "markdown",
   "metadata": {},
   "source": [
    "## executorlib"
   ]
  },
  {
   "cell_type": "code",
   "execution_count": 5,
   "metadata": {},
   "outputs": [],
   "source": [
    "from executorlib import SingleNodeExecutor"
   ]
  },
  {
   "cell_type": "code",
   "execution_count": 6,
   "metadata": {},
   "outputs": [],
   "source": [
    "from python_workflow_definition.executorlib import load_workflow_json"
   ]
  },
  {
   "cell_type": "code",
   "execution_count": 7,
   "metadata": {},
   "outputs": [],
   "source": [
    "with SingleNodeExecutor(max_workers=1) as exe:\n",
    "    result = load_workflow_json(file_name=\"workflow_nfdi.json\", exe=exe).result()"
   ]
  },
  {
   "cell_type": "code",
   "execution_count": 8,
   "metadata": {},
   "outputs": [
    {
     "data": {
      "text/plain": [
       "6"
      ]
     },
     "execution_count": 8,
     "metadata": {},
     "output_type": "execute_result"
    }
   ],
   "source": [
    "result"
   ]
  },
  {
   "cell_type": "markdown",
   "metadata": {},
   "source": [
    "## Jobflow"
   ]
  },
  {
   "cell_type": "code",
   "execution_count": 9,
   "metadata": {},
   "outputs": [
    {
     "name": "stderr",
     "output_type": "stream",
     "text": [
      "/home/jan/mambaforge/lib/python3.12/site-packages/paramiko/pkey.py:82: CryptographyDeprecationWarning: TripleDES has been moved to cryptography.hazmat.decrepit.ciphers.algorithms.TripleDES and will be removed from cryptography.hazmat.primitives.ciphers.algorithms in 48.0.0.\n",
      "  \"cipher\": algorithms.TripleDES,\n",
      "/home/jan/mambaforge/lib/python3.12/site-packages/paramiko/transport.py:253: CryptographyDeprecationWarning: TripleDES has been moved to cryptography.hazmat.decrepit.ciphers.algorithms.TripleDES and will be removed from cryptography.hazmat.primitives.ciphers.algorithms in 48.0.0.\n",
      "  \"class\": algorithms.TripleDES,\n"
     ]
    }
   ],
   "source": [
    "from jobflow.managers.local import run_locally"
   ]
  },
  {
   "cell_type": "code",
   "execution_count": 10,
   "metadata": {},
   "outputs": [],
   "source": [
    "from python_workflow_definition.jobflow import load_workflow_json"
   ]
  },
  {
   "cell_type": "code",
   "execution_count": 11,
   "metadata": {},
   "outputs": [],
   "source": [
    "flow = load_workflow_json(file_name=\"workflow_nfdi.json\")"
   ]
  },
  {
   "cell_type": "code",
   "execution_count": 12,
   "metadata": {},
   "outputs": [
    {
     "name": "stdout",
     "output_type": "stream",
     "text": [
      "2025-03-24 12:17:31,659 INFO Started executing jobs locally\n",
      "2025-03-24 12:17:33,059 INFO Starting job - add_x_and_y (a8004d81-a7b8-41f1-a673-17b4d6e90ebf)\n",
      "2025-03-24 12:17:33,061 INFO Finished job - add_x_and_y (a8004d81-a7b8-41f1-a673-17b4d6e90ebf)\n",
      "2025-03-24 12:17:33,062 INFO Starting job - add_x_and_y_and_z (26ddcedb-34b3-4b09-883d-311b2689d870)\n",
      "2025-03-24 12:17:33,066 INFO Finished job - add_x_and_y_and_z (26ddcedb-34b3-4b09-883d-311b2689d870)\n",
      "2025-03-24 12:17:33,070 INFO Finished executing jobs locally\n"
     ]
    },
    {
     "data": {
      "text/plain": [
       "{'a8004d81-a7b8-41f1-a673-17b4d6e90ebf': {1: Response(output={'x': 1, 'y': 2, 'z': 3}, detour=None, addition=None, replace=None, stored_data=None, stop_children=False, stop_jobflow=False, job_dir=PosixPath('/home/jan/notebooks/2025/2025-03-22-compare-workflows'))},\n",
       " '26ddcedb-34b3-4b09-883d-311b2689d870': {1: Response(output=6, detour=None, addition=None, replace=None, stored_data=None, stop_children=False, stop_jobflow=False, job_dir=PosixPath('/home/jan/notebooks/2025/2025-03-22-compare-workflows'))}}"
      ]
     },
     "execution_count": 12,
     "metadata": {},
     "output_type": "execute_result"
    }
   ],
   "source": [
    "result = run_locally(flow)\n",
    "result"
   ]
  },
  {
   "cell_type": "markdown",
   "metadata": {},
   "source": [
    "## pyiron"
   ]
  },
  {
   "cell_type": "code",
   "execution_count": 13,
   "metadata": {},
   "outputs": [],
   "source": [
    "from pyiron_base import Project"
   ]
  },
  {
   "cell_type": "code",
   "execution_count": 14,
   "metadata": {},
   "outputs": [],
   "source": [
    "from python_workflow_definition.pyiron_base import load_workflow_json"
   ]
  },
  {
   "cell_type": "code",
   "execution_count": 15,
   "metadata": {},
   "outputs": [
    {
     "data": {
      "application/vnd.jupyter.widget-view+json": {
       "model_id": "c62706b413eb44a391d2a24366c8ef82",
       "version_major": 2,
       "version_minor": 0
      },
      "text/plain": [
       "0it [00:00, ?it/s]"
      ]
     },
     "metadata": {},
     "output_type": "display_data"
    }
   ],
   "source": [
    "pr = Project(\"test\")\n",
    "pr.remove_jobs(recursive=True, silently=True)"
   ]
  },
  {
   "cell_type": "code",
   "execution_count": 16,
   "metadata": {},
   "outputs": [
    {
     "data": {
      "image/svg+xml": [
       "<svg xmlns=\"http://www.w3.org/2000/svg\" xmlns:xlink=\"http://www.w3.org/1999/xlink\" width=\"1794pt\" height=\"188pt\" viewBox=\"0.00 0.00 1793.78 188.00\">\n",
       "<g id=\"graph0\" class=\"graph\" transform=\"scale(1 1) rotate(0) translate(4 184)\">\n",
       "<polygon fill=\"white\" stroke=\"none\" points=\"-4,4 -4,-184 1789.78,-184 1789.78,4 -4,4\"/>\n",
       "<!-- create_function_job_64c8e93072cd8858b5acc14f0b6a1345 -->\n",
       "<g id=\"node1\" class=\"node\">\n",
       "<title>create_function_job_64c8e93072cd8858b5acc14f0b6a1345</title>\n",
       "<ellipse fill=\"none\" stroke=\"black\" cx=\"893.9\" cy=\"-18\" rx=\"359.46\" ry=\"18\"/>\n",
       "<text text-anchor=\"middle\" x=\"893.9\" y=\"-12.95\" font-family=\"Times,serif\" font-size=\"14.00\">create_function_job=&lt;pyiron_base.project.delayed.DelayedObject object at 0x7f6346efa3f0&gt;</text>\n",
       "</g>\n",
       "<!-- x_66de6656099aebbaa5cdc840b1bf9733 -->\n",
       "<g id=\"node2\" class=\"node\">\n",
       "<title>x_66de6656099aebbaa5cdc840b1bf9733</title>\n",
       "<ellipse fill=\"none\" stroke=\"black\" cx=\"291.9\" cy=\"-90\" rx=\"291.9\" ry=\"18\"/>\n",
       "<text text-anchor=\"middle\" x=\"291.9\" y=\"-84.95\" font-family=\"Times,serif\" font-size=\"14.00\">x=&lt;pyiron_base.project.delayed.DelayedObject object at 0x7f6346efa030&gt;</text>\n",
       "</g>\n",
       "<!-- x_66de6656099aebbaa5cdc840b1bf9733&#45;&gt;create_function_job_64c8e93072cd8858b5acc14f0b6a1345 -->\n",
       "<g id=\"edge1\" class=\"edge\">\n",
       "<title>x_66de6656099aebbaa5cdc840b1bf9733-&gt;create_function_job_64c8e93072cd8858b5acc14f0b6a1345</title>\n",
       "<path fill=\"none\" stroke=\"black\" d=\"M424.76,-73.55C519.28,-62.56 646.37,-47.78 744.43,-36.38\"/>\n",
       "<polygon fill=\"black\" stroke=\"black\" points=\"744.6,-39.88 754.13,-35.25 743.8,-32.93 744.6,-39.88\"/>\n",
       "</g>\n",
       "<!-- x_1d847da32ecaabf6731c38f798c3d4ce -->\n",
       "<g id=\"node3\" class=\"node\">\n",
       "<title>x_1d847da32ecaabf6731c38f798c3d4ce</title>\n",
       "<ellipse fill=\"none\" stroke=\"black\" cx=\"857.9\" cy=\"-162\" rx=\"27\" ry=\"18\"/>\n",
       "<text text-anchor=\"middle\" x=\"857.9\" y=\"-156.95\" font-family=\"Times,serif\" font-size=\"14.00\">x=1</text>\n",
       "</g>\n",
       "<!-- x_1d847da32ecaabf6731c38f798c3d4ce&#45;&gt;x_66de6656099aebbaa5cdc840b1bf9733 -->\n",
       "<g id=\"edge2\" class=\"edge\">\n",
       "<title>x_1d847da32ecaabf6731c38f798c3d4ce-&gt;x_66de6656099aebbaa5cdc840b1bf9733</title>\n",
       "<path fill=\"none\" stroke=\"black\" d=\"M831.36,-157.72C760.84,-149 564.94,-124.77 429.7,-108.04\"/>\n",
       "<polygon fill=\"black\" stroke=\"black\" points=\"430.3,-104.59 419.95,-106.84 429.44,-111.54 430.3,-104.59\"/>\n",
       "</g>\n",
       "<!-- y_12cc51ee4250f1b82f9bc22e047ad944 -->\n",
       "<g id=\"node4\" class=\"node\">\n",
       "<title>y_12cc51ee4250f1b82f9bc22e047ad944</title>\n",
       "<ellipse fill=\"none\" stroke=\"black\" cx=\"893.9\" cy=\"-90\" rx=\"291.9\" ry=\"18\"/>\n",
       "<text text-anchor=\"middle\" x=\"893.9\" y=\"-84.95\" font-family=\"Times,serif\" font-size=\"14.00\">y=&lt;pyiron_base.project.delayed.DelayedObject object at 0x7f6346efa000&gt;</text>\n",
       "</g>\n",
       "<!-- x_1d847da32ecaabf6731c38f798c3d4ce&#45;&gt;y_12cc51ee4250f1b82f9bc22e047ad944 -->\n",
       "<g id=\"edge3\" class=\"edge\">\n",
       "<title>x_1d847da32ecaabf6731c38f798c3d4ce-&gt;y_12cc51ee4250f1b82f9bc22e047ad944</title>\n",
       "<path fill=\"none\" stroke=\"black\" d=\"M866.25,-144.76C870.31,-136.87 875.3,-127.16 879.92,-118.18\"/>\n",
       "<polygon fill=\"black\" stroke=\"black\" points=\"882.94,-119.96 884.4,-109.47 876.72,-116.76 882.94,-119.96\"/>\n",
       "</g>\n",
       "<!-- z_91b561a78a57aad1d943f498a3c737ed -->\n",
       "<g id=\"node5\" class=\"node\">\n",
       "<title>z_91b561a78a57aad1d943f498a3c737ed</title>\n",
       "<ellipse fill=\"none\" stroke=\"black\" cx=\"1494.9\" cy=\"-90\" rx=\"290.88\" ry=\"18\"/>\n",
       "<text text-anchor=\"middle\" x=\"1494.9\" y=\"-84.95\" font-family=\"Times,serif\" font-size=\"14.00\">z=&lt;pyiron_base.project.delayed.DelayedObject object at 0x7f6346ef9ee0&gt;</text>\n",
       "</g>\n",
       "<!-- x_1d847da32ecaabf6731c38f798c3d4ce&#45;&gt;z_91b561a78a57aad1d943f498a3c737ed -->\n",
       "<g id=\"edge4\" class=\"edge\">\n",
       "<title>x_1d847da32ecaabf6731c38f798c3d4ce-&gt;z_91b561a78a57aad1d943f498a3c737ed</title>\n",
       "<path fill=\"none\" stroke=\"black\" d=\"M878.36,-149.82C883.32,-147.54 888.7,-145.41 893.9,-144 932.28,-133.6 1136.6,-116.89 1296.49,-105.01\"/>\n",
       "<polygon fill=\"black\" stroke=\"black\" points=\"1296.7,-108.51 1306.41,-104.28 1296.18,-101.53 1296.7,-108.51\"/>\n",
       "</g>\n",
       "<!-- y_12cc51ee4250f1b82f9bc22e047ad944&#45;&gt;create_function_job_64c8e93072cd8858b5acc14f0b6a1345 -->\n",
       "<g id=\"edge8\" class=\"edge\">\n",
       "<title>y_12cc51ee4250f1b82f9bc22e047ad944-&gt;create_function_job_64c8e93072cd8858b5acc14f0b6a1345</title>\n",
       "<path fill=\"none\" stroke=\"black\" d=\"M893.9,-71.7C893.9,-64.41 893.9,-55.73 893.9,-47.54\"/>\n",
       "<polygon fill=\"black\" stroke=\"black\" points=\"897.4,-47.62 893.9,-37.62 890.4,-47.62 897.4,-47.62\"/>\n",
       "</g>\n",
       "<!-- z_91b561a78a57aad1d943f498a3c737ed&#45;&gt;create_function_job_64c8e93072cd8858b5acc14f0b6a1345 -->\n",
       "<g id=\"edge9\" class=\"edge\">\n",
       "<title>z_91b561a78a57aad1d943f498a3c737ed-&gt;create_function_job_64c8e93072cd8858b5acc14f0b6a1345</title>\n",
       "<path fill=\"none\" stroke=\"black\" d=\"M1362.27,-73.55C1267.9,-62.56 1141.02,-47.78 1043.12,-36.38\"/>\n",
       "<polygon fill=\"black\" stroke=\"black\" points=\"1043.78,-32.93 1033.44,-35.25 1042.97,-39.89 1043.78,-32.93\"/>\n",
       "</g>\n",
       "<!-- y_a9ec4f5f33f0d64e74ed5d9900bceac6 -->\n",
       "<g id=\"node6\" class=\"node\">\n",
       "<title>y_a9ec4f5f33f0d64e74ed5d9900bceac6</title>\n",
       "<ellipse fill=\"none\" stroke=\"black\" cx=\"929.9\" cy=\"-162\" rx=\"27\" ry=\"18\"/>\n",
       "<text text-anchor=\"middle\" x=\"929.9\" y=\"-156.95\" font-family=\"Times,serif\" font-size=\"14.00\">y=2</text>\n",
       "</g>\n",
       "<!-- y_a9ec4f5f33f0d64e74ed5d9900bceac6&#45;&gt;x_66de6656099aebbaa5cdc840b1bf9733 -->\n",
       "<g id=\"edge5\" class=\"edge\">\n",
       "<title>y_a9ec4f5f33f0d64e74ed5d9900bceac6-&gt;x_66de6656099aebbaa5cdc840b1bf9733</title>\n",
       "<path fill=\"none\" stroke=\"black\" d=\"M909.44,-149.82C904.48,-147.54 899.1,-145.41 893.9,-144 855.46,-133.59 650.8,-116.88 490.64,-105.01\"/>\n",
       "<polygon fill=\"black\" stroke=\"black\" points=\"490.93,-101.52 480.7,-104.27 490.41,-108.5 490.93,-101.52\"/>\n",
       "</g>\n",
       "<!-- y_a9ec4f5f33f0d64e74ed5d9900bceac6&#45;&gt;y_12cc51ee4250f1b82f9bc22e047ad944 -->\n",
       "<g id=\"edge6\" class=\"edge\">\n",
       "<title>y_a9ec4f5f33f0d64e74ed5d9900bceac6-&gt;y_12cc51ee4250f1b82f9bc22e047ad944</title>\n",
       "<path fill=\"none\" stroke=\"black\" d=\"M921.55,-144.76C917.49,-136.87 912.5,-127.16 907.88,-118.18\"/>\n",
       "<polygon fill=\"black\" stroke=\"black\" points=\"911.09,-116.76 903.4,-109.47 904.86,-119.96 911.09,-116.76\"/>\n",
       "</g>\n",
       "<!-- y_a9ec4f5f33f0d64e74ed5d9900bceac6&#45;&gt;z_91b561a78a57aad1d943f498a3c737ed -->\n",
       "<g id=\"edge7\" class=\"edge\">\n",
       "<title>y_a9ec4f5f33f0d64e74ed5d9900bceac6-&gt;z_91b561a78a57aad1d943f498a3c737ed</title>\n",
       "<path fill=\"none\" stroke=\"black\" d=\"M956.39,-157.72C1026.79,-149 1222.35,-124.77 1357.34,-108.04\"/>\n",
       "<polygon fill=\"black\" stroke=\"black\" points=\"1357.58,-111.54 1367.08,-106.84 1356.72,-104.59 1357.58,-111.54\"/>\n",
       "</g>\n",
       "</g>\n",
       "</svg>"
      ],
      "text/plain": [
       "<IPython.core.display.SVG object>"
      ]
     },
     "metadata": {},
     "output_type": "display_data"
    }
   ],
   "source": [
    "delayed_object = load_workflow_json(project=pr, file_name=\"workflow_nfdi.json\")\n",
    "delayed_object.draw()"
   ]
  },
  {
   "cell_type": "code",
   "execution_count": 17,
   "metadata": {},
   "outputs": [
    {
     "name": "stdout",
     "output_type": "stream",
     "text": [
      "The job add_x_and_y_68901482a2c5221cc845f828aabebd27 was saved and received the ID: 8\n",
      "The job add_x_and_y_and_z_b671e81aaa4670d81d7eee509650af8d was saved and received the ID: 9\n"
     ]
    },
    {
     "data": {
      "text/plain": [
       "6"
      ]
     },
     "execution_count": 17,
     "metadata": {},
     "output_type": "execute_result"
    }
   ],
   "source": [
    "delayed_object.pull()"
   ]
  },
  {
   "cell_type": "code",
   "execution_count": 18,
   "metadata": {},
   "outputs": [
    {
     "data": {
      "text/html": [
       "<div>\n",
       "<style scoped>\n",
       "    .dataframe tbody tr th:only-of-type {\n",
       "        vertical-align: middle;\n",
       "    }\n",
       "\n",
       "    .dataframe tbody tr th {\n",
       "        vertical-align: top;\n",
       "    }\n",
       "\n",
       "    .dataframe thead th {\n",
       "        text-align: right;\n",
       "    }\n",
       "</style>\n",
       "<table border=\"1\" class=\"dataframe\">\n",
       "  <thead>\n",
       "    <tr style=\"text-align: right;\">\n",
       "      <th></th>\n",
       "      <th>id</th>\n",
       "      <th>status</th>\n",
       "      <th>chemicalformula</th>\n",
       "      <th>job</th>\n",
       "      <th>subjob</th>\n",
       "      <th>projectpath</th>\n",
       "      <th>project</th>\n",
       "      <th>timestart</th>\n",
       "      <th>timestop</th>\n",
       "      <th>totalcputime</th>\n",
       "      <th>computer</th>\n",
       "      <th>hamilton</th>\n",
       "      <th>hamversion</th>\n",
       "      <th>parentid</th>\n",
       "      <th>masterid</th>\n",
       "    </tr>\n",
       "  </thead>\n",
       "  <tbody>\n",
       "    <tr>\n",
       "      <th>0</th>\n",
       "      <td>8</td>\n",
       "      <td>finished</td>\n",
       "      <td>None</td>\n",
       "      <td>add_x_and_y_68901482a2c5221cc845f828aabebd27</td>\n",
       "      <td>/add_x_and_y_68901482a2c5221cc845f828aabebd27</td>\n",
       "      <td>None</td>\n",
       "      <td>/home/jan/notebooks/2025/2025-03-22-compare-workflows/test/</td>\n",
       "      <td>2025-03-24 12:17:37.412001</td>\n",
       "      <td>None</td>\n",
       "      <td>None</td>\n",
       "      <td>pyiron@p200300e77f488c66bae2561c878c14a2.dip0.t-ipconnect.de#1</td>\n",
       "      <td>PythonFunctionContainerJob</td>\n",
       "      <td>0.4</td>\n",
       "      <td>None</td>\n",
       "      <td>None</td>\n",
       "    </tr>\n",
       "    <tr>\n",
       "      <th>1</th>\n",
       "      <td>9</td>\n",
       "      <td>finished</td>\n",
       "      <td>None</td>\n",
       "      <td>add_x_and_y_and_z_b671e81aaa4670d81d7eee509650af8d</td>\n",
       "      <td>/add_x_and_y_and_z_b671e81aaa4670d81d7eee509650af8d</td>\n",
       "      <td>None</td>\n",
       "      <td>/home/jan/notebooks/2025/2025-03-22-compare-workflows/test/</td>\n",
       "      <td>2025-03-24 12:17:39.161717</td>\n",
       "      <td>None</td>\n",
       "      <td>None</td>\n",
       "      <td>pyiron@p200300e77f488c66bae2561c878c14a2.dip0.t-ipconnect.de#1</td>\n",
       "      <td>PythonFunctionContainerJob</td>\n",
       "      <td>0.4</td>\n",
       "      <td>None</td>\n",
       "      <td>None</td>\n",
       "    </tr>\n",
       "  </tbody>\n",
       "</table>\n",
       "</div>"
      ],
      "text/plain": [
       "   id    status chemicalformula  \\\n",
       "0   8  finished            None   \n",
       "1   9  finished            None   \n",
       "\n",
       "                                                  job  \\\n",
       "0        add_x_and_y_68901482a2c5221cc845f828aabebd27   \n",
       "1  add_x_and_y_and_z_b671e81aaa4670d81d7eee509650af8d   \n",
       "\n",
       "                                                subjob projectpath  \\\n",
       "0        /add_x_and_y_68901482a2c5221cc845f828aabebd27        None   \n",
       "1  /add_x_and_y_and_z_b671e81aaa4670d81d7eee509650af8d        None   \n",
       "\n",
       "                                                       project  \\\n",
       "0  /home/jan/notebooks/2025/2025-03-22-compare-workflows/test/   \n",
       "1  /home/jan/notebooks/2025/2025-03-22-compare-workflows/test/   \n",
       "\n",
       "                   timestart timestop totalcputime  \\\n",
       "0 2025-03-24 12:17:37.412001     None         None   \n",
       "1 2025-03-24 12:17:39.161717     None         None   \n",
       "\n",
       "                                                         computer  \\\n",
       "0  pyiron@p200300e77f488c66bae2561c878c14a2.dip0.t-ipconnect.de#1   \n",
       "1  pyiron@p200300e77f488c66bae2561c878c14a2.dip0.t-ipconnect.de#1   \n",
       "\n",
       "                     hamilton hamversion parentid masterid  \n",
       "0  PythonFunctionContainerJob        0.4     None     None  \n",
       "1  PythonFunctionContainerJob        0.4     None     None  "
      ]
     },
     "execution_count": 18,
     "metadata": {},
     "output_type": "execute_result"
    }
   ],
   "source": [
    "pr.job_table()"
   ]
  },
  {
   "cell_type": "markdown",
   "metadata": {},
   "source": [
    "## Python"
   ]
  },
  {
   "cell_type": "code",
   "execution_count": 19,
   "metadata": {},
   "outputs": [],
   "source": [
    "from python_workflow_definition.purepython import load_workflow_json"
   ]
  },
  {
   "cell_type": "code",
   "execution_count": 20,
   "metadata": {},
   "outputs": [
    {
     "data": {
      "text/plain": [
       "6"
      ]
     },
     "execution_count": 20,
     "metadata": {},
     "output_type": "execute_result"
    }
   ],
   "source": [
    "load_workflow_json(file_name=\"workflow_nfdi.json\")"
   ]
  }
 ],
 "metadata": {
  "kernelspec": {
   "display_name": "Python 3 (ipykernel)",
   "language": "python",
   "name": "python3"
  },
  "language_info": {
   "codemirror_mode": {
    "name": "ipython",
    "version": 3
   },
   "file_extension": ".py",
   "mimetype": "text/x-python",
   "name": "python",
   "nbconvert_exporter": "python",
   "pygments_lexer": "ipython3",
   "version": "3.12.5"
  }
 },
 "nbformat": 4,
 "nbformat_minor": 4
}
