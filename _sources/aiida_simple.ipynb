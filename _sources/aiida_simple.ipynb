{
 "metadata": {
  "kernelspec": {
   "display_name": "Python 3 (ipykernel)",
   "language": "python",
   "name": "python3"
  },
  "language_info": {
   "codemirror_mode": {
    "name": "ipython",
    "version": 3
   },
   "file_extension": ".py",
   "mimetype": "text/x-python",
   "name": "python",
   "nbconvert_exporter": "python",
   "pygments_lexer": "ipython3",
   "version": "3.12.8"
  }
 },
 "nbformat_minor": 4,
 "nbformat": 4,
 "cells": [
  {
   "cell_type": "markdown",
   "source": "# Aiida",
   "metadata": {}
  },
  {
   "cell_type": "markdown",
   "source": "## Define workflow with aiida",
   "metadata": {}
  },
  {
   "cell_type": "code",
   "source": "from python_workflow_definition.aiida import write_workflow_json\n\nfrom aiida_workgraph import WorkGraph, task\nfrom aiida import orm, load_profile\nload_profile()\n\nworkflow_json_filename =  \"aiida_simple.json\"",
   "metadata": {
    "trusted": false
   },
   "outputs": [],
   "execution_count": 1
  },
  {
   "cell_type": "code",
   "source": [
    "from simple_workflow import (\n",
    "    add_x_and_y as _add_x_and_y,\n",
    "    get_prod_and_div as _get_prod_and_div,\n",
    ")"
   ],
   "metadata": {
    "trusted": false
   },
   "outputs": [],
   "execution_count": 2
  },
  {
   "cell_type": "code",
   "source": "wg = WorkGraph(\"wg-simple\")",
   "metadata": {
    "trusted": false
   },
   "outputs": [],
   "execution_count": 4
  },
  {
   "cell_type": "code",
   "source": [
    "get_prod_and_div_task = wg.add_task(\n",
    "    task(outputs=['prod', 'div'])(_get_prod_and_div),\n",
    "    name=\"get_prod_and_div\",\n",
    "    x=orm.Float(1),\n",
    "    y=orm.Float(2),\n",
    ")"
   ],
   "metadata": {
    "trusted": false
   },
   "outputs": [],
   "execution_count": 5
  },
  {
   "cell_type": "code",
   "source": [
    "add_x_and_y_task = wg.add_task(\n",
    "    _add_x_and_y,\n",
    "    name=\"add_x_and_y\",\n",
    "    x=get_prod_and_div_task.outputs.prod,\n",
    "    y=get_prod_and_div_task.outputs.div,\n",
    ")"
   ],
   "metadata": {
    "trusted": false
   },
   "outputs": [],
   "execution_count": 6
  },
  {
   "cell_type": "code",
   "source": "write_workflow_json(wg=wg, file_name=workflow_json_filename)",
   "metadata": {
    "trusted": false
   },
   "outputs": [
    {
     "data": {
      "text/plain": "{'nodes': {'0': 'simple_workflow.add_x_and_y',\n  '1': 'simple_workflow.add_x_and_y_and_z',\n  '2': 1,\n  '3': 2},\n 'edges': [{'tn': 1, 'th': 'x', 'sn': 0, 'sh': 'x'},\n  {'tn': 1, 'th': 'y', 'sn': 0, 'sh': 'y'},\n  {'tn': 1, 'th': 'z', 'sn': 0, 'sh': 'z'},\n  {'tn': 0, 'th': 'x', 'sn': 2, 'sh': None},\n  {'tn': 0, 'th': 'y', 'sn': 3, 'sh': None}]}"
     },
     "execution_count": 7,
     "metadata": {},
     "output_type": "execute_result"
    }
   ],
   "execution_count": 7
  },
  {
   "cell_type": "code",
   "source": "!cat {workflow_json_filename}",
   "metadata": {
    "trusted": false
   },
   "outputs": [
    {
     "name": "stdout",
     "output_type": "stream",
     "text": "{\n  \"nodes\": {\n    \"0\": \"simple_workflow.add_x_and_y\",\n    \"1\": \"simple_workflow.add_x_and_y_and_z\",\n    \"2\": 1,\n    \"3\": 2\n  },\n  \"edges\": [\n    {\n      \"tn\": 1,\n      \"th\": \"x\",\n      \"sn\": 0,\n      \"sh\": \"x\"\n    },\n    {\n      \"tn\": 1,\n      \"th\": \"y\",\n      \"sn\": 0,\n      \"sh\": \"y\"\n    },\n    {\n      \"tn\": 1,\n      \"th\": \"z\",\n      \"sn\": 0,\n      \"sh\": \"z\"\n    },\n    {\n      \"tn\": 0,\n      \"th\": \"x\",\n      \"sn\": 2,\n      \"sh\": null\n    },\n    {\n      \"tn\": 0,\n      \"th\": \"y\",\n      \"sn\": 3,\n      \"sh\": null\n    }\n  ]\n}"
    }
   ],
   "execution_count": 8
  },
  {
   "cell_type": "markdown",
   "source": "## Load Workflow with jobflow",
   "metadata": {}
  },
  {
   "cell_type": "code",
   "source": "from python_workflow_definition.jobflow import load_workflow_json",
   "metadata": {
    "trusted": false
   },
   "outputs": [
    {
     "name": "stderr",
     "output_type": "stream",
     "text": "/srv/conda/envs/notebook/lib/python3.12/site-packages/paramiko/pkey.py:82: CryptographyDeprecationWarning: TripleDES has been moved to cryptography.hazmat.decrepit.ciphers.algorithms.TripleDES and will be removed from cryptography.hazmat.primitives.ciphers.algorithms in 48.0.0.\n  \"cipher\": algorithms.TripleDES,\n/srv/conda/envs/notebook/lib/python3.12/site-packages/paramiko/transport.py:253: CryptographyDeprecationWarning: TripleDES has been moved to cryptography.hazmat.decrepit.ciphers.algorithms.TripleDES and will be removed from cryptography.hazmat.primitives.ciphers.algorithms in 48.0.0.\n  \"class\": algorithms.TripleDES,\n"
    }
   ],
   "execution_count": 9
  },
  {
   "cell_type": "code",
   "source": "from jobflow.managers.local import run_locally",
   "metadata": {
    "trusted": false
   },
   "outputs": [],
   "execution_count": 10
  },
  {
   "cell_type": "code",
   "source": "flow = load_workflow_json(file_name=workflow_json_filename)",
   "metadata": {
    "trusted": false
   },
   "outputs": [],
   "execution_count": 11
  },
  {
   "cell_type": "code",
   "source": "result = run_locally(flow)\nresult",
   "metadata": {
    "trusted": false
   },
   "outputs": [
    {
     "name": "stdout",
     "output_type": "stream",
     "text": "2025-04-02 14:36:37,425 INFO Started executing jobs locally\n2025-04-02 14:36:37,751 INFO Starting job - add_x_and_y (4bcb90c8-2c19-4981-a88e-56d5d24b5df9)\n2025-04-02 14:36:37,754 INFO Finished job - add_x_and_y (4bcb90c8-2c19-4981-a88e-56d5d24b5df9)\n2025-04-02 14:36:37,755 INFO Starting job - add_x_and_y_and_z (88bc90e5-09a0-443d-b24e-673cc6bc0819)\n2025-04-02 14:36:37,756 INFO Finished job - add_x_and_y_and_z (88bc90e5-09a0-443d-b24e-673cc6bc0819)\n2025-04-02 14:36:37,756 INFO Finished executing jobs locally\n"
    },
    {
     "data": {
      "text/plain": "{'4bcb90c8-2c19-4981-a88e-56d5d24b5df9': {1: Response(output={'x': 1, 'y': 2, 'z': 3}, detour=None, addition=None, replace=None, stored_data=None, stop_children=False, stop_jobflow=False, job_dir=PosixPath('/home/jovyan'))},\n '88bc90e5-09a0-443d-b24e-673cc6bc0819': {1: Response(output=6, detour=None, addition=None, replace=None, stored_data=None, stop_children=False, stop_jobflow=False, job_dir=PosixPath('/home/jovyan'))}}"
     },
     "execution_count": 12,
     "metadata": {},
     "output_type": "execute_result"
    }
   ],
   "execution_count": 12
  },
  {
   "cell_type": "markdown",
   "source": "## Load Workflow with pyiron_base",
   "metadata": {}
  },
  {
   "cell_type": "code",
   "source": "from pyiron_base import Project",
   "metadata": {
    "trusted": false
   },
   "outputs": [],
   "execution_count": 13
  },
  {
   "cell_type": "code",
   "source": "from python_workflow_definition.pyiron_base import load_workflow_json",
   "metadata": {
    "trusted": false
   },
   "outputs": [],
   "execution_count": 14
  },
  {
   "cell_type": "code",
   "source": "pr = Project(\"test\")\npr.remove_jobs(recursive=True, silently=True)",
   "metadata": {
    "trusted": false
   },
   "outputs": [
    {
     "data": {
      "application/vnd.jupyter.widget-view+json": {
       "model_id": "278f490ab20c4eaf9d39a75a7ee5231d",
       "version_major": 2,
       "version_minor": 0
      },
      "text/plain": "0it [00:00, ?it/s]"
     },
     "metadata": {},
     "output_type": "display_data"
    }
   ],
   "execution_count": 15
  },
  {
   "cell_type": "code",
   "source": "delayed_object = load_workflow_json(project=pr, file_name=workflow_json_filename)\ndelayed_object.draw()",
   "metadata": {
    "trusted": false
   },
   "outputs": [
    {
     "data": {
      "image/svg+xml": "<svg xmlns=\"http://www.w3.org/2000/svg\" xmlns:xlink=\"http://www.w3.org/1999/xlink\" width=\"2385pt\" height=\"188pt\" viewBox=\"0.00 0.00 2384.99 188.00\">\n<g id=\"graph0\" class=\"graph\" transform=\"scale(1 1) rotate(0) translate(4 184)\">\n<polygon fill=\"white\" stroke=\"none\" points=\"-4,4 -4,-184 2380.99,-184 2380.99,4 -4,4\"/>\n<!-- create_function_job_988efa8422518ba29903b66c63607fb8 -->\n<g id=\"node1\" class=\"node\">\n<title>create_function_job_988efa8422518ba29903b66c63607fb8</title>\n<ellipse fill=\"none\" stroke=\"black\" cx=\"1190.55\" cy=\"-18\" rx=\"483.14\" ry=\"18\"/>\n<text text-anchor=\"middle\" x=\"1190.55\" y=\"-13.32\" font-family=\"Times,serif\" font-size=\"14.00\">create_function_job=&lt;pyiron_base.project.delayed.DelayedObject object at 0x71606f71f740&gt;</text>\n</g>\n<!-- x_b8003ea81f8e4a9bdbfd3b4eb1e68e2b -->\n<g id=\"node2\" class=\"node\">\n<title>x_b8003ea81f8e4a9bdbfd3b4eb1e68e2b</title>\n<ellipse fill=\"none\" stroke=\"black\" cx=\"390.55\" cy=\"-90\" rx=\"390.55\" ry=\"18\"/>\n<text text-anchor=\"middle\" x=\"390.55\" y=\"-85.33\" font-family=\"Times,serif\" font-size=\"14.00\">x=&lt;pyiron_base.project.delayed.DelayedObject object at 0x71606f6efa70&gt;</text>\n</g>\n<!-- x_b8003ea81f8e4a9bdbfd3b4eb1e68e2b&#45;&gt;create_function_job_988efa8422518ba29903b66c63607fb8 -->\n<g id=\"edge1\" class=\"edge\">\n<title>x_b8003ea81f8e4a9bdbfd3b4eb1e68e2b-&gt;create_function_job_988efa8422518ba29903b66c63607fb8</title>\n<path fill=\"none\" stroke=\"black\" d=\"M567.6,-73.51C694.27,-62.42 864.76,-47.51 995.37,-36.08\"/>\n<polygon fill=\"black\" stroke=\"black\" points=\"995.52,-39.58 1005.17,-35.22 994.91,-32.61 995.52,-39.58\"/>\n</g>\n<!-- x_1d847da32ecaabf6731c38f798c3d4ce -->\n<g id=\"node3\" class=\"node\">\n<title>x_1d847da32ecaabf6731c38f798c3d4ce</title>\n<ellipse fill=\"none\" stroke=\"black\" cx=\"1149.55\" cy=\"-162\" rx=\"31.74\" ry=\"18\"/>\n<text text-anchor=\"middle\" x=\"1149.55\" y=\"-157.32\" font-family=\"Times,serif\" font-size=\"14.00\">x=1</text>\n</g>\n<!-- x_1d847da32ecaabf6731c38f798c3d4ce&#45;&gt;x_b8003ea81f8e4a9bdbfd3b4eb1e68e2b -->\n<g id=\"edge2\" class=\"edge\">\n<title>x_1d847da32ecaabf6731c38f798c3d4ce-&gt;x_b8003ea81f8e4a9bdbfd3b4eb1e68e2b</title>\n<path fill=\"none\" stroke=\"black\" d=\"M1118.38,-158.13C1027.26,-149.72 756.14,-124.72 571.8,-107.72\"/>\n<polygon fill=\"black\" stroke=\"black\" points=\"572.12,-104.23 561.84,-106.8 571.48,-111.2 572.12,-104.23\"/>\n</g>\n<!-- y_f60ae41b1c92823db71999ac596241ab -->\n<g id=\"node4\" class=\"node\">\n<title>y_f60ae41b1c92823db71999ac596241ab</title>\n<ellipse fill=\"none\" stroke=\"black\" cx=\"1190.55\" cy=\"-90\" rx=\"391.08\" ry=\"18\"/>\n<text text-anchor=\"middle\" x=\"1190.55\" y=\"-85.33\" font-family=\"Times,serif\" font-size=\"14.00\">y=&lt;pyiron_base.project.delayed.DelayedObject object at 0x71606f71f6e0&gt;</text>\n</g>\n<!-- x_1d847da32ecaabf6731c38f798c3d4ce&#45;&gt;y_f60ae41b1c92823db71999ac596241ab -->\n<g id=\"edge3\" class=\"edge\">\n<title>x_1d847da32ecaabf6731c38f798c3d4ce-&gt;y_f60ae41b1c92823db71999ac596241ab</title>\n<path fill=\"none\" stroke=\"black\" d=\"M1159.27,-144.41C1163.83,-136.62 1169.38,-127.14 1174.54,-118.33\"/>\n<polygon fill=\"black\" stroke=\"black\" points=\"1177.53,-120.15 1179.57,-109.75 1171.49,-116.61 1177.53,-120.15\"/>\n</g>\n<!-- z_a926da40ec18154feb3f3bb147af8220 -->\n<g id=\"node5\" class=\"node\">\n<title>z_a926da40ec18154feb3f3bb147af8220</title>\n<ellipse fill=\"none\" stroke=\"black\" cx=\"1988.55\" cy=\"-90\" rx=\"388.44\" ry=\"18\"/>\n<text text-anchor=\"middle\" x=\"1988.55\" y=\"-85.33\" font-family=\"Times,serif\" font-size=\"14.00\">z=&lt;pyiron_base.project.delayed.DelayedObject object at 0x71606f71f2f0&gt;</text>\n</g>\n<!-- x_1d847da32ecaabf6731c38f798c3d4ce&#45;&gt;z_a926da40ec18154feb3f3bb147af8220 -->\n<g id=\"edge4\" class=\"edge\">\n<title>x_1d847da32ecaabf6731c38f798c3d4ce-&gt;z_a926da40ec18154feb3f3bb147af8220</title>\n<path fill=\"none\" stroke=\"black\" d=\"M1172.79,-149.58C1178.18,-147.37 1183.97,-145.33 1189.55,-144 1240.41,-131.87 1507.4,-115.7 1718.94,-104.42\"/>\n<polygon fill=\"black\" stroke=\"black\" points=\"1718.93,-107.92 1728.73,-103.9 1718.56,-100.93 1718.93,-107.92\"/>\n</g>\n<!-- y_f60ae41b1c92823db71999ac596241ab&#45;&gt;create_function_job_988efa8422518ba29903b66c63607fb8 -->\n<g id=\"edge8\" class=\"edge\">\n<title>y_f60ae41b1c92823db71999ac596241ab-&gt;create_function_job_988efa8422518ba29903b66c63607fb8</title>\n<path fill=\"none\" stroke=\"black\" d=\"M1190.55,-71.7C1190.55,-64.41 1190.55,-55.73 1190.55,-47.54\"/>\n<polygon fill=\"black\" stroke=\"black\" points=\"1194.05,-47.62 1190.55,-37.62 1187.05,-47.62 1194.05,-47.62\"/>\n</g>\n<!-- z_a926da40ec18154feb3f3bb147af8220&#45;&gt;create_function_job_988efa8422518ba29903b66c63607fb8 -->\n<g id=\"edge9\" class=\"edge\">\n<title>z_a926da40ec18154feb3f3bb147af8220-&gt;create_function_job_988efa8422518ba29903b66c63607fb8</title>\n<path fill=\"none\" stroke=\"black\" d=\"M1812.44,-73.55C1686.11,-62.47 1515.89,-47.54 1385.48,-36.1\"/>\n<polygon fill=\"black\" stroke=\"black\" points=\"1385.95,-32.63 1375.69,-35.24 1385.34,-39.6 1385.95,-32.63\"/>\n</g>\n<!-- y_a9ec4f5f33f0d64e74ed5d9900bceac6 -->\n<g id=\"node6\" class=\"node\">\n<title>y_a9ec4f5f33f0d64e74ed5d9900bceac6</title>\n<ellipse fill=\"none\" stroke=\"black\" cx=\"1230.55\" cy=\"-162\" rx=\"31.74\" ry=\"18\"/>\n<text text-anchor=\"middle\" x=\"1230.55\" y=\"-157.32\" font-family=\"Times,serif\" font-size=\"14.00\">y=2</text>\n</g>\n<!-- y_a9ec4f5f33f0d64e74ed5d9900bceac6&#45;&gt;x_b8003ea81f8e4a9bdbfd3b4eb1e68e2b -->\n<g id=\"edge5\" class=\"edge\">\n<title>y_a9ec4f5f33f0d64e74ed5d9900bceac6-&gt;x_b8003ea81f8e4a9bdbfd3b4eb1e68e2b</title>\n<path fill=\"none\" stroke=\"black\" d=\"M1207.31,-149.58C1201.92,-147.37 1196.13,-145.33 1190.55,-144 1139.67,-131.87 872.74,-115.71 661.01,-104.44\"/>\n<polygon fill=\"black\" stroke=\"black\" points=\"661.38,-100.95 651.21,-103.92 661.01,-107.94 661.38,-100.95\"/>\n</g>\n<!-- y_a9ec4f5f33f0d64e74ed5d9900bceac6&#45;&gt;y_f60ae41b1c92823db71999ac596241ab -->\n<g id=\"edge6\" class=\"edge\">\n<title>y_a9ec4f5f33f0d64e74ed5d9900bceac6-&gt;y_f60ae41b1c92823db71999ac596241ab</title>\n<path fill=\"none\" stroke=\"black\" d=\"M1221.07,-144.41C1216.62,-136.62 1211.2,-127.14 1206.17,-118.33\"/>\n<polygon fill=\"black\" stroke=\"black\" points=\"1209.27,-116.71 1201.27,-109.76 1203.19,-120.18 1209.27,-116.71\"/>\n</g>\n<!-- y_a9ec4f5f33f0d64e74ed5d9900bceac6&#45;&gt;z_a926da40ec18154feb3f3bb147af8220 -->\n<g id=\"edge7\" class=\"edge\">\n<title>y_a9ec4f5f33f0d64e74ed5d9900bceac6-&gt;z_a926da40ec18154feb3f3bb147af8220</title>\n<path fill=\"none\" stroke=\"black\" d=\"M1261.68,-158.13C1352.75,-149.72 1623.84,-124.68 1807.95,-107.68\"/>\n<polygon fill=\"black\" stroke=\"black\" points=\"1808.26,-111.16 1817.89,-106.76 1807.61,-104.19 1808.26,-111.16\"/>\n</g>\n</g>\n</svg>",
      "text/plain": "<IPython.core.display.SVG object>"
     },
     "metadata": {},
     "output_type": "display_data"
    }
   ],
   "execution_count": 16
  },
  {
   "cell_type": "code",
   "source": "delayed_object.pull()",
   "metadata": {
    "trusted": false
   },
   "outputs": [
    {
     "name": "stdout",
     "output_type": "stream",
     "text": "The job add_x_and_y_68901482a2c5221cc845f828aabebd27 was saved and received the ID: 1\nThe job add_x_and_y_and_z_b671e81aaa4670d81d7eee509650af8d was saved and received the ID: 2\n"
    },
    {
     "data": {
      "text/plain": "6"
     },
     "execution_count": 17,
     "metadata": {},
     "output_type": "execute_result"
    }
   ],
   "execution_count": 17
  }
 ]
}
