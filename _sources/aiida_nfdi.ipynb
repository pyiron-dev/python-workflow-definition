{
 "metadata": {
  "kernelspec": {
   "display_name": "Python 3 (ipykernel)",
   "language": "python",
   "name": "python3"
  },
  "language_info": {
   "name": "python",
   "version": "3.12.8",
   "mimetype": "text/x-python",
   "codemirror_mode": {
    "name": "ipython",
    "version": 3
   },
   "pygments_lexer": "ipython3",
   "nbconvert_exporter": "python",
   "file_extension": ".py"
  }
 },
 "nbformat_minor": 5,
 "nbformat": 4,
 "cells": [
  {
   "id": "106ded66-d202-46ac-82b0-2755ca309bdd",
   "cell_type": "markdown",
   "source": "# Aiida\n\nhttps://github.com/BAMresearch/NFDI4IngScientificWorkflowRequirements",
   "metadata": {}
  },
  {
   "id": "11e09b78-cb72-465f-9c8b-5b77f0aa729c",
   "cell_type": "markdown",
   "source": "## Define workflow with aiida",
   "metadata": {}
  },
  {
   "id": "89c02460-b543-442c-a27e-f1757dc2262e",
   "cell_type": "code",
   "source": "from python_workflow_definition.aiida import write_workflow_json\n\nfrom aiida_workgraph import WorkGraph, task\nfrom aiida import orm, load_profile\nload_profile()",
   "metadata": {
    "trusted": true
   },
   "outputs": [
    {
     "execution_count": 1,
     "output_type": "execute_result",
     "data": {
      "text/plain": "Profile<uuid='9da6a68ed2b14ffb920b92aa0a616339' name='pwd'>"
     },
     "metadata": {}
    }
   ],
   "execution_count": 1
  },
  {
   "id": "a76e6c0a-98f2-4436-af10-8097da183341",
   "cell_type": "code",
   "source": "from nfdi_ing_workflow import (\n    generate_mesh,\n    convert_to_xdmf as _convert_to_xdmf,\n    poisson as _poisson,\n    plot_over_line,\n    substitute_macros,\n    compile_paper,\n)",
   "metadata": {
    "trusted": true
   },
   "outputs": [],
   "execution_count": 2
  },
  {
   "id": "549ecf27-88ef-4e77-8bd4-b616cfdda2e4",
   "cell_type": "code",
   "source": "convert_to_xdmf = task(outputs=[\"xdmf_file\", \"h5_file\"])(_convert_to_xdmf)\npoisson = task(outputs=[\"numdofs\", \"pvd_file\", \"vtu_file\"])(_poisson)",
   "metadata": {
    "trusted": true
   },
   "outputs": [],
   "execution_count": 3
  },
  {
   "id": "8d911f98-3b80-457f-a0f4-3cb37ebf1691",
   "cell_type": "code",
   "source": "domain_size = orm.Float(2.0)",
   "metadata": {
    "trusted": true
   },
   "outputs": [],
   "execution_count": 4
  },
  {
   "id": "1e7e14ba-c4a7-485f-9bd8-44625830cca0",
   "cell_type": "code",
   "source": "wg = WorkGraph(\"wg-nfdi\")",
   "metadata": {
    "trusted": true
   },
   "outputs": [],
   "execution_count": 5
  },
  {
   "id": "71d411b6-cbec-489e-99e3-ba71680bcb5b",
   "cell_type": "code",
   "source": "gmsh_output_file = wg.add_task(\n    generate_mesh,\n    name=\"generate_mesh\",\n    domain_size=domain_size,\n)",
   "metadata": {
    "tags": [],
    "trusted": true
   },
   "outputs": [],
   "execution_count": 6
  },
  {
   "id": "1d0d9804-f250-48b3-a5d0-a546d520f79b",
   "cell_type": "code",
   "source": "meshio_output_dict = wg.add_task(\n    convert_to_xdmf,\n    name=\"convert_to_xdmf\",\n    gmsh_output_file=gmsh_output_file.outputs.result,\n)",
   "metadata": {
    "tags": [],
    "trusted": true
   },
   "outputs": [],
   "execution_count": 7
  },
  {
   "id": "7b69bcff-e2b1-4d4a-b62c-6a1c86eeb590",
   "cell_type": "code",
   "source": "poisson_dict = wg.add_task(\n    poisson,\n    name=\"poisson\",\n    meshio_output_xdmf=meshio_output_dict.outputs.xdmf_file, \n    meshio_output_h5=meshio_output_dict.outputs.h5_file,\n)",
   "metadata": {
    "tags": [],
    "trusted": true
   },
   "outputs": [],
   "execution_count": 8
  },
  {
   "id": "3c4a29b0-eb1e-490a-8be0-e03cfff15e0a",
   "cell_type": "code",
   "source": "pvbatch_output_file = wg.add_task(\n    plot_over_line,\n    name=\"plot_over_line\",\n    poisson_output_pvd_file=poisson_dict.outputs.pvd_file, \n    poisson_output_vtu_file=poisson_dict.outputs.vtu_file,\n)",
   "metadata": {
    "tags": [],
    "trusted": true
   },
   "outputs": [],
   "execution_count": 9
  },
  {
   "id": "a0a4c233-322d-4723-9627-62ca2487bfa9",
   "cell_type": "code",
   "source": "macros_tex_file = wg.add_task(\n    substitute_macros,\n    name=\"substitute_macros\",\n    pvbatch_output_file=pvbatch_output_file.outputs.result, \n    ndofs=poisson_dict.outputs.numdofs, \n    domain_size=domain_size,\n)",
   "metadata": {
    "tags": [],
    "trusted": true
   },
   "outputs": [],
   "execution_count": 10
  },
  {
   "id": "c281408f-e63d-4380-a7e6-c595d49fbb8f",
   "cell_type": "code",
   "source": "paper_output = wg.add_task(\n    compile_paper,\n    name=\"compile_paper\",\n    macros_tex=macros_tex_file.outputs.result, \n    plot_file=pvbatch_output_file.outputs.result,\n)",
   "metadata": {
    "trusted": true
   },
   "outputs": [],
   "execution_count": 11
  },
  {
   "id": "a384d70a-8ef5-4fdd-880c-56ac7eaf87b9",
   "cell_type": "code",
   "source": "wg",
   "metadata": {
    "trusted": true
   },
   "outputs": [
    {
     "execution_count": 12,
     "output_type": "execute_result",
     "data": {
      "text/plain": "NodeGraphWidget(settings={'minimap': True}, style={'width': '90%', 'height': '600px'}, value={'name': 'wg-nfdi…",
      "application/vnd.jupyter.widget-view+json": {
       "version_major": 2,
       "version_minor": 1,
       "model_id": "cd788d15752445cea12b48f05d6f7ed9"
      }
     },
     "metadata": {}
    }
   ],
   "execution_count": 12
  },
  {
   "id": "fb23ad9c-76fd-4c0b-b546-e305d6c49796",
   "cell_type": "code",
   "source": "workflow_json_filename = \"aiida_nfdi.json\"",
   "metadata": {
    "trusted": true
   },
   "outputs": [],
   "execution_count": 13
  },
  {
   "id": "4139547a-9717-4708-b1a5-8202a0382d77",
   "cell_type": "code",
   "source": "write_workflow_json(wg=wg, file_name=workflow_json_filename)",
   "metadata": {
    "trusted": true
   },
   "outputs": [
    {
     "execution_count": 14,
     "output_type": "execute_result",
     "data": {
      "text/plain": "{'nodes': [{'id': 0, 'function': 'nfdi_ing_workflow.generate_mesh'},\n  {'id': 1, 'function': 'nfdi_ing_workflow.convert_to_xdmf'},\n  {'id': 2, 'function': 'nfdi_ing_workflow.poisson'},\n  {'id': 3, 'function': 'nfdi_ing_workflow.plot_over_line'},\n  {'id': 4, 'function': 'nfdi_ing_workflow.substitute_macros'},\n  {'id': 5, 'function': 'nfdi_ing_workflow.compile_paper'},\n  {'id': 6, 'value': 2.0}],\n 'edges': [{'target': 1,\n   'targetPort': 'gmsh_output_file',\n   'source': 0,\n   'sourcePort': None},\n  {'target': 2,\n   'targetPort': 'meshio_output_xdmf',\n   'source': 1,\n   'sourcePort': 'xdmf_file'},\n  {'target': 2,\n   'targetPort': 'meshio_output_h5',\n   'source': 1,\n   'sourcePort': 'h5_file'},\n  {'target': 3,\n   'targetPort': 'poisson_output_pvd_file',\n   'source': 2,\n   'sourcePort': 'pvd_file'},\n  {'target': 3,\n   'targetPort': 'poisson_output_vtu_file',\n   'source': 2,\n   'sourcePort': 'vtu_file'},\n  {'target': 4,\n   'targetPort': 'pvbatch_output_file',\n   'source': 3,\n   'sourcePort': None},\n  {'target': 4, 'targetPort': 'ndofs', 'source': 2, 'sourcePort': 'numdofs'},\n  {'target': 5, 'targetPort': 'macros_tex', 'source': 4, 'sourcePort': None},\n  {'target': 5, 'targetPort': 'plot_file', 'source': 3, 'sourcePort': None},\n  {'target': 0, 'targetPort': 'domain_size', 'source': 6, 'sourcePort': None},\n  {'target': 4, 'targetPort': 'domain_size', 'source': 6, 'sourcePort': None}]}"
     },
     "metadata": {}
    }
   ],
   "execution_count": 14
  },
  {
   "id": "490df6a3-e402-4620-acf2-dbcfa0c5d537",
   "cell_type": "code",
   "source": "!cat {workflow_json_filename}",
   "metadata": {
    "trusted": true
   },
   "outputs": [
    {
     "name": "stdout",
     "output_type": "stream",
     "text": "{\n  \"nodes\": [\n    {\n      \"id\": 0,\n      \"function\": \"nfdi_ing_workflow.generate_mesh\"\n    },\n    {\n      \"id\": 1,\n      \"function\": \"nfdi_ing_workflow.convert_to_xdmf\"\n    },\n    {\n      \"id\": 2,\n      \"function\": \"nfdi_ing_workflow.poisson\"\n    },\n    {\n      \"id\": 3,\n      \"function\": \"nfdi_ing_workflow.plot_over_line\"\n    },\n    {\n      \"id\": 4,\n      \"function\": \"nfdi_ing_workflow.substitute_macros\"\n    },\n    {\n      \"id\": 5,\n      \"function\": \"nfdi_ing_workflow.compile_paper\"\n    },\n    {\n      \"id\": 6,\n      \"value\": 2.0\n    }\n  ],\n  \"edges\": [\n    {\n      \"target\": 1,\n      \"targetPort\": \"gmsh_output_file\",\n      \"source\": 0,\n      \"sourcePort\": null\n    },\n    {\n      \"target\": 2,\n      \"targetPort\": \"meshio_output_xdmf\",\n      \"source\": 1,\n      \"sourcePort\": \"xdmf_file\"\n    },\n    {\n      \"target\": 2,\n      \"targetPort\": \"meshio_output_h5\",\n      \"source\": 1,\n      \"sourcePort\": \"h5_file\"\n    },\n    {\n      \"target\": 3,\n      \"targetPort\": \"poisson_output_pvd_file\",\n      \"source\": 2,\n      \"sourcePort\": \"pvd_file\"\n    },\n    {\n      \"target\": 3,\n      \"targetPort\": \"poisson_output_vtu_file\",\n      \"source\": 2,\n      \"sourcePort\": \"vtu_file\"\n    },\n    {\n      \"target\": 4,\n      \"targetPort\": \"pvbatch_output_file\",\n      \"source\": 3,\n      \"sourcePort\": null\n    },\n    {\n      \"target\": 4,\n      \"targetPort\": \"ndofs\",\n      \"source\": 2,\n      \"sourcePort\": \"numdofs\"\n    },\n    {\n      \"target\": 5,\n      \"targetPort\": \"macros_tex\",\n      \"source\": 4,\n      \"sourcePort\": null\n    },\n    {\n      \"target\": 5,\n      \"targetPort\": \"plot_file\",\n      \"source\": 3,\n      \"sourcePort\": null\n    },\n    {\n      \"target\": 0,\n      \"targetPort\": \"domain_size\",\n      \"source\": 6,\n      \"sourcePort\": null\n    },\n    {\n      \"target\": 4,\n      \"targetPort\": \"domain_size\",\n      \"source\": 6,\n      \"sourcePort\": null\n    }\n  ]\n}"
    }
   ],
   "execution_count": 15
  },
  {
   "id": "11a829e2-face-469f-b343-2c95763b1f13",
   "cell_type": "markdown",
   "source": "## Load Workflow with jobflow",
   "metadata": {}
  },
  {
   "id": "4f3acabe-55df-479a-af4d-a23a80c4660d",
   "cell_type": "code",
   "source": "from python_workflow_definition.jobflow import load_workflow_json",
   "metadata": {
    "trusted": true
   },
   "outputs": [
    {
     "name": "stderr",
     "output_type": "stream",
     "text": "/srv/conda/envs/notebook/lib/python3.12/site-packages/paramiko/pkey.py:82: CryptographyDeprecationWarning: TripleDES has been moved to cryptography.hazmat.decrepit.ciphers.algorithms.TripleDES and will be removed from cryptography.hazmat.primitives.ciphers.algorithms in 48.0.0.\n  \"cipher\": algorithms.TripleDES,\n/srv/conda/envs/notebook/lib/python3.12/site-packages/paramiko/transport.py:253: CryptographyDeprecationWarning: TripleDES has been moved to cryptography.hazmat.decrepit.ciphers.algorithms.TripleDES and will be removed from cryptography.hazmat.primitives.ciphers.algorithms in 48.0.0.\n  \"class\": algorithms.TripleDES,\n"
    }
   ],
   "execution_count": 16
  },
  {
   "id": "b6ba9444-a2c8-451b-b74c-19b0f69ba369",
   "cell_type": "code",
   "source": "from jobflow.managers.local import run_locally",
   "metadata": {
    "trusted": true
   },
   "outputs": [],
   "execution_count": 17
  },
  {
   "id": "c3528d55-6bf7-47ed-a110-65c47446ba92",
   "cell_type": "code",
   "source": "flow = load_workflow_json(file_name=workflow_json_filename)",
   "metadata": {
    "trusted": true
   },
   "outputs": [],
   "execution_count": 18
  },
  {
   "id": "5ef48778-4209-425f-8c6b-85a4cd2f92ec",
   "cell_type": "code",
   "source": "result = run_locally(flow)\nresult",
   "metadata": {
    "trusted": true
   },
   "outputs": [
    {
     "name": "stdout",
     "output_type": "stream",
     "text": "2025-04-12 11:30:36,604 INFO Started executing jobs locally\n2025-04-12 11:30:37,162 INFO Starting job - generate_mesh (5709b90c-3e6a-43bb-9deb-b11fc240bfe0)\n2025-04-12 11:30:42,424 INFO Finished job - generate_mesh (5709b90c-3e6a-43bb-9deb-b11fc240bfe0)\n2025-04-12 11:30:42,428 INFO Starting job - convert_to_xdmf (b7865f27-520b-4a07-9d84-4e7973137eaa)\n2025-04-12 11:30:45,227 INFO Finished job - convert_to_xdmf (b7865f27-520b-4a07-9d84-4e7973137eaa)\n2025-04-12 11:30:45,228 INFO Starting job - poisson (01ddf0e3-cba6-4781-bc8c-ea7223612cc2)\n2025-04-12 11:31:04,150 INFO Finished job - poisson (01ddf0e3-cba6-4781-bc8c-ea7223612cc2)\n2025-04-12 11:31:04,152 INFO Starting job - plot_over_line (47a7c359-2e25-4321-8f28-63cd70cd0e77)\n2025-04-12 11:31:08,074 INFO Finished job - plot_over_line (47a7c359-2e25-4321-8f28-63cd70cd0e77)\n2025-04-12 11:31:08,076 INFO Starting job - substitute_macros (6c382cd4-9bea-493a-91e1-6bc556e6e91e)\n2025-04-12 11:31:09,846 INFO Finished job - substitute_macros (6c382cd4-9bea-493a-91e1-6bc556e6e91e)\n2025-04-12 11:31:09,848 INFO Starting job - compile_paper (1dfee41f-501c-42f5-b905-ef9557078623)\n2025-04-12 11:32:17,825 INFO Finished job - compile_paper (1dfee41f-501c-42f5-b905-ef9557078623)\n2025-04-12 11:32:17,827 INFO Finished executing jobs locally\n"
    },
    {
     "execution_count": 19,
     "output_type": "execute_result",
     "data": {
      "text/plain": "{'5709b90c-3e6a-43bb-9deb-b11fc240bfe0': {1: Response(output='/home/jovyan/preprocessing/square.msh', detour=None, addition=None, replace=None, stored_data=None, stop_children=False, stop_jobflow=False, job_dir=PosixPath('/home/jovyan'))},\n 'b7865f27-520b-4a07-9d84-4e7973137eaa': {1: Response(output={'xdmf_file': '/home/jovyan/preprocessing/square.xdmf', 'h5_file': '/home/jovyan/preprocessing/square.h5'}, detour=None, addition=None, replace=None, stored_data=None, stop_children=False, stop_jobflow=False, job_dir=PosixPath('/home/jovyan'))},\n '01ddf0e3-cba6-4781-bc8c-ea7223612cc2': {1: Response(output={'numdofs': 357, 'pvd_file': '/home/jovyan/processing/poisson.pvd', 'vtu_file': '/home/jovyan/processing/poisson000000.vtu'}, detour=None, addition=None, replace=None, stored_data=None, stop_children=False, stop_jobflow=False, job_dir=PosixPath('/home/jovyan'))},\n '47a7c359-2e25-4321-8f28-63cd70cd0e77': {1: Response(output='/home/jovyan/postprocessing/plotoverline.csv', detour=None, addition=None, replace=None, stored_data=None, stop_children=False, stop_jobflow=False, job_dir=PosixPath('/home/jovyan'))},\n '6c382cd4-9bea-493a-91e1-6bc556e6e91e': {1: Response(output='/home/jovyan/postprocessing/macros.tex', detour=None, addition=None, replace=None, stored_data=None, stop_children=False, stop_jobflow=False, job_dir=PosixPath('/home/jovyan'))},\n '1dfee41f-501c-42f5-b905-ef9557078623': {1: Response(output='/home/jovyan/postprocessing/paper.pdf', detour=None, addition=None, replace=None, stored_data=None, stop_children=False, stop_jobflow=False, job_dir=PosixPath('/home/jovyan'))}}"
     },
     "metadata": {}
    }
   ],
   "execution_count": 19
  },
  {
   "id": "397b16a2-e1ec-4eec-8562-1c84f585c347",
   "cell_type": "markdown",
   "source": "## Load Workflow with pyiron_base",
   "metadata": {}
  },
  {
   "id": "be4d5d93-e9f6-4072-a6be-0ee5dc93590f",
   "cell_type": "code",
   "source": "from python_workflow_definition.pyiron_base import load_workflow_json",
   "metadata": {
    "trusted": true
   },
   "outputs": [],
   "execution_count": 21
  },
  {
   "id": "4452a648-d4c3-4f5f-8678-ffb54bef17dc",
   "cell_type": "code",
   "source": [
    "delayed_object_lst = load_workflow_json(file_name=workflow_json_filename)\n",
    "delayed_object_lst[-1].draw()"
   ],
   "metadata": {
    "trusted": true
   },
   "outputs": [
    {
     "output_type": "display_data",
     "data": {
      "text/plain": "<IPython.core.display.SVG object>",
      "image/svg+xml": "<svg xmlns=\"http://www.w3.org/2000/svg\" xmlns:xlink=\"http://www.w3.org/1999/xlink\" width=\"2904pt\" height=\"476pt\" viewBox=\"0.00 0.00 2904.33 476.00\">\n<g id=\"graph0\" class=\"graph\" transform=\"scale(1 1) rotate(0) translate(4 472)\">\n<polygon fill=\"white\" stroke=\"none\" points=\"-4,4 -4,-472 2900.33,-472 2900.33,4 -4,4\"/>\n<!-- create_function_job_dae750e8dda36ce20c8f461aa2b9d570 -->\n<g id=\"node1\" class=\"node\">\n<title>create_function_job_dae750e8dda36ce20c8f461aa2b9d570</title>\n<ellipse fill=\"none\" stroke=\"black\" cx=\"1531.14\" cy=\"-18\" rx=\"484.72\" ry=\"18\"/>\n<text text-anchor=\"middle\" x=\"1531.14\" y=\"-13.32\" font-family=\"Times,serif\" font-size=\"14.00\">create_function_job=&lt;pyiron_base.project.delayed.DelayedObject object at 0x7f81c6220d10&gt;</text>\n</g>\n<!-- macros_tex_d7e91609122a5793f44a95d7162f82c5 -->\n<g id=\"node2\" class=\"node\">\n<title>macros_tex_d7e91609122a5793f44a95d7162f82c5</title>\n<ellipse fill=\"none\" stroke=\"black\" cx=\"1993.14\" cy=\"-90\" rx=\"444.21\" ry=\"18\"/>\n<text text-anchor=\"middle\" x=\"1993.14\" y=\"-85.33\" font-family=\"Times,serif\" font-size=\"14.00\">macros_tex=&lt;pyiron_base.project.delayed.DelayedObject object at 0x7f81c6220920&gt;</text>\n</g>\n<!-- macros_tex_d7e91609122a5793f44a95d7162f82c5&#45;&gt;create_function_job_dae750e8dda36ce20c8f461aa2b9d570 -->\n<g id=\"edge1\" class=\"edge\">\n<title>macros_tex_d7e91609122a5793f44a95d7162f82c5-&gt;create_function_job_dae750e8dda36ce20c8f461aa2b9d570</title>\n<path fill=\"none\" stroke=\"black\" d=\"M1881.59,-72.1C1813.03,-61.71 1725.1,-48.39 1654.47,-37.69\"/>\n<polygon fill=\"black\" stroke=\"black\" points=\"1655.19,-34.26 1644.78,-36.22 1654.14,-41.18 1655.19,-34.26\"/>\n</g>\n<!-- pvbatch_output_file_f6679ca13153e695cd36070d492d8182 -->\n<g id=\"node3\" class=\"node\">\n<title>pvbatch_output_file_f6679ca13153e695cd36070d492d8182</title>\n<ellipse fill=\"none\" stroke=\"black\" cx=\"1633.14\" cy=\"-162\" rx=\"482.62\" ry=\"18\"/>\n<text text-anchor=\"middle\" x=\"1633.14\" y=\"-157.32\" font-family=\"Times,serif\" font-size=\"14.00\">pvbatch_output_file=&lt;pyiron_base.project.delayed.DelayedObject object at 0x7f81c61df260&gt;</text>\n</g>\n<!-- pvbatch_output_file_f6679ca13153e695cd36070d492d8182&#45;&gt;macros_tex_d7e91609122a5793f44a95d7162f82c5 -->\n<g id=\"edge2\" class=\"edge\">\n<title>pvbatch_output_file_f6679ca13153e695cd36070d492d8182-&gt;macros_tex_d7e91609122a5793f44a95d7162f82c5</title>\n<path fill=\"none\" stroke=\"black\" d=\"M1721.2,-143.88C1773.49,-133.71 1839.93,-120.79 1894.04,-110.27\"/>\n<polygon fill=\"black\" stroke=\"black\" points=\"1894.41,-113.76 1903.56,-108.42 1893.07,-106.89 1894.41,-113.76\"/>\n</g>\n<!-- poisson_output_pvd_file_41d40612f4bc22f2593e670f29125006 -->\n<g id=\"node4\" class=\"node\">\n<title>poisson_output_pvd_file_41d40612f4bc22f2593e670f29125006</title>\n<ellipse fill=\"none\" stroke=\"black\" cx=\"1528.14\" cy=\"-234\" rx=\"503.66\" ry=\"18\"/>\n<text text-anchor=\"middle\" x=\"1528.14\" y=\"-229.32\" font-family=\"Times,serif\" font-size=\"14.00\">poisson_output_pvd_file=&lt;pyiron_base.project.delayed.DelayedObject object at 0x7f81c62208f0&gt;</text>\n</g>\n<!-- poisson_output_pvd_file_41d40612f4bc22f2593e670f29125006&#45;&gt;pvbatch_output_file_f6679ca13153e695cd36070d492d8182 -->\n<g id=\"edge3\" class=\"edge\">\n<title>poisson_output_pvd_file_41d40612f4bc22f2593e670f29125006-&gt;pvbatch_output_file_f6679ca13153e695cd36070d492d8182</title>\n<path fill=\"none\" stroke=\"black\" d=\"M1554.09,-215.7C1567.22,-206.95 1583.35,-196.19 1597.6,-186.69\"/>\n<polygon fill=\"black\" stroke=\"black\" points=\"1599.48,-189.65 1605.86,-181.19 1595.59,-183.82 1599.48,-189.65\"/>\n</g>\n<!-- plot_file_f6679ca13153e695cd36070d492d8182 -->\n<g id=\"node5\" class=\"node\">\n<title>plot_file_f6679ca13153e695cd36070d492d8182</title>\n<ellipse fill=\"none\" stroke=\"black\" cx=\"708.14\" cy=\"-162\" rx=\"424.22\" ry=\"18\"/>\n<text text-anchor=\"middle\" x=\"708.14\" y=\"-157.32\" font-family=\"Times,serif\" font-size=\"14.00\">plot_file=&lt;pyiron_base.project.delayed.DelayedObject object at 0x7f81c61df260&gt;</text>\n</g>\n<!-- poisson_output_pvd_file_41d40612f4bc22f2593e670f29125006&#45;&gt;plot_file_f6679ca13153e695cd36070d492d8182 -->\n<g id=\"edge4\" class=\"edge\">\n<title>poisson_output_pvd_file_41d40612f4bc22f2593e670f29125006-&gt;plot_file_f6679ca13153e695cd36070d492d8182</title>\n<path fill=\"none\" stroke=\"black\" d=\"M1338.98,-216.85C1208.35,-205.7 1035.07,-190.91 903.18,-179.65\"/>\n<polygon fill=\"black\" stroke=\"black\" points=\"903.52,-176.17 893.26,-178.8 902.93,-183.14 903.52,-176.17\"/>\n</g>\n<!-- plot_file_f6679ca13153e695cd36070d492d8182&#45;&gt;create_function_job_dae750e8dda36ce20c8f461aa2b9d570 -->\n<g id=\"edge18\" class=\"edge\">\n<title>plot_file_f6679ca13153e695cd36070d492d8182-&gt;create_function_job_dae750e8dda36ce20c8f461aa2b9d570</title>\n<path fill=\"none\" stroke=\"black\" d=\"M806.59,-144.01C961.22,-117.33 1259.98,-65.78 1421.35,-37.94\"/>\n<polygon fill=\"black\" stroke=\"black\" points=\"1421.5,-41.47 1430.76,-36.32 1420.31,-34.57 1421.5,-41.47\"/>\n</g>\n<!-- meshio_output_xdmf_e20be8f29bc4ca911e1e857f5d76741c -->\n<g id=\"node6\" class=\"node\">\n<title>meshio_output_xdmf_e20be8f29bc4ca911e1e857f5d76741c</title>\n<ellipse fill=\"none\" stroke=\"black\" cx=\"1403.14\" cy=\"-306\" rx=\"491.04\" ry=\"18\"/>\n<text text-anchor=\"middle\" x=\"1403.14\" y=\"-301.32\" font-family=\"Times,serif\" font-size=\"14.00\">meshio_output_xdmf=&lt;pyiron_base.project.delayed.DelayedObject object at 0x7f81c6220500&gt;</text>\n</g>\n<!-- meshio_output_xdmf_e20be8f29bc4ca911e1e857f5d76741c&#45;&gt;poisson_output_pvd_file_41d40612f4bc22f2593e670f29125006 -->\n<g id=\"edge5\" class=\"edge\">\n<title>meshio_output_xdmf_e20be8f29bc4ca911e1e857f5d76741c-&gt;poisson_output_pvd_file_41d40612f4bc22f2593e670f29125006</title>\n<path fill=\"none\" stroke=\"black\" d=\"M1434.04,-287.7C1450.11,-278.69 1469.97,-267.57 1487.3,-257.87\"/>\n<polygon fill=\"black\" stroke=\"black\" points=\"1488.82,-261.03 1495.84,-253.09 1485.4,-254.92 1488.82,-261.03\"/>\n</g>\n<!-- poisson_output_vtu_file_fba6f167ab9d57bbcafccf92fb371512 -->\n<g id=\"node7\" class=\"node\">\n<title>poisson_output_vtu_file_fba6f167ab9d57bbcafccf92fb371512</title>\n<ellipse fill=\"none\" stroke=\"black\" cx=\"503.14\" cy=\"-234\" rx=\"503.14\" ry=\"18\"/>\n<text text-anchor=\"middle\" x=\"503.14\" y=\"-229.32\" font-family=\"Times,serif\" font-size=\"14.00\">poisson_output_vtu_file=&lt;pyiron_base.project.delayed.DelayedObject object at 0x7f81c62208c0&gt;</text>\n</g>\n<!-- meshio_output_xdmf_e20be8f29bc4ca911e1e857f5d76741c&#45;&gt;poisson_output_vtu_file_fba6f167ab9d57bbcafccf92fb371512 -->\n<g id=\"edge6\" class=\"edge\">\n<title>meshio_output_xdmf_e20be8f29bc4ca911e1e857f5d76741c-&gt;poisson_output_vtu_file_fba6f167ab9d57bbcafccf92fb371512</title>\n<path fill=\"none\" stroke=\"black\" d=\"M1199.76,-289.18C1056.37,-278.03 864.65,-263.12 718.63,-251.76\"/>\n<polygon fill=\"black\" stroke=\"black\" points=\"719.07,-248.28 708.83,-251 718.52,-255.26 719.07,-248.28\"/>\n</g>\n<!-- ndofs_c902b1da86c67e7079cdd6e960396773 -->\n<g id=\"node8\" class=\"node\">\n<title>ndofs_c902b1da86c67e7079cdd6e960396773</title>\n<ellipse fill=\"none\" stroke=\"black\" cx=\"2459.14\" cy=\"-234\" rx=\"409.49\" ry=\"18\"/>\n<text text-anchor=\"middle\" x=\"2459.14\" y=\"-229.32\" font-family=\"Times,serif\" font-size=\"14.00\">ndofs=&lt;pyiron_base.project.delayed.DelayedObject object at 0x7f81c61df2f0&gt;</text>\n</g>\n<!-- meshio_output_xdmf_e20be8f29bc4ca911e1e857f5d76741c&#45;&gt;ndofs_c902b1da86c67e7079cdd6e960396773 -->\n<g id=\"edge7\" class=\"edge\">\n<title>meshio_output_xdmf_e20be8f29bc4ca911e1e857f5d76741c-&gt;ndofs_c902b1da86c67e7079cdd6e960396773</title>\n<path fill=\"none\" stroke=\"black\" d=\"M1634.23,-289.68C1810.28,-278.01 2051.57,-262.02 2227.7,-250.34\"/>\n<polygon fill=\"black\" stroke=\"black\" points=\"2227.69,-253.85 2237.44,-249.7 2227.23,-246.87 2227.69,-253.85\"/>\n</g>\n<!-- poisson_output_vtu_file_fba6f167ab9d57bbcafccf92fb371512&#45;&gt;pvbatch_output_file_f6679ca13153e695cd36070d492d8182 -->\n<g id=\"edge15\" class=\"edge\">\n<title>poisson_output_vtu_file_fba6f167ab9d57bbcafccf92fb371512-&gt;pvbatch_output_file_f6679ca13153e695cd36070d492d8182</title>\n<path fill=\"none\" stroke=\"black\" d=\"M747.63,-217.85C934.29,-206.29 1190.68,-190.41 1379.55,-178.71\"/>\n<polygon fill=\"black\" stroke=\"black\" points=\"1379.76,-182.2 1389.53,-178.09 1379.33,-175.22 1379.76,-182.2\"/>\n</g>\n<!-- poisson_output_vtu_file_fba6f167ab9d57bbcafccf92fb371512&#45;&gt;plot_file_f6679ca13153e695cd36070d492d8182 -->\n<g id=\"edge16\" class=\"edge\">\n<title>poisson_output_vtu_file_fba6f167ab9d57bbcafccf92fb371512-&gt;plot_file_f6679ca13153e695cd36070d492d8182</title>\n<path fill=\"none\" stroke=\"black\" d=\"M554.07,-215.61C582.17,-206.01 617.25,-194.04 646.83,-183.93\"/>\n<polygon fill=\"black\" stroke=\"black\" points=\"647.7,-187.34 656.03,-180.79 645.43,-180.71 647.7,-187.34\"/>\n</g>\n<!-- ndofs_c902b1da86c67e7079cdd6e960396773&#45;&gt;macros_tex_d7e91609122a5793f44a95d7162f82c5 -->\n<g id=\"edge17\" class=\"edge\">\n<title>ndofs_c902b1da86c67e7079cdd6e960396773-&gt;macros_tex_d7e91609122a5793f44a95d7162f82c5</title>\n<path fill=\"none\" stroke=\"black\" d=\"M2402.46,-215.73C2316.34,-189.49 2152.81,-139.66 2060.66,-111.57\"/>\n<polygon fill=\"black\" stroke=\"black\" points=\"2061.81,-108.27 2051.23,-108.7 2059.77,-114.96 2061.81,-108.27\"/>\n</g>\n<!-- gmsh_output_file_1cb82d5adda4ad37cdf5ce6e8136f5d3 -->\n<g id=\"node9\" class=\"node\">\n<title>gmsh_output_file_1cb82d5adda4ad37cdf5ce6e8136f5d3</title>\n<ellipse fill=\"none\" stroke=\"black\" cx=\"2390.14\" cy=\"-378\" rx=\"469.99\" ry=\"18\"/>\n<text text-anchor=\"middle\" x=\"2390.14\" y=\"-373.32\" font-family=\"Times,serif\" font-size=\"14.00\">gmsh_output_file=&lt;pyiron_base.project.delayed.DelayedObject object at 0x7f81c62202f0&gt;</text>\n</g>\n<!-- gmsh_output_file_1cb82d5adda4ad37cdf5ce6e8136f5d3&#45;&gt;meshio_output_xdmf_e20be8f29bc4ca911e1e857f5d76741c -->\n<g id=\"edge8\" class=\"edge\">\n<title>gmsh_output_file_1cb82d5adda4ad37cdf5ce6e8136f5d3-&gt;meshio_output_xdmf_e20be8f29bc4ca911e1e857f5d76741c</title>\n<path fill=\"none\" stroke=\"black\" d=\"M2172.92,-361.59C2013.13,-350.26 1796.32,-334.89 1633.51,-323.34\"/>\n<polygon fill=\"black\" stroke=\"black\" points=\"1634.11,-319.87 1623.88,-322.66 1633.61,-326.85 1634.11,-319.87\"/>\n</g>\n<!-- meshio_output_h5_70513360c325554f1fb9101a93e5febe -->\n<g id=\"node10\" class=\"node\">\n<title>meshio_output_h5_70513360c325554f1fb9101a93e5febe</title>\n<ellipse fill=\"none\" stroke=\"black\" cx=\"2390.14\" cy=\"-306\" rx=\"478.41\" ry=\"18\"/>\n<text text-anchor=\"middle\" x=\"2390.14\" y=\"-301.32\" font-family=\"Times,serif\" font-size=\"14.00\">meshio_output_h5=&lt;pyiron_base.project.delayed.DelayedObject object at 0x7f81c62204d0&gt;</text>\n</g>\n<!-- gmsh_output_file_1cb82d5adda4ad37cdf5ce6e8136f5d3&#45;&gt;meshio_output_h5_70513360c325554f1fb9101a93e5febe -->\n<g id=\"edge9\" class=\"edge\">\n<title>gmsh_output_file_1cb82d5adda4ad37cdf5ce6e8136f5d3-&gt;meshio_output_h5_70513360c325554f1fb9101a93e5febe</title>\n<path fill=\"none\" stroke=\"black\" d=\"M2390.14,-359.7C2390.14,-352.41 2390.14,-343.73 2390.14,-335.54\"/>\n<polygon fill=\"black\" stroke=\"black\" points=\"2393.64,-335.62 2390.14,-325.62 2386.64,-335.62 2393.64,-335.62\"/>\n</g>\n<!-- meshio_output_h5_70513360c325554f1fb9101a93e5febe&#45;&gt;poisson_output_pvd_file_41d40612f4bc22f2593e670f29125006 -->\n<g id=\"edge12\" class=\"edge\">\n<title>meshio_output_h5_70513360c325554f1fb9101a93e5febe-&gt;poisson_output_pvd_file_41d40612f4bc22f2593e670f29125006</title>\n<path fill=\"none\" stroke=\"black\" d=\"M2194.54,-289.12C2057.91,-278.02 1875.76,-263.23 1736.42,-251.91\"/>\n<polygon fill=\"black\" stroke=\"black\" points=\"1736.96,-248.45 1726.71,-251.13 1736.39,-255.42 1736.96,-248.45\"/>\n</g>\n<!-- meshio_output_h5_70513360c325554f1fb9101a93e5febe&#45;&gt;poisson_output_vtu_file_fba6f167ab9d57bbcafccf92fb371512 -->\n<g id=\"edge13\" class=\"edge\">\n<title>meshio_output_h5_70513360c325554f1fb9101a93e5febe-&gt;poisson_output_vtu_file_fba6f167ab9d57bbcafccf92fb371512</title>\n<path fill=\"none\" stroke=\"black\" d=\"M2057.93,-292.68C1720.33,-280.15 1199.35,-260.83 854.87,-248.05\"/>\n<polygon fill=\"black\" stroke=\"black\" points=\"855.1,-244.55 844.97,-247.68 854.84,-251.55 855.1,-244.55\"/>\n</g>\n<!-- meshio_output_h5_70513360c325554f1fb9101a93e5febe&#45;&gt;ndofs_c902b1da86c67e7079cdd6e960396773 -->\n<g id=\"edge14\" class=\"edge\">\n<title>meshio_output_h5_70513360c325554f1fb9101a93e5febe-&gt;ndofs_c902b1da86c67e7079cdd6e960396773</title>\n<path fill=\"none\" stroke=\"black\" d=\"M2407.19,-287.7C2415.38,-279.39 2425.35,-269.28 2434.35,-260.14\"/>\n<polygon fill=\"black\" stroke=\"black\" points=\"2436.69,-262.76 2441.21,-253.18 2431.7,-257.85 2436.69,-262.76\"/>\n</g>\n<!-- domain_size_f12a7f1986b9dd058dfc666dbe230b20 -->\n<g id=\"node11\" class=\"node\">\n<title>domain_size_f12a7f1986b9dd058dfc666dbe230b20</title>\n<ellipse fill=\"none\" stroke=\"black\" cx=\"2643.14\" cy=\"-450\" rx=\"96.45\" ry=\"18\"/>\n<text text-anchor=\"middle\" x=\"2643.14\" y=\"-445.32\" font-family=\"Times,serif\" font-size=\"14.00\">domain_size=2.0</text>\n</g>\n<!-- domain_size_f12a7f1986b9dd058dfc666dbe230b20&#45;&gt;macros_tex_d7e91609122a5793f44a95d7162f82c5 -->\n<g id=\"edge10\" class=\"edge\">\n<title>domain_size_f12a7f1986b9dd058dfc666dbe230b20-&gt;macros_tex_d7e91609122a5793f44a95d7162f82c5</title>\n<path fill=\"none\" stroke=\"black\" d=\"M2721.15,-439.11C2777.67,-430.43 2847.75,-416.06 2869.14,-396 2899.29,-367.72 2896.14,-348.34 2896.14,-307 2896.14,-307 2896.14,-307 2896.14,-233 2896.14,-166.63 2510.55,-126.37 2243.31,-106.43\"/>\n<polygon fill=\"black\" stroke=\"black\" points=\"2243.61,-102.94 2233.38,-105.69 2243.09,-109.92 2243.61,-102.94\"/>\n</g>\n<!-- domain_size_f12a7f1986b9dd058dfc666dbe230b20&#45;&gt;gmsh_output_file_1cb82d5adda4ad37cdf5ce6e8136f5d3 -->\n<g id=\"edge11\" class=\"edge\">\n<title>domain_size_f12a7f1986b9dd058dfc666dbe230b20-&gt;gmsh_output_file_1cb82d5adda4ad37cdf5ce6e8136f5d3</title>\n<path fill=\"none\" stroke=\"black\" d=\"M2590.71,-434.5C2553.99,-424.33 2504.4,-410.62 2463.72,-399.36\"/>\n<polygon fill=\"black\" stroke=\"black\" points=\"2464.8,-396.03 2454.23,-396.73 2462.94,-402.77 2464.8,-396.03\"/>\n</g>\n</g>\n</svg>"
     },
     "metadata": {}
    }
   ],
   "execution_count": 23
  },
  {
   "id": "1c2760b6-96b4-4f44-ac49-a229d4a0cf67",
   "cell_type": "code",
   "source": "delayed_object_lst[-1].pull()",
   "metadata": {
    "trusted": true
   },
   "outputs": [
    {
     "name": "stdout",
     "output_type": "stream",
     "text": "The job generate_mesh_0b48cf5155cd6802c17d20bb58104132 was saved and received the ID: 1\nThe job convert_to_xdmf_29ad6ec6927268429dc9aef8166fde43 was saved and received the ID: 2\nThe job poisson_a0224b23ceb2119d105a5d98ef37f93e was saved and received the ID: 3\nThe job plot_over_line_82b37a42e0747f11d9a7f6318f63ac6b was saved and received the ID: 4\nThe job substitute_macros_874fc185ecec04b4cb9537c58b7efb7b was saved and received the ID: 5\nThe job compile_paper_3cee534ffe692833d37faf1fd2170cb6 was saved and received the ID: 6\n"
    },
    {
     "execution_count": 24,
     "output_type": "execute_result",
     "data": {
      "text/plain": "'/home/jovyan/postprocessing/paper.pdf'"
     },
     "metadata": {}
    }
   ],
   "execution_count": 24
  }
 ]
}
