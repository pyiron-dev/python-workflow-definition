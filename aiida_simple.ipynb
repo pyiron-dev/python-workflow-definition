{
 "metadata": {
  "kernelspec": {
   "display_name": "Python 3 (ipykernel)",
   "language": "python",
   "name": "python3"
  },
  "language_info": {
   "codemirror_mode": {
    "name": "ipython",
    "version": 3
   },
   "file_extension": ".py",
   "mimetype": "text/x-python",
   "name": "python",
   "nbconvert_exporter": "python",
   "pygments_lexer": "ipython3",
   "version": "3.12.8"
  }
 },
 "nbformat_minor": 4,
 "nbformat": 4,
 "cells": [
  {
   "cell_type": "markdown",
   "source": "# Aiida",
   "metadata": {}
  },
  {
   "cell_type": "markdown",
   "source": "## Define workflow with aiida",
   "metadata": {}
  },
  {
   "cell_type": "code",
   "source": "from python_workflow_definition.aiida import write_workflow_json\n\nfrom aiida_workgraph import WorkGraph, task\nfrom aiida import orm, load_profile\nload_profile()\n\nworkflow_json_filename =  \"aiida_simple.json\"",
   "metadata": {
    "trusted": true
   },
   "outputs": [],
   "execution_count": 1
  },
  {
   "cell_type": "code",
   "source": [
    "from simple_workflow import (\n",
    "    get_sum as _get_sum,\n",
    "    get_prod_and_div as _get_prod_and_div,\n",
    ")"
   ],
   "metadata": {
    "trusted": true
   },
   "outputs": [],
   "execution_count": 2
  },
  {
   "cell_type": "code",
   "source": "wg = WorkGraph(\"wg-simple\")",
   "metadata": {
    "trusted": true
   },
   "outputs": [],
   "execution_count": 3
  },
  {
   "cell_type": "code",
   "source": "get_prod_and_div_task = wg.add_task(\n    task(outputs=['prod', 'div'])(_get_prod_and_div),\n    name=\"get_prod_and_div\",\n    x=orm.Float(1),\n    y=orm.Float(2),\n)",
   "metadata": {
    "trusted": true
   },
   "outputs": [],
   "execution_count": 4
  },
  {
   "cell_type": "code",
   "source": [
    "get_sum_task = wg.add_task(\n",
    "    _get_sum,\n",
    "    name=\"get_sum\",\n",
    "    x=get_prod_and_div_task.outputs.prod,\n",
    "    y=get_prod_and_div_task.outputs.div,\n",
    ")"
   ],
   "metadata": {
    "trusted": true
   },
   "outputs": [],
   "execution_count": 5
  },
  {
   "cell_type": "code",
   "source": "write_workflow_json(wg=wg, file_name=workflow_json_filename)",
   "metadata": {
    "trusted": true
   },
   "outputs": [
    {
     "execution_count": 6,
     "output_type": "execute_result",
     "data": {
      "text/plain": "{'nodes': [{'id': 0, 'function': 'simple_workflow.get_prod_and_div'},\n  {'id': 1, 'function': 'simple_workflow.add_x_and_y'},\n  {'id': 2, 'value': 1.0},\n  {'id': 3, 'value': 2.0}],\n 'edges': [{'target': 1, 'targetPort': 'x', 'source': 0, 'sourcePort': 'prod'},\n  {'target': 1, 'targetPort': 'y', 'source': 0, 'sourcePort': 'div'},\n  {'target': 0, 'targetPort': 'x', 'source': 2, 'sourcePort': None},\n  {'target': 0, 'targetPort': 'y', 'source': 3, 'sourcePort': None}]}"
     },
     "metadata": {}
    }
   ],
   "execution_count": 6
  },
  {
   "cell_type": "code",
   "source": "!cat {workflow_json_filename}",
   "metadata": {
    "trusted": true
   },
   "outputs": [
    {
     "name": "stdout",
     "output_type": "stream",
     "text": "{\n  \"nodes\": [\n    {\n      \"id\": 0,\n      \"function\": \"simple_workflow.get_prod_and_div\"\n    },\n    {\n      \"id\": 1,\n      \"function\": \"simple_workflow.add_x_and_y\"\n    },\n    {\n      \"id\": 2,\n      \"value\": 1.0\n    },\n    {\n      \"id\": 3,\n      \"value\": 2.0\n    }\n  ],\n  \"edges\": [\n    {\n      \"target\": 1,\n      \"targetPort\": \"x\",\n      \"source\": 0,\n      \"sourcePort\": \"prod\"\n    },\n    {\n      \"target\": 1,\n      \"targetPort\": \"y\",\n      \"source\": 0,\n      \"sourcePort\": \"div\"\n    },\n    {\n      \"target\": 0,\n      \"targetPort\": \"x\",\n      \"source\": 2,\n      \"sourcePort\": null\n    },\n    {\n      \"target\": 0,\n      \"targetPort\": \"y\",\n      \"source\": 3,\n      \"sourcePort\": null\n    }\n  ]\n}"
    }
   ],
   "execution_count": 7
  },
  {
   "cell_type": "markdown",
   "source": "## Load Workflow with jobflow",
   "metadata": {}
  },
  {
   "cell_type": "code",
   "source": "from python_workflow_definition.jobflow import load_workflow_json",
   "metadata": {
    "trusted": true
   },
   "outputs": [
    {
     "name": "stderr",
     "output_type": "stream",
     "text": "/srv/conda/envs/notebook/lib/python3.12/site-packages/paramiko/pkey.py:82: CryptographyDeprecationWarning: TripleDES has been moved to cryptography.hazmat.decrepit.ciphers.algorithms.TripleDES and will be removed from cryptography.hazmat.primitives.ciphers.algorithms in 48.0.0.\n  \"cipher\": algorithms.TripleDES,\n/srv/conda/envs/notebook/lib/python3.12/site-packages/paramiko/transport.py:253: CryptographyDeprecationWarning: TripleDES has been moved to cryptography.hazmat.decrepit.ciphers.algorithms.TripleDES and will be removed from cryptography.hazmat.primitives.ciphers.algorithms in 48.0.0.\n  \"class\": algorithms.TripleDES,\n"
    }
   ],
   "execution_count": 8
  },
  {
   "cell_type": "code",
   "source": "from jobflow.managers.local import run_locally",
   "metadata": {
    "trusted": true
   },
   "outputs": [],
   "execution_count": 9
  },
  {
   "cell_type": "code",
   "source": "flow = load_workflow_json(file_name=workflow_json_filename)",
   "metadata": {
    "trusted": true
   },
   "outputs": [],
   "execution_count": 10
  },
  {
   "cell_type": "code",
   "source": "result = run_locally(flow)\nresult",
   "metadata": {
    "trusted": true
   },
   "outputs": [
    {
     "name": "stdout",
     "output_type": "stream",
     "text": "2025-04-12 11:26:37,686 INFO Started executing jobs locally\n2025-04-12 11:26:38,283 INFO Starting job - get_prod_and_div (0860fd19-fa89-4edb-8b50-af48785706d6)\n2025-04-12 11:26:38,288 INFO Finished job - get_prod_and_div (0860fd19-fa89-4edb-8b50-af48785706d6)\n2025-04-12 11:26:38,289 INFO Starting job - add_x_and_y (0d599e5c-6d2e-40ba-aad0-2408ce95b333)\n2025-04-12 11:26:38,292 INFO Finished job - add_x_and_y (0d599e5c-6d2e-40ba-aad0-2408ce95b333)\n2025-04-12 11:26:38,293 INFO Finished executing jobs locally\n"
    },
    {
     "execution_count": 11,
     "output_type": "execute_result",
     "data": {
      "text/plain": "{'0860fd19-fa89-4edb-8b50-af48785706d6': {1: Response(output={'prod': 2.0, 'div': 0.5}, detour=None, addition=None, replace=None, stored_data=None, stop_children=False, stop_jobflow=False, job_dir=PosixPath('/home/jovyan'))},\n '0d599e5c-6d2e-40ba-aad0-2408ce95b333': {1: Response(output=2.5, detour=None, addition=None, replace=None, stored_data=None, stop_children=False, stop_jobflow=False, job_dir=PosixPath('/home/jovyan'))}}"
     },
     "metadata": {}
    }
   ],
   "execution_count": 11
  },
  {
   "cell_type": "markdown",
   "source": "## Load Workflow with pyiron_base",
   "metadata": {}
  },
  {
   "cell_type": "code",
   "source": "from python_workflow_definition.pyiron_base import load_workflow_json",
   "metadata": {
    "trusted": true
   },
   "outputs": [],
   "execution_count": 13
  },
  {
   "cell_type": "code",
   "source": [
    "delayed_object_lst = load_workflow_json(file_name=workflow_json_filename)\n",
    "delayed_object_lst[-1].draw()"
   ],
   "metadata": {
    "trusted": true
   },
   "outputs": [
    {
     "output_type": "display_data",
     "data": {
      "text/plain": "<IPython.core.display.SVG object>",
      "image/svg+xml": "<svg xmlns=\"http://www.w3.org/2000/svg\" xmlns:xlink=\"http://www.w3.org/1999/xlink\" width=\"1590pt\" height=\"188pt\" viewBox=\"0.00 0.00 1590.15 188.00\">\n<g id=\"graph0\" class=\"graph\" transform=\"scale(1 1) rotate(0) translate(4 184)\">\n<polygon fill=\"white\" stroke=\"none\" points=\"-4,4 -4,-184 1586.15,-184 1586.15,4 -4,4\"/>\n<!-- create_function_job_49bb83dafd980a4392dc5ef2b4889708 -->\n<g id=\"node1\" class=\"node\">\n<title>create_function_job_49bb83dafd980a4392dc5ef2b4889708</title>\n<ellipse fill=\"none\" stroke=\"black\" cx=\"791.08\" cy=\"-18\" rx=\"482.62\" ry=\"18\"/>\n<text text-anchor=\"middle\" x=\"791.08\" y=\"-13.32\" font-family=\"Times,serif\" font-size=\"14.00\">create_function_job=&lt;pyiron_base.project.delayed.DelayedObject object at 0x7f7bf3a1b290&gt;</text>\n</g>\n<!-- x_1055d41eef3ab4f2f8b82d781b5af899 -->\n<g id=\"node2\" class=\"node\">\n<title>x_1055d41eef3ab4f2f8b82d781b5af899</title>\n<ellipse fill=\"none\" stroke=\"black\" cx=\"391.08\" cy=\"-90\" rx=\"391.08\" ry=\"18\"/>\n<text text-anchor=\"middle\" x=\"391.08\" y=\"-85.33\" font-family=\"Times,serif\" font-size=\"14.00\">x=&lt;pyiron_base.project.delayed.DelayedObject object at 0x7f7bf3a1b230&gt;</text>\n</g>\n<!-- x_1055d41eef3ab4f2f8b82d781b5af899&#45;&gt;create_function_job_49bb83dafd980a4392dc5ef2b4889708 -->\n<g id=\"edge1\" class=\"edge\">\n<title>x_1055d41eef3ab4f2f8b82d781b5af899-&gt;create_function_job_49bb83dafd980a4392dc5ef2b4889708</title>\n<path fill=\"none\" stroke=\"black\" d=\"M487.65,-72.1C546.3,-61.83 621.33,-48.7 682.11,-38.07\"/>\n<polygon fill=\"black\" stroke=\"black\" points=\"682.54,-41.55 691.79,-36.37 681.34,-34.65 682.54,-41.55\"/>\n</g>\n<!-- x_974924ff998969b91bfc8b2db5f854a1 -->\n<g id=\"node3\" class=\"node\">\n<title>x_974924ff998969b91bfc8b2db5f854a1</title>\n<ellipse fill=\"none\" stroke=\"black\" cx=\"566.08\" cy=\"-162\" rx=\"41.21\" ry=\"18\"/>\n<text text-anchor=\"middle\" x=\"566.08\" y=\"-157.32\" font-family=\"Times,serif\" font-size=\"14.00\">x=1.0</text>\n</g>\n<!-- x_974924ff998969b91bfc8b2db5f854a1&#45;&gt;x_1055d41eef3ab4f2f8b82d781b5af899 -->\n<g id=\"edge2\" class=\"edge\">\n<title>x_974924ff998969b91bfc8b2db5f854a1-&gt;x_1055d41eef3ab4f2f8b82d781b5af899</title>\n<path fill=\"none\" stroke=\"black\" d=\"M536.39,-149.13C511.35,-139.11 474.89,-124.53 444.75,-112.47\"/>\n<polygon fill=\"black\" stroke=\"black\" points=\"446.37,-109.35 435.79,-108.89 443.77,-115.85 446.37,-109.35\"/>\n</g>\n<!-- y_051e02d66e881687a217d6dc1733b4f6 -->\n<g id=\"node4\" class=\"node\">\n<title>y_051e02d66e881687a217d6dc1733b4f6</title>\n<ellipse fill=\"none\" stroke=\"black\" cx=\"1191.08\" cy=\"-90\" rx=\"391.08\" ry=\"18\"/>\n<text text-anchor=\"middle\" x=\"1191.08\" y=\"-85.33\" font-family=\"Times,serif\" font-size=\"14.00\">y=&lt;pyiron_base.project.delayed.DelayedObject object at 0x7f7bf3a1b200&gt;</text>\n</g>\n<!-- x_974924ff998969b91bfc8b2db5f854a1&#45;&gt;y_051e02d66e881687a217d6dc1733b4f6 -->\n<g id=\"edge3\" class=\"edge\">\n<title>x_974924ff998969b91bfc8b2db5f854a1-&gt;y_051e02d66e881687a217d6dc1733b4f6</title>\n<path fill=\"none\" stroke=\"black\" d=\"M605.65,-156.57C690.25,-147.09 892.65,-124.42 1035.69,-108.4\"/>\n<polygon fill=\"black\" stroke=\"black\" points=\"1035.69,-111.92 1045.24,-107.33 1034.92,-104.97 1035.69,-111.92\"/>\n</g>\n<!-- y_051e02d66e881687a217d6dc1733b4f6&#45;&gt;create_function_job_49bb83dafd980a4392dc5ef2b4889708 -->\n<g id=\"edge6\" class=\"edge\">\n<title>y_051e02d66e881687a217d6dc1733b4f6-&gt;create_function_job_49bb83dafd980a4392dc5ef2b4889708</title>\n<path fill=\"none\" stroke=\"black\" d=\"M1094.5,-72.1C1035.85,-61.83 960.82,-48.7 900.04,-38.07\"/>\n<polygon fill=\"black\" stroke=\"black\" points=\"900.81,-34.65 890.36,-36.37 899.61,-41.55 900.81,-34.65\"/>\n</g>\n<!-- y_f12a7f1986b9dd058dfc666dbe230b20 -->\n<g id=\"node5\" class=\"node\">\n<title>y_f12a7f1986b9dd058dfc666dbe230b20</title>\n<ellipse fill=\"none\" stroke=\"black\" cx=\"1016.08\" cy=\"-162\" rx=\"41.21\" ry=\"18\"/>\n<text text-anchor=\"middle\" x=\"1016.08\" y=\"-157.32\" font-family=\"Times,serif\" font-size=\"14.00\">y=2.0</text>\n</g>\n<!-- y_f12a7f1986b9dd058dfc666dbe230b20&#45;&gt;x_1055d41eef3ab4f2f8b82d781b5af899 -->\n<g id=\"edge4\" class=\"edge\">\n<title>y_f12a7f1986b9dd058dfc666dbe230b20-&gt;x_1055d41eef3ab4f2f8b82d781b5af899</title>\n<path fill=\"none\" stroke=\"black\" d=\"M976.5,-156.57C891.9,-147.09 689.5,-124.42 546.46,-108.4\"/>\n<polygon fill=\"black\" stroke=\"black\" points=\"547.23,-104.97 536.91,-107.33 546.46,-111.92 547.23,-104.97\"/>\n</g>\n<!-- y_f12a7f1986b9dd058dfc666dbe230b20&#45;&gt;y_051e02d66e881687a217d6dc1733b4f6 -->\n<g id=\"edge5\" class=\"edge\">\n<title>y_f12a7f1986b9dd058dfc666dbe230b20-&gt;y_051e02d66e881687a217d6dc1733b4f6</title>\n<path fill=\"none\" stroke=\"black\" d=\"M1045.76,-149.13C1070.8,-139.11 1107.26,-124.53 1137.4,-112.47\"/>\n<polygon fill=\"black\" stroke=\"black\" points=\"1138.38,-115.85 1146.36,-108.89 1135.78,-109.35 1138.38,-115.85\"/>\n</g>\n</g>\n</svg>"
     },
     "metadata": {}
    }
   ],
   "execution_count": 15
  },
  {
   "cell_type": "code",
   "source": "delayed_object_lst[-1].pull()",
   "metadata": {
    "trusted": true
   },
   "outputs": [
    {
     "name": "stdout",
     "output_type": "stream",
     "text": "The job get_prod_and_div_412196b9b2424d235e901638ba928e67 was saved and received the ID: 1\nThe job add_x_and_y_588bd492d8124e9ea68ef6b2990744db was saved and received the ID: 2\n"
    },
    {
     "execution_count": 16,
     "output_type": "execute_result",
     "data": {
      "text/plain": "2.5"
     },
     "metadata": {}
    }
   ],
   "execution_count": 16
  }
 ]
}
