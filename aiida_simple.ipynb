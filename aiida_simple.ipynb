{
 "cells": [
  {
   "cell_type": "markdown",
   "metadata": {},
   "source": [
    "# Simple Workflow with aiida"
   ]
  },
  {
   "cell_type": "markdown",
   "metadata": {},
   "source": [
    "## Define workflow with aiida"
   ]
  },
  {
   "cell_type": "code",
   "execution_count": 1,
   "metadata": {
    "trusted": true
   },
   "outputs": [],
   "source": [
    "from python_workflow_definition.aiida import write_workflow_json\n",
    "\n",
    "from aiida_workgraph import WorkGraph, task\n",
    "from aiida import orm, load_profile\n",
    "load_profile()\n",
    "\n",
    "workflow_json_filename =  \"aiida_simple.json\""
   ]
  },
  {
   "cell_type": "code",
   "execution_count": 2,
   "metadata": {
    "trusted": true
   },
   "outputs": [],
   "source": [
    "from simple_workflow import add_x_and_y as _add_x_and_y\n",
    "from simple_workflow import add_x_and_y_and_z as _add_x_and_y_and_z"
   ]
  },
  {
   "cell_type": "code",
   "execution_count": 3,
   "metadata": {},
   "outputs": [],
   "source": [
    "add_x_and_y = task(outputs=['x', 'y', 'z'])(_add_x_and_y)"
   ]
  },
  {
   "cell_type": "code",
   "execution_count": 4,
   "metadata": {},
   "outputs": [],
   "source": [
    "wg = WorkGraph(\"wg-simple\")"
   ]
  },
  {
   "cell_type": "code",
   "execution_count": 5,
   "metadata": {
    "trusted": true
   },
   "outputs": [],
   "source": [
    "add_x_and_y_task = wg.add_task(\n",
    "    _add_x_and_y,\n",
    "    name=\"add_x_and_y\",\n",
    "    x=orm.Int(1),\n",
    "    y=orm.Int(2),\n",
    ")"
   ]
  },
  {
   "cell_type": "code",
   "execution_count": 6,
   "metadata": {
    "trusted": true
   },
   "outputs": [],
   "source": [
    "add_x_and_y_and_z_task = wg.add_task(\n",
    "    _add_x_and_y_and_z,\n",
    "    name=\"add_x_and_y_and_z\",\n",
    "    x=add_x_and_y_task.outputs.x,\n",
    "    y=add_x_and_y_task.outputs.y,\n",
    "    z=add_x_and_y_task.outputs.z,\n",
    ")"
   ]
  },
  {
   "cell_type": "code",
   "execution_count": 7,
   "metadata": {
    "trusted": true
   },
   "outputs": [
    {
     "data": {
      "text/plain": [
       "{'nodes': {'0': 'simple_workflow.add_x_and_y',\n",
       "  '1': 'simple_workflow.add_x_and_y_and_z',\n",
       "  '2': 1,\n",
       "  '3': 2},\n",
       " 'edges': [{'tn': 1, 'th': 'x', 'sn': 0, 'sh': 'x'},\n",
       "  {'tn': 1, 'th': 'y', 'sn': 0, 'sh': 'y'},\n",
       "  {'tn': 1, 'th': 'z', 'sn': 0, 'sh': 'z'},\n",
       "  {'tn': 0, 'th': 'x', 'sn': 2, 'sh': None},\n",
       "  {'tn': 0, 'th': 'y', 'sn': 3, 'sh': None}]}"
      ]
     },
     "execution_count": 7,
     "metadata": {},
     "output_type": "execute_result"
    }
   ],
   "source": [
    "write_workflow_json(wg=wg, file_name=workflow_json_filename)"
   ]
  },
  {
   "cell_type": "code",
   "execution_count": 8,
   "metadata": {
    "trusted": true
   },
   "outputs": [
    {
     "name": "stdout",
     "output_type": "stream",
     "text": [
      "\u001b[38;5;238m───────┬────────────────────────────────────────────────────────────────────────\u001b[0m\n",
      "       \u001b[38;5;238m│ \u001b[0mFile: \u001b[1maiida_to_jobflow_simple.json\u001b[0m\n",
      "\u001b[38;5;238m───────┼────────────────────────────────────────────────────────────────────────\u001b[0m\n",
      "\u001b[38;5;238m   1\u001b[0m   \u001b[38;5;238m│\u001b[0m \u001b[38;5;231m{\u001b[0m\n",
      "\u001b[38;5;238m   2\u001b[0m   \u001b[38;5;238m│\u001b[0m \u001b[38;5;231m  \u001b[0m\u001b[38;5;208m\"\u001b[0m\u001b[38;5;208mnodes\u001b[0m\u001b[38;5;208m\"\u001b[0m\u001b[38;5;231m:\u001b[0m\u001b[38;5;231m \u001b[0m\u001b[38;5;231m{\u001b[0m\n",
      "\u001b[38;5;238m   3\u001b[0m   \u001b[38;5;238m│\u001b[0m \u001b[38;5;231m    \u001b[0m\u001b[38;5;208m\"\u001b[0m\u001b[38;5;208m0\u001b[0m\u001b[38;5;208m\"\u001b[0m\u001b[38;5;231m:\u001b[0m\u001b[38;5;231m \u001b[0m\u001b[38;5;186m\"\u001b[0m\u001b[38;5;186msimple_workflow.add_x_and_y\u001b[0m\u001b[38;5;186m\"\u001b[0m\u001b[38;5;231m,\u001b[0m\n",
      "\u001b[38;5;238m   4\u001b[0m   \u001b[38;5;238m│\u001b[0m \u001b[38;5;231m    \u001b[0m\u001b[38;5;208m\"\u001b[0m\u001b[38;5;208m1\u001b[0m\u001b[38;5;208m\"\u001b[0m\u001b[38;5;231m:\u001b[0m\u001b[38;5;231m \u001b[0m\u001b[38;5;186m\"\u001b[0m\u001b[38;5;186msimple_workflow.add_x_and_y_and_z\u001b[0m\u001b[38;5;186m\"\u001b[0m\u001b[38;5;231m,\u001b[0m\n",
      "\u001b[38;5;238m   5\u001b[0m   \u001b[38;5;238m│\u001b[0m \u001b[38;5;231m    \u001b[0m\u001b[38;5;208m\"\u001b[0m\u001b[38;5;208m2\u001b[0m\u001b[38;5;208m\"\u001b[0m\u001b[38;5;231m:\u001b[0m\u001b[38;5;231m \u001b[0m\u001b[38;5;141m1\u001b[0m\u001b[38;5;231m,\u001b[0m\n",
      "\u001b[38;5;238m   6\u001b[0m   \u001b[38;5;238m│\u001b[0m \u001b[38;5;231m    \u001b[0m\u001b[38;5;208m\"\u001b[0m\u001b[38;5;208m3\u001b[0m\u001b[38;5;208m\"\u001b[0m\u001b[38;5;231m:\u001b[0m\u001b[38;5;231m \u001b[0m\u001b[38;5;141m2\u001b[0m\n",
      "\u001b[38;5;238m   7\u001b[0m   \u001b[38;5;238m│\u001b[0m \u001b[38;5;231m  \u001b[0m\u001b[38;5;231m}\u001b[0m\u001b[38;5;231m,\u001b[0m\n",
      "\u001b[38;5;238m   8\u001b[0m   \u001b[38;5;238m│\u001b[0m \u001b[38;5;231m  \u001b[0m\u001b[38;5;208m\"\u001b[0m\u001b[38;5;208medges\u001b[0m\u001b[38;5;208m\"\u001b[0m\u001b[38;5;231m:\u001b[0m\u001b[38;5;231m \u001b[0m\u001b[38;5;231m[\u001b[0m\n",
      "\u001b[38;5;238m   9\u001b[0m   \u001b[38;5;238m│\u001b[0m \u001b[38;5;231m    \u001b[0m\u001b[38;5;231m{\u001b[0m\n",
      "\u001b[38;5;238m  10\u001b[0m   \u001b[38;5;238m│\u001b[0m \u001b[38;5;231m      \u001b[0m\u001b[38;5;208m\"\u001b[0m\u001b[38;5;208mtn\u001b[0m\u001b[38;5;208m\"\u001b[0m\u001b[38;5;231m:\u001b[0m\u001b[38;5;231m \u001b[0m\u001b[38;5;141m1\u001b[0m\u001b[38;5;231m,\u001b[0m\n",
      "\u001b[38;5;238m  11\u001b[0m   \u001b[38;5;238m│\u001b[0m \u001b[38;5;231m      \u001b[0m\u001b[38;5;208m\"\u001b[0m\u001b[38;5;208mth\u001b[0m\u001b[38;5;208m\"\u001b[0m\u001b[38;5;231m:\u001b[0m\u001b[38;5;231m \u001b[0m\u001b[38;5;186m\"\u001b[0m\u001b[38;5;186mx\u001b[0m\u001b[38;5;186m\"\u001b[0m\u001b[38;5;231m,\u001b[0m\n",
      "\u001b[38;5;238m  12\u001b[0m   \u001b[38;5;238m│\u001b[0m \u001b[38;5;231m      \u001b[0m\u001b[38;5;208m\"\u001b[0m\u001b[38;5;208msn\u001b[0m\u001b[38;5;208m\"\u001b[0m\u001b[38;5;231m:\u001b[0m\u001b[38;5;231m \u001b[0m\u001b[38;5;141m0\u001b[0m\u001b[38;5;231m,\u001b[0m\n",
      "\u001b[38;5;238m  13\u001b[0m   \u001b[38;5;238m│\u001b[0m \u001b[38;5;231m      \u001b[0m\u001b[38;5;208m\"\u001b[0m\u001b[38;5;208msh\u001b[0m\u001b[38;5;208m\"\u001b[0m\u001b[38;5;231m:\u001b[0m\u001b[38;5;231m \u001b[0m\u001b[38;5;186m\"\u001b[0m\u001b[38;5;186mx\u001b[0m\u001b[38;5;186m\"\u001b[0m\n",
      "\u001b[38;5;238m  14\u001b[0m   \u001b[38;5;238m│\u001b[0m \u001b[38;5;231m    \u001b[0m\u001b[38;5;231m}\u001b[0m\u001b[38;5;231m,\u001b[0m\n",
      "\u001b[38;5;238m  15\u001b[0m   \u001b[38;5;238m│\u001b[0m \u001b[38;5;231m    \u001b[0m\u001b[38;5;231m{\u001b[0m\n",
      "\u001b[38;5;238m  16\u001b[0m   \u001b[38;5;238m│\u001b[0m \u001b[38;5;231m      \u001b[0m\u001b[38;5;208m\"\u001b[0m\u001b[38;5;208mtn\u001b[0m\u001b[38;5;208m\"\u001b[0m\u001b[38;5;231m:\u001b[0m\u001b[38;5;231m \u001b[0m\u001b[38;5;141m1\u001b[0m\u001b[38;5;231m,\u001b[0m\n",
      "\u001b[38;5;238m  17\u001b[0m   \u001b[38;5;238m│\u001b[0m \u001b[38;5;231m      \u001b[0m\u001b[38;5;208m\"\u001b[0m\u001b[38;5;208mth\u001b[0m\u001b[38;5;208m\"\u001b[0m\u001b[38;5;231m:\u001b[0m\u001b[38;5;231m \u001b[0m\u001b[38;5;186m\"\u001b[0m\u001b[38;5;186my\u001b[0m\u001b[38;5;186m\"\u001b[0m\u001b[38;5;231m,\u001b[0m\n",
      "\u001b[38;5;238m  18\u001b[0m   \u001b[38;5;238m│\u001b[0m \u001b[38;5;231m      \u001b[0m\u001b[38;5;208m\"\u001b[0m\u001b[38;5;208msn\u001b[0m\u001b[38;5;208m\"\u001b[0m\u001b[38;5;231m:\u001b[0m\u001b[38;5;231m \u001b[0m\u001b[38;5;141m0\u001b[0m\u001b[38;5;231m,\u001b[0m\n",
      "\u001b[38;5;238m  19\u001b[0m   \u001b[38;5;238m│\u001b[0m \u001b[38;5;231m      \u001b[0m\u001b[38;5;208m\"\u001b[0m\u001b[38;5;208msh\u001b[0m\u001b[38;5;208m\"\u001b[0m\u001b[38;5;231m:\u001b[0m\u001b[38;5;231m \u001b[0m\u001b[38;5;186m\"\u001b[0m\u001b[38;5;186my\u001b[0m\u001b[38;5;186m\"\u001b[0m\n",
      "\u001b[38;5;238m  20\u001b[0m   \u001b[38;5;238m│\u001b[0m \u001b[38;5;231m    \u001b[0m\u001b[38;5;231m}\u001b[0m\u001b[38;5;231m,\u001b[0m\n",
      "\u001b[38;5;238m  21\u001b[0m   \u001b[38;5;238m│\u001b[0m \u001b[38;5;231m    \u001b[0m\u001b[38;5;231m{\u001b[0m\n",
      "\u001b[38;5;238m  22\u001b[0m   \u001b[38;5;238m│\u001b[0m \u001b[38;5;231m      \u001b[0m\u001b[38;5;208m\"\u001b[0m\u001b[38;5;208mtn\u001b[0m\u001b[38;5;208m\"\u001b[0m\u001b[38;5;231m:\u001b[0m\u001b[38;5;231m \u001b[0m\u001b[38;5;141m1\u001b[0m\u001b[38;5;231m,\u001b[0m\n",
      "\u001b[38;5;238m  23\u001b[0m   \u001b[38;5;238m│\u001b[0m \u001b[38;5;231m      \u001b[0m\u001b[38;5;208m\"\u001b[0m\u001b[38;5;208mth\u001b[0m\u001b[38;5;208m\"\u001b[0m\u001b[38;5;231m:\u001b[0m\u001b[38;5;231m \u001b[0m\u001b[38;5;186m\"\u001b[0m\u001b[38;5;186mz\u001b[0m\u001b[38;5;186m\"\u001b[0m\u001b[38;5;231m,\u001b[0m\n",
      "\u001b[38;5;238m  24\u001b[0m   \u001b[38;5;238m│\u001b[0m \u001b[38;5;231m      \u001b[0m\u001b[38;5;208m\"\u001b[0m\u001b[38;5;208msn\u001b[0m\u001b[38;5;208m\"\u001b[0m\u001b[38;5;231m:\u001b[0m\u001b[38;5;231m \u001b[0m\u001b[38;5;141m0\u001b[0m\u001b[38;5;231m,\u001b[0m\n",
      "\u001b[38;5;238m  25\u001b[0m   \u001b[38;5;238m│\u001b[0m \u001b[38;5;231m      \u001b[0m\u001b[38;5;208m\"\u001b[0m\u001b[38;5;208msh\u001b[0m\u001b[38;5;208m\"\u001b[0m\u001b[38;5;231m:\u001b[0m\u001b[38;5;231m \u001b[0m\u001b[38;5;186m\"\u001b[0m\u001b[38;5;186mz\u001b[0m\u001b[38;5;186m\"\u001b[0m\n",
      "\u001b[38;5;238m  26\u001b[0m   \u001b[38;5;238m│\u001b[0m \u001b[38;5;231m    \u001b[0m\u001b[38;5;231m}\u001b[0m\u001b[38;5;231m,\u001b[0m\n",
      "\u001b[38;5;238m  27\u001b[0m   \u001b[38;5;238m│\u001b[0m \u001b[38;5;231m    \u001b[0m\u001b[38;5;231m{\u001b[0m\n",
      "\u001b[38;5;238m  28\u001b[0m   \u001b[38;5;238m│\u001b[0m \u001b[38;5;231m      \u001b[0m\u001b[38;5;208m\"\u001b[0m\u001b[38;5;208mtn\u001b[0m\u001b[38;5;208m\"\u001b[0m\u001b[38;5;231m:\u001b[0m\u001b[38;5;231m \u001b[0m\u001b[38;5;141m0\u001b[0m\u001b[38;5;231m,\u001b[0m\n",
      "\u001b[38;5;238m  29\u001b[0m   \u001b[38;5;238m│\u001b[0m \u001b[38;5;231m      \u001b[0m\u001b[38;5;208m\"\u001b[0m\u001b[38;5;208mth\u001b[0m\u001b[38;5;208m\"\u001b[0m\u001b[38;5;231m:\u001b[0m\u001b[38;5;231m \u001b[0m\u001b[38;5;186m\"\u001b[0m\u001b[38;5;186mx\u001b[0m\u001b[38;5;186m\"\u001b[0m\u001b[38;5;231m,\u001b[0m\n",
      "\u001b[38;5;238m  30\u001b[0m   \u001b[38;5;238m│\u001b[0m \u001b[38;5;231m      \u001b[0m\u001b[38;5;208m\"\u001b[0m\u001b[38;5;208msn\u001b[0m\u001b[38;5;208m\"\u001b[0m\u001b[38;5;231m:\u001b[0m\u001b[38;5;231m \u001b[0m\u001b[38;5;141m2\u001b[0m\u001b[38;5;231m,\u001b[0m\n",
      "\u001b[38;5;238m  31\u001b[0m   \u001b[38;5;238m│\u001b[0m \u001b[38;5;231m      \u001b[0m\u001b[38;5;208m\"\u001b[0m\u001b[38;5;208msh\u001b[0m\u001b[38;5;208m\"\u001b[0m\u001b[38;5;231m:\u001b[0m\u001b[38;5;231m \u001b[0m\u001b[38;5;141mnull\u001b[0m\n",
      "\u001b[38;5;238m  32\u001b[0m   \u001b[38;5;238m│\u001b[0m \u001b[38;5;231m    \u001b[0m\u001b[38;5;231m}\u001b[0m\u001b[38;5;231m,\u001b[0m\n",
      "\u001b[38;5;238m  33\u001b[0m   \u001b[38;5;238m│\u001b[0m \u001b[38;5;231m    \u001b[0m\u001b[38;5;231m{\u001b[0m\n",
      "\u001b[38;5;238m  34\u001b[0m   \u001b[38;5;238m│\u001b[0m \u001b[38;5;231m      \u001b[0m\u001b[38;5;208m\"\u001b[0m\u001b[38;5;208mtn\u001b[0m\u001b[38;5;208m\"\u001b[0m\u001b[38;5;231m:\u001b[0m\u001b[38;5;231m \u001b[0m\u001b[38;5;141m0\u001b[0m\u001b[38;5;231m,\u001b[0m\n",
      "\u001b[38;5;238m  35\u001b[0m   \u001b[38;5;238m│\u001b[0m \u001b[38;5;231m      \u001b[0m\u001b[38;5;208m\"\u001b[0m\u001b[38;5;208mth\u001b[0m\u001b[38;5;208m\"\u001b[0m\u001b[38;5;231m:\u001b[0m\u001b[38;5;231m \u001b[0m\u001b[38;5;186m\"\u001b[0m\u001b[38;5;186my\u001b[0m\u001b[38;5;186m\"\u001b[0m\u001b[38;5;231m,\u001b[0m\n",
      "\u001b[38;5;238m  36\u001b[0m   \u001b[38;5;238m│\u001b[0m \u001b[38;5;231m      \u001b[0m\u001b[38;5;208m\"\u001b[0m\u001b[38;5;208msn\u001b[0m\u001b[38;5;208m\"\u001b[0m\u001b[38;5;231m:\u001b[0m\u001b[38;5;231m \u001b[0m\u001b[38;5;141m3\u001b[0m\u001b[38;5;231m,\u001b[0m\n",
      "\u001b[38;5;238m  37\u001b[0m   \u001b[38;5;238m│\u001b[0m \u001b[38;5;231m      \u001b[0m\u001b[38;5;208m\"\u001b[0m\u001b[38;5;208msh\u001b[0m\u001b[38;5;208m\"\u001b[0m\u001b[38;5;231m:\u001b[0m\u001b[38;5;231m \u001b[0m\u001b[38;5;141mnull\u001b[0m\n",
      "\u001b[38;5;238m  38\u001b[0m   \u001b[38;5;238m│\u001b[0m \u001b[38;5;231m    \u001b[0m\u001b[38;5;231m}\u001b[0m\n",
      "\u001b[38;5;238m  39\u001b[0m   \u001b[38;5;238m│\u001b[0m \u001b[38;5;231m  \u001b[0m\u001b[38;5;231m]\u001b[0m\n",
      "\u001b[38;5;238m  40\u001b[0m   \u001b[38;5;238m│\u001b[0m \u001b[38;5;231m}\u001b[0m\n",
      "\u001b[38;5;238m───────┴────────────────────────────────────────────────────────────────────────\u001b[0m\n"
     ]
    }
   ],
   "source": [
    "!cat {workflow_json_filename}"
   ]
  },
  {
   "cell_type": "markdown",
   "metadata": {},
   "source": [
    "## Load Workflow with jobflow"
   ]
  },
  {
   "cell_type": "code",
   "execution_count": 9,
   "metadata": {
    "trusted": true
   },
   "outputs": [
    {
     "name": "stderr",
     "output_type": "stream",
     "text": [
      "/home/geiger_j/.aiida_venvs/adis/lib/python3.10/site-packages/paramiko/pkey.py:82: CryptographyDeprecationWarning: TripleDES has been moved to cryptography.hazmat.decrepit.ciphers.algorithms.TripleDES and will be removed from this module in 48.0.0.\n",
      "  \"cipher\": algorithms.TripleDES,\n",
      "/home/geiger_j/.aiida_venvs/adis/lib/python3.10/site-packages/paramiko/transport.py:253: CryptographyDeprecationWarning: TripleDES has been moved to cryptography.hazmat.decrepit.ciphers.algorithms.TripleDES and will be removed from this module in 48.0.0.\n",
      "  \"class\": algorithms.TripleDES,\n"
     ]
    }
   ],
   "source": [
    "from python_workflow_definition.jobflow import load_workflow_json"
   ]
  },
  {
   "cell_type": "code",
   "execution_count": 10,
   "metadata": {
    "trusted": true
   },
   "outputs": [],
   "source": [
    "from jobflow.managers.local import run_locally"
   ]
  },
  {
   "cell_type": "code",
   "execution_count": 11,
   "metadata": {
    "trusted": true
   },
   "outputs": [],
   "source": [
    "flow = load_workflow_json(file_name=workflow_json_filename)"
   ]
  },
  {
   "cell_type": "code",
   "execution_count": 12,
   "metadata": {
    "trusted": true
   },
   "outputs": [
    {
     "name": "stdout",
     "output_type": "stream",
     "text": [
      "2025-04-02 14:22:25,312 INFO Started executing jobs locally\n",
      "2025-04-02 14:22:25,474 INFO Starting job - add_x_and_y (064f2b60-33e7-4cee-b5cd-c35156989e6f)\n",
      "2025-04-02 14:22:25,476 INFO Finished job - add_x_and_y (064f2b60-33e7-4cee-b5cd-c35156989e6f)\n",
      "2025-04-02 14:22:25,477 INFO Starting job - add_x_and_y_and_z (287a5309-63df-4256-ba6b-4bd56ee20881)\n",
      "2025-04-02 14:22:25,479 INFO Finished job - add_x_and_y_and_z (287a5309-63df-4256-ba6b-4bd56ee20881)\n",
      "2025-04-02 14:22:25,479 INFO Finished executing jobs locally\n"
     ]
    },
    {
     "data": {
      "text/plain": [
       "{'064f2b60-33e7-4cee-b5cd-c35156989e6f': {1: Response(output={'x': 1, 'y': 2, 'z': 3}, detour=None, addition=None, replace=None, stored_data=None, stop_children=False, stop_jobflow=False, job_dir=PosixPath('/home/geiger_j/aiida_projects/adis/git-repos/python-workflow-definition'))},\n",
       " '287a5309-63df-4256-ba6b-4bd56ee20881': {1: Response(output=6, detour=None, addition=None, replace=None, stored_data=None, stop_children=False, stop_jobflow=False, job_dir=PosixPath('/home/geiger_j/aiida_projects/adis/git-repos/python-workflow-definition'))}}"
      ]
     },
     "execution_count": 12,
     "metadata": {},
     "output_type": "execute_result"
    }
   ],
   "source": [
    "result = run_locally(flow)\n",
    "result"
   ]
  },
  {
   "cell_type": "markdown",
   "metadata": {},
   "source": [
    "## Load Workflow with pyiron_base"
   ]
  },
  {
   "cell_type": "code",
   "execution_count": 13,
   "metadata": {
    "trusted": true
   },
   "outputs": [],
   "source": [
    "from pyiron_base import Project"
   ]
  },
  {
   "cell_type": "code",
   "execution_count": 14,
   "metadata": {
    "trusted": true
   },
   "outputs": [],
   "source": [
    "from python_workflow_definition.pyiron_base import load_workflow_json"
   ]
  },
  {
   "cell_type": "code",
   "execution_count": 15,
   "metadata": {
    "trusted": true
   },
   "outputs": [
    {
     "data": {
      "application/vnd.jupyter.widget-view+json": {
       "model_id": "1621d094918943178c0a712c147c25af",
       "version_major": 2,
       "version_minor": 0
      },
      "text/plain": [
       "  0%|          | 0/2 [00:00<?, ?it/s]"
      ]
     },
     "metadata": {},
     "output_type": "display_data"
    }
   ],
   "source": [
    "pr = Project(\"test\")\n",
    "pr.remove_jobs(recursive=True, silently=True)"
   ]
  },
  {
   "cell_type": "code",
   "execution_count": 16,
   "metadata": {
    "trusted": true
   },
   "outputs": [
    {
     "data": {
      "image/svg+xml": [
       "<svg xmlns=\"http://www.w3.org/2000/svg\" xmlns:xlink=\"http://www.w3.org/1999/xlink\" width=\"1719pt\" height=\"188pt\" viewBox=\"0.00 0.00 1718.65 188.00\">\n",
       "<g id=\"graph0\" class=\"graph\" transform=\"scale(1 1) rotate(0) translate(4 184)\">\n",
       "<polygon fill=\"white\" stroke=\"transparent\" points=\"-4,4 -4,-184 1714.65,-184 1714.65,4 -4,4\"/>\n",
       "<!-- create_function_job_c7d5a2eaf006faed5e048478186e5006 -->\n",
       "<g id=\"node1\" class=\"node\">\n",
       "<title>create_function_job_c7d5a2eaf006faed5e048478186e5006</title>\n",
       "<ellipse fill=\"none\" stroke=\"black\" cx=\"856.48\" cy=\"-18\" rx=\"345.24\" ry=\"18\"/>\n",
       "<text text-anchor=\"middle\" x=\"856.48\" y=\"-14.3\" font-family=\"Times,serif\" font-size=\"14.00\">create_function_job=&lt;pyiron_base.project.delayed.DelayedObject object at 0x71a5dafa0790&gt;</text>\n",
       "</g>\n",
       "<!-- x_72c4a551025d57f72dca17727aef044e -->\n",
       "<g id=\"node2\" class=\"node\">\n",
       "<title>x_72c4a551025d57f72dca17727aef044e</title>\n",
       "<ellipse fill=\"none\" stroke=\"black\" cx=\"279.48\" cy=\"-90\" rx=\"279.45\" ry=\"18\"/>\n",
       "<text text-anchor=\"middle\" x=\"279.48\" y=\"-86.3\" font-family=\"Times,serif\" font-size=\"14.00\">x=&lt;pyiron_base.project.delayed.DelayedObject object at 0x71a5dafa0100&gt;</text>\n",
       "</g>\n",
       "<!-- x_72c4a551025d57f72dca17727aef044e&#45;&gt;create_function_job_c7d5a2eaf006faed5e048478186e5006 -->\n",
       "<g id=\"edge1\" class=\"edge\">\n",
       "<title>x_72c4a551025d57f72dca17727aef044e-&gt;create_function_job_c7d5a2eaf006faed5e048478186e5006</title>\n",
       "<path fill=\"none\" stroke=\"black\" d=\"M404.32,-73.85C496.41,-62.68 621.75,-47.48 717.11,-35.91\"/>\n",
       "<polygon fill=\"black\" stroke=\"black\" points=\"717.61,-39.37 727.12,-34.69 716.77,-32.42 717.61,-39.37\"/>\n",
       "</g>\n",
       "<!-- x_1d847da32ecaabf6731c38f798c3d4ce -->\n",
       "<g id=\"node3\" class=\"node\">\n",
       "<title>x_1d847da32ecaabf6731c38f798c3d4ce</title>\n",
       "<ellipse fill=\"none\" stroke=\"black\" cx=\"820.48\" cy=\"-162\" rx=\"27\" ry=\"18\"/>\n",
       "<text text-anchor=\"middle\" x=\"820.48\" y=\"-158.3\" font-family=\"Times,serif\" font-size=\"14.00\">x=1</text>\n",
       "</g>\n",
       "<!-- x_1d847da32ecaabf6731c38f798c3d4ce&#45;&gt;x_72c4a551025d57f72dca17727aef044e -->\n",
       "<g id=\"edge2\" class=\"edge\">\n",
       "<title>x_1d847da32ecaabf6731c38f798c3d4ce-&gt;x_72c4a551025d57f72dca17727aef044e</title>\n",
       "<path fill=\"none\" stroke=\"black\" d=\"M794.02,-157.58C725.11,-148.66 536.58,-124.27 407.91,-107.62\"/>\n",
       "<polygon fill=\"black\" stroke=\"black\" points=\"408.35,-104.15 397.98,-106.33 407.45,-111.09 408.35,-104.15\"/>\n",
       "</g>\n",
       "<!-- y_454d7f4e4b54021d3386dcdafb7344ee -->\n",
       "<g id=\"node4\" class=\"node\">\n",
       "<title>y_454d7f4e4b54021d3386dcdafb7344ee</title>\n",
       "<ellipse fill=\"none\" stroke=\"black\" cx=\"856.48\" cy=\"-90\" rx=\"279.45\" ry=\"18\"/>\n",
       "<text text-anchor=\"middle\" x=\"856.48\" y=\"-86.3\" font-family=\"Times,serif\" font-size=\"14.00\">y=&lt;pyiron_base.project.delayed.DelayedObject object at 0x71a5dafa0130&gt;</text>\n",
       "</g>\n",
       "<!-- x_1d847da32ecaabf6731c38f798c3d4ce&#45;&gt;y_454d7f4e4b54021d3386dcdafb7344ee -->\n",
       "<g id=\"edge3\" class=\"edge\">\n",
       "<title>x_1d847da32ecaabf6731c38f798c3d4ce-&gt;y_454d7f4e4b54021d3386dcdafb7344ee</title>\n",
       "<path fill=\"none\" stroke=\"black\" d=\"M828.82,-144.76C833.02,-136.61 838.2,-126.53 842.95,-117.31\"/>\n",
       "<polygon fill=\"black\" stroke=\"black\" points=\"846.21,-118.62 847.67,-108.12 839.98,-115.42 846.21,-118.62\"/>\n",
       "</g>\n",
       "<!-- z_7b1d0ad3687984f980950fa9864be0fd -->\n",
       "<g id=\"node5\" class=\"node\">\n",
       "<title>z_7b1d0ad3687984f980950fa9864be0fd</title>\n",
       "<ellipse fill=\"none\" stroke=\"black\" cx=\"1432.48\" cy=\"-90\" rx=\"278.35\" ry=\"18\"/>\n",
       "<text text-anchor=\"middle\" x=\"1432.48\" y=\"-86.3\" font-family=\"Times,serif\" font-size=\"14.00\">z=&lt;pyiron_base.project.delayed.DelayedObject object at 0x71a5dafa00a0&gt;</text>\n",
       "</g>\n",
       "<!-- x_1d847da32ecaabf6731c38f798c3d4ce&#45;&gt;z_7b1d0ad3687984f980950fa9864be0fd -->\n",
       "<g id=\"edge4\" class=\"edge\">\n",
       "<title>x_1d847da32ecaabf6731c38f798c3d4ce-&gt;z_7b1d0ad3687984f980950fa9864be0fd</title>\n",
       "<path fill=\"none\" stroke=\"black\" d=\"M840.94,-149.83C845.9,-147.55 851.27,-145.42 856.48,-144 922.93,-125.86 1083.58,-111.94 1218.38,-102.93\"/>\n",
       "<polygon fill=\"black\" stroke=\"black\" points=\"1218.71,-106.42 1228.45,-102.26 1218.24,-99.43 1218.71,-106.42\"/>\n",
       "</g>\n",
       "<!-- y_454d7f4e4b54021d3386dcdafb7344ee&#45;&gt;create_function_job_c7d5a2eaf006faed5e048478186e5006 -->\n",
       "<g id=\"edge8\" class=\"edge\">\n",
       "<title>y_454d7f4e4b54021d3386dcdafb7344ee-&gt;create_function_job_c7d5a2eaf006faed5e048478186e5006</title>\n",
       "<path fill=\"none\" stroke=\"black\" d=\"M856.48,-71.7C856.48,-63.98 856.48,-54.71 856.48,-46.11\"/>\n",
       "<polygon fill=\"black\" stroke=\"black\" points=\"859.98,-46.1 856.48,-36.1 852.98,-46.1 859.98,-46.1\"/>\n",
       "</g>\n",
       "<!-- z_7b1d0ad3687984f980950fa9864be0fd&#45;&gt;create_function_job_c7d5a2eaf006faed5e048478186e5006 -->\n",
       "<g id=\"edge9\" class=\"edge\">\n",
       "<title>z_7b1d0ad3687984f980950fa9864be0fd-&gt;create_function_job_c7d5a2eaf006faed5e048478186e5006</title>\n",
       "<path fill=\"none\" stroke=\"black\" d=\"M1307.85,-73.85C1215.91,-62.68 1090.79,-47.48 995.6,-35.91\"/>\n",
       "<polygon fill=\"black\" stroke=\"black\" points=\"995.96,-32.43 985.61,-34.69 995.12,-39.37 995.96,-32.43\"/>\n",
       "</g>\n",
       "<!-- y_a9ec4f5f33f0d64e74ed5d9900bceac6 -->\n",
       "<g id=\"node6\" class=\"node\">\n",
       "<title>y_a9ec4f5f33f0d64e74ed5d9900bceac6</title>\n",
       "<ellipse fill=\"none\" stroke=\"black\" cx=\"892.48\" cy=\"-162\" rx=\"27\" ry=\"18\"/>\n",
       "<text text-anchor=\"middle\" x=\"892.48\" y=\"-158.3\" font-family=\"Times,serif\" font-size=\"14.00\">y=2</text>\n",
       "</g>\n",
       "<!-- y_a9ec4f5f33f0d64e74ed5d9900bceac6&#45;&gt;x_72c4a551025d57f72dca17727aef044e -->\n",
       "<g id=\"edge5\" class=\"edge\">\n",
       "<title>y_a9ec4f5f33f0d64e74ed5d9900bceac6-&gt;x_72c4a551025d57f72dca17727aef044e</title>\n",
       "<path fill=\"none\" stroke=\"black\" d=\"M872.01,-149.83C867.05,-147.55 861.68,-145.42 856.48,-144 789.96,-125.85 629.26,-111.94 494.3,-102.94\"/>\n",
       "<polygon fill=\"black\" stroke=\"black\" points=\"494.43,-99.44 484.22,-102.27 493.96,-106.42 494.43,-99.44\"/>\n",
       "</g>\n",
       "<!-- y_a9ec4f5f33f0d64e74ed5d9900bceac6&#45;&gt;y_454d7f4e4b54021d3386dcdafb7344ee -->\n",
       "<g id=\"edge6\" class=\"edge\">\n",
       "<title>y_a9ec4f5f33f0d64e74ed5d9900bceac6-&gt;y_454d7f4e4b54021d3386dcdafb7344ee</title>\n",
       "<path fill=\"none\" stroke=\"black\" d=\"M884.13,-144.76C879.93,-136.61 874.75,-126.53 870,-117.31\"/>\n",
       "<polygon fill=\"black\" stroke=\"black\" points=\"872.97,-115.42 865.28,-108.12 866.74,-118.62 872.97,-115.42\"/>\n",
       "</g>\n",
       "<!-- y_a9ec4f5f33f0d64e74ed5d9900bceac6&#45;&gt;z_7b1d0ad3687984f980950fa9864be0fd -->\n",
       "<g id=\"edge7\" class=\"edge\">\n",
       "<title>y_a9ec4f5f33f0d64e74ed5d9900bceac6-&gt;z_7b1d0ad3687984f980950fa9864be0fd</title>\n",
       "<path fill=\"none\" stroke=\"black\" d=\"M918.89,-157.58C987.59,-148.67 1175.47,-124.32 1303.89,-107.67\"/>\n",
       "<polygon fill=\"black\" stroke=\"black\" points=\"1304.72,-111.09 1314.19,-106.33 1303.82,-104.15 1304.72,-111.09\"/>\n",
       "</g>\n",
       "</g>\n",
       "</svg>"
      ],
      "text/plain": [
       "<IPython.core.display.SVG object>"
      ]
     },
     "metadata": {},
     "output_type": "display_data"
    }
   ],
   "source": [
    "delayed_object = load_workflow_json(project=pr, file_name=workflow_json_filename)\n",
    "delayed_object.draw()"
   ]
  },
  {
   "cell_type": "code",
   "execution_count": 17,
   "metadata": {
    "trusted": true
   },
   "outputs": [
    {
     "name": "stdout",
     "output_type": "stream",
     "text": [
      "The job add_x_and_y_68901482a2c5221cc845f828aabebd27 was saved and received the ID: 2\n",
      "The job add_x_and_y_and_z_b671e81aaa4670d81d7eee509650af8d was saved and received the ID: 3\n"
     ]
    },
    {
     "data": {
      "text/plain": [
       "6"
      ]
     },
     "execution_count": 17,
     "metadata": {},
     "output_type": "execute_result"
    }
   ],
   "source": [
    "delayed_object.pull()"
   ]
  }
 ],
 "metadata": {
  "kernelspec": {
   "display_name": "Python 3 (ipykernel)",
   "language": "python",
   "name": "python3"
  },
  "language_info": {
   "codemirror_mode": {
    "name": "ipython",
    "version": 3
   },
   "file_extension": ".py",
   "mimetype": "text/x-python",
   "name": "python",
   "nbconvert_exporter": "python",
   "pygments_lexer": "ipython3",
   "version": "3.12.8"
  }
 },
 "nbformat": 4,
 "nbformat_minor": 4
}
