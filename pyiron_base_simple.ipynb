{
 "cells": [
  {
   "cell_type": "markdown",
   "id": "c39b76fb-259f-4e16-a44d-02a295c82386",
   "metadata": {},
   "source": [
    "# Simple Workflow with pyiron_base"
   ]
  },
  {
   "cell_type": "markdown",
   "id": "3638419b-a0cb-49e2-b157-7fbb1acde90f",
   "metadata": {},
   "source": [
    "## Define workflow with pyiron_base"
   ]
  },
  {
   "cell_type": "code",
   "execution_count": 1,
   "id": "b4a78447-e87c-4fb4-8d17-d9a280eb7254",
   "metadata": {},
   "outputs": [],
   "source": [
    "from pyiron_base import Project, job"
   ]
  },
  {
   "cell_type": "code",
   "execution_count": 2,
   "id": "06c2bd9e-b2ac-4b88-9158-fa37331c3418",
   "metadata": {},
   "outputs": [],
   "source": [
    "from python_workflow_definition.pyiron_base import write_workflow_json"
   ]
  },
  {
   "cell_type": "code",
   "execution_count": 3,
   "id": "fb847d49-7bf9-4839-9b99-c116d1b0e9ee",
   "metadata": {},
   "outputs": [],
   "source": [
    "from simple_workflow import (\n",
    "    add_x_and_y as _add_x_and_y, \n",
    "    add_x_and_y_and_z as _add_x_and_y_and_z,\n",
    ")"
   ]
  },
  {
   "cell_type": "code",
   "execution_count": 4,
   "id": "8f95244e",
   "metadata": {},
   "outputs": [],
   "source": [
    "workflow_json_filename = \"pyiron_base_simple.json\""
   ]
  },
  {
   "cell_type": "code",
   "execution_count": 5,
   "id": "07598344-0f75-433b-8902-bea21a42088c",
   "metadata": {},
   "outputs": [],
   "source": [
    "add_x_and_y = job(_add_x_and_y, output_key_lst=[\"x\", \"y\", \"z\"])\n",
    "add_x_and_y_and_z = job(_add_x_and_y_and_z)"
   ]
  },
  {
   "cell_type": "code",
   "execution_count": 6,
   "id": "ecef1ed5-a8d3-48c3-9e01-4a40e55c1153",
   "metadata": {},
   "outputs": [
    {
     "data": {
      "application/vnd.jupyter.widget-view+json": {
       "model_id": "eef958d12626414fb2eb17cb6d1e378a",
       "version_major": 2,
       "version_minor": 0
      },
      "text/plain": [
       "  0%|          | 0/2 [00:00<?, ?it/s]"
      ]
     },
     "metadata": {},
     "output_type": "display_data"
    }
   ],
   "source": [
    "pr = Project(\"test\")\n",
    "pr.remove_jobs(recursive=True, silently=True)"
   ]
  },
  {
   "cell_type": "code",
   "execution_count": 7,
   "id": "2b88a30a-e26b-4802-89b7-79ca08cc0af9",
   "metadata": {},
   "outputs": [],
   "source": [
    "obj = add_x_and_y(x=1, y=2, pyiron_project=pr)"
   ]
  },
  {
   "cell_type": "code",
   "execution_count": 8,
   "id": "a5e5ca63-2906-47c9-bac6-adebf8643cba",
   "metadata": {},
   "outputs": [],
   "source": [
    "w = add_x_and_y_and_z(x=obj.output.x, y=obj.output.y, z=obj.output.z, pyiron_project=pr)"
   ]
  },
  {
   "cell_type": "code",
   "execution_count": 9,
   "id": "e464da97-16a1-4772-9a07-0a47f152781d",
   "metadata": {},
   "outputs": [],
   "source": [
    "write_workflow_json(delayed_object=w, file_name=workflow_json_filename)"
   ]
  },
  {
   "cell_type": "code",
   "execution_count": 10,
   "id": "bca646b2-0a9a-4271-966a-e5903a8c9031",
   "metadata": {},
   "outputs": [
    {
     "name": "stdout",
     "output_type": "stream",
     "text": [
      "{\"nodes\": {\"0\": \"simple_workflow.add_x_and_y_and_z\", \"1\": \"simple_workflow.add_x_and_y\", \"2\": 1, \"3\": 2}, \"edges\": [{\"target\": 0, \"targetHandle\": \"x\", \"source\": 1, \"sourceHandle\": \"x\"}, {\"target\": 1, \"targetHandle\": \"x\", \"source\": 2, \"sourceHandle\": null}, {\"target\": 1, \"targetHandle\": \"y\", \"source\": 3, \"sourceHandle\": null}, {\"target\": 0, \"targetHandle\": \"y\", \"source\": 1, \"sourceHandle\": \"y\"}, {\"target\": 0, \"targetHandle\": \"z\", \"source\": 1, \"sourceHandle\": \"z\"}]}"
     ]
    }
   ],
   "source": [
    "!cat {workflow_json_filename}"
   ]
  },
  {
   "cell_type": "markdown",
   "id": "a4c0faaf-e30d-4ded-8e9f-57f97f51b14c",
   "metadata": {},
   "source": [
    "## Load Workflow with aiida"
   ]
  },
  {
   "cell_type": "code",
   "execution_count": 11,
   "id": "2ecc229f-daa1-49b9-9279-a6b5ae1aa4f2",
   "metadata": {},
   "outputs": [
    {
     "data": {
      "text/plain": [
       "Profile<uuid='c08748df7ab74ec08c14e5f16cebc987' name='pwd'>"
      ]
     },
     "execution_count": 11,
     "metadata": {},
     "output_type": "execute_result"
    }
   ],
   "source": [
    "from aiida import load_profile\n",
    "\n",
    "load_profile()"
   ]
  },
  {
   "cell_type": "code",
   "execution_count": 12,
   "id": "68a56b32-9f99-43d7-aaee-0c1cd9522681",
   "metadata": {},
   "outputs": [],
   "source": [
    "from python_workflow_definition.aiida import load_workflow_json"
   ]
  },
  {
   "cell_type": "code",
   "execution_count": 13,
   "id": "8f2a621d-b533-4ddd-8bcd-c22db2f922ec",
   "metadata": {},
   "outputs": [
    {
     "data": {
      "application/vnd.jupyter.widget-view+json": {
       "model_id": "a2bef88370ca4a7da692020d2828d425",
       "version_major": 2,
       "version_minor": 1
      },
      "text/plain": [
       "NodeGraphWidget(settings={'minimap': True}, style={'width': '90%', 'height': '600px'}, value={'name': 'WorkGra…"
      ]
     },
     "execution_count": 13,
     "metadata": {},
     "output_type": "execute_result"
    }
   ],
   "source": [
    "wg = load_workflow_json(file_name=workflow_json_filename)\n",
    "wg"
   ]
  },
  {
   "cell_type": "code",
   "execution_count": 14,
   "id": "cf80267d-c2b0-4236-bf1d-a57596985fc1",
   "metadata": {},
   "outputs": [
    {
     "name": "stderr",
     "output_type": "stream",
     "text": [
      "03/22/2025 05:14:45 PM <24142> aiida.orm.nodes.process.workflow.workchain.WorkChainNode: [REPORT] [53|WorkGraphEngine|continue_workgraph]: tasks ready to run: pickle_node3,pickle_node4\n",
      "03/22/2025 05:14:47 PM <24142> aiida.orm.nodes.process.workflow.workchain.WorkChainNode: [REPORT] [53|WorkGraphEngine|on_wait]: Process status: Waiting for child processes: 60, 67\n",
      "03/22/2025 05:14:58 PM <24142> aiida.orm.nodes.process.workflow.workchain.WorkChainNode: [REPORT] [53|WorkGraphEngine|update_task_state]: Task: pickle_node3, type: PYTHONJOB, finished.\n",
      "03/22/2025 05:14:58 PM <24142> aiida.orm.nodes.process.workflow.workchain.WorkChainNode: [REPORT] [53|WorkGraphEngine|update_task_state]: Task: pickle_node4, type: PYTHONJOB, finished.\n"
     ]
    },
    {
     "name": "stdout",
     "output_type": "stream",
     "text": [
      "invalid state\n"
     ]
    },
    {
     "name": "stderr",
     "output_type": "stream",
     "text": [
      "03/22/2025 05:14:59 PM <24142> aiida.orm.nodes.process.workflow.workchain.WorkChainNode: [REPORT] [53|WorkGraphEngine|continue_workgraph]: tasks ready to run: add_x_and_y2\n",
      "03/22/2025 05:14:59 PM <24142> aiida.orm.nodes.process.workflow.workchain.WorkChainNode: [REPORT] [53|WorkGraphEngine|on_wait]: Process status: Waiting for child processes: 82\n",
      "03/22/2025 05:15:06 PM <24142> aiida.orm.nodes.process.workflow.workchain.WorkChainNode: [REPORT] [53|WorkGraphEngine|update_task_state]: Task: add_x_and_y2, type: PYTHONJOB, finished.\n",
      "03/22/2025 05:15:07 PM <24142> aiida.orm.nodes.process.workflow.workchain.WorkChainNode: [REPORT] [53|WorkGraphEngine|continue_workgraph]: tasks ready to run: add_x_and_y_and_z1\n",
      "03/22/2025 05:15:07 PM <24142> aiida.orm.nodes.process.workflow.workchain.WorkChainNode: [REPORT] [53|WorkGraphEngine|on_wait]: Process status: Waiting for child processes: 95\n",
      "03/22/2025 05:15:15 PM <24142> aiida.orm.nodes.process.workflow.workchain.WorkChainNode: [REPORT] [53|WorkGraphEngine|update_task_state]: Task: add_x_and_y_and_z1, type: PYTHONJOB, finished.\n",
      "03/22/2025 05:15:15 PM <24142> aiida.orm.nodes.process.workflow.workchain.WorkChainNode: [REPORT] [53|WorkGraphEngine|continue_workgraph]: tasks ready to run: \n",
      "03/22/2025 05:15:15 PM <24142> aiida.orm.nodes.process.workflow.workchain.WorkChainNode: [REPORT] [53|WorkGraphEngine|finalize]: Finalize workgraph.\n"
     ]
    }
   ],
   "source": [
    "\n",
    "wg.run()"
   ]
  },
  {
   "cell_type": "markdown",
   "id": "0c3503e1-0a32-40e1-845d-3fd9ec3c4c19",
   "metadata": {},
   "source": [
    "## Load Workflow with jobflow"
   ]
  },
  {
   "cell_type": "code",
   "execution_count": 15,
   "id": "4abb0481-8e38-479d-ae61-6c46d091653e",
   "metadata": {},
   "outputs": [
    {
     "name": "stderr",
     "output_type": "stream",
     "text": [
      "/home/jan/mambaforge/lib/python3.12/site-packages/paramiko/pkey.py:82: CryptographyDeprecationWarning: TripleDES has been moved to cryptography.hazmat.decrepit.ciphers.algorithms.TripleDES and will be removed from cryptography.hazmat.primitives.ciphers.algorithms in 48.0.0.\n",
      "  \"cipher\": algorithms.TripleDES,\n",
      "/home/jan/mambaforge/lib/python3.12/site-packages/paramiko/transport.py:253: CryptographyDeprecationWarning: TripleDES has been moved to cryptography.hazmat.decrepit.ciphers.algorithms.TripleDES and will be removed from cryptography.hazmat.primitives.ciphers.algorithms in 48.0.0.\n",
      "  \"class\": algorithms.TripleDES,\n"
     ]
    }
   ],
   "source": [
    "from python_workflow_definition.jobflow import load_workflow_json"
   ]
  },
  {
   "cell_type": "code",
   "execution_count": 16,
   "id": "8253dd7c283bf3f7",
   "metadata": {},
   "outputs": [],
   "source": [
    "from jobflow.managers.local import run_locally"
   ]
  },
  {
   "cell_type": "code",
   "execution_count": 17,
   "id": "4b45e83b-945f-48c5-8e20-9df0ce0a14a1",
   "metadata": {},
   "outputs": [],
   "source": [
    "flow = load_workflow_json(file_name=workflow_json_filename)"
   ]
  },
  {
   "cell_type": "code",
   "execution_count": 18,
   "id": "8665c39c-220c-4982-b738-c31f6460530f",
   "metadata": {},
   "outputs": [
    {
     "name": "stdout",
     "output_type": "stream",
     "text": [
      "2025-03-22 17:15:17,020 INFO Started executing jobs locally\n",
      "2025-03-22 17:15:17,608 INFO Starting job - add_x_and_y (0ff79865-353c-4e5c-9e0c-6d9ed576e001)\n",
      "2025-03-22 17:15:17,610 INFO Finished job - add_x_and_y (0ff79865-353c-4e5c-9e0c-6d9ed576e001)\n",
      "2025-03-22 17:15:17,612 INFO Starting job - add_x_and_y_and_z (1d6e359b-898d-4784-a86d-ca858fc2fcfd)\n",
      "2025-03-22 17:15:17,615 INFO Finished job - add_x_and_y_and_z (1d6e359b-898d-4784-a86d-ca858fc2fcfd)\n",
      "2025-03-22 17:15:17,615 INFO Finished executing jobs locally\n"
     ]
    },
    {
     "data": {
      "text/plain": [
       "{'0ff79865-353c-4e5c-9e0c-6d9ed576e001': {1: Response(output={'x': 1, 'y': 2, 'z': 3}, detour=None, addition=None, replace=None, stored_data=None, stop_children=False, stop_jobflow=False, job_dir=PosixPath('/home/jan/notebooks/2025/2025-03-22-compare-workflows'))},\n",
       " '1d6e359b-898d-4784-a86d-ca858fc2fcfd': {1: Response(output=6, detour=None, addition=None, replace=None, stored_data=None, stop_children=False, stop_jobflow=False, job_dir=PosixPath('/home/jan/notebooks/2025/2025-03-22-compare-workflows'))}}"
      ]
     },
     "execution_count": 18,
     "metadata": {},
     "output_type": "execute_result"
    }
   ],
   "source": [
    "result = run_locally(flow)\n",
    "result"
   ]
  },
  {
   "cell_type": "code",
   "execution_count": null,
   "id": "cf76f305-24de-45a7-be8e-cfe45cd6458e",
   "metadata": {},
   "outputs": [],
   "source": []
  }
 ],
 "metadata": {
  "kernelspec": {
   "display_name": "Python 3 (ipykernel)",
   "language": "python",
   "name": "python3"
  },
  "language_info": {
   "codemirror_mode": {
    "name": "ipython",
    "version": 3
   },
   "file_extension": ".py",
   "mimetype": "text/x-python",
   "name": "python",
   "nbconvert_exporter": "python",
   "pygments_lexer": "ipython3",
   "version": "3.12.5"
  }
 },
 "nbformat": 4,
 "nbformat_minor": 5
}
