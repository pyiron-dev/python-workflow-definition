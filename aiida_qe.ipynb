{
 "cells": [
  {
   "cell_type": "markdown",
   "metadata": {},
   "source": [
    "# Quantum Espresso Energy Volume Curve Workflow with aiida"
   ]
  },
  {
   "cell_type": "markdown",
   "metadata": {},
   "source": [
    "## Define workflow with aiida"
   ]
  },
  {
   "cell_type": "code",
   "execution_count": null,
   "metadata": {
    "trusted": true
   },
   "outputs": [],
   "source": [
    "from python_workflow_definition.aiida import write_workflow_json\n",
    "from python_workflow_definition.shared import get_dict, get_list\n",
    "\n",
    "from aiida import load_profile\n",
    "\n",
    "load_profile()\n",
    "\n",
    "workflow_json_filename = \"aiida_qe.json\""
   ]
  },
  {
   "cell_type": "code",
   "execution_count": null,
   "metadata": {
    "trusted": true
   },
   "outputs": [],
   "source": [
    "from aiida_workgraph import task, WorkGraph"
   ]
  },
  {
   "cell_type": "code",
   "execution_count": null,
   "metadata": {
    "trusted": true
   },
   "outputs": [],
   "source": [
    "@task.pythonjob()\n",
    "def pickle_node(value):\n",
    "    \"\"\"Handle data nodes\"\"\"\n",
    "    return value"
   ]
  },
  {
   "cell_type": "code",
   "execution_count": null,
   "metadata": {
    "trusted": true
   },
   "outputs": [],
   "source": [
    "from quantum_espresso_workflow import generate_structures as _generate_structures\n",
    "from quantum_espresso_workflow import get_bulk_structure as _get_bulk_structure\n",
    "from quantum_espresso_workflow import calculate_qe as _calculate_qe\n",
    "from quantum_espresso_workflow import (\n",
    "    plot_energy_volume_curve as _plot_energy_volume_curve,\n",
    ")"
   ]
  },
  {
   "cell_type": "code",
   "execution_count": null,
   "metadata": {
    "trusted": true
   },
   "outputs": [],
   "source": [
    "strain_lst = [0.9, 0.95, 1.0, 1.05, 1.1]"
   ]
  },
  {
   "cell_type": "code",
   "execution_count": null,
   "metadata": {
    "trusted": true
   },
   "outputs": [],
   "source": [
    "get_bulk_structure = task.pythonjob()(_get_bulk_structure)\n",
    "generate_structures = task.pythonjob()(_generate_structures)\n",
    "calculate_qe = task.pythonjob(outputs=[\"energy\", \"volume\", \"structure\"])(_calculate_qe)\n",
    "plot_energy_volume_curve = task.pythonjob()(_plot_energy_volume_curve)"
   ]
  },
  {
   "cell_type": "code",
   "execution_count": null,
   "metadata": {
    "trusted": true
   },
   "outputs": [],
   "source": [
    "wg = WorkGraph(\"wg-qe\")"
   ]
  },
  {
   "cell_type": "markdown",
   "metadata": {},
   "source": [
    "## Helper tasks that just pickle input data"
   ]
  },
  {
   "cell_type": "code",
   "execution_count": null,
   "metadata": {
    "trusted": true
   },
   "outputs": [],
   "source": [
    "pickle_element_task = wg.add_task(\n",
    "    pickle_node,\n",
    "    name=\"pickle_element\",\n",
    "    value=\"Al\",\n",
    ")"
   ]
  },
  {
   "cell_type": "code",
   "execution_count": null,
   "metadata": {
    "trusted": true
   },
   "outputs": [],
   "source": [
    "pickle_a_task = wg.add_task(pickle_node, name=\"pickle_a\", value=4.05)"
   ]
  },
  {
   "cell_type": "code",
   "execution_count": null,
   "metadata": {
    "trusted": true
   },
   "outputs": [],
   "source": [
    "pickle_cubic_task = wg.add_task(pickle_node, name=\"pickle_cubic\", value=True)"
   ]
  },
  {
   "cell_type": "code",
   "execution_count": null,
   "metadata": {
    "trusted": true
   },
   "outputs": [],
   "source": [
    "pickle_relax_workdir_task = wg.add_task(\n",
    "    pickle_node,\n",
    "    name=\"pickle_relax_workdir\",\n",
    "    value=\"mini\",\n",
    ")"
   ]
  },
  {
   "cell_type": "code",
   "execution_count": null,
   "metadata": {
    "trusted": true
   },
   "outputs": [],
   "source": [
    "pickle_pp_task = wg.add_task(\n",
    "    pickle_node,\n",
    "    name=\"pseudopotentials\",\n",
    "    value={\"Al\": \"Al.pbe-n-kjpaw_psl.1.0.0.UPF\"},\n",
    ")"
   ]
  },
  {
   "cell_type": "code",
   "execution_count": null,
   "metadata": {
    "trusted": true
   },
   "outputs": [],
   "source": [
    "pickle_kpts_task = wg.add_task(pickle_node, name=\"kpts_task\", value=[3, 3, 3])"
   ]
  },
  {
   "cell_type": "code",
   "execution_count": null,
   "metadata": {
    "trusted": true
   },
   "outputs": [],
   "source": [
    "pickle_calc_type_relax_task = wg.add_task(\n",
    "    pickle_node,\n",
    "    name=\"calc_type_relax\",\n",
    "    value=\"vc-relax\",\n",
    ")"
   ]
  },
  {
   "cell_type": "code",
   "execution_count": null,
   "metadata": {},
   "outputs": [],
   "source": [
    "pickle_calc_type_scf_task = wg.add_task(\n",
    "    pickle_node,\n",
    "    name=\"calc_type_scf\",\n",
    "    value=\"scf\",\n",
    ")"
   ]
  },
  {
   "cell_type": "code",
   "execution_count": null,
   "metadata": {
    "trusted": true
   },
   "outputs": [],
   "source": [
    "pickle_smearing_task = wg.add_task(pickle_node, name=\"smearing\", value=0.02)"
   ]
  },
  {
   "cell_type": "code",
   "execution_count": null,
   "metadata": {
    "trusted": true
   },
   "outputs": [],
   "source": [
    "pickle_strain_lst_task = wg.add_task(\n",
    "    pickle_node,\n",
    "    name=\"pickle_strain_lst\",\n",
    "    value=strain_lst,\n",
    ")"
   ]
  },
  {
   "cell_type": "markdown",
   "metadata": {},
   "source": [
    "## Actual tasks to construct the EOS workflow"
   ]
  },
  {
   "cell_type": "code",
   "execution_count": null,
   "metadata": {
    "trusted": true
   },
   "outputs": [],
   "source": [
    "get_bulk_structure_task = wg.add_task(\n",
    "    get_bulk_structure,\n",
    "    name=\"get_bulk_structure\",\n",
    "    register_pickle_by_value=True,\n",
    "    element=pickle_element_task.outputs.result,\n",
    "    a=pickle_a_task.outputs.result,\n",
    "    cubic=pickle_cubic_task.outputs.result,\n",
    ")"
   ]
  },
  {
   "cell_type": "code",
   "execution_count": null,
   "metadata": {
    "trusted": true
   },
   "outputs": [],
   "source": [
    "relax_prepare_input_dict_task = wg.add_task(\n",
    "    task.pythonjob()(get_dict),\n",
    "    name=\"relax_get_dict\",\n",
    "    register_pickle_by_value=True,\n",
    "    structure=get_bulk_structure_task.outputs.result,\n",
    "    calculation=pickle_calc_type_relax_task.outputs.result,\n",
    "    kpts=pickle_kpts_task.outputs.result,\n",
    "    pseudopotentials=pickle_pp_task.outputs.result,\n",
    "    smearing=pickle_smearing_task.outputs.result,\n",
    ")\n",
    "\n",
    "relax_task = wg.add_task(\n",
    "    calculate_qe,\n",
    "    name=\"mini\",\n",
    "    register_pickle_by_value=True,\n",
    "    input_dict=relax_prepare_input_dict_task.outputs.result,\n",
    "    working_directory=pickle_relax_workdir_task.outputs.result,\n",
    ")"
   ]
  },
  {
   "cell_type": "code",
   "execution_count": null,
   "metadata": {
    "trusted": true
   },
   "outputs": [],
   "source": [
    "generate_structures_task = wg.add_task(\n",
    "    generate_structures,\n",
    "    name=\"generate_structures\",\n",
    "    register_pickle_by_value=True,\n",
    "    structure=relax_task.outputs.structure,\n",
    "    strain_lst=pickle_strain_lst_task.outputs.result,\n",
    ")"
   ]
  },
  {
   "cell_type": "code",
   "execution_count": null,
   "metadata": {},
   "outputs": [],
   "source": [
    "get_volumes_task = wg.add_task(\n",
    "    task.pythonjob()(get_list),\n",
    "    name=\"get_volumes\",\n",
    "    register_pickle_by_value=True,\n",
    ")"
   ]
  },
  {
   "cell_type": "code",
   "execution_count": null,
   "metadata": {},
   "outputs": [],
   "source": [
    "get_energies_task = wg.add_task(\n",
    "    task.pythonjob()(get_list),\n",
    "    name=\"get_energies\",\n",
    "    register_pickle_by_value=True,\n",
    ")"
   ]
  },
  {
   "cell_type": "code",
   "execution_count": null,
   "metadata": {
    "trusted": true
   },
   "outputs": [],
   "source": [
    "strain_dir_tasks, scf_qe_tasks, scf_get_dict_tasks = [], [], []\n",
    "\n",
    "for i, strain in enumerate(strain_lst):\n",
    "\n",
    "    structure_key = f\"s_{i}\"\n",
    "    strain_dir = f\"strain_{i}\"\n",
    "    generate_structures_task.add_output(\"workgraph.any\", structure_key)\n",
    "\n",
    "    strain_dir_task = wg.add_task(\n",
    "        pickle_node,\n",
    "        name=f\"pickle_{strain_dir}_dir\",\n",
    "        value=strain_dir,\n",
    "        register_pickle_by_value=True,\n",
    "    )\n",
    "\n",
    "    scf_prepare_input_dict_task = wg.add_task(\n",
    "        task.pythonjob()(get_dict),\n",
    "        name=f\"get_dict_{i}\",\n",
    "        register_pickle_by_value=True,\n",
    "        structure=generate_structures_task.outputs[structure_key],\n",
    "        calculation=pickle_calc_type_scf_task.outputs.result,\n",
    "        kpts=pickle_kpts_task.outputs.result,\n",
    "        pseudopotentials=pickle_pp_task.outputs.result,\n",
    "        smearing=pickle_smearing_task.outputs.result,\n",
    "    )\n",
    "\n",
    "    scf_qe_task = wg.add_task(\n",
    "        calculate_qe,\n",
    "        name=f\"qe_{i}\",\n",
    "        register_pickle_by_value=True,\n",
    "        input_dict=scf_prepare_input_dict_task.outputs.result,\n",
    "        working_directory=strain_dir_task.outputs.result,\n",
    "    )\n",
    "\n",
    "    # collect energy and volume\n",
    "    get_energies_task.set({f\"{i}\": scf_qe_task.outputs.energy})\n",
    "    get_volumes_task.set({f\"{i}\": scf_qe_task.outputs.volume})"
   ]
  },
  {
   "cell_type": "code",
   "execution_count": null,
   "metadata": {},
   "outputs": [],
   "source": [
    "plot_energy_volume_curve_task = wg.add_task(\n",
    "    plot_energy_volume_curve,\n",
    "    name=\"plot_energy_volume_curve\",\n",
    "    register_pickle_by_value=True,\n",
    "    volume_lst=get_volumes_task.outputs.result,\n",
    "    energy_lst=get_energies_task.outputs.result,\n",
    ")"
   ]
  },
  {
   "cell_type": "code",
   "execution_count": null,
   "metadata": {},
   "outputs": [],
   "source": [
    "wg"
   ]
  },
  {
   "cell_type": "code",
   "execution_count": null,
   "metadata": {
    "trusted": true
   },
   "outputs": [],
   "source": [
    "_ = write_workflow_json(wg=wg, file_name=workflow_json_filename)\n"
   ]
  },
  {
   "cell_type": "code",
   "execution_count": null,
   "metadata": {
    "trusted": true
   },
   "outputs": [],
   "source": [
    "!cat {workflow_json_filename}"
   ]
  },
  {
   "cell_type": "markdown",
   "metadata": {},
   "source": [
    "## Load Workflow with jobflow"
   ]
  },
  {
   "cell_type": "code",
   "execution_count": null,
   "metadata": {
    "trusted": true
   },
   "outputs": [],
   "source": [
    "from python_workflow_definition.jobflow import load_workflow_json"
   ]
  },
  {
   "cell_type": "code",
   "execution_count": null,
   "metadata": {
    "trusted": true
   },
   "outputs": [],
   "source": [
    "from jobflow.managers.local import run_locally"
   ]
  },
  {
   "cell_type": "code",
   "execution_count": null,
   "metadata": {
    "trusted": true
   },
   "outputs": [],
   "source": [
    "flow = load_workflow_json(file_name=workflow_json_filename)"
   ]
  },
  {
   "cell_type": "code",
   "execution_count": null,
   "metadata": {
    "trusted": true
   },
   "outputs": [],
   "source": [
    "result = run_locally(flow)\n",
    "result"
   ]
  },
  {
   "cell_type": "markdown",
   "metadata": {},
   "source": [
    "## Load Workflow with pyiron_base"
   ]
  },
  {
   "cell_type": "code",
   "execution_count": null,
   "metadata": {
    "trusted": true
   },
   "outputs": [],
   "source": [
    "from pyiron_base import Project"
   ]
  },
  {
   "cell_type": "code",
   "execution_count": null,
   "metadata": {
    "trusted": true
   },
   "outputs": [],
   "source": [
    "from python_workflow_definition.pyiron_base import load_workflow_json"
   ]
  },
  {
   "cell_type": "code",
   "execution_count": null,
   "metadata": {
    "trusted": true
   },
   "outputs": [],
   "source": [
    "pr = Project(\"test\")\n",
    "pr.remove_jobs(recursive=True, silently=True)"
   ]
  },
  {
   "cell_type": "code",
   "execution_count": null,
   "metadata": {
    "trusted": true
   },
   "outputs": [],
   "source": [
    "delayed_object = load_workflow_json(project=pr, file_name=workflow_json_filename)\n",
    "delayed_object.draw()"
   ]
  },
  {
   "cell_type": "code",
   "execution_count": null,
   "metadata": {
    "trusted": true
   },
   "outputs": [],
   "source": [
    "delayed_object.pull()"
   ]
  }
 ],
 "metadata": {
  "kernelspec": {
   "display_name": "ADIS",
   "language": "python",
   "name": "python3"
  },
  "language_info": {
   "codemirror_mode": {
    "name": "ipython",
    "version": 3
   },
   "file_extension": ".py",
   "mimetype": "text/x-python",
   "name": "python",
   "nbconvert_exporter": "python",
   "pygments_lexer": "ipython3",
   "version": "3.10.12"
  }
 },
 "nbformat": 4,
 "nbformat_minor": 4
}
