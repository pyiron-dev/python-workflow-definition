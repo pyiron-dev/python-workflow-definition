{
 "metadata": {
  "kernelspec": {
   "display_name": "Python 3 (ipykernel)",
   "language": "python",
   "name": "python3"
  },
  "language_info": {
   "name": "python",
   "version": "3.12.8",
   "mimetype": "text/x-python",
   "codemirror_mode": {
    "name": "ipython",
    "version": 3
   },
   "pygments_lexer": "ipython3",
   "nbconvert_exporter": "python",
   "file_extension": ".py"
  }
 },
 "nbformat_minor": 5,
 "nbformat": 4,
 "cells": [
  {
   "id": "c39b76fb-259f-4e16-a44d-02a295c82386",
   "cell_type": "markdown",
   "source": "# pyiron",
   "metadata": {}
  },
  {
   "id": "3638419b-a0cb-49e2-b157-7fbb1acde90f",
   "cell_type": "markdown",
   "source": "## Define workflow with pyiron_base",
   "metadata": {}
  },
  {
   "id": "b4a78447-e87c-4fb4-8d17-d9a280eb7254",
   "cell_type": "code",
   "source": "from pyiron_base import job",
   "metadata": {
    "trusted": true
   },
   "outputs": [],
   "execution_count": 1
  },
  {
   "id": "06c2bd9e-b2ac-4b88-9158-fa37331c3418",
   "cell_type": "code",
   "source": "from python_workflow_definition.pyiron_base import write_workflow_json",
   "metadata": {
    "trusted": true
   },
   "outputs": [],
   "execution_count": 2
  },
  {
   "id": "fb847d49-7bf9-4839-9b99-c116d1b0e9ee",
   "cell_type": "code",
   "source": [
    "from arithmetic_workflow import (\n",
    "    get_sum as _get_sum,\n",
    "    get_prod_and_div as _get_prod_and_div,\n",
    ")"
   ],
   "metadata": {
    "trusted": true
   },
   "outputs": [],
   "execution_count": 3
  },
  {
   "id": "8f95244e",
   "cell_type": "code",
   "source": "workflow_json_filename = \"pyiron_arithmetic.json\"",
   "metadata": {
    "trusted": true
   },
   "outputs": [],
   "execution_count": 4
  },
  {
   "id": "07598344-0f75-433b-8902-bea21a42088c",
   "cell_type": "code",
   "source": [
    "get_sum = job(_get_sum)\n",
    "get_prod_and_div = job(_get_prod_and_div, output_key_lst=[\"prod\", \"div\"])"
   ],
   "metadata": {
    "trusted": true
   },
   "outputs": [],
   "execution_count": 5
  },
  {
   "id": "2b88a30a-e26b-4802-89b7-79ca08cc0af9",
   "cell_type": "code",
   "source": "obj = get_prod_and_div(x=1, y=2)",
   "metadata": {
    "trusted": true
   },
   "outputs": [],
   "execution_count": 7
  },
  {
   "id": "a5e5ca63-2906-47c9-bac6-adebf8643cba",
   "cell_type": "code",
   "source": "w = get_sum(x=obj.output.prod, y=obj.output.div)",
   "metadata": {
    "trusted": true
   },
   "outputs": [],
   "execution_count": 8
  },
  {
   "id": "e464da97-16a1-4772-9a07-0a47f152781d",
   "cell_type": "code",
   "source": "write_workflow_json(delayed_object=w, file_name=workflow_json_filename)",
   "metadata": {
    "trusted": true
   },
   "outputs": [],
   "execution_count": 9
  },
  {
   "id": "bca646b2-0a9a-4271-966a-e5903a8c9031",
   "cell_type": "code",
   "source": "!cat {workflow_json_filename}",
   "metadata": {
    "trusted": true
   },
   "outputs": [
    {
     "name": "stdout",
     "output_type": "stream",
     "text": "{\"nodes\": [{\"id\": 0, \"function\": \"simple_workflow.add_x_and_y\"}, {\"id\": 1, \"function\": \"simple_workflow.get_prod_and_div\"}, {\"id\": 2, \"value\": 1}, {\"id\": 3, \"value\": 2}], \"edges\": [{\"target\": 0, \"targetPort\": \"x\", \"source\": 1, \"sourcePort\": \"prod\"}, {\"target\": 1, \"targetPort\": \"x\", \"source\": 2, \"sourcePort\": null}, {\"target\": 1, \"targetPort\": \"y\", \"source\": 3, \"sourcePort\": null}, {\"target\": 0, \"targetPort\": \"y\", \"source\": 1, \"sourcePort\": \"div\"}]}"
    }
   ],
   "execution_count": 10
  },
  {
   "id": "a4c0faaf-e30d-4ded-8e9f-57f97f51b14c",
   "cell_type": "markdown",
   "source": "## Load Workflow with aiida",
   "metadata": {}
  },
  {
   "id": "2ecc229f-daa1-49b9-9279-a6b5ae1aa4f2",
   "cell_type": "code",
   "source": "from aiida import load_profile\n\nload_profile()",
   "metadata": {
    "trusted": true
   },
   "outputs": [
    {
     "execution_count": 11,
     "output_type": "execute_result",
     "data": {
      "text/plain": "Profile<uuid='9da6a68ed2b14ffb920b92aa0a616339' name='pwd'>"
     },
     "metadata": {}
    }
   ],
   "execution_count": 11
  },
  {
   "id": "68a56b32-9f99-43d7-aaee-0c1cd9522681",
   "cell_type": "code",
   "source": "from python_workflow_definition.aiida import load_workflow_json",
   "metadata": {
    "trusted": true
   },
   "outputs": [],
   "execution_count": 12
  },
  {
   "id": "8f2a621d-b533-4ddd-8bcd-c22db2f922ec",
   "cell_type": "code",
   "source": "wg = load_workflow_json(file_name=workflow_json_filename)\nwg",
   "metadata": {
    "trusted": true
   },
   "outputs": [
    {
     "execution_count": 13,
     "output_type": "execute_result",
     "data": {
      "text/plain": "NodeGraphWidget(settings={'minimap': True}, style={'width': '90%', 'height': '600px'}, value={'name': 'WorkGra…",
      "application/vnd.jupyter.widget-view+json": {
       "version_major": 2,
       "version_minor": 1,
       "model_id": "e429e6d025e44146b69e330b4888358f"
      }
     },
     "metadata": {}
    }
   ],
   "execution_count": 13
  },
  {
   "id": "cf80267d-c2b0-4236-bf1d-a57596985fc1",
   "cell_type": "code",
   "source": "\nwg.run()",
   "metadata": {
    "trusted": true
   },
   "outputs": [
    {
     "name": "stderr",
     "output_type": "stream",
     "text": "04/12/2025 11:28:38 AM <641> aiida.orm.nodes.process.workflow.workchain.WorkChainNode: [REPORT] [15|WorkGraphEngine|continue_workgraph]: tasks ready to run: get_prod_and_div2\n04/12/2025 11:28:39 AM <641> aiida.orm.nodes.process.workflow.workchain.WorkChainNode: [REPORT] [15|WorkGraphEngine|update_task_state]: Task: get_prod_and_div2, type: PyFunction, finished.\n04/12/2025 11:28:39 AM <641> aiida.orm.nodes.process.workflow.workchain.WorkChainNode: [REPORT] [15|WorkGraphEngine|continue_workgraph]: tasks ready to run: add_x_and_y1\n04/12/2025 11:28:40 AM <641> aiida.orm.nodes.process.workflow.workchain.WorkChainNode: [REPORT] [15|WorkGraphEngine|update_task_state]: Task: add_x_and_y1, type: PyFunction, finished.\n04/12/2025 11:28:40 AM <641> aiida.orm.nodes.process.workflow.workchain.WorkChainNode: [REPORT] [15|WorkGraphEngine|continue_workgraph]: tasks ready to run: \n04/12/2025 11:28:40 AM <641> aiida.orm.nodes.process.workflow.workchain.WorkChainNode: [REPORT] [15|WorkGraphEngine|finalize]: Finalize workgraph.\n"
    }
   ],
   "execution_count": 14
  },
  {
   "id": "0c3503e1-0a32-40e1-845d-3fd9ec3c4c19",
   "cell_type": "markdown",
   "source": "## Load Workflow with jobflow",
   "metadata": {}
  },
  {
   "id": "4abb0481-8e38-479d-ae61-6c46d091653e",
   "cell_type": "code",
   "source": "from python_workflow_definition.jobflow import load_workflow_json",
   "metadata": {
    "trusted": true
   },
   "outputs": [
    {
     "name": "stderr",
     "output_type": "stream",
     "text": "/srv/conda/envs/notebook/lib/python3.12/site-packages/paramiko/pkey.py:82: CryptographyDeprecationWarning: TripleDES has been moved to cryptography.hazmat.decrepit.ciphers.algorithms.TripleDES and will be removed from cryptography.hazmat.primitives.ciphers.algorithms in 48.0.0.\n  \"cipher\": algorithms.TripleDES,\n/srv/conda/envs/notebook/lib/python3.12/site-packages/paramiko/transport.py:253: CryptographyDeprecationWarning: TripleDES has been moved to cryptography.hazmat.decrepit.ciphers.algorithms.TripleDES and will be removed from cryptography.hazmat.primitives.ciphers.algorithms in 48.0.0.\n  \"class\": algorithms.TripleDES,\n"
    }
   ],
   "execution_count": 15
  },
  {
   "id": "8253dd7c283bf3f7",
   "cell_type": "code",
   "source": "from jobflow.managers.local import run_locally",
   "metadata": {
    "trusted": true
   },
   "outputs": [],
   "execution_count": 16
  },
  {
   "id": "4b45e83b-945f-48c5-8e20-9df0ce0a14a1",
   "cell_type": "code",
   "source": "flow = load_workflow_json(file_name=workflow_json_filename)",
   "metadata": {
    "trusted": true
   },
   "outputs": [],
   "execution_count": 17
  },
  {
   "id": "8665c39c-220c-4982-b738-c31f6460530f",
   "cell_type": "code",
   "source": "result = run_locally(flow)\nresult",
   "metadata": {
    "trusted": true
   },
   "outputs": [
    {
     "name": "stdout",
     "output_type": "stream",
     "text": "2025-04-12 11:28:41,600 INFO Started executing jobs locally\n2025-04-12 11:28:42,179 INFO Starting job - get_prod_and_div (a00c2b77-12e1-4ec7-9919-99f65db51848)\n2025-04-12 11:28:42,184 INFO Finished job - get_prod_and_div (a00c2b77-12e1-4ec7-9919-99f65db51848)\n2025-04-12 11:28:42,186 INFO Starting job - add_x_and_y (5e71d195-b5a0-4eda-9279-0587f97ad019)\n2025-04-12 11:28:42,190 INFO Finished job - add_x_and_y (5e71d195-b5a0-4eda-9279-0587f97ad019)\n2025-04-12 11:28:42,191 INFO Finished executing jobs locally\n"
    },
    {
     "execution_count": 18,
     "output_type": "execute_result",
     "data": {
      "text/plain": "{'a00c2b77-12e1-4ec7-9919-99f65db51848': {1: Response(output={'prod': 2, 'div': 0.5}, detour=None, addition=None, replace=None, stored_data=None, stop_children=False, stop_jobflow=False, job_dir=PosixPath('/home/jovyan'))},\n '5e71d195-b5a0-4eda-9279-0587f97ad019': {1: Response(output=2.5, detour=None, addition=None, replace=None, stored_data=None, stop_children=False, stop_jobflow=False, job_dir=PosixPath('/home/jovyan'))}}"
     },
     "metadata": {}
    }
   ],
   "execution_count": 18
  },
  {
   "id": "cf76f305-24de-45a7-be8e-cfe45cd6458e",
   "cell_type": "code",
   "source": "",
   "metadata": {
    "trusted": true
   },
   "outputs": [],
   "execution_count": null
  }
 ]
}
