{
 "metadata": {
  "kernelspec": {
   "display_name": "Python 3 (ipykernel)",
   "language": "python",
   "name": "python3"
  },
  "language_info": {
   "name": "python",
   "version": "3.12.8",
   "mimetype": "text/x-python",
   "codemirror_mode": {
    "name": "ipython",
    "version": 3
   },
   "pygments_lexer": "ipython3",
   "nbconvert_exporter": "python",
   "file_extension": ".py"
  }
 },
 "nbformat_minor": 4,
 "nbformat": 4,
 "cells": [
  {
   "cell_type": "markdown",
   "source": "# Load Simple Workflow",
   "metadata": {}
  },
  {
   "cell_type": "markdown",
   "source": "## Plot",
   "metadata": {}
  },
  {
   "cell_type": "code",
   "source": "from python_workflow_definition.plot import plot",
   "metadata": {
    "trusted": true
   },
   "outputs": [],
   "execution_count": 1
  },
  {
   "cell_type": "code",
   "source": "plot(file_name='workflow_simple.json')",
   "metadata": {
    "trusted": true
   },
   "outputs": [
    {
     "output_type": "display_data",
     "data": {
      "text/plain": "<IPython.core.display.SVG object>",
      "image/svg+xml": "<svg xmlns=\"http://www.w3.org/2000/svg\" xmlns:xlink=\"http://www.w3.org/1999/xlink\" width=\"401pt\" height=\"223pt\" viewBox=\"0.00 0.00 401.04 222.50\">\n<g id=\"graph0\" class=\"graph\" transform=\"scale(1 1) rotate(0) translate(4 218.5)\">\n<polygon fill=\"white\" stroke=\"none\" points=\"-4,4 -4,-218.5 397.04,-218.5 397.04,4 -4,4\"/>\n<!-- 0 -->\n<g id=\"node1\" class=\"node\">\n<title>0</title>\n<ellipse fill=\"none\" stroke=\"black\" cx=\"183.79\" cy=\"-107.25\" rx=\"183.79\" ry=\"18\"/>\n<text text-anchor=\"middle\" x=\"183.79\" y=\"-102.58\" font-family=\"Times,serif\" font-size=\"14.00\">simple_workflow.get_prod_and_div</text>\n</g>\n<!-- 1 -->\n<g id=\"node2\" class=\"node\">\n<title>1</title>\n<ellipse fill=\"none\" stroke=\"black\" cx=\"183.79\" cy=\"-18\" rx=\"159.06\" ry=\"18\"/>\n<text text-anchor=\"middle\" x=\"183.79\" y=\"-13.32\" font-family=\"Times,serif\" font-size=\"14.00\">simple_workflow.add_x_and_y</text>\n</g>\n<!-- 0&#45;&gt;1 -->\n<g id=\"edge1\" class=\"edge\">\n<title>0-&gt;1</title>\n<path fill=\"none\" stroke=\"black\" d=\"M183.79,-89.01C183.79,-77.18 183.79,-61.2 183.79,-47.5\"/>\n<polygon fill=\"black\" stroke=\"black\" points=\"187.29,-47.72 183.79,-37.72 180.29,-47.72 187.29,-47.72\"/>\n<text text-anchor=\"middle\" x=\"288.41\" y=\"-57.95\" font-family=\"Times,serif\" font-size=\"14.00\">x=result[prod], y=result[div]</text>\n</g>\n<!-- 2 -->\n<g id=\"node3\" class=\"node\">\n<title>2</title>\n<ellipse fill=\"none\" stroke=\"black\" cx=\"147.79\" cy=\"-196.5\" rx=\"27\" ry=\"18\"/>\n<text text-anchor=\"middle\" x=\"147.79\" y=\"-191.82\" font-family=\"Times,serif\" font-size=\"14.00\">1</text>\n</g>\n<!-- 2&#45;&gt;0 -->\n<g id=\"edge2\" class=\"edge\">\n<title>2-&gt;0</title>\n<path fill=\"none\" stroke=\"black\" d=\"M154.73,-178.68C159.69,-166.64 166.49,-150.16 172.27,-136.17\"/>\n<polygon fill=\"black\" stroke=\"black\" points=\"175.47,-137.6 176.04,-127.02 168.99,-134.93 175.47,-137.6\"/>\n<text text-anchor=\"middle\" x=\"173.14\" y=\"-147.2\" font-family=\"Times,serif\" font-size=\"14.00\">x</text>\n</g>\n<!-- 3 -->\n<g id=\"node4\" class=\"node\">\n<title>3</title>\n<ellipse fill=\"none\" stroke=\"black\" cx=\"219.79\" cy=\"-196.5\" rx=\"27\" ry=\"18\"/>\n<text text-anchor=\"middle\" x=\"219.79\" y=\"-191.82\" font-family=\"Times,serif\" font-size=\"14.00\">2</text>\n</g>\n<!-- 3&#45;&gt;0 -->\n<g id=\"edge3\" class=\"edge\">\n<title>3-&gt;0</title>\n<path fill=\"none\" stroke=\"black\" d=\"M212.85,-178.68C207.88,-166.64 201.08,-150.16 195.31,-136.17\"/>\n<polygon fill=\"black\" stroke=\"black\" points=\"198.58,-134.93 191.53,-127.02 192.11,-137.6 198.58,-134.93\"/>\n<text text-anchor=\"middle\" x=\"209.14\" y=\"-147.2\" font-family=\"Times,serif\" font-size=\"14.00\">y</text>\n</g>\n</g>\n</svg>"
     },
     "metadata": {}
    }
   ],
   "execution_count": 2
  },
  {
   "cell_type": "markdown",
   "source": "## Aiida ",
   "metadata": {}
  },
  {
   "cell_type": "code",
   "source": "from python_workflow_definition.aiida import load_workflow_json\n\nfrom aiida import load_profile\nload_profile()",
   "metadata": {
    "trusted": true
   },
   "outputs": [
    {
     "execution_count": 3,
     "output_type": "execute_result",
     "data": {
      "text/plain": "Profile<uuid='91b600f4af5f477facd703b8cfc12911' name='pwd'>"
     },
     "metadata": {}
    }
   ],
   "execution_count": 3
  },
  {
   "cell_type": "code",
   "source": "workgraph = load_workflow_json(file_name='workflow_simple.json')",
   "metadata": {
    "trusted": true
   },
   "outputs": [],
   "execution_count": 4
  },
  {
   "cell_type": "code",
   "source": "# TODO: Create inputs rather than tasks out of data nodes\nworkgraph",
   "metadata": {
    "trusted": true
   },
   "outputs": [
    {
     "execution_count": 5,
     "output_type": "execute_result",
     "data": {
      "text/plain": "NodeGraphWidget(settings={'minimap': True}, style={'width': '90%', 'height': '600px'}, value={'name': 'WorkGra…",
      "application/vnd.jupyter.widget-view+json": {
       "version_major": 2,
       "version_minor": 1,
       "model_id": "af711ad9152d45ec9583cb1242010930"
      }
     },
     "metadata": {}
    }
   ],
   "execution_count": 5
  },
  {
   "cell_type": "code",
   "source": "\nworkgraph.run()",
   "metadata": {
    "trusted": true
   },
   "outputs": [
    {
     "name": "stderr",
     "output_type": "stream",
     "text": "04/13/2025 07:08:44 AM <5059> aiida.orm.nodes.process.workflow.workchain.WorkChainNode: [REPORT] [125|WorkGraphEngine|continue_workgraph]: tasks ready to run: get_prod_and_div1\n04/13/2025 07:08:44 AM <5059> aiida.orm.nodes.process.workflow.workchain.WorkChainNode: [REPORT] [125|WorkGraphEngine|update_task_state]: Task: get_prod_and_div1, type: PyFunction, finished.\n04/13/2025 07:08:44 AM <5059> aiida.orm.nodes.process.workflow.workchain.WorkChainNode: [REPORT] [125|WorkGraphEngine|continue_workgraph]: tasks ready to run: add_x_and_y2\n04/13/2025 07:08:44 AM <5059> aiida.orm.nodes.process.workflow.workchain.WorkChainNode: [REPORT] [125|WorkGraphEngine|update_task_state]: Task: add_x_and_y2, type: PyFunction, finished.\n04/13/2025 07:08:44 AM <5059> aiida.orm.nodes.process.workflow.workchain.WorkChainNode: [REPORT] [125|WorkGraphEngine|continue_workgraph]: tasks ready to run: \n04/13/2025 07:08:45 AM <5059> aiida.orm.nodes.process.workflow.workchain.WorkChainNode: [REPORT] [125|WorkGraphEngine|finalize]: Finalize workgraph.\n"
    }
   ],
   "execution_count": 6
  },
  {
   "cell_type": "markdown",
   "source": "## executorlib",
   "metadata": {}
  },
  {
   "cell_type": "code",
   "source": "from executorlib import SingleNodeExecutor",
   "metadata": {
    "trusted": true
   },
   "outputs": [],
   "execution_count": 7
  },
  {
   "cell_type": "code",
   "source": "from python_workflow_definition.executorlib import load_workflow_json",
   "metadata": {
    "trusted": true
   },
   "outputs": [],
   "execution_count": 8
  },
  {
   "cell_type": "code",
   "source": "with SingleNodeExecutor(max_workers=1) as exe:\n    result = load_workflow_json(file_name=\"workflow_simple.json\", exe=exe).result()",
   "metadata": {
    "trusted": true
   },
   "outputs": [],
   "execution_count": 9
  },
  {
   "cell_type": "code",
   "source": "result",
   "metadata": {
    "trusted": true
   },
   "outputs": [
    {
     "execution_count": 10,
     "output_type": "execute_result",
     "data": {
      "text/plain": "2.5"
     },
     "metadata": {}
    }
   ],
   "execution_count": 10
  },
  {
   "cell_type": "markdown",
   "source": "## Jobflow",
   "metadata": {}
  },
  {
   "cell_type": "code",
   "source": "from jobflow.managers.local import run_locally",
   "metadata": {
    "trusted": true
   },
   "outputs": [
    {
     "name": "stderr",
     "output_type": "stream",
     "text": "/srv/conda/envs/notebook/lib/python3.12/site-packages/paramiko/pkey.py:82: CryptographyDeprecationWarning: TripleDES has been moved to cryptography.hazmat.decrepit.ciphers.algorithms.TripleDES and will be removed from cryptography.hazmat.primitives.ciphers.algorithms in 48.0.0.\n  \"cipher\": algorithms.TripleDES,\n/srv/conda/envs/notebook/lib/python3.12/site-packages/paramiko/transport.py:253: CryptographyDeprecationWarning: TripleDES has been moved to cryptography.hazmat.decrepit.ciphers.algorithms.TripleDES and will be removed from cryptography.hazmat.primitives.ciphers.algorithms in 48.0.0.\n  \"class\": algorithms.TripleDES,\n"
    }
   ],
   "execution_count": 11
  },
  {
   "cell_type": "code",
   "source": "from python_workflow_definition.jobflow import load_workflow_json",
   "metadata": {
    "trusted": true
   },
   "outputs": [],
   "execution_count": 12
  },
  {
   "cell_type": "code",
   "source": "flow = load_workflow_json(file_name=\"workflow_simple.json\")",
   "metadata": {
    "trusted": true
   },
   "outputs": [],
   "execution_count": 13
  },
  {
   "cell_type": "code",
   "source": "result = run_locally(flow)\nresult",
   "metadata": {
    "trusted": true
   },
   "outputs": [
    {
     "name": "stdout",
     "output_type": "stream",
     "text": "2025-04-13 07:08:46,344 INFO Started executing jobs locally\n2025-04-13 07:08:46,424 INFO Starting job - get_prod_and_div (b2add5f8-6b52-4f8a-9bca-8d71164d6cdf)\n2025-04-13 07:08:46,426 INFO Finished job - get_prod_and_div (b2add5f8-6b52-4f8a-9bca-8d71164d6cdf)\n2025-04-13 07:08:46,427 INFO Starting job - add_x_and_y (df6686df-0034-4449-a180-bf0d8179c1f4)\n2025-04-13 07:08:46,428 INFO Finished job - add_x_and_y (df6686df-0034-4449-a180-bf0d8179c1f4)\n2025-04-13 07:08:46,428 INFO Finished executing jobs locally\n"
    },
    {
     "execution_count": 14,
     "output_type": "execute_result",
     "data": {
      "text/plain": "{'b2add5f8-6b52-4f8a-9bca-8d71164d6cdf': {1: Response(output={'prod': 2, 'div': 0.5}, detour=None, addition=None, replace=None, stored_data=None, stop_children=False, stop_jobflow=False, job_dir=PosixPath('/home/jovyan'))},\n 'df6686df-0034-4449-a180-bf0d8179c1f4': {1: Response(output=2.5, detour=None, addition=None, replace=None, stored_data=None, stop_children=False, stop_jobflow=False, job_dir=PosixPath('/home/jovyan'))}}"
     },
     "metadata": {}
    }
   ],
   "execution_count": 14
  },
  {
   "cell_type": "markdown",
   "source": "## pyiron",
   "metadata": {}
  },
  {
   "cell_type": "code",
   "source": "from pyiron_base import Project",
   "metadata": {
    "trusted": true
   },
   "outputs": [],
   "execution_count": 15
  },
  {
   "cell_type": "code",
   "source": "from python_workflow_definition.pyiron_base import load_workflow_json",
   "metadata": {
    "trusted": true
   },
   "outputs": [],
   "execution_count": 16
  },
  {
   "cell_type": "code",
   "source": "pr = Project(\"test\")\npr.remove_jobs(recursive=True, silently=True)",
   "metadata": {
    "trusted": true
   },
   "outputs": [
    {
     "output_type": "display_data",
     "data": {
      "text/plain": "0it [00:00, ?it/s]",
      "application/vnd.jupyter.widget-view+json": {
       "version_major": 2,
       "version_minor": 0,
       "model_id": "f86d15b608244799abdfa8d9f8bcd8cc"
      }
     },
     "metadata": {}
    }
   ],
   "execution_count": 17
  },
  {
   "cell_type": "code",
   "source": [
    "delayed_object_lst = load_workflow_json(project=pr, file_name=\"workflow_simple.json\")\n",
    "delayed_object_lst[-1].draw()"
   ],
   "metadata": {
    "trusted": true
   },
   "outputs": [
    {
     "output_type": "display_data",
     "data": {
      "text/plain": "<IPython.core.display.SVG object>",
      "image/svg+xml": "<svg xmlns=\"http://www.w3.org/2000/svg\" xmlns:xlink=\"http://www.w3.org/1999/xlink\" width=\"1608pt\" height=\"188pt\" viewBox=\"0.00 0.00 1607.57 188.00\">\n<g id=\"graph0\" class=\"graph\" transform=\"scale(1 1) rotate(0) translate(4 184)\">\n<polygon fill=\"white\" stroke=\"none\" points=\"-4,4 -4,-184 1603.57,-184 1603.57,4 -4,4\"/>\n<!-- create_function_job_972d6bcf41cc389c57d8ff495630e021 -->\n<g id=\"node1\" class=\"node\">\n<title>create_function_job_972d6bcf41cc389c57d8ff495630e021</title>\n<ellipse fill=\"none\" stroke=\"black\" cx=\"799.81\" cy=\"-18\" rx=\"487.35\" ry=\"18\"/>\n<text text-anchor=\"middle\" x=\"799.81\" y=\"-13.32\" font-family=\"Times,serif\" font-size=\"14.00\">create_function_job=&lt;pyiron_base.project.delayed.DelayedObject object at 0x79ae12124800&gt;</text>\n</g>\n<!-- x_f374279468d7303f690ade4e28a68a3d -->\n<g id=\"node2\" class=\"node\">\n<title>x_f374279468d7303f690ade4e28a68a3d</title>\n<ellipse fill=\"none\" stroke=\"black\" cx=\"395.81\" cy=\"-90\" rx=\"395.81\" ry=\"18\"/>\n<text text-anchor=\"middle\" x=\"395.81\" y=\"-85.33\" font-family=\"Times,serif\" font-size=\"14.00\">x=&lt;pyiron_base.project.delayed.DelayedObject object at 0x79ae195b2630&gt;</text>\n</g>\n<!-- x_f374279468d7303f690ade4e28a68a3d&#45;&gt;create_function_job_972d6bcf41cc389c57d8ff495630e021 -->\n<g id=\"edge1\" class=\"edge\">\n<title>x_f374279468d7303f690ade4e28a68a3d-&gt;create_function_job_972d6bcf41cc389c57d8ff495630e021</title>\n<path fill=\"none\" stroke=\"black\" d=\"M493.35,-72.1C552.59,-61.83 628.37,-48.7 689.75,-38.07\"/>\n<polygon fill=\"black\" stroke=\"black\" points=\"690.29,-41.53 699.55,-36.37 689.1,-34.63 690.29,-41.53\"/>\n</g>\n<!-- x_1d847da32ecaabf6731c38f798c3d4ce -->\n<g id=\"node3\" class=\"node\">\n<title>x_1d847da32ecaabf6731c38f798c3d4ce</title>\n<ellipse fill=\"none\" stroke=\"black\" cx=\"759.81\" cy=\"-162\" rx=\"31.74\" ry=\"18\"/>\n<text text-anchor=\"middle\" x=\"759.81\" y=\"-157.32\" font-family=\"Times,serif\" font-size=\"14.00\">x=1</text>\n</g>\n<!-- x_1d847da32ecaabf6731c38f798c3d4ce&#45;&gt;x_f374279468d7303f690ade4e28a68a3d -->\n<g id=\"edge2\" class=\"edge\">\n<title>x_1d847da32ecaabf6731c38f798c3d4ce-&gt;x_f374279468d7303f690ade4e28a68a3d</title>\n<path fill=\"none\" stroke=\"black\" d=\"M730.02,-155.27C679.35,-145.53 574.18,-125.3 495.28,-110.13\"/>\n<polygon fill=\"black\" stroke=\"black\" points=\"496.29,-106.76 485.81,-108.31 494.97,-113.63 496.29,-106.76\"/>\n</g>\n<!-- y_6f7c9c2e224cc41adae258d1f7a78f06 -->\n<g id=\"node4\" class=\"node\">\n<title>y_6f7c9c2e224cc41adae258d1f7a78f06</title>\n<ellipse fill=\"none\" stroke=\"black\" cx=\"1204.81\" cy=\"-90\" rx=\"394.76\" ry=\"18\"/>\n<text text-anchor=\"middle\" x=\"1204.81\" y=\"-85.33\" font-family=\"Times,serif\" font-size=\"14.00\">y=&lt;pyiron_base.project.delayed.DelayedObject object at 0x79ae121245c0&gt;</text>\n</g>\n<!-- x_1d847da32ecaabf6731c38f798c3d4ce&#45;&gt;y_6f7c9c2e224cc41adae258d1f7a78f06 -->\n<g id=\"edge3\" class=\"edge\">\n<title>x_1d847da32ecaabf6731c38f798c3d4ce-&gt;y_6f7c9c2e224cc41adae258d1f7a78f06</title>\n<path fill=\"none\" stroke=\"black\" d=\"M790.4,-156.19C850.58,-146.72 987.23,-125.23 1087.22,-109.5\"/>\n<polygon fill=\"black\" stroke=\"black\" points=\"1087.47,-113 1096.81,-107.99 1086.38,-106.09 1087.47,-113\"/>\n</g>\n<!-- y_6f7c9c2e224cc41adae258d1f7a78f06&#45;&gt;create_function_job_972d6bcf41cc389c57d8ff495630e021 -->\n<g id=\"edge6\" class=\"edge\">\n<title>y_6f7c9c2e224cc41adae258d1f7a78f06-&gt;create_function_job_972d6bcf41cc389c57d8ff495630e021</title>\n<path fill=\"none\" stroke=\"black\" d=\"M1107.03,-72.1C1047.64,-61.83 971.67,-48.7 910.14,-38.07\"/>\n<polygon fill=\"black\" stroke=\"black\" points=\"910.77,-34.63 900.32,-36.37 909.57,-41.52 910.77,-34.63\"/>\n</g>\n<!-- y_a9ec4f5f33f0d64e74ed5d9900bceac6 -->\n<g id=\"node5\" class=\"node\">\n<title>y_a9ec4f5f33f0d64e74ed5d9900bceac6</title>\n<ellipse fill=\"none\" stroke=\"black\" cx=\"1022.81\" cy=\"-162\" rx=\"31.74\" ry=\"18\"/>\n<text text-anchor=\"middle\" x=\"1022.81\" y=\"-157.32\" font-family=\"Times,serif\" font-size=\"14.00\">y=2</text>\n</g>\n<!-- y_a9ec4f5f33f0d64e74ed5d9900bceac6&#45;&gt;x_f374279468d7303f690ade4e28a68a3d -->\n<g id=\"edge4\" class=\"edge\">\n<title>y_a9ec4f5f33f0d64e74ed5d9900bceac6-&gt;x_f374279468d7303f690ade4e28a68a3d</title>\n<path fill=\"none\" stroke=\"black\" d=\"M991.72,-157.53C912.83,-148.72 700.62,-125.03 552.03,-108.44\"/>\n<polygon fill=\"black\" stroke=\"black\" points=\"552.83,-105.01 542.5,-107.38 552.05,-111.97 552.83,-105.01\"/>\n</g>\n<!-- y_a9ec4f5f33f0d64e74ed5d9900bceac6&#45;&gt;y_6f7c9c2e224cc41adae258d1f7a78f06 -->\n<g id=\"edge5\" class=\"edge\">\n<title>y_a9ec4f5f33f0d64e74ed5d9900bceac6-&gt;y_6f7c9c2e224cc41adae258d1f7a78f06</title>\n<path fill=\"none\" stroke=\"black\" d=\"M1048.5,-151.12C1074.58,-141.09 1115.8,-125.24 1149.36,-112.33\"/>\n<polygon fill=\"black\" stroke=\"black\" points=\"1150.46,-115.65 1158.54,-108.8 1147.95,-109.12 1150.46,-115.65\"/>\n</g>\n</g>\n</svg>"
     },
     "metadata": {}
    }
   ],
   "execution_count": 18
  },
  {
   "cell_type": "code",
   "source": "delayed_object_lst[-1].pull()",
   "metadata": {
    "trusted": true
   },
   "outputs": [
    {
     "name": "stdout",
     "output_type": "stream",
     "text": "The job get_prod_and_div_5e64acfa88dc01309cd4ba60143865e3 was saved and received the ID: 1\nThe job add_x_and_y_82c0f2025c97ddd328aaebe50fb30c48 was saved and received the ID: 2\n"
    },
    {
     "execution_count": 19,
     "output_type": "execute_result",
     "data": {
      "text/plain": "2.5"
     },
     "metadata": {}
    }
   ],
   "execution_count": 19
  },
  {
   "cell_type": "code",
   "source": "pr.job_table()",
   "metadata": {
    "trusted": true
   },
   "outputs": [
    {
     "execution_count": 20,
     "output_type": "execute_result",
     "data": {
      "text/plain": "   id    status chemicalformula  \\\n0   1  finished            None   \n1   2  finished            None   \n\n                                                 job  \\\n0  get_prod_and_div_5e64acfa88dc01309cd4ba60143865e3   \n1       add_x_and_y_82c0f2025c97ddd328aaebe50fb30c48   \n\n                                               subjob projectpath  \\\n0  /get_prod_and_div_5e64acfa88dc01309cd4ba60143865e3        None   \n1       /add_x_and_y_82c0f2025c97ddd328aaebe50fb30c48        None   \n\n              project                  timestart timestop totalcputime  \\\n0  /home/jovyan/test/ 2025-04-13 07:08:46.958268     None         None   \n1  /home/jovyan/test/ 2025-04-13 07:08:47.080709     None         None   \n\n                                                    computer  \\\n0  pyiron@jupyter-pyiron-dev-pyth-flow-definition-cmhhpfb1#1   \n1  pyiron@jupyter-pyiron-dev-pyth-flow-definition-cmhhpfb1#1   \n\n                     hamilton hamversion parentid masterid  \n0  PythonFunctionContainerJob        0.4     None     None  \n1  PythonFunctionContainerJob        0.4     None     None  ",
      "text/html": "<div>\n<style scoped>\n    .dataframe tbody tr th:only-of-type {\n        vertical-align: middle;\n    }\n\n    .dataframe tbody tr th {\n        vertical-align: top;\n    }\n\n    .dataframe thead th {\n        text-align: right;\n    }\n</style>\n<table border=\"1\" class=\"dataframe\">\n  <thead>\n    <tr style=\"text-align: right;\">\n      <th></th>\n      <th>id</th>\n      <th>status</th>\n      <th>chemicalformula</th>\n      <th>job</th>\n      <th>subjob</th>\n      <th>projectpath</th>\n      <th>project</th>\n      <th>timestart</th>\n      <th>timestop</th>\n      <th>totalcputime</th>\n      <th>computer</th>\n      <th>hamilton</th>\n      <th>hamversion</th>\n      <th>parentid</th>\n      <th>masterid</th>\n    </tr>\n  </thead>\n  <tbody>\n    <tr>\n      <th>0</th>\n      <td>1</td>\n      <td>finished</td>\n      <td>None</td>\n      <td>get_prod_and_div_5e64acfa88dc01309cd4ba60143865e3</td>\n      <td>/get_prod_and_div_5e64acfa88dc01309cd4ba60143865e3</td>\n      <td>None</td>\n      <td>/home/jovyan/test/</td>\n      <td>2025-04-13 07:08:46.958268</td>\n      <td>None</td>\n      <td>None</td>\n      <td>pyiron@jupyter-pyiron-dev-pyth-flow-definition-cmhhpfb1#1</td>\n      <td>PythonFunctionContainerJob</td>\n      <td>0.4</td>\n      <td>None</td>\n      <td>None</td>\n    </tr>\n    <tr>\n      <th>1</th>\n      <td>2</td>\n      <td>finished</td>\n      <td>None</td>\n      <td>add_x_and_y_82c0f2025c97ddd328aaebe50fb30c48</td>\n      <td>/add_x_and_y_82c0f2025c97ddd328aaebe50fb30c48</td>\n      <td>None</td>\n      <td>/home/jovyan/test/</td>\n      <td>2025-04-13 07:08:47.080709</td>\n      <td>None</td>\n      <td>None</td>\n      <td>pyiron@jupyter-pyiron-dev-pyth-flow-definition-cmhhpfb1#1</td>\n      <td>PythonFunctionContainerJob</td>\n      <td>0.4</td>\n      <td>None</td>\n      <td>None</td>\n    </tr>\n  </tbody>\n</table>\n</div>"
     },
     "metadata": {}
    }
   ],
   "execution_count": 20
  },
  {
   "cell_type": "markdown",
   "source": "## Python",
   "metadata": {}
  },
  {
   "cell_type": "code",
   "source": "from python_workflow_definition.purepython import load_workflow_json",
   "metadata": {
    "trusted": true
   },
   "outputs": [],
   "execution_count": 21
  },
  {
   "cell_type": "code",
   "source": "load_workflow_json(file_name=\"workflow_simple.json\")",
   "metadata": {
    "trusted": true
   },
   "outputs": [
    {
     "execution_count": 22,
     "output_type": "execute_result",
     "data": {
      "text/plain": "2.5"
     },
     "metadata": {}
    }
   ],
   "execution_count": 22
  }
 ]
}
