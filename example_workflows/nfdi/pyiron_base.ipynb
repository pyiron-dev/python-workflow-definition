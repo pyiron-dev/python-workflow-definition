{
 "metadata": {
  "kernelspec": {
   "display_name": "Python 3 (ipykernel)",
   "language": "python",
   "name": "python3"
  },
  "language_info": {
   "name": "python",
   "version": "3.12.8",
   "mimetype": "text/x-python",
   "codemirror_mode": {
    "name": "ipython",
    "version": 3
   },
   "pygments_lexer": "ipython3",
   "nbconvert_exporter": "python",
   "file_extension": ".py"
  }
 },
 "nbformat_minor": 5,
 "nbformat": 4,
 "cells": [
  {
   "id": "106ded66-d202-46ac-82b0-2755ca309bdd",
   "cell_type": "markdown",
   "source": "# pyiron\n\nhttps://github.com/BAMresearch/NFDI4IngScientificWorkflowRequirements",
   "metadata": {}
  },
  {
   "id": "91dd48ea-aa7e-4937-a68e-59fc5017eb1e",
   "cell_type": "markdown",
   "source": "## Define workflow with pyiron_base",
   "metadata": {}
  },
  {
   "metadata": {},
   "cell_type": "code",
   "outputs": [],
   "execution_count": null,
   "source": [
    "from nfdi_ing_workflow import (\n",
    "    generate_mesh as _generate_mesh, \n",
    "    convert_to_xdmf as _convert_to_xdmf,\n",
    "    poisson as _poisson,\n",
    "    plot_over_line as _plot_over_line,\n",
    "    substitute_macros as _substitute_macros,\n",
    "    compile_paper as _compile_paper,\n",
    ")"
   ],
   "id": "d265bb5aa6af79d6"
  },
  {
   "metadata": {},
   "cell_type": "code",
   "outputs": [],
   "execution_count": null,
   "source": [
    "from pyiron_base import job\n",
    "\n",
    "from python_workflow_definition.pyiron_base import write_workflow_json"
   ],
   "id": "2dced28725813fc1"
  },
  {
   "id": "549ecf27-88ef-4e77-8bd4-b616cfdda2e4",
   "cell_type": "code",
   "source": "generate_mesh = job(_generate_mesh)\nconvert_to_xdmf = job(_convert_to_xdmf, output_key_lst=[\"xdmf_file\", \"h5_file\"])\npoisson = job(_poisson, output_key_lst=[\"numdofs\", \"pvd_file\", \"vtu_file\"])\nplot_over_line = job(_plot_over_line)\nsubstitute_macros = job(_substitute_macros)\ncompile_paper = job(_compile_paper)",
   "metadata": {
    "trusted": true
   },
   "outputs": [],
   "execution_count": 3
  },
  {
   "id": "8d911f98-3b80-457f-a0f4-3cb37ebf1691",
   "cell_type": "code",
   "source": "domain_size = 2.0",
   "metadata": {
    "trusted": true
   },
   "outputs": [],
   "execution_count": 4
  },
  {
   "id": "71d411b6-cbec-489e-99e3-ba71680bcb5b",
   "cell_type": "code",
   "source": "gmsh_output_file = generate_mesh(\n    domain_size=domain_size,\n)",
   "metadata": {
    "tags": [],
    "trusted": true
   },
   "outputs": [],
   "execution_count": 5
  },
  {
   "id": "1d0d9804-f250-48b3-a5d0-a546d520f79b",
   "cell_type": "code",
   "source": "meshio_output_dict = convert_to_xdmf(\n    gmsh_output_file=gmsh_output_file,\n)",
   "metadata": {
    "tags": [],
    "trusted": true
   },
   "outputs": [],
   "execution_count": 6
  },
  {
   "id": "7b69bcff-e2b1-4d4a-b62c-6a1c86eeb590",
   "cell_type": "code",
   "source": "poisson_dict = poisson(\n    meshio_output_xdmf=meshio_output_dict.output.xdmf_file, \n    meshio_output_h5=meshio_output_dict.output.h5_file,\n)",
   "metadata": {
    "tags": [],
    "trusted": true
   },
   "outputs": [],
   "execution_count": 7
  },
  {
   "id": "3c4a29b0-eb1e-490a-8be0-e03cfff15e0a",
   "cell_type": "code",
   "source": "pvbatch_output_file = plot_over_line(\n    poisson_output_pvd_file=poisson_dict.output.pvd_file, \n    poisson_output_vtu_file=poisson_dict.output.vtu_file,\n)",
   "metadata": {
    "tags": [],
    "trusted": true
   },
   "outputs": [],
   "execution_count": 8
  },
  {
   "id": "a0a4c233-322d-4723-9627-62ca2487bfa9",
   "cell_type": "code",
   "source": "macros_tex_file = substitute_macros( \n    pvbatch_output_file=pvbatch_output_file, \n    ndofs=poisson_dict.output.numdofs, \n    domain_size=domain_size,\n)",
   "metadata": {
    "tags": [],
    "trusted": true
   },
   "outputs": [],
   "execution_count": 9
  },
  {
   "id": "c281408f-e63d-4380-a7e6-c595d49fbb8f",
   "cell_type": "code",
   "source": "paper_output = compile_paper(\n    macros_tex=macros_tex_file, \n    plot_file=pvbatch_output_file,\n)",
   "metadata": {
    "trusted": true
   },
   "outputs": [],
   "execution_count": 10
  },
  {
   "id": "63f29646-3846-4a97-a033-20e9df0ac214",
   "cell_type": "code",
   "source": "workflow_json_filename = \"pyiron_base_nfdi.json\"",
   "metadata": {
    "trusted": true
   },
   "outputs": [],
   "execution_count": 11
  },
  {
   "id": "f62111ba-9271-4987-9c7e-3b1c9f9eae7a",
   "cell_type": "code",
   "source": "write_workflow_json(delayed_object=paper_output, file_name=workflow_json_filename)",
   "metadata": {
    "trusted": true
   },
   "outputs": [],
   "execution_count": 12
  },
  {
   "id": "d789971e-8f41-45fa-832a-11fd72dea96e",
   "cell_type": "markdown",
   "source": "## Load Workflow with aiida",
   "metadata": {}
  },
  {
   "id": "a6e85e89-5d7a-40eb-809c-ac44974e3fd7",
   "cell_type": "code",
   "source": "from aiida import load_profile\n\nload_profile()",
   "metadata": {
    "trusted": true
   },
   "outputs": [
    {
     "execution_count": 13,
     "output_type": "execute_result",
     "data": {
      "text/plain": "Profile<uuid='5b8a8d98b3014876a9eed7d85a954e5e' name='pwd'>"
     },
     "metadata": {}
    }
   ],
   "execution_count": 13
  },
  {
   "id": "3de84fb7-b01b-4541-868a-92e881eb6e77",
   "cell_type": "code",
   "source": "from python_workflow_definition.aiida import load_workflow_json",
   "metadata": {
    "trusted": true
   },
   "outputs": [],
   "execution_count": 14
  },
  {
   "id": "b33f5528-10cd-47c8-8723-622902978859",
   "cell_type": "code",
   "source": "wg = load_workflow_json(file_name=workflow_json_filename)\nwg",
   "metadata": {
    "trusted": true
   },
   "outputs": [
    {
     "execution_count": 15,
     "output_type": "execute_result",
     "data": {
      "text/plain": "NodeGraphWidget(settings={'minimap': True}, style={'width': '90%', 'height': '600px'}, value={'name': 'WorkGra…",
      "application/vnd.jupyter.widget-view+json": {
       "version_major": 2,
       "version_minor": 1,
       "model_id": "ef807dc1b56a416796bab756bbb1896f"
      }
     },
     "metadata": {}
    }
   ],
   "execution_count": 15
  },
  {
   "id": "15282ca1-d339-40e7-ad68-8a7613ed08da",
   "cell_type": "code",
   "source": "wg.run()",
   "metadata": {
    "trusted": true
   },
   "outputs": [
    {
     "name": "stderr",
     "output_type": "stream",
     "text": "04/23/2025 09:46:12 AM <4155> aiida.orm.nodes.process.workflow.workchain.WorkChainNode: [REPORT] [149|WorkGraphEngine|continue_workgraph]: tasks ready to run: generate_mesh6\n04/23/2025 09:46:13 AM <4155> aiida.orm.nodes.process.workflow.workchain.WorkChainNode: [REPORT] [149|WorkGraphEngine|update_task_state]: Task: generate_mesh6, type: PyFunction, finished.\n04/23/2025 09:46:13 AM <4155> aiida.orm.nodes.process.workflow.workchain.WorkChainNode: [REPORT] [149|WorkGraphEngine|continue_workgraph]: tasks ready to run: convert_to_xdmf5\n04/23/2025 09:46:15 AM <4155> aiida.orm.nodes.process.workflow.workchain.WorkChainNode: [REPORT] [149|WorkGraphEngine|update_task_state]: Task: convert_to_xdmf5, type: PyFunction, finished.\n04/23/2025 09:46:15 AM <4155> aiida.orm.nodes.process.workflow.workchain.WorkChainNode: [REPORT] [149|WorkGraphEngine|continue_workgraph]: tasks ready to run: poisson4\n04/23/2025 09:46:19 AM <4155> aiida.orm.nodes.process.workflow.workchain.WorkChainNode: [REPORT] [149|WorkGraphEngine|update_task_state]: Task: poisson4, type: PyFunction, finished.\n04/23/2025 09:46:19 AM <4155> aiida.orm.nodes.process.workflow.workchain.WorkChainNode: [REPORT] [149|WorkGraphEngine|continue_workgraph]: tasks ready to run: plot_over_line3\n04/23/2025 09:46:21 AM <4155> aiida.orm.nodes.process.workflow.workchain.WorkChainNode: [REPORT] [149|WorkGraphEngine|update_task_state]: Task: plot_over_line3, type: PyFunction, finished.\n04/23/2025 09:46:21 AM <4155> aiida.orm.nodes.process.workflow.workchain.WorkChainNode: [REPORT] [149|WorkGraphEngine|continue_workgraph]: tasks ready to run: substitute_macros2\n04/23/2025 09:46:23 AM <4155> aiida.orm.nodes.process.workflow.workchain.WorkChainNode: [REPORT] [149|WorkGraphEngine|update_task_state]: Task: substitute_macros2, type: PyFunction, finished.\n04/23/2025 09:46:23 AM <4155> aiida.orm.nodes.process.workflow.workchain.WorkChainNode: [REPORT] [149|WorkGraphEngine|continue_workgraph]: tasks ready to run: compile_paper1\n04/23/2025 09:46:26 AM <4155> aiida.orm.nodes.process.workflow.workchain.WorkChainNode: [REPORT] [149|WorkGraphEngine|update_task_state]: Task: compile_paper1, type: PyFunction, finished.\n04/23/2025 09:46:26 AM <4155> aiida.orm.nodes.process.workflow.workchain.WorkChainNode: [REPORT] [149|WorkGraphEngine|continue_workgraph]: tasks ready to run: \n04/23/2025 09:46:26 AM <4155> aiida.orm.nodes.process.workflow.workchain.WorkChainNode: [REPORT] [149|WorkGraphEngine|finalize]: Finalize workgraph.\n"
    }
   ],
   "execution_count": 16
  },
  {
   "id": "55dc8d12-dfe6-4465-a368-b7e590ae6800",
   "cell_type": "markdown",
   "source": "## Load Workflow with jobflow",
   "metadata": {}
  },
  {
   "id": "dff46eb8-e0e7-49bb-8c40-0db2df133124",
   "cell_type": "code",
   "source": "from python_workflow_definition.jobflow import load_workflow_json",
   "metadata": {
    "trusted": true
   },
   "outputs": [
    {
     "name": "stderr",
     "output_type": "stream",
     "text": "/srv/conda/envs/notebook/lib/python3.12/site-packages/paramiko/pkey.py:82: CryptographyDeprecationWarning: TripleDES has been moved to cryptography.hazmat.decrepit.ciphers.algorithms.TripleDES and will be removed from cryptography.hazmat.primitives.ciphers.algorithms in 48.0.0.\n  \"cipher\": algorithms.TripleDES,\n/srv/conda/envs/notebook/lib/python3.12/site-packages/paramiko/transport.py:253: CryptographyDeprecationWarning: TripleDES has been moved to cryptography.hazmat.decrepit.ciphers.algorithms.TripleDES and will be removed from cryptography.hazmat.primitives.ciphers.algorithms in 48.0.0.\n  \"class\": algorithms.TripleDES,\n"
    }
   ],
   "execution_count": 17
  },
  {
   "id": "6a189459-84e4-4738-ada1-37ee8c65b2ab",
   "cell_type": "code",
   "source": "from jobflow.managers.local import run_locally",
   "metadata": {
    "trusted": true
   },
   "outputs": [],
   "execution_count": 18
  },
  {
   "id": "6e7f3614-c971-4e2d-83f0-96f0d0fc04de",
   "cell_type": "code",
   "source": "flow = load_workflow_json(file_name=workflow_json_filename)",
   "metadata": {
    "trusted": true
   },
   "outputs": [],
   "execution_count": 19
  },
  {
   "id": "2d87ed45-f5d9-403f-a03a-26be4a47a3ef",
   "cell_type": "code",
   "source": "result = run_locally(flow)\nresult",
   "metadata": {
    "trusted": true
   },
   "outputs": [
    {
     "name": "stdout",
     "output_type": "stream",
     "text": "2025-04-23 09:46:27,159 INFO Started executing jobs locally\n2025-04-23 09:46:27,488 INFO Starting job - generate_mesh (972ab469-7d1c-4dba-9d59-957741b6a6c8)\n2025-04-23 09:46:28,720 INFO Finished job - generate_mesh (972ab469-7d1c-4dba-9d59-957741b6a6c8)\n2025-04-23 09:46:28,721 INFO Starting job - convert_to_xdmf (7374ea3b-fa17-4554-bea9-5e97bf7c49a9)\n2025-04-23 09:46:30,169 INFO Finished job - convert_to_xdmf (7374ea3b-fa17-4554-bea9-5e97bf7c49a9)\n2025-04-23 09:46:30,170 INFO Starting job - poisson (5c920484-2b4a-47d1-92a1-5d2919557682)\n2025-04-23 09:46:33,008 INFO Finished job - poisson (5c920484-2b4a-47d1-92a1-5d2919557682)\n2025-04-23 09:46:33,009 INFO Starting job - plot_over_line (82770ae4-8a07-44c2-8a87-1cee9b178df5)\n2025-04-23 09:46:35,835 INFO Finished job - plot_over_line (82770ae4-8a07-44c2-8a87-1cee9b178df5)\n2025-04-23 09:46:35,836 INFO Starting job - substitute_macros (35dd4c5e-41f5-4d23-99ab-6972ad8d4827)\n2025-04-23 09:46:36,748 INFO Finished job - substitute_macros (35dd4c5e-41f5-4d23-99ab-6972ad8d4827)\n2025-04-23 09:46:36,749 INFO Starting job - compile_paper (785da10b-dd2a-47eb-9d5e-91d7e889807d)\n2025-04-23 09:46:39,139 INFO Finished job - compile_paper (785da10b-dd2a-47eb-9d5e-91d7e889807d)\n2025-04-23 09:46:39,140 INFO Finished executing jobs locally\n"
    },
    {
     "execution_count": 20,
     "output_type": "execute_result",
     "data": {
      "text/plain": "{'972ab469-7d1c-4dba-9d59-957741b6a6c8': {1: Response(output='/home/jovyan/preprocessing/square.msh', detour=None, addition=None, replace=None, stored_data=None, stop_children=False, stop_jobflow=False, job_dir=PosixPath('/home/jovyan'))},\n '7374ea3b-fa17-4554-bea9-5e97bf7c49a9': {1: Response(output={'xdmf_file': '/home/jovyan/preprocessing/square.xdmf', 'h5_file': '/home/jovyan/preprocessing/square.h5'}, detour=None, addition=None, replace=None, stored_data=None, stop_children=False, stop_jobflow=False, job_dir=PosixPath('/home/jovyan'))},\n '5c920484-2b4a-47d1-92a1-5d2919557682': {1: Response(output={'numdofs': 357, 'pvd_file': '/home/jovyan/processing/poisson.pvd', 'vtu_file': '/home/jovyan/processing/poisson000000.vtu'}, detour=None, addition=None, replace=None, stored_data=None, stop_children=False, stop_jobflow=False, job_dir=PosixPath('/home/jovyan'))},\n '82770ae4-8a07-44c2-8a87-1cee9b178df5': {1: Response(output='/home/jovyan/postprocessing/plotoverline.csv', detour=None, addition=None, replace=None, stored_data=None, stop_children=False, stop_jobflow=False, job_dir=PosixPath('/home/jovyan'))},\n '35dd4c5e-41f5-4d23-99ab-6972ad8d4827': {1: Response(output='/home/jovyan/postprocessing/macros.tex', detour=None, addition=None, replace=None, stored_data=None, stop_children=False, stop_jobflow=False, job_dir=PosixPath('/home/jovyan'))},\n '785da10b-dd2a-47eb-9d5e-91d7e889807d': {1: Response(output='/home/jovyan/postprocessing/paper.pdf', detour=None, addition=None, replace=None, stored_data=None, stop_children=False, stop_jobflow=False, job_dir=PosixPath('/home/jovyan'))}}"
     },
     "metadata": {}
    }
   ],
   "execution_count": 20
  }
 ]
}
