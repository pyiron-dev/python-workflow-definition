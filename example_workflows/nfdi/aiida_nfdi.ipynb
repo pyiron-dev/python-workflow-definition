{
 "metadata": {
  "kernelspec": {
   "display_name": "Python 3 (ipykernel)",
   "language": "python",
   "name": "python3"
  },
  "language_info": {
   "name": "python",
   "version": "3.12.8",
   "mimetype": "text/x-python",
   "codemirror_mode": {
    "name": "ipython",
    "version": 3
   },
   "pygments_lexer": "ipython3",
   "nbconvert_exporter": "python",
   "file_extension": ".py"
  }
 },
 "nbformat_minor": 5,
 "nbformat": 4,
 "cells": [
  {
   "id": "106ded66-d202-46ac-82b0-2755ca309bdd",
   "cell_type": "markdown",
   "source": "# Aiida\n\nhttps://github.com/BAMresearch/NFDI4IngScientificWorkflowRequirements",
   "metadata": {}
  },
  {
   "id": "11e09b78-cb72-465f-9c8b-5b77f0aa729c",
   "cell_type": "markdown",
   "source": "## Define workflow with aiida",
   "metadata": {}
  },
  {
   "id": "89c02460-b543-442c-a27e-f1757dc2262e",
   "cell_type": "code",
   "source": "from python_workflow_definition.aiida import write_workflow_json\n\nfrom aiida_workgraph import WorkGraph, task\nfrom aiida import orm, load_profile\nload_profile()",
   "metadata": {
    "trusted": true
   },
   "outputs": [
    {
     "execution_count": 1,
     "output_type": "execute_result",
     "data": {
      "text/plain": "Profile<uuid='5b8a8d98b3014876a9eed7d85a954e5e' name='pwd'>"
     },
     "metadata": {}
    }
   ],
   "execution_count": 1
  },
  {
   "metadata": {},
   "cell_type": "code",
   "outputs": [],
   "execution_count": null,
   "source": [
    "from nfdi_ing_workflow import (\n",
    "    generate_mesh,\n",
    "    convert_to_xdmf as _convert_to_xdmf,\n",
    "    poisson as _poisson,\n",
    "    plot_over_line,\n",
    "    substitute_macros,\n",
    "    compile_paper,\n",
    ")"
   ],
   "id": "6dac225a1ce86b25"
  },
  {
   "metadata": {},
   "cell_type": "code",
   "outputs": [],
   "execution_count": null,
   "source": [
    "convert_to_xdmf = task(outputs=[\"xdmf_file\", \"h5_file\"])(_convert_to_xdmf)\n",
    "poisson = task(outputs=[\"numdofs\", \"pvd_file\", \"vtu_file\"])(_poisson)"
   ],
   "id": "c47205d289499756"
  },
  {
   "id": "8d911f98-3b80-457f-a0f4-3cb37ebf1691",
   "cell_type": "code",
   "source": "domain_size = orm.Float(2.0)",
   "metadata": {
    "trusted": true
   },
   "outputs": [],
   "execution_count": 4
  },
  {
   "id": "1e7e14ba-c4a7-485f-9bd8-44625830cca0",
   "cell_type": "code",
   "source": "wg = WorkGraph(\"wg-nfdi\")",
   "metadata": {
    "trusted": true
   },
   "outputs": [],
   "execution_count": 5
  },
  {
   "id": "71d411b6-cbec-489e-99e3-ba71680bcb5b",
   "cell_type": "code",
   "source": "gmsh_output_file = wg.add_task(\n    generate_mesh,\n    name=\"generate_mesh\",\n    domain_size=domain_size,\n)",
   "metadata": {
    "tags": [],
    "trusted": true
   },
   "outputs": [],
   "execution_count": 6
  },
  {
   "id": "1d0d9804-f250-48b3-a5d0-a546d520f79b",
   "cell_type": "code",
   "source": "meshio_output_dict = wg.add_task(\n    convert_to_xdmf,\n    name=\"convert_to_xdmf\",\n    gmsh_output_file=gmsh_output_file.outputs.result,\n)",
   "metadata": {
    "tags": [],
    "trusted": true
   },
   "outputs": [],
   "execution_count": 7
  },
  {
   "id": "7b69bcff-e2b1-4d4a-b62c-6a1c86eeb590",
   "cell_type": "code",
   "source": "poisson_dict = wg.add_task(\n    poisson,\n    name=\"poisson\",\n    meshio_output_xdmf=meshio_output_dict.outputs.xdmf_file, \n    meshio_output_h5=meshio_output_dict.outputs.h5_file,\n)",
   "metadata": {
    "tags": [],
    "trusted": true
   },
   "outputs": [],
   "execution_count": 8
  },
  {
   "id": "3c4a29b0-eb1e-490a-8be0-e03cfff15e0a",
   "cell_type": "code",
   "source": "pvbatch_output_file = wg.add_task(\n    plot_over_line,\n    name=\"plot_over_line\",\n    poisson_output_pvd_file=poisson_dict.outputs.pvd_file, \n    poisson_output_vtu_file=poisson_dict.outputs.vtu_file,\n)",
   "metadata": {
    "tags": [],
    "trusted": true
   },
   "outputs": [],
   "execution_count": 9
  },
  {
   "id": "a0a4c233-322d-4723-9627-62ca2487bfa9",
   "cell_type": "code",
   "source": "macros_tex_file = wg.add_task(\n    substitute_macros,\n    name=\"substitute_macros\",\n    pvbatch_output_file=pvbatch_output_file.outputs.result, \n    ndofs=poisson_dict.outputs.numdofs, \n    domain_size=domain_size,\n)",
   "metadata": {
    "tags": [],
    "trusted": true
   },
   "outputs": [],
   "execution_count": 10
  },
  {
   "id": "c281408f-e63d-4380-a7e6-c595d49fbb8f",
   "cell_type": "code",
   "source": "paper_output = wg.add_task(\n    compile_paper,\n    name=\"compile_paper\",\n    macros_tex=macros_tex_file.outputs.result, \n    plot_file=pvbatch_output_file.outputs.result,\n)",
   "metadata": {
    "trusted": true
   },
   "outputs": [],
   "execution_count": 11
  },
  {
   "id": "a384d70a-8ef5-4fdd-880c-56ac7eaf87b9",
   "cell_type": "code",
   "source": "wg",
   "metadata": {
    "trusted": true
   },
   "outputs": [
    {
     "execution_count": 12,
     "output_type": "execute_result",
     "data": {
      "text/plain": "NodeGraphWidget(settings={'minimap': True}, style={'width': '90%', 'height': '600px'}, value={'name': 'wg-nfdi…",
      "application/vnd.jupyter.widget-view+json": {
       "version_major": 2,
       "version_minor": 1,
       "model_id": "cc82d573b0404a4697e86fea0f52b39d"
      }
     },
     "metadata": {}
    }
   ],
   "execution_count": 12
  },
  {
   "id": "fb23ad9c-76fd-4c0b-b546-e305d6c49796",
   "cell_type": "code",
   "source": "workflow_json_filename = \"aiida_nfdi.json\"",
   "metadata": {
    "trusted": true
   },
   "outputs": [],
   "execution_count": 13
  },
  {
   "id": "4139547a-9717-4708-b1a5-8202a0382d77",
   "cell_type": "code",
   "source": "write_workflow_json(wg=wg, file_name=workflow_json_filename)",
   "metadata": {
    "trusted": true
   },
   "outputs": [
    {
     "execution_count": 14,
     "output_type": "execute_result",
     "data": {
      "text/plain": "{'nodes': [{'id': 0, 'function': 'nfdi_ing_workflow.generate_mesh'},\n  {'id': 1, 'function': 'nfdi_ing_workflow.convert_to_xdmf'},\n  {'id': 2, 'function': 'nfdi_ing_workflow.poisson'},\n  {'id': 3, 'function': 'nfdi_ing_workflow.plot_over_line'},\n  {'id': 4, 'function': 'nfdi_ing_workflow.substitute_macros'},\n  {'id': 5, 'function': 'nfdi_ing_workflow.compile_paper'},\n  {'id': 6, 'value': 2.0}],\n 'edges': [{'target': 1,\n   'targetPort': 'gmsh_output_file',\n   'source': 0,\n   'sourcePort': None},\n  {'target': 2,\n   'targetPort': 'meshio_output_xdmf',\n   'source': 1,\n   'sourcePort': 'xdmf_file'},\n  {'target': 2,\n   'targetPort': 'meshio_output_h5',\n   'source': 1,\n   'sourcePort': 'h5_file'},\n  {'target': 3,\n   'targetPort': 'poisson_output_pvd_file',\n   'source': 2,\n   'sourcePort': 'pvd_file'},\n  {'target': 3,\n   'targetPort': 'poisson_output_vtu_file',\n   'source': 2,\n   'sourcePort': 'vtu_file'},\n  {'target': 4,\n   'targetPort': 'pvbatch_output_file',\n   'source': 3,\n   'sourcePort': None},\n  {'target': 4, 'targetPort': 'ndofs', 'source': 2, 'sourcePort': 'numdofs'},\n  {'target': 5, 'targetPort': 'macros_tex', 'source': 4, 'sourcePort': None},\n  {'target': 5, 'targetPort': 'plot_file', 'source': 3, 'sourcePort': None},\n  {'target': 0, 'targetPort': 'domain_size', 'source': 6, 'sourcePort': None},\n  {'target': 4, 'targetPort': 'domain_size', 'source': 6, 'sourcePort': None}]}"
     },
     "metadata": {}
    }
   ],
   "execution_count": 14
  },
  {
   "id": "490df6a3-e402-4620-acf2-dbcfa0c5d537",
   "cell_type": "code",
   "source": "!cat {workflow_json_filename}",
   "metadata": {
    "trusted": true
   },
   "outputs": [
    {
     "name": "stdout",
     "output_type": "stream",
     "text": "{\n  \"nodes\": [\n    {\n      \"id\": 0,\n      \"function\": \"nfdi_ing_workflow.generate_mesh\"\n    },\n    {\n      \"id\": 1,\n      \"function\": \"nfdi_ing_workflow.convert_to_xdmf\"\n    },\n    {\n      \"id\": 2,\n      \"function\": \"nfdi_ing_workflow.poisson\"\n    },\n    {\n      \"id\": 3,\n      \"function\": \"nfdi_ing_workflow.plot_over_line\"\n    },\n    {\n      \"id\": 4,\n      \"function\": \"nfdi_ing_workflow.substitute_macros\"\n    },\n    {\n      \"id\": 5,\n      \"function\": \"nfdi_ing_workflow.compile_paper\"\n    },\n    {\n      \"id\": 6,\n      \"value\": 2.0\n    }\n  ],\n  \"edges\": [\n    {\n      \"target\": 1,\n      \"targetPort\": \"gmsh_output_file\",\n      \"source\": 0,\n      \"sourcePort\": null\n    },\n    {\n      \"target\": 2,\n      \"targetPort\": \"meshio_output_xdmf\",\n      \"source\": 1,\n      \"sourcePort\": \"xdmf_file\"\n    },\n    {\n      \"target\": 2,\n      \"targetPort\": \"meshio_output_h5\",\n      \"source\": 1,\n      \"sourcePort\": \"h5_file\"\n    },\n    {\n      \"target\": 3,\n      \"targetPort\": \"poisson_output_pvd_file\",\n      \"source\": 2,\n      \"sourcePort\": \"pvd_file\"\n    },\n    {\n      \"target\": 3,\n      \"targetPort\": \"poisson_output_vtu_file\",\n      \"source\": 2,\n      \"sourcePort\": \"vtu_file\"\n    },\n    {\n      \"target\": 4,\n      \"targetPort\": \"pvbatch_output_file\",\n      \"source\": 3,\n      \"sourcePort\": null\n    },\n    {\n      \"target\": 4,\n      \"targetPort\": \"ndofs\",\n      \"source\": 2,\n      \"sourcePort\": \"numdofs\"\n    },\n    {\n      \"target\": 5,\n      \"targetPort\": \"macros_tex\",\n      \"source\": 4,\n      \"sourcePort\": null\n    },\n    {\n      \"target\": 5,\n      \"targetPort\": \"plot_file\",\n      \"source\": 3,\n      \"sourcePort\": null\n    },\n    {\n      \"target\": 0,\n      \"targetPort\": \"domain_size\",\n      \"source\": 6,\n      \"sourcePort\": null\n    },\n    {\n      \"target\": 4,\n      \"targetPort\": \"domain_size\",\n      \"source\": 6,\n      \"sourcePort\": null\n    }\n  ]\n}"
    }
   ],
   "execution_count": 15
  },
  {
   "id": "11a829e2-face-469f-b343-2c95763b1f13",
   "cell_type": "markdown",
   "source": "## Load Workflow with jobflow",
   "metadata": {}
  },
  {
   "id": "4f3acabe-55df-479a-af4d-a23a80c4660d",
   "cell_type": "code",
   "source": "from python_workflow_definition.jobflow import load_workflow_json",
   "metadata": {
    "trusted": true
   },
   "outputs": [
    {
     "name": "stderr",
     "output_type": "stream",
     "text": "/srv/conda/envs/notebook/lib/python3.12/site-packages/paramiko/pkey.py:82: CryptographyDeprecationWarning: TripleDES has been moved to cryptography.hazmat.decrepit.ciphers.algorithms.TripleDES and will be removed from cryptography.hazmat.primitives.ciphers.algorithms in 48.0.0.\n  \"cipher\": algorithms.TripleDES,\n/srv/conda/envs/notebook/lib/python3.12/site-packages/paramiko/transport.py:253: CryptographyDeprecationWarning: TripleDES has been moved to cryptography.hazmat.decrepit.ciphers.algorithms.TripleDES and will be removed from cryptography.hazmat.primitives.ciphers.algorithms in 48.0.0.\n  \"class\": algorithms.TripleDES,\n"
    }
   ],
   "execution_count": 16
  },
  {
   "id": "b6ba9444-a2c8-451b-b74c-19b0f69ba369",
   "cell_type": "code",
   "source": "from jobflow.managers.local import run_locally",
   "metadata": {
    "trusted": true
   },
   "outputs": [],
   "execution_count": 17
  },
  {
   "id": "c3528d55-6bf7-47ed-a110-65c47446ba92",
   "cell_type": "code",
   "source": "flow = load_workflow_json(file_name=workflow_json_filename)",
   "metadata": {
    "trusted": true
   },
   "outputs": [],
   "execution_count": 18
  },
  {
   "id": "5ef48778-4209-425f-8c6b-85a4cd2f92ec",
   "cell_type": "code",
   "source": "result = run_locally(flow)\nresult",
   "metadata": {
    "trusted": true
   },
   "outputs": [
    {
     "name": "stdout",
     "output_type": "stream",
     "text": "2025-04-23 09:29:09,718 INFO Started executing jobs locally\n2025-04-23 09:29:10,027 INFO Starting job - generate_mesh (db4e4162-f31c-4da8-b474-aff5f748b02a)\n2025-04-23 09:29:11,997 INFO Finished job - generate_mesh (db4e4162-f31c-4da8-b474-aff5f748b02a)\n2025-04-23 09:29:11,998 INFO Starting job - convert_to_xdmf (25f3510a-42fc-4895-bb0c-1ea58a357c1d)\n2025-04-23 09:29:13,640 INFO Finished job - convert_to_xdmf (25f3510a-42fc-4895-bb0c-1ea58a357c1d)\n2025-04-23 09:29:13,642 INFO Starting job - poisson (03732863-096b-4c7f-b9fe-62edb0fd5d91)\n2025-04-23 09:29:23,400 INFO Finished job - poisson (03732863-096b-4c7f-b9fe-62edb0fd5d91)\n2025-04-23 09:29:23,401 INFO Starting job - plot_over_line (d326049f-820a-4b9c-8645-70a4d5a8b581)\n2025-04-23 09:29:25,817 INFO Finished job - plot_over_line (d326049f-820a-4b9c-8645-70a4d5a8b581)\n2025-04-23 09:29:25,818 INFO Starting job - substitute_macros (ce1245a5-8a5d-4428-9e90-437f8dff22e2)\n2025-04-23 09:29:26,635 INFO Finished job - substitute_macros (ce1245a5-8a5d-4428-9e90-437f8dff22e2)\n2025-04-23 09:29:26,636 INFO Starting job - compile_paper (5b619ad3-49d6-4e76-ad3f-0ac31e7d63cb)\n2025-04-23 09:30:40,178 INFO Finished job - compile_paper (5b619ad3-49d6-4e76-ad3f-0ac31e7d63cb)\n2025-04-23 09:30:40,179 INFO Finished executing jobs locally\n"
    },
    {
     "execution_count": 19,
     "output_type": "execute_result",
     "data": {
      "text/plain": "{'db4e4162-f31c-4da8-b474-aff5f748b02a': {1: Response(output='/home/jovyan/preprocessing/square.msh', detour=None, addition=None, replace=None, stored_data=None, stop_children=False, stop_jobflow=False, job_dir=PosixPath('/home/jovyan'))},\n '25f3510a-42fc-4895-bb0c-1ea58a357c1d': {1: Response(output={'xdmf_file': '/home/jovyan/preprocessing/square.xdmf', 'h5_file': '/home/jovyan/preprocessing/square.h5'}, detour=None, addition=None, replace=None, stored_data=None, stop_children=False, stop_jobflow=False, job_dir=PosixPath('/home/jovyan'))},\n '03732863-096b-4c7f-b9fe-62edb0fd5d91': {1: Response(output={'numdofs': 357, 'pvd_file': '/home/jovyan/processing/poisson.pvd', 'vtu_file': '/home/jovyan/processing/poisson000000.vtu'}, detour=None, addition=None, replace=None, stored_data=None, stop_children=False, stop_jobflow=False, job_dir=PosixPath('/home/jovyan'))},\n 'd326049f-820a-4b9c-8645-70a4d5a8b581': {1: Response(output='/home/jovyan/postprocessing/plotoverline.csv', detour=None, addition=None, replace=None, stored_data=None, stop_children=False, stop_jobflow=False, job_dir=PosixPath('/home/jovyan'))},\n 'ce1245a5-8a5d-4428-9e90-437f8dff22e2': {1: Response(output='/home/jovyan/postprocessing/macros.tex', detour=None, addition=None, replace=None, stored_data=None, stop_children=False, stop_jobflow=False, job_dir=PosixPath('/home/jovyan'))},\n '5b619ad3-49d6-4e76-ad3f-0ac31e7d63cb': {1: Response(output='/home/jovyan/postprocessing/paper.pdf', detour=None, addition=None, replace=None, stored_data=None, stop_children=False, stop_jobflow=False, job_dir=PosixPath('/home/jovyan'))}}"
     },
     "metadata": {}
    }
   ],
   "execution_count": 19
  },
  {
   "id": "397b16a2-e1ec-4eec-8562-1c84f585c347",
   "cell_type": "markdown",
   "source": "## Load Workflow with pyiron_base",
   "metadata": {}
  },
  {
   "id": "be4d5d93-e9f6-4072-a6be-0ee5dc93590f",
   "cell_type": "code",
   "source": "from python_workflow_definition.pyiron_base import load_workflow_json",
   "metadata": {
    "trusted": true
   },
   "outputs": [],
   "execution_count": 20
  },
  {
   "id": "4452a648-d4c3-4f5f-8678-ffb54bef17dc",
   "cell_type": "code",
   "source": "delayed_object_lst = load_workflow_json(file_name=workflow_json_filename)\ndelayed_object_lst[-1].draw()",
   "metadata": {
    "trusted": true
   },
   "outputs": [
    {
     "output_type": "display_data",
     "data": {
      "text/plain": "<IPython.core.display.SVG object>",
      "image/svg+xml": "<svg xmlns=\"http://www.w3.org/2000/svg\" xmlns:xlink=\"http://www.w3.org/1999/xlink\" width=\"2938pt\" height=\"476pt\" viewBox=\"0.00 0.00 2938.22 476.00\">\n<g id=\"graph0\" class=\"graph\" transform=\"scale(1 1) rotate(0) translate(4 472)\">\n<polygon fill=\"white\" stroke=\"none\" points=\"-4,4 -4,-472 2934.22,-472 2934.22,4 -4,4\"/>\n<!-- create_function_job_69b38eef29d5c9aba4c6de512da1bb24 -->\n<g id=\"node1\" class=\"node\">\n<title>create_function_job_69b38eef29d5c9aba4c6de512da1bb24</title>\n<ellipse fill=\"none\" stroke=\"black\" cx=\"1543.77\" cy=\"-18\" rx=\"487.88\" ry=\"18\"/>\n<text text-anchor=\"middle\" x=\"1543.77\" y=\"-13.32\" font-family=\"Times,serif\" font-size=\"14.00\">create_function_job=&lt;pyiron_base.project.delayed.DelayedObject object at 0x7470370855e0&gt;</text>\n</g>\n<!-- macros_tex_c5f640fc7b11414962941f82a40a8b04 -->\n<g id=\"node2\" class=\"node\">\n<title>macros_tex_c5f640fc7b11414962941f82a40a8b04</title>\n<ellipse fill=\"none\" stroke=\"black\" cx=\"2010.77\" cy=\"-90\" rx=\"446.32\" ry=\"18\"/>\n<text text-anchor=\"middle\" x=\"2010.77\" y=\"-85.33\" font-family=\"Times,serif\" font-size=\"14.00\">macros_tex=&lt;pyiron_base.project.delayed.DelayedObject object at 0x747042cb6ed0&gt;</text>\n</g>\n<!-- macros_tex_c5f640fc7b11414962941f82a40a8b04&#45;&gt;create_function_job_69b38eef29d5c9aba4c6de512da1bb24 -->\n<g id=\"edge1\" class=\"edge\">\n<title>macros_tex_c5f640fc7b11414962941f82a40a8b04-&gt;create_function_job_69b38eef29d5c9aba4c6de512da1bb24</title>\n<path fill=\"none\" stroke=\"black\" d=\"M1898.02,-72.1C1828.71,-61.71 1739.83,-48.39 1668.43,-37.69\"/>\n<polygon fill=\"black\" stroke=\"black\" points=\"1669.03,-34.24 1658.62,-36.22 1667.99,-41.16 1669.03,-34.24\"/>\n</g>\n<!-- pvbatch_output_file_5f8f87a5c4f1bd1a4b6cca85a1fc2b78 -->\n<g id=\"node3\" class=\"node\">\n<title>pvbatch_output_file_5f8f87a5c4f1bd1a4b6cca85a1fc2b78</title>\n<ellipse fill=\"none\" stroke=\"black\" cx=\"1645.77\" cy=\"-162\" rx=\"487.88\" ry=\"18\"/>\n<text text-anchor=\"middle\" x=\"1645.77\" y=\"-157.32\" font-family=\"Times,serif\" font-size=\"14.00\">pvbatch_output_file=&lt;pyiron_base.project.delayed.DelayedObject object at 0x747041dd8c20&gt;</text>\n</g>\n<!-- pvbatch_output_file_5f8f87a5c4f1bd1a4b6cca85a1fc2b78&#45;&gt;macros_tex_c5f640fc7b11414962941f82a40a8b04 -->\n<g id=\"edge2\" class=\"edge\">\n<title>pvbatch_output_file_5f8f87a5c4f1bd1a4b6cca85a1fc2b78-&gt;macros_tex_c5f640fc7b11414962941f82a40a8b04</title>\n<path fill=\"none\" stroke=\"black\" d=\"M1735.06,-143.88C1788.17,-133.69 1855.68,-120.74 1910.6,-110.21\"/>\n<polygon fill=\"black\" stroke=\"black\" points=\"1911.12,-113.67 1920.28,-108.35 1909.8,-106.8 1911.12,-113.67\"/>\n</g>\n<!-- poisson_output_pvd_file_08c5d21e2c998fd513709b7a059c6649 -->\n<g id=\"node4\" class=\"node\">\n<title>poisson_output_pvd_file_08c5d21e2c998fd513709b7a059c6649</title>\n<ellipse fill=\"none\" stroke=\"black\" cx=\"1538.77\" cy=\"-234\" rx=\"508.92\" ry=\"18\"/>\n<text text-anchor=\"middle\" x=\"1538.77\" y=\"-229.32\" font-family=\"Times,serif\" font-size=\"14.00\">poisson_output_pvd_file=&lt;pyiron_base.project.delayed.DelayedObject object at 0x74704c596180&gt;</text>\n</g>\n<!-- poisson_output_pvd_file_08c5d21e2c998fd513709b7a059c6649&#45;&gt;pvbatch_output_file_5f8f87a5c4f1bd1a4b6cca85a1fc2b78 -->\n<g id=\"edge3\" class=\"edge\">\n<title>poisson_output_pvd_file_08c5d21e2c998fd513709b7a059c6649-&gt;pvbatch_output_file_5f8f87a5c4f1bd1a4b6cca85a1fc2b78</title>\n<path fill=\"none\" stroke=\"black\" d=\"M1565.22,-215.7C1578.72,-206.86 1595.34,-195.99 1609.98,-186.41\"/>\n<polygon fill=\"black\" stroke=\"black\" points=\"1611.53,-189.58 1617.98,-181.18 1607.7,-183.72 1611.53,-189.58\"/>\n</g>\n<!-- plot_file_5f8f87a5c4f1bd1a4b6cca85a1fc2b78 -->\n<g id=\"node5\" class=\"node\">\n<title>plot_file_5f8f87a5c4f1bd1a4b6cca85a1fc2b78</title>\n<ellipse fill=\"none\" stroke=\"black\" cx=\"710.77\" cy=\"-162\" rx=\"429.48\" ry=\"18\"/>\n<text text-anchor=\"middle\" x=\"710.77\" y=\"-157.32\" font-family=\"Times,serif\" font-size=\"14.00\">plot_file=&lt;pyiron_base.project.delayed.DelayedObject object at 0x747041dd8c20&gt;</text>\n</g>\n<!-- poisson_output_pvd_file_08c5d21e2c998fd513709b7a059c6649&#45;&gt;plot_file_5f8f87a5c4f1bd1a4b6cca85a1fc2b78 -->\n<g id=\"edge4\" class=\"edge\">\n<title>poisson_output_pvd_file_08c5d21e2c998fd513709b7a059c6649-&gt;plot_file_5f8f87a5c4f1bd1a4b6cca85a1fc2b78</title>\n<path fill=\"none\" stroke=\"black\" d=\"M1347.77,-216.85C1215.72,-205.69 1040.54,-190.88 907.31,-179.62\"/>\n<polygon fill=\"black\" stroke=\"black\" points=\"907.94,-176.16 897.68,-178.8 907.35,-183.13 907.94,-176.16\"/>\n</g>\n<!-- plot_file_5f8f87a5c4f1bd1a4b6cca85a1fc2b78&#45;&gt;create_function_job_69b38eef29d5c9aba4c6de512da1bb24 -->\n<g id=\"edge18\" class=\"edge\">\n<title>plot_file_5f8f87a5c4f1bd1a4b6cca85a1fc2b78-&gt;create_function_job_69b38eef29d5c9aba4c6de512da1bb24</title>\n<path fill=\"none\" stroke=\"black\" d=\"M810.42,-144.01C966.93,-117.33 1269.32,-65.78 1432.64,-37.94\"/>\n<polygon fill=\"black\" stroke=\"black\" points=\"1432.91,-41.45 1442.18,-36.32 1431.74,-34.55 1432.91,-41.45\"/>\n</g>\n<!-- meshio_output_xdmf_fc75e768124c1b73ca0efc70a5765dea -->\n<g id=\"node6\" class=\"node\">\n<title>meshio_output_xdmf_fc75e768124c1b73ca0efc70a5765dea</title>\n<ellipse fill=\"none\" stroke=\"black\" cx=\"1432.77\" cy=\"-306\" rx=\"494.72\" ry=\"18\"/>\n<text text-anchor=\"middle\" x=\"1432.77\" y=\"-301.32\" font-family=\"Times,serif\" font-size=\"14.00\">meshio_output_xdmf=&lt;pyiron_base.project.delayed.DelayedObject object at 0x7470340b41d0&gt;</text>\n</g>\n<!-- meshio_output_xdmf_fc75e768124c1b73ca0efc70a5765dea&#45;&gt;poisson_output_pvd_file_08c5d21e2c998fd513709b7a059c6649 -->\n<g id=\"edge5\" class=\"edge\">\n<title>meshio_output_xdmf_fc75e768124c1b73ca0efc70a5765dea-&gt;poisson_output_pvd_file_08c5d21e2c998fd513709b7a059c6649</title>\n<path fill=\"none\" stroke=\"black\" d=\"M1458.97,-287.7C1472.22,-278.95 1488.5,-268.19 1502.9,-258.69\"/>\n<polygon fill=\"black\" stroke=\"black\" points=\"1504.82,-261.61 1511.24,-253.18 1500.96,-255.77 1504.82,-261.61\"/>\n</g>\n<!-- poisson_output_vtu_file_62144723b416cb6b52989d18b3dec55b -->\n<g id=\"node7\" class=\"node\">\n<title>poisson_output_vtu_file_62144723b416cb6b52989d18b3dec55b</title>\n<ellipse fill=\"none\" stroke=\"black\" cx=\"505.77\" cy=\"-234\" rx=\"505.77\" ry=\"18\"/>\n<text text-anchor=\"middle\" x=\"505.77\" y=\"-229.32\" font-family=\"Times,serif\" font-size=\"14.00\">poisson_output_vtu_file=&lt;pyiron_base.project.delayed.DelayedObject object at 0x74704c5960c0&gt;</text>\n</g>\n<!-- meshio_output_xdmf_fc75e768124c1b73ca0efc70a5765dea&#45;&gt;poisson_output_vtu_file_62144723b416cb6b52989d18b3dec55b -->\n<g id=\"edge6\" class=\"edge\">\n<title>meshio_output_xdmf_fc75e768124c1b73ca0efc70a5765dea-&gt;poisson_output_vtu_file_62144723b416cb6b52989d18b3dec55b</title>\n<path fill=\"none\" stroke=\"black\" d=\"M1224.15,-289.25C1075.96,-278.06 877.33,-263.06 726.49,-251.67\"/>\n<polygon fill=\"black\" stroke=\"black\" points=\"727,-248.2 716.77,-250.93 726.47,-255.18 727,-248.2\"/>\n</g>\n<!-- ndofs_c3811e53ce75b5460d97029d314439b5 -->\n<g id=\"node8\" class=\"node\">\n<title>ndofs_c3811e53ce75b5460d97029d314439b5</title>\n<ellipse fill=\"none\" stroke=\"black\" cx=\"2483.77\" cy=\"-234\" rx=\"418.43\" ry=\"18\"/>\n<text text-anchor=\"middle\" x=\"2483.77\" y=\"-229.32\" font-family=\"Times,serif\" font-size=\"14.00\">ndofs=&lt;pyiron_base.project.delayed.DelayedObject object at 0x747041dd9310&gt;</text>\n</g>\n<!-- meshio_output_xdmf_fc75e768124c1b73ca0efc70a5765dea&#45;&gt;ndofs_c3811e53ce75b5460d97029d314439b5 -->\n<g id=\"edge7\" class=\"edge\">\n<title>meshio_output_xdmf_fc75e768124c1b73ca0efc70a5765dea-&gt;ndofs_c3811e53ce75b5460d97029d314439b5</title>\n<path fill=\"none\" stroke=\"black\" d=\"M1663.41,-289.64C1837.99,-278.01 2076.75,-262.11 2251.68,-250.46\"/>\n<polygon fill=\"black\" stroke=\"black\" points=\"2251.85,-253.95 2261.59,-249.8 2251.38,-246.97 2251.85,-253.95\"/>\n</g>\n<!-- poisson_output_vtu_file_62144723b416cb6b52989d18b3dec55b&#45;&gt;pvbatch_output_file_5f8f87a5c4f1bd1a4b6cca85a1fc2b78 -->\n<g id=\"edge15\" class=\"edge\">\n<title>poisson_output_vtu_file_62144723b416cb6b52989d18b3dec55b-&gt;pvbatch_output_file_5f8f87a5c4f1bd1a4b6cca85a1fc2b78</title>\n<path fill=\"none\" stroke=\"black\" d=\"M752.43,-217.85C940.83,-206.29 1199.65,-190.39 1390.22,-178.69\"/>\n<polygon fill=\"black\" stroke=\"black\" points=\"1390.25,-182.2 1400.02,-178.09 1389.82,-175.21 1390.25,-182.2\"/>\n</g>\n<!-- poisson_output_vtu_file_62144723b416cb6b52989d18b3dec55b&#45;&gt;plot_file_5f8f87a5c4f1bd1a4b6cca85a1fc2b78 -->\n<g id=\"edge16\" class=\"edge\">\n<title>poisson_output_vtu_file_62144723b416cb6b52989d18b3dec55b-&gt;plot_file_5f8f87a5c4f1bd1a4b6cca85a1fc2b78</title>\n<path fill=\"none\" stroke=\"black\" d=\"M556.7,-215.61C584.8,-206.01 619.88,-194.04 649.46,-183.93\"/>\n<polygon fill=\"black\" stroke=\"black\" points=\"650.33,-187.34 658.66,-180.79 648.06,-180.71 650.33,-187.34\"/>\n</g>\n<!-- ndofs_c3811e53ce75b5460d97029d314439b5&#45;&gt;macros_tex_c5f640fc7b11414962941f82a40a8b04 -->\n<g id=\"edge17\" class=\"edge\">\n<title>ndofs_c3811e53ce75b5460d97029d314439b5-&gt;macros_tex_c5f640fc7b11414962941f82a40a8b04</title>\n<path fill=\"none\" stroke=\"black\" d=\"M2426.24,-215.73C2338.73,-189.46 2172.5,-139.55 2079.02,-111.49\"/>\n<polygon fill=\"black\" stroke=\"black\" points=\"2080.3,-108.22 2069.71,-108.7 2078.28,-114.92 2080.3,-108.22\"/>\n</g>\n<!-- gmsh_output_file_950b49ac6562a70cf11f14756f9831ea -->\n<g id=\"node9\" class=\"node\">\n<title>gmsh_output_file_950b49ac6562a70cf11f14756f9831ea</title>\n<ellipse fill=\"none\" stroke=\"black\" cx=\"2423.77\" cy=\"-378\" rx=\"472.62\" ry=\"18\"/>\n<text text-anchor=\"middle\" x=\"2423.77\" y=\"-373.32\" font-family=\"Times,serif\" font-size=\"14.00\">gmsh_output_file=&lt;pyiron_base.project.delayed.DelayedObject object at 0x746ea8314fb0&gt;</text>\n</g>\n<!-- gmsh_output_file_950b49ac6562a70cf11f14756f9831ea&#45;&gt;meshio_output_xdmf_fc75e768124c1b73ca0efc70a5765dea -->\n<g id=\"edge8\" class=\"edge\">\n<title>gmsh_output_file_950b49ac6562a70cf11f14756f9831ea-&gt;meshio_output_xdmf_fc75e768124c1b73ca0efc70a5765dea</title>\n<path fill=\"none\" stroke=\"black\" d=\"M2205.67,-361.59C2045.24,-350.26 1827.55,-334.89 1664.08,-323.34\"/>\n<polygon fill=\"black\" stroke=\"black\" points=\"1664.63,-319.87 1654.4,-322.66 1664.13,-326.85 1664.63,-319.87\"/>\n</g>\n<!-- meshio_output_h5_efe999f964b5fb7603bd642abcd8905d -->\n<g id=\"node10\" class=\"node\">\n<title>meshio_output_h5_efe999f964b5fb7603bd642abcd8905d</title>\n<ellipse fill=\"none\" stroke=\"black\" cx=\"2423.77\" cy=\"-306\" rx=\"478.41\" ry=\"18\"/>\n<text text-anchor=\"middle\" x=\"2423.77\" y=\"-301.32\" font-family=\"Times,serif\" font-size=\"14.00\">meshio_output_h5=&lt;pyiron_base.project.delayed.DelayedObject object at 0x746ea6f35d30&gt;</text>\n</g>\n<!-- gmsh_output_file_950b49ac6562a70cf11f14756f9831ea&#45;&gt;meshio_output_h5_efe999f964b5fb7603bd642abcd8905d -->\n<g id=\"edge9\" class=\"edge\">\n<title>gmsh_output_file_950b49ac6562a70cf11f14756f9831ea-&gt;meshio_output_h5_efe999f964b5fb7603bd642abcd8905d</title>\n<path fill=\"none\" stroke=\"black\" d=\"M2423.77,-359.7C2423.77,-352.41 2423.77,-343.73 2423.77,-335.54\"/>\n<polygon fill=\"black\" stroke=\"black\" points=\"2427.27,-335.62 2423.77,-325.62 2420.27,-335.62 2427.27,-335.62\"/>\n</g>\n<!-- meshio_output_h5_efe999f964b5fb7603bd642abcd8905d&#45;&gt;poisson_output_pvd_file_08c5d21e2c998fd513709b7a059c6649 -->\n<g id=\"edge12\" class=\"edge\">\n<title>meshio_output_h5_efe999f964b5fb7603bd642abcd8905d-&gt;poisson_output_pvd_file_08c5d21e2c998fd513709b7a059c6649</title>\n<path fill=\"none\" stroke=\"black\" d=\"M2224.05,-289.2C2083.44,-278.08 1895.46,-263.21 1751.94,-251.86\"/>\n<polygon fill=\"black\" stroke=\"black\" points=\"1752.57,-248.4 1742.33,-251.1 1752.02,-255.38 1752.57,-248.4\"/>\n</g>\n<!-- meshio_output_h5_efe999f964b5fb7603bd642abcd8905d&#45;&gt;poisson_output_vtu_file_62144723b416cb6b52989d18b3dec55b -->\n<g id=\"edge13\" class=\"edge\">\n<title>meshio_output_h5_efe999f964b5fb7603bd642abcd8905d-&gt;poisson_output_vtu_file_62144723b416cb6b52989d18b3dec55b</title>\n<path fill=\"none\" stroke=\"black\" d=\"M2088.85,-292.78C1745.11,-280.23 1212.28,-260.79 861.23,-247.97\"/>\n<polygon fill=\"black\" stroke=\"black\" points=\"861.49,-244.48 851.37,-247.61 861.24,-251.48 861.49,-244.48\"/>\n</g>\n<!-- meshio_output_h5_efe999f964b5fb7603bd642abcd8905d&#45;&gt;ndofs_c3811e53ce75b5460d97029d314439b5 -->\n<g id=\"edge14\" class=\"edge\">\n<title>meshio_output_h5_efe999f964b5fb7603bd642abcd8905d-&gt;ndofs_c3811e53ce75b5460d97029d314439b5</title>\n<path fill=\"none\" stroke=\"black\" d=\"M2438.6,-287.7C2445.57,-279.56 2454.03,-269.69 2461.74,-260.7\"/>\n<polygon fill=\"black\" stroke=\"black\" points=\"2464.27,-263.12 2468.12,-253.25 2458.96,-258.57 2464.27,-263.12\"/>\n</g>\n<!-- domain_size_f12a7f1986b9dd058dfc666dbe230b20 -->\n<g id=\"node11\" class=\"node\">\n<title>domain_size_f12a7f1986b9dd058dfc666dbe230b20</title>\n<ellipse fill=\"none\" stroke=\"black\" cx=\"2676.77\" cy=\"-450\" rx=\"96.45\" ry=\"18\"/>\n<text text-anchor=\"middle\" x=\"2676.77\" y=\"-445.32\" font-family=\"Times,serif\" font-size=\"14.00\">domain_size=2.0</text>\n</g>\n<!-- domain_size_f12a7f1986b9dd058dfc666dbe230b20&#45;&gt;macros_tex_c5f640fc7b11414962941f82a40a8b04 -->\n<g id=\"edge10\" class=\"edge\">\n<title>domain_size_f12a7f1986b9dd058dfc666dbe230b20-&gt;macros_tex_c5f640fc7b11414962941f82a40a8b04</title>\n<path fill=\"none\" stroke=\"black\" d=\"M2755.99,-439.42C2813.35,-430.91 2884.4,-416.61 2905.77,-396 2935.25,-367.56 2929.77,-347.97 2929.77,-307 2929.77,-307 2929.77,-307 2929.77,-233 2929.77,-165.72 2540.14,-125.85 2268.28,-106.22\"/>\n<polygon fill=\"black\" stroke=\"black\" points=\"2268.78,-102.75 2258.55,-105.53 2268.28,-109.73 2268.78,-102.75\"/>\n</g>\n<!-- domain_size_f12a7f1986b9dd058dfc666dbe230b20&#45;&gt;gmsh_output_file_950b49ac6562a70cf11f14756f9831ea -->\n<g id=\"edge11\" class=\"edge\">\n<title>domain_size_f12a7f1986b9dd058dfc666dbe230b20-&gt;gmsh_output_file_950b49ac6562a70cf11f14756f9831ea</title>\n<path fill=\"none\" stroke=\"black\" d=\"M2624.35,-434.5C2587.62,-424.33 2538.03,-410.62 2497.35,-399.36\"/>\n<polygon fill=\"black\" stroke=\"black\" points=\"2498.44,-396.03 2487.86,-396.73 2496.57,-402.77 2498.44,-396.03\"/>\n</g>\n</g>\n</svg>"
     },
     "metadata": {}
    }
   ],
   "execution_count": 21
  },
  {
   "id": "1c2760b6-96b4-4f44-ac49-a229d4a0cf67",
   "cell_type": "code",
   "source": "delayed_object_lst[-1].pull()",
   "metadata": {
    "trusted": true
   },
   "outputs": [
    {
     "name": "stdout",
     "output_type": "stream",
     "text": "The job generate_mesh_0b48cf5155cd6802c17d20bb58104132 was saved and received the ID: 1\nThe job convert_to_xdmf_29ad6ec6927268429dc9aef8166fde43 was saved and received the ID: 2\nThe job poisson_a0224b23ceb2119d105a5d98ef37f93e was saved and received the ID: 3\nThe job plot_over_line_82b37a42e0747f11d9a7f6318f63ac6b was saved and received the ID: 4\nThe job substitute_macros_874fc185ecec04b4cb9537c58b7efb7b was saved and received the ID: 5\nThe job compile_paper_3cee534ffe692833d37faf1fd2170cb6 was saved and received the ID: 6\n"
    },
    {
     "execution_count": 22,
     "output_type": "execute_result",
     "data": {
      "text/plain": "'/home/jovyan/postprocessing/paper.pdf'"
     },
     "metadata": {}
    }
   ],
   "execution_count": 22
  }
 ]
}
