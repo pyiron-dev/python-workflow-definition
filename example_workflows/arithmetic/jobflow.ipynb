{
 "metadata": {
  "kernelspec": {
   "display_name": "Python 3 (ipykernel)",
   "language": "python",
   "name": "python3"
  },
  "language_info": {
   "name": "python",
   "version": "3.12.8",
   "mimetype": "text/x-python",
   "codemirror_mode": {
    "name": "ipython",
    "version": 3
   },
   "pygments_lexer": "ipython3",
   "nbconvert_exporter": "python",
   "file_extension": ".py"
  }
 },
 "nbformat_minor": 5,
 "nbformat": 4,
 "cells": [
  {
   "id": "982a4fbe-7cf9-45dd-84ae-9854149db0b9",
   "cell_type": "markdown",
   "source": "# jobflow",
   "metadata": {}
  },
  {
   "id": "e6180712-d081-45c7-ba41-fc5191f10427",
   "cell_type": "markdown",
   "source": "## Define workflow with jobflow",
   "metadata": {}
  },
  {
   "id": "000bbd4a-f53c-4eea-9d85-76f0aa2ca10b",
   "cell_type": "code",
   "source": "from jobflow import job, Flow",
   "metadata": {
    "trusted": true
   },
   "outputs": [
    {
     "name": "stderr",
     "output_type": "stream",
     "text": "/srv/conda/envs/notebook/lib/python3.12/site-packages/paramiko/pkey.py:82: CryptographyDeprecationWarning: TripleDES has been moved to cryptography.hazmat.decrepit.ciphers.algorithms.TripleDES and will be removed from cryptography.hazmat.primitives.ciphers.algorithms in 48.0.0.\n  \"cipher\": algorithms.TripleDES,\n/srv/conda/envs/notebook/lib/python3.12/site-packages/paramiko/transport.py:253: CryptographyDeprecationWarning: TripleDES has been moved to cryptography.hazmat.decrepit.ciphers.algorithms.TripleDES and will be removed from cryptography.hazmat.primitives.ciphers.algorithms in 48.0.0.\n  \"class\": algorithms.TripleDES,\n"
    }
   ],
   "execution_count": 1
  },
  {
   "id": "06c2bd9e-b2ac-4b88-9158-fa37331c3418",
   "cell_type": "code",
   "source": "from python_workflow_definition.jobflow import write_workflow_json",
   "metadata": {
    "trusted": true
   },
   "outputs": [],
   "execution_count": 2
  },
  {
   "metadata": {},
   "cell_type": "code",
   "outputs": [],
   "execution_count": null,
   "source": [
    "from arithmetic_workflow import (\n",
    "    get_sum as _get_sum,\n",
    "    get_prod_and_div as _get_prod_and_div,\n",
    ")"
   ],
   "id": "f9217ce7b093b5fc"
  },
  {
   "metadata": {},
   "cell_type": "code",
   "outputs": [],
   "execution_count": null,
   "source": "workflow_json_filename = \"jobflow_simple.json\"",
   "id": "1feba0898ee4e361"
  },
  {
   "id": "07598344-0f75-433b-8902-bea21a42088c",
   "cell_type": "code",
   "source": "get_sum = job(_get_sum)\nget_prod_and_div = job(_get_prod_and_div, data=[\"prod\", \"div\"])",
   "metadata": {
    "trusted": true
   },
   "outputs": [],
   "execution_count": 5
  },
  {
   "id": "ecef1ed5-a8d3-48c3-9e01-4a40e55c1153",
   "cell_type": "code",
   "source": "obj = get_prod_and_div(x=1, y=2)",
   "metadata": {
    "trusted": true
   },
   "outputs": [],
   "execution_count": 6
  },
  {
   "id": "2b88a30a-e26b-4802-89b7-79ca08cc0af9",
   "cell_type": "code",
   "source": "w = get_sum(x=obj.output.prod, y=obj.output.div)",
   "metadata": {
    "trusted": true
   },
   "outputs": [],
   "execution_count": 7
  },
  {
   "id": "a5e5ca63-2906-47c9-bac6-adebf8643cba",
   "cell_type": "code",
   "source": "flow = Flow([obj, w])",
   "metadata": {
    "trusted": true
   },
   "outputs": [],
   "execution_count": 8
  },
  {
   "id": "e464da97-16a1-4772-9a07-0a47f152781d",
   "cell_type": "code",
   "source": "write_workflow_json(flow=flow, file_name=workflow_json_filename)",
   "metadata": {
    "trusted": true
   },
   "outputs": [],
   "execution_count": 9
  },
  {
   "id": "bca646b2-0a9a-4271-966a-e5903a8c9031",
   "cell_type": "code",
   "source": "!cat {workflow_json_filename}",
   "metadata": {
    "trusted": true
   },
   "outputs": [
    {
     "name": "stdout",
     "output_type": "stream",
     "text": "{\"nodes\": [{\"id\": 0, \"function\": \"arithmetic_workflow.get_prod_and_div\"}, {\"id\": 1, \"function\": \"arithmetic_workflow.get_sum\"}, {\"id\": 2, \"value\": 1}, {\"id\": 3, \"value\": 2}], \"edges\": [{\"target\": 0, \"targetPort\": \"x\", \"source\": 2, \"sourcePort\": null}, {\"target\": 0, \"targetPort\": \"y\", \"source\": 3, \"sourcePort\": null}, {\"target\": 1, \"targetPort\": \"x\", \"source\": 0, \"sourcePort\": \"prod\"}, {\"target\": 1, \"targetPort\": \"y\", \"source\": 0, \"sourcePort\": \"div\"}]}"
    }
   ],
   "execution_count": 10
  },
  {
   "id": "87a27540-c390-4d34-ae75-4739bfc4c1b7",
   "cell_type": "markdown",
   "source": "## Load Workflow with aiida",
   "metadata": {}
  },
  {
   "id": "66a1b3a6-3d3b-4caa-b58f-d8bc089b1074",
   "cell_type": "code",
   "source": "from aiida import load_profile\n\nload_profile()",
   "metadata": {
    "trusted": true
   },
   "outputs": [
    {
     "execution_count": 11,
     "output_type": "execute_result",
     "data": {
      "text/plain": "Profile<uuid='5b8a8d98b3014876a9eed7d85a954e5e' name='pwd'>"
     },
     "metadata": {}
    }
   ],
   "execution_count": 11
  },
  {
   "id": "4679693b-039b-45cf-8c67-5b2b3d705a83",
   "cell_type": "code",
   "source": "from python_workflow_definition.aiida import load_workflow_json",
   "metadata": {
    "trusted": true
   },
   "outputs": [],
   "execution_count": 12
  },
  {
   "id": "68c41a61-d185-47e8-ba31-eeff71d8b2c6",
   "cell_type": "code",
   "source": "wg = load_workflow_json(file_name=workflow_json_filename)\nwg",
   "metadata": {
    "trusted": true
   },
   "outputs": [
    {
     "execution_count": 13,
     "output_type": "execute_result",
     "data": {
      "text/plain": "NodeGraphWidget(settings={'minimap': True}, style={'width': '90%', 'height': '600px'}, value={'name': 'WorkGra…",
      "application/vnd.jupyter.widget-view+json": {
       "version_major": 2,
       "version_minor": 1,
       "model_id": "4be70fedd20f4c3597415dc903adc743"
      }
     },
     "metadata": {}
    }
   ],
   "execution_count": 13
  },
  {
   "id": "05228ece-643c-420c-8df8-4ce3df379515",
   "cell_type": "code",
   "source": "wg.run()",
   "metadata": {
    "trusted": true
   },
   "outputs": [
    {
     "name": "stderr",
     "output_type": "stream",
     "text": "04/23/2025 09:35:55 AM <2073> aiida.orm.nodes.process.workflow.workchain.WorkChainNode: [REPORT] [3|WorkGraphEngine|continue_workgraph]: tasks ready to run: get_prod_and_div1\n04/23/2025 09:35:56 AM <2073> aiida.orm.nodes.process.workflow.workchain.WorkChainNode: [REPORT] [3|WorkGraphEngine|update_task_state]: Task: get_prod_and_div1, type: PyFunction, finished.\n04/23/2025 09:35:56 AM <2073> aiida.orm.nodes.process.workflow.workchain.WorkChainNode: [REPORT] [3|WorkGraphEngine|continue_workgraph]: tasks ready to run: get_sum2\n04/23/2025 09:35:56 AM <2073> aiida.orm.nodes.process.workflow.workchain.WorkChainNode: [REPORT] [3|WorkGraphEngine|update_task_state]: Task: get_sum2, type: PyFunction, finished.\n04/23/2025 09:35:56 AM <2073> aiida.orm.nodes.process.workflow.workchain.WorkChainNode: [REPORT] [3|WorkGraphEngine|continue_workgraph]: tasks ready to run: \n04/23/2025 09:35:56 AM <2073> aiida.orm.nodes.process.workflow.workchain.WorkChainNode: [REPORT] [3|WorkGraphEngine|finalize]: Finalize workgraph.\n"
    }
   ],
   "execution_count": 14
  },
  {
   "id": "2c942094-61b4-4e94-859a-64f87b5bec64",
   "cell_type": "markdown",
   "source": "## Load Workflow with pyiron_base",
   "metadata": {}
  },
  {
   "id": "ea102341-84f7-4156-a7d1-c3ab1ea613a5",
   "cell_type": "code",
   "source": "from python_workflow_definition.pyiron_base import load_workflow_json",
   "metadata": {
    "trusted": true
   },
   "outputs": [],
   "execution_count": 15
  },
  {
   "id": "8f2a621d-b533-4ddd-8bcd-c22db2f922ec",
   "cell_type": "code",
   "source": "delayed_object_lst = load_workflow_json(file_name=workflow_json_filename)\ndelayed_object_lst[-1].draw()",
   "metadata": {
    "trusted": true
   },
   "outputs": [
    {
     "output_type": "display_data",
     "data": {
      "text/plain": "<IPython.core.display.SVG object>",
      "image/svg+xml": "<svg xmlns=\"http://www.w3.org/2000/svg\" xmlns:xlink=\"http://www.w3.org/1999/xlink\" width=\"1602pt\" height=\"188pt\" viewBox=\"0.00 0.00 1601.94 188.00\">\n<g id=\"graph0\" class=\"graph\" transform=\"scale(1 1) rotate(0) translate(4 184)\">\n<polygon fill=\"white\" stroke=\"none\" points=\"-4,4 -4,-184 1597.94,-184 1597.94,4 -4,4\"/>\n<!-- create_function_job_a30133cc7a07a2e64b505497250df84d -->\n<g id=\"node1\" class=\"node\">\n<title>create_function_job_a30133cc7a07a2e64b505497250df84d</title>\n<ellipse fill=\"none\" stroke=\"black\" cx=\"796.71\" cy=\"-18\" rx=\"488.41\" ry=\"18\"/>\n<text text-anchor=\"middle\" x=\"796.71\" y=\"-13.32\" font-family=\"Times,serif\" font-size=\"14.00\">create_function_job=&lt;pyiron_base.project.delayed.DelayedObject object at 0x746386902750&gt;</text>\n</g>\n<!-- x_03371e8bbb210fff8c1beb07977c6fca -->\n<g id=\"node2\" class=\"node\">\n<title>x_03371e8bbb210fff8c1beb07977c6fca</title>\n<ellipse fill=\"none\" stroke=\"black\" cx=\"393.71\" cy=\"-90\" rx=\"393.71\" ry=\"18\"/>\n<text text-anchor=\"middle\" x=\"393.71\" y=\"-85.33\" font-family=\"Times,serif\" font-size=\"14.00\">x=&lt;pyiron_base.project.delayed.DelayedObject object at 0x746386a3b5f0&gt;</text>\n</g>\n<!-- x_03371e8bbb210fff8c1beb07977c6fca&#45;&gt;create_function_job_a30133cc7a07a2e64b505497250df84d -->\n<g id=\"edge1\" class=\"edge\">\n<title>x_03371e8bbb210fff8c1beb07977c6fca-&gt;create_function_job_a30133cc7a07a2e64b505497250df84d</title>\n<path fill=\"none\" stroke=\"black\" d=\"M491,-72.1C550.1,-61.83 625.69,-48.7 686.92,-38.07\"/>\n<polygon fill=\"black\" stroke=\"black\" points=\"687.44,-41.53 696.69,-36.37 686.24,-34.64 687.44,-41.53\"/>\n</g>\n<!-- x_1d847da32ecaabf6731c38f798c3d4ce -->\n<g id=\"node3\" class=\"node\">\n<title>x_1d847da32ecaabf6731c38f798c3d4ce</title>\n<ellipse fill=\"none\" stroke=\"black\" cx=\"755.71\" cy=\"-162\" rx=\"31.74\" ry=\"18\"/>\n<text text-anchor=\"middle\" x=\"755.71\" y=\"-157.32\" font-family=\"Times,serif\" font-size=\"14.00\">x=1</text>\n</g>\n<!-- x_1d847da32ecaabf6731c38f798c3d4ce&#45;&gt;x_03371e8bbb210fff8c1beb07977c6fca -->\n<g id=\"edge2\" class=\"edge\">\n<title>x_1d847da32ecaabf6731c38f798c3d4ce-&gt;x_03371e8bbb210fff8c1beb07977c6fca</title>\n<path fill=\"none\" stroke=\"black\" d=\"M725.77,-155.21C675.22,-145.44 570.76,-125.24 492.43,-110.09\"/>\n<polygon fill=\"black\" stroke=\"black\" points=\"493.52,-106.74 483.04,-108.27 492.19,-113.61 493.52,-106.74\"/>\n</g>\n<!-- y_69de87ef8d8a066b8926b02e01e9f7f8 -->\n<g id=\"node4\" class=\"node\">\n<title>y_69de87ef8d8a066b8926b02e01e9f7f8</title>\n<ellipse fill=\"none\" stroke=\"black\" cx=\"1199.71\" cy=\"-90\" rx=\"394.23\" ry=\"18\"/>\n<text text-anchor=\"middle\" x=\"1199.71\" y=\"-85.33\" font-family=\"Times,serif\" font-size=\"14.00\">y=&lt;pyiron_base.project.delayed.DelayedObject object at 0x7463869023f0&gt;</text>\n</g>\n<!-- x_1d847da32ecaabf6731c38f798c3d4ce&#45;&gt;y_69de87ef8d8a066b8926b02e01e9f7f8 -->\n<g id=\"edge3\" class=\"edge\">\n<title>x_1d847da32ecaabf6731c38f798c3d4ce-&gt;y_69de87ef8d8a066b8926b02e01e9f7f8</title>\n<path fill=\"none\" stroke=\"black\" d=\"M786.22,-156.19C846.21,-146.73 982.34,-125.27 1082.07,-109.55\"/>\n<polygon fill=\"black\" stroke=\"black\" points=\"1082.61,-113 1091.94,-107.99 1081.52,-106.09 1082.61,-113\"/>\n</g>\n<!-- y_69de87ef8d8a066b8926b02e01e9f7f8&#45;&gt;create_function_job_a30133cc7a07a2e64b505497250df84d -->\n<g id=\"edge6\" class=\"edge\">\n<title>y_69de87ef8d8a066b8926b02e01e9f7f8-&gt;create_function_job_a30133cc7a07a2e64b505497250df84d</title>\n<path fill=\"none\" stroke=\"black\" d=\"M1102.41,-72.1C1043.31,-61.83 967.72,-48.7 906.49,-38.07\"/>\n<polygon fill=\"black\" stroke=\"black\" points=\"907.17,-34.64 896.72,-36.37 905.98,-41.53 907.17,-34.64\"/>\n</g>\n<!-- y_a9ec4f5f33f0d64e74ed5d9900bceac6 -->\n<g id=\"node5\" class=\"node\">\n<title>y_a9ec4f5f33f0d64e74ed5d9900bceac6</title>\n<ellipse fill=\"none\" stroke=\"black\" cx=\"1017.71\" cy=\"-162\" rx=\"31.74\" ry=\"18\"/>\n<text text-anchor=\"middle\" x=\"1017.71\" y=\"-157.32\" font-family=\"Times,serif\" font-size=\"14.00\">y=2</text>\n</g>\n<!-- y_a9ec4f5f33f0d64e74ed5d9900bceac6&#45;&gt;x_03371e8bbb210fff8c1beb07977c6fca -->\n<g id=\"edge4\" class=\"edge\">\n<title>y_a9ec4f5f33f0d64e74ed5d9900bceac6-&gt;x_03371e8bbb210fff8c1beb07977c6fca</title>\n<path fill=\"none\" stroke=\"black\" d=\"M986.76,-157.53C908.33,-148.73 697.48,-125.08 549.62,-108.49\"/>\n<polygon fill=\"black\" stroke=\"black\" points=\"550.03,-105.01 539.7,-107.38 549.25,-111.97 550.03,-105.01\"/>\n</g>\n<!-- y_a9ec4f5f33f0d64e74ed5d9900bceac6&#45;&gt;y_69de87ef8d8a066b8926b02e01e9f7f8 -->\n<g id=\"edge5\" class=\"edge\">\n<title>y_a9ec4f5f33f0d64e74ed5d9900bceac6-&gt;y_69de87ef8d8a066b8926b02e01e9f7f8</title>\n<path fill=\"none\" stroke=\"black\" d=\"M1043.4,-151.12C1069.48,-141.09 1110.69,-125.24 1144.25,-112.33\"/>\n<polygon fill=\"black\" stroke=\"black\" points=\"1145.36,-115.65 1153.44,-108.8 1142.85,-109.12 1145.36,-115.65\"/>\n</g>\n</g>\n</svg>"
     },
     "metadata": {}
    }
   ],
   "execution_count": 16
  },
  {
   "id": "cf80267d-c2b0-4236-bf1d-a57596985fc1",
   "cell_type": "code",
   "source": "delayed_object_lst[-1].pull()",
   "metadata": {
    "trusted": true
   },
   "outputs": [
    {
     "name": "stdout",
     "output_type": "stream",
     "text": "The job get_prod_and_div_955f44280fa0072653e4d910a57d7b92 was saved and received the ID: 1\nThe job get_sum_55b699570ac3c74e1e8078a45b657240 was saved and received the ID: 2\n"
    },
    {
     "execution_count": 17,
     "output_type": "execute_result",
     "data": {
      "text/plain": "2.5"
     },
     "metadata": {}
    }
   ],
   "execution_count": 17
  },
  {
   "id": "9d819ed0-689c-46a7-9eff-0afb5ed66efc",
   "cell_type": "code",
   "source": "",
   "metadata": {
    "trusted": true
   },
   "outputs": [],
   "execution_count": null
  }
 ]
}
