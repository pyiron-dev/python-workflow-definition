{
 "cells": [
  {
   "cell_type": "markdown",
   "id": "c39b76fb-259f-4e16-a44d-02a295c82386",
   "metadata": {},
   "source": [
    "# pyiron"
   ]
  },
  {
   "cell_type": "markdown",
   "id": "3638419b-a0cb-49e2-b157-7fbb1acde90f",
   "metadata": {},
   "source": [
    "## Define workflow with pyiron_base"
   ]
  },
  {
   "cell_type": "code",
   "execution_count": 1,
   "id": "b4a78447-e87c-4fb4-8d17-d9a280eb7254",
   "metadata": {
    "trusted": true
   },
   "outputs": [],
   "source": [
    "from pyiron_base import job"
   ]
  },
  {
   "cell_type": "code",
   "execution_count": 2,
   "id": "06c2bd9e-b2ac-4b88-9158-fa37331c3418",
   "metadata": {
    "trusted": true
   },
   "outputs": [],
   "source": [
    "from python_workflow_definition.pyiron_base import write_workflow_json"
   ]
  },
  {
   "cell_type": "code",
   "execution_count": null,
   "id": "6d859dfff0c2df5c",
   "metadata": {},
   "outputs": [],
   "source": [
    "from workflow import (\n",
    "    get_sum as _get_sum,\n",
    "    get_prod_and_div as _get_prod_and_div,\n",
    "    get_square as _get_square,\n",
    ")"
   ]
  },
  {
   "cell_type": "code",
   "execution_count": null,
   "id": "77135b0c61898507",
   "metadata": {},
   "outputs": [],
   "source": [
    "workflow_json_filename = \"pyiron_arithmetic.json\""
   ]
  },
  {
   "cell_type": "code",
   "execution_count": null,
   "id": "07598344-0f75-433b-8902-bea21a42088c",
   "metadata": {
    "trusted": true
   },
   "outputs": [],
   "source": [
    "get_sum = job(_get_sum)\n",
    "get_prod_and_div = job(_get_prod_and_div, output_key_lst=[\"prod\", \"div\"])\n",
    "get_square = job(_get_square)"
   ]
  },
  {
   "cell_type": "code",
   "execution_count": null,
   "id": "2b88a30a-e26b-4802-89b7-79ca08cc0af9",
   "metadata": {
    "trusted": true
   },
   "outputs": [],
   "source": [
    "prod_and_div = get_prod_and_div(x=1, y=2)"
   ]
  },
  {
   "cell_type": "code",
   "execution_count": null,
   "id": "a5e5ca63-2906-47c9-bac6-adebf8643cba",
   "metadata": {
    "trusted": true
   },
   "outputs": [],
   "source": [
    "tmp_sum = get_sum(x=prod_and_div.output.prod, y=prod_and_div.output.div)"
   ]
  },
  {
   "cell_type": "code",
   "execution_count": null,
   "id": "eae321f1",
   "metadata": {},
   "outputs": [],
   "source": [
    "result = get_sum(x=tmp_sum.output)"
   ]
  },
  {
   "cell_type": "code",
   "execution_count": null,
   "id": "e464da97-16a1-4772-9a07-0a47f152781d",
   "metadata": {
    "trusted": true
   },
   "outputs": [],
   "source": [
    "write_workflow_json(delayed_object=result, file_name=workflow_json_filename)"
   ]
  },
  {
   "cell_type": "code",
   "execution_count": 9,
   "id": "bca646b2-0a9a-4271-966a-e5903a8c9031",
   "metadata": {
    "trusted": true
   },
   "outputs": [
    {
     "name": "stdout",
     "output_type": "stream",
     "text": [
      "{\"nodes\": [{\"id\": 0, \"function\": \"arithmetic_workflow.get_sum\"}, {\"id\": 1, \"function\": \"arithmetic_workflow.get_prod_and_div\"}, {\"id\": 2, \"value\": 1}, {\"id\": 3, \"value\": 2}], \"edges\": [{\"target\": 0, \"targetPort\": \"x\", \"source\": 1, \"sourcePort\": \"prod\"}, {\"target\": 1, \"targetPort\": \"x\", \"source\": 2, \"sourcePort\": null}, {\"target\": 1, \"targetPort\": \"y\", \"source\": 3, \"sourcePort\": null}, {\"target\": 0, \"targetPort\": \"y\", \"source\": 1, \"sourcePort\": \"div\"}]}"
     ]
    }
   ],
   "source": [
    "!cat {workflow_json_filename}"
   ]
  },
  {
   "cell_type": "markdown",
   "id": "a4c0faaf-e30d-4ded-8e9f-57f97f51b14c",
   "metadata": {},
   "source": [
    "## Load Workflow with aiida"
   ]
  },
  {
   "cell_type": "code",
   "execution_count": 10,
   "id": "2ecc229f-daa1-49b9-9279-a6b5ae1aa4f2",
   "metadata": {
    "trusted": true
   },
   "outputs": [
    {
     "data": {
      "text/plain": [
       "Profile<uuid='5b8a8d98b3014876a9eed7d85a954e5e' name='pwd'>"
      ]
     },
     "execution_count": 10,
     "metadata": {},
     "output_type": "execute_result"
    }
   ],
   "source": [
    "from aiida import load_profile\n",
    "\n",
    "load_profile()"
   ]
  },
  {
   "cell_type": "code",
   "execution_count": 11,
   "id": "68a56b32-9f99-43d7-aaee-0c1cd9522681",
   "metadata": {
    "trusted": true
   },
   "outputs": [],
   "source": [
    "from python_workflow_definition.aiida import load_workflow_json"
   ]
  },
  {
   "cell_type": "code",
   "execution_count": 12,
   "id": "8f2a621d-b533-4ddd-8bcd-c22db2f922ec",
   "metadata": {
    "trusted": true
   },
   "outputs": [
    {
     "data": {
      "application/vnd.jupyter.widget-view+json": {
       "model_id": "cb6aafce370b43bb9904c64f03c93cc0",
       "version_major": 2,
       "version_minor": 1
      },
      "text/plain": [
       "NodeGraphWidget(settings={'minimap': True}, style={'width': '90%', 'height': '600px'}, value={'name': 'WorkGra…"
      ]
     },
     "execution_count": 12,
     "metadata": {},
     "output_type": "execute_result"
    }
   ],
   "source": [
    "wg = load_workflow_json(file_name=workflow_json_filename)\n",
    "wg"
   ]
  },
  {
   "cell_type": "code",
   "execution_count": 13,
   "id": "cf80267d-c2b0-4236-bf1d-a57596985fc1",
   "metadata": {
    "trusted": true
   },
   "outputs": [
    {
     "name": "stderr",
     "output_type": "stream",
     "text": [
      "04/23/2025 09:45:47 AM <4032> aiida.orm.nodes.process.workflow.workchain.WorkChainNode: [REPORT] [138|WorkGraphEngine|continue_workgraph]: tasks ready to run: get_prod_and_div2\n",
      "04/23/2025 09:45:48 AM <4032> aiida.orm.nodes.process.workflow.workchain.WorkChainNode: [REPORT] [138|WorkGraphEngine|update_task_state]: Task: get_prod_and_div2, type: PyFunction, finished.\n",
      "04/23/2025 09:45:48 AM <4032> aiida.orm.nodes.process.workflow.workchain.WorkChainNode: [REPORT] [138|WorkGraphEngine|continue_workgraph]: tasks ready to run: get_sum1\n",
      "04/23/2025 09:45:48 AM <4032> aiida.orm.nodes.process.workflow.workchain.WorkChainNode: [REPORT] [138|WorkGraphEngine|update_task_state]: Task: get_sum1, type: PyFunction, finished.\n",
      "04/23/2025 09:45:48 AM <4032> aiida.orm.nodes.process.workflow.workchain.WorkChainNode: [REPORT] [138|WorkGraphEngine|continue_workgraph]: tasks ready to run: \n",
      "04/23/2025 09:45:48 AM <4032> aiida.orm.nodes.process.workflow.workchain.WorkChainNode: [REPORT] [138|WorkGraphEngine|finalize]: Finalize workgraph.\n"
     ]
    }
   ],
   "source": [
    "\n",
    "wg.run()"
   ]
  },
  {
   "cell_type": "markdown",
   "id": "0c3503e1-0a32-40e1-845d-3fd9ec3c4c19",
   "metadata": {},
   "source": [
    "## Load Workflow with jobflow"
   ]
  },
  {
   "cell_type": "code",
   "execution_count": 14,
   "id": "4abb0481-8e38-479d-ae61-6c46d091653e",
   "metadata": {
    "trusted": true
   },
   "outputs": [
    {
     "name": "stderr",
     "output_type": "stream",
     "text": [
      "/srv/conda/envs/notebook/lib/python3.12/site-packages/paramiko/pkey.py:82: CryptographyDeprecationWarning: TripleDES has been moved to cryptography.hazmat.decrepit.ciphers.algorithms.TripleDES and will be removed from cryptography.hazmat.primitives.ciphers.algorithms in 48.0.0.\n",
      "  \"cipher\": algorithms.TripleDES,\n",
      "/srv/conda/envs/notebook/lib/python3.12/site-packages/paramiko/transport.py:253: CryptographyDeprecationWarning: TripleDES has been moved to cryptography.hazmat.decrepit.ciphers.algorithms.TripleDES and will be removed from cryptography.hazmat.primitives.ciphers.algorithms in 48.0.0.\n",
      "  \"class\": algorithms.TripleDES,\n"
     ]
    }
   ],
   "source": [
    "from python_workflow_definition.jobflow import load_workflow_json"
   ]
  },
  {
   "cell_type": "code",
   "execution_count": 15,
   "id": "8253dd7c283bf3f7",
   "metadata": {
    "trusted": true
   },
   "outputs": [],
   "source": [
    "from jobflow.managers.local import run_locally"
   ]
  },
  {
   "cell_type": "code",
   "execution_count": 16,
   "id": "4b45e83b-945f-48c5-8e20-9df0ce0a14a1",
   "metadata": {
    "trusted": true
   },
   "outputs": [],
   "source": [
    "flow = load_workflow_json(file_name=workflow_json_filename)"
   ]
  },
  {
   "cell_type": "code",
   "execution_count": 17,
   "id": "8665c39c-220c-4982-b738-c31f6460530f",
   "metadata": {
    "trusted": true
   },
   "outputs": [
    {
     "name": "stdout",
     "output_type": "stream",
     "text": [
      "2025-04-23 09:45:49,174 INFO Started executing jobs locally\n",
      "2025-04-23 09:45:49,540 INFO Starting job - get_prod_and_div (77d76447-21f8-4ad8-b2b5-bef7263ef5b9)\n",
      "2025-04-23 09:45:49,543 INFO Finished job - get_prod_and_div (77d76447-21f8-4ad8-b2b5-bef7263ef5b9)\n",
      "2025-04-23 09:45:49,544 INFO Starting job - get_sum (e61e0bc0-bddd-4ac9-93f0-cf5f064e17b0)\n",
      "2025-04-23 09:45:49,546 INFO Finished job - get_sum (e61e0bc0-bddd-4ac9-93f0-cf5f064e17b0)\n",
      "2025-04-23 09:45:49,546 INFO Finished executing jobs locally\n"
     ]
    },
    {
     "data": {
      "text/plain": [
       "{'77d76447-21f8-4ad8-b2b5-bef7263ef5b9': {1: Response(output={'prod': 2, 'div': 0.5}, detour=None, addition=None, replace=None, stored_data=None, stop_children=False, stop_jobflow=False, job_dir=PosixPath('/home/jovyan'))},\n",
       " 'e61e0bc0-bddd-4ac9-93f0-cf5f064e17b0': {1: Response(output=2.5, detour=None, addition=None, replace=None, stored_data=None, stop_children=False, stop_jobflow=False, job_dir=PosixPath('/home/jovyan'))}}"
      ]
     },
     "execution_count": 17,
     "metadata": {},
     "output_type": "execute_result"
    }
   ],
   "source": [
    "result = run_locally(flow)\n",
    "result"
   ]
  },
  {
   "cell_type": "code",
   "execution_count": null,
   "id": "cf76f305-24de-45a7-be8e-cfe45cd6458e",
   "metadata": {
    "trusted": true
   },
   "outputs": [],
   "source": []
  }
 ],
 "metadata": {
  "kernelspec": {
   "display_name": "Python 3 (ipykernel)",
   "language": "python",
   "name": "python3"
  },
  "language_info": {
   "codemirror_mode": {
    "name": "ipython",
    "version": 3
   },
   "file_extension": ".py",
   "mimetype": "text/x-python",
   "name": "python",
   "nbconvert_exporter": "python",
   "pygments_lexer": "ipython3",
   "version": "3.12.8"
  }
 },
 "nbformat": 4,
 "nbformat_minor": 5
}
